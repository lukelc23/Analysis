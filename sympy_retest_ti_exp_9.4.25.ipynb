{
 "cells": [
  {
   "cell_type": "code",
   "execution_count": 3,
   "id": "9b01a832",
   "metadata": {},
   "outputs": [
    {
     "name": "stdout",
     "output_type": "stream",
     "text": [
      "display:\n",
      "num:\n"
     ]
    },
    {
     "data": {
      "text/latex": [
       "$\\displaystyle 1 + \\frac{- \\sinh{\\left(\\lambda \\left(\\frac{n}{2} - p + \\frac{1}{2}\\right) \\right)} + \\sinh{\\left(\\lambda \\left(\\frac{n}{2} - q + \\frac{1}{2}\\right) \\right)}}{- \\sinh{\\left(\\lambda \\left(\\frac{n}{2} - \\frac{1}{2}\\right) \\right)} + \\sinh{\\left(\\lambda \\left(\\frac{n}{2} + \\frac{1}{2}\\right) \\right)}}$"
      ],
      "text/plain": [
       "1 + (-sinh(lambda*(n/2 - p + 1/2)) + sinh(lambda*(n/2 - q + 1/2)))/(-sinh(lambda*(n/2 - 1/2)) + sinh(lambda*(n/2 + 1/2)))"
      ]
     },
     "metadata": {},
     "output_type": "display_data"
    },
    {
     "name": "stdout",
     "output_type": "stream",
     "text": [
      "denom\n"
     ]
    },
    {
     "data": {
      "text/latex": [
       "$\\displaystyle - \\frac{4 \\alpha_{prime} \\left(\\sinh{\\left(\\lambda \\left(\\frac{p}{2} + \\frac{q}{2} - 0.5\\right) \\right)} \\cosh{\\left(\\lambda \\left(n - p + 0.5\\right) \\right)} + \\sinh{\\left(\\lambda \\left(n - \\frac{p}{2} - \\frac{q}{2} + 0.5\\right) \\right)} \\cosh{\\left(\\lambda \\left(q - 0.5\\right) \\right)}\\right) \\sinh{\\left(\\lambda \\left(- \\frac{p}{2} + \\frac{q}{2}\\right) \\right)} \\tanh{\\left(\\frac{\\lambda}{2} \\right)}}{\\sinh{\\left(\\lambda n \\right)}} - 2 \\alpha_{prime} + 1$"
      ],
      "text/plain": [
       "-4*alpha_prime*(sinh(lambda*(p/2 + q/2 - 0.5))*cosh(lambda*(n - p + 0.5)) + sinh(lambda*(n - p/2 - q/2 + 0.5))*cosh(lambda*(q - 0.5)))*sinh(lambda*(-p/2 + q/2))*tanh(lambda/2)/sinh(lambda*n) - 2*alpha_prime + 1"
      ]
     },
     "metadata": {},
     "output_type": "display_data"
    },
    {
     "name": "stdout",
     "output_type": "stream",
     "text": [
      "c_analytical_start\n"
     ]
    },
    {
     "data": {
      "text/latex": [
       "$\\displaystyle \\frac{1 + \\frac{- \\sinh{\\left(\\lambda \\left(\\frac{n}{2} - p + \\frac{1}{2}\\right) \\right)} + \\sinh{\\left(\\lambda \\left(\\frac{n}{2} - q + \\frac{1}{2}\\right) \\right)}}{- \\sinh{\\left(\\lambda \\left(\\frac{n}{2} - \\frac{1}{2}\\right) \\right)} + \\sinh{\\left(\\lambda \\left(\\frac{n}{2} + \\frac{1}{2}\\right) \\right)}}}{- \\frac{4 \\alpha_{prime} \\left(\\sinh{\\left(\\lambda \\left(\\frac{p}{2} + \\frac{q}{2} - 0.5\\right) \\right)} \\cosh{\\left(\\lambda \\left(n - p + 0.5\\right) \\right)} + \\sinh{\\left(\\lambda \\left(n - \\frac{p}{2} - \\frac{q}{2} + 0.5\\right) \\right)} \\cosh{\\left(\\lambda \\left(q - 0.5\\right) \\right)}\\right) \\sinh{\\left(\\lambda \\left(- \\frac{p}{2} + \\frac{q}{2}\\right) \\right)} \\tanh{\\left(\\frac{\\lambda}{2} \\right)}}{\\sinh{\\left(\\lambda n \\right)}} - 2 \\alpha_{prime} + 1}$"
      ],
      "text/plain": [
       "(1 + (-sinh(lambda*(n/2 - p + 1/2)) + sinh(lambda*(n/2 - q + 1/2)))/(-sinh(lambda*(n/2 - 1/2)) + sinh(lambda*(n/2 + 1/2))))/(-4*alpha_prime*(sinh(lambda*(p/2 + q/2 - 0.5))*cosh(lambda*(n - p + 0.5)) + sinh(lambda*(n - p/2 - q/2 + 0.5))*cosh(lambda*(q - 0.5)))*sinh(lambda*(-p/2 + q/2))*tanh(lambda/2)/sinh(lambda*n) - 2*alpha_prime + 1)"
      ]
     },
     "metadata": {},
     "output_type": "display_data"
    }
   ],
   "source": [
    "from sympy import symbols, sinh, cosh, tanh, Symbol, simplify\n",
    "import numpy as np\n",
    "import sympy as sp\n",
    "from IPython.display import display, Math\n",
    "\n",
    "# Define your symbols\n",
    "n, p, q, alpha_prime = symbols('n p q alpha_prime')\n",
    "lamb = symbols('lamb')  # Original symbol for lambda\n",
    "\n",
    "# Define the expressions using the original symbol\n",
    "num = 1 + (\n",
    "    (sinh(((n + 1) / 2 - q) * lamb) - sinh(((n + 1) / 2 - p) * lamb)) \n",
    "    / (sinh(((n + 1) / 2) * lamb) - sinh(((n - 1) / 2) * lamb))\n",
    ")\n",
    "\n",
    "#correct denominator\n",
    "denom = ( 1 - 2*alpha_prime \n",
    "- (4 * alpha_prime * ( (tanh(lamb / 2)) / sinh(lamb * n) ) * sinh( ((q-p)/2) * lamb) ) \n",
    "* (\n",
    "        (cosh((q - 1 / 2) * lamb) * sinh((n - ((p + q) / 2 - 1 / 2)) * lamb)) +\n",
    "        (cosh((n - p + 1 / 2) * lamb) * sinh(((p + q) / 2 - 1 / 2) * lamb))\n",
    "    )\n",
    ")\n",
    "\n",
    "c_analytical = num/denom\n",
    "\n",
    "# New symbol for lambda (λ)\n",
    "lambda_symbol = Symbol('lambda', real=True)\n",
    "\n",
    "# Substitute lamb with the new lambda symbol\n",
    "num_display = num.subs(lamb, lambda_symbol)\n",
    "denom_display = denom.subs(lamb, lambda_symbol)\n",
    "c_analytical_display = c_analytical.subs(lamb, lambda_symbol)\n",
    "\n",
    "print('display:')\n",
    "print('num:')\n",
    "display(num_display)\n",
    "print('denom')\n",
    "display(denom_display)\n",
    "print('c_analytical_start')\n",
    "display(c_analytical_display)\n"
   ]
  },
  {
   "cell_type": "markdown",
   "id": "2cae0bbc",
   "metadata": {},
   "source": [
    "# Comparing the starting formula with the actual values"
   ]
  },
  {
   "cell_type": "code",
   "execution_count": 4,
   "id": "52f5387e",
   "metadata": {},
   "outputs": [
    {
     "name": "stdout",
     "output_type": "stream",
     "text": [
      "4.06378273140094\n"
     ]
    }
   ],
   "source": [
    "num_eval = num.evalf(subs = {n: 7, p: 6, q: 2, lamb: 0.69, alpha_prime: 1/(2 *cosh(lamb)) })\n",
    "denom_eval = denom.evalf(subs = {n: 7, p: 6, q: 2, lamb: 0.69, alpha_prime: 1/(2 *cosh(lamb)) })\n",
    "c = num_eval/denom_eval\n",
    "print(c)"
   ]
  },
  {
   "cell_type": "markdown",
   "id": "6b84c5d2",
   "metadata": {},
   "source": [
    "Backsolving for the correct k_o"
   ]
  },
  {
   "cell_type": "code",
   "execution_count": 5,
   "id": "30667920",
   "metadata": {},
   "outputs": [
    {
     "name": "stdout",
     "output_type": "stream",
     "text": [
      "0.400754765124285\n"
     ]
    }
   ],
   "source": [
    "lamb_eval = 0.69\n",
    "alpha_prime_eval = 1/(2 *cosh(lamb_eval))\n",
    "k_o = float(alpha_prime_eval)\n",
    "print(alpha_prime_eval)\n"
   ]
  },
  {
   "cell_type": "code",
   "execution_count": 6,
   "id": "298d7dba",
   "metadata": {},
   "outputs": [
    {
     "name": "stdout",
     "output_type": "stream",
     "text": [
      "D_jq_analytical_sol: 0.2501398400642878\n",
      "D_jp_analytical_sol: 0.017820532012786452\n",
      "D_jq_analytical_sol: -0.6259679976865031\n",
      "D_jp_analytical_sol: 0.026646891871847482\n",
      "D_jq_analytical_sol: 0.18788747183811896\n",
      "D_jp_analytical_sol: 0.04867123350932336\n",
      "D_jq_analytical_sol: 0.09480202839013911\n",
      "D_jp_analytical_sol: 0.09480202839013911\n",
      "D_jq_analytical_sol: 0.04867123350932336\n",
      "D_jp_analytical_sol: 0.18788747183811896\n",
      "D_jq_analytical_sol: 0.026646891871847482\n",
      "D_jp_analytical_sol: -0.6259679976865031\n",
      "D_jq_analytical_sol: 0.017820532012786452\n",
      "D_jp_analytical_sol: 0.2501398400642878\n",
      "[1.50741469 5.32993035 5.23324142 5.23324142 5.32993035 1.50741469\n",
      " 4.06378273]\n"
     ]
    }
   ],
   "source": [
    "from Ranking_exp import Ranking_exp\n",
    "sim = Ranking_exp(n=7, k_o = k_o, k_s = 1, k_d = 0, p = 6, q = 2, c_reg = 1e10)\n",
    "sim.calc_rank()\n",
    "print(sim.a_exp_bar)"
   ]
  },
  {
   "cell_type": "code",
   "execution_count": 7,
   "id": "03c132a9",
   "metadata": {},
   "outputs": [
    {
     "name": "stdout",
     "output_type": "stream",
     "text": [
      "equal!\n"
     ]
    }
   ],
   "source": [
    "np.testing.assert_almost_equal(c, sim.a_exp_bar[-1])\n",
    "print('equal!')"
   ]
  },
  {
   "cell_type": "markdown",
   "id": "55748452",
   "metadata": {},
   "source": [
    "# The starting formula is correct"
   ]
  },
  {
   "cell_type": "markdown",
   "id": "f4dfe217",
   "metadata": {},
   "source": [
    "# Checking the final formula for rank\n"
   ]
  },
  {
   "cell_type": "markdown",
   "id": "7856eb2a",
   "metadata": {},
   "source": [
    "Actually calc_rank_analytic already.  D_jp-D_jq\n",
    "But calc_rank uses D_jq-D_jp\n",
    "The issue is that they both get the right rank, but they shouldn't."
   ]
  },
  {
   "cell_type": "markdown",
   "id": "7d5fc820",
   "metadata": {},
   "source": [
    "Write both out to see what's happening.  "
   ]
  },
  {
   "cell_type": "code",
   "execution_count": null,
   "id": "e051ea04",
   "metadata": {},
   "outputs": [],
   "source": []
  },
  {
   "cell_type": "code",
   "execution_count": 8,
   "id": "40fd76f6",
   "metadata": {},
   "outputs": [
    {
     "name": "stdout",
     "output_type": "stream",
     "text": [
      "-6.5452429954945615\n",
      "D_jq_analytical_sol: 0.2501398400642878\n",
      "D_jp_analytical_sol: 0.017820532012786452\n",
      "D_jq_analytical_sol: -0.6259679976865031\n",
      "D_jp_analytical_sol: 0.026646891871847482\n",
      "D_jq_analytical_sol: 0.18788747183811896\n",
      "D_jp_analytical_sol: 0.04867123350932336\n",
      "D_jq_analytical_sol: 0.09480202839013911\n",
      "D_jp_analytical_sol: 0.09480202839013911\n",
      "D_jq_analytical_sol: 0.04867123350932336\n",
      "D_jp_analytical_sol: 0.18788747183811896\n",
      "D_jq_analytical_sol: 0.026646891871847482\n",
      "D_jp_analytical_sol: -0.6259679976865031\n",
      "D_jq_analytical_sol: 0.017820532012786452\n",
      "D_jp_analytical_sol: 0.2501398400642878\n",
      "[ 0.60410362 -0.09668893 -0.03874855 -0.          0.03874855  0.09668893\n",
      " -0.60410362]\n",
      "D_jp_til_part_val: 1.6804429460896164\n",
      "D_jq_til_part_val: 23.58772058378581\n",
      "D_jp_til_part_val: 2.51275222586675\n",
      "D_jq_til_part_val: 35.27052051243514\n",
      "D_jp_til_part_val: 4.589606582426283\n",
      "D_jq_til_part_val: 17.71743831679298\n",
      "D_jp_til_part_val: 8.939654538309535\n",
      "D_jq_til_part_val: 8.939654538309535\n",
      "D_jp_til_part_val: 17.71743831679298\n",
      "D_jq_til_part_val: 4.589606582426283\n",
      "D_jp_til_part_val: 35.27052051243514\n",
      "D_jq_til_part_val: 2.51275222586675\n",
      "D_jp_til_part_val: 23.58772058378581\n",
      "D_jq_til_part_val: 1.6804429460896164\n",
      "[ 0.60410362 -0.09668893 -0.03874855  0.          0.03874855  0.09668893\n",
      " -0.60410362]\n",
      "D_jq_analytical_sol: 0.2501398400642878\n",
      "D_jp_analytical_sol: 0.017820532012786452\n",
      "D_jq_analytical_sol: -0.6259679976865031\n",
      "D_jp_analytical_sol: 0.026646891871847482\n",
      "D_jq_analytical_sol: 0.18788747183811896\n",
      "D_jp_analytical_sol: 0.04867123350932336\n",
      "D_jq_analytical_sol: 0.09480202839013911\n",
      "D_jp_analytical_sol: 0.09480202839013911\n",
      "D_jq_analytical_sol: 0.04867123350932336\n",
      "D_jp_analytical_sol: 0.18788747183811896\n",
      "D_jq_analytical_sol: 0.026646891871847482\n",
      "D_jp_analytical_sol: -0.6259679976865031\n",
      "D_jq_analytical_sol: 0.017820532012786452\n",
      "D_jp_analytical_sol: 0.2501398400642878\n",
      "D_jp_til_part_val: 1.6804429460896164\n",
      "D_jq_til_part_val: 23.58772058378581\n",
      "D_jp_til_part_val: 2.51275222586675\n",
      "D_jq_til_part_val: 35.27052051243514\n",
      "D_jp_til_part_val: 4.589606582426283\n",
      "D_jq_til_part_val: 17.71743831679298\n",
      "D_jp_til_part_val: 8.939654538309535\n",
      "D_jq_til_part_val: 8.939654538309535\n",
      "D_jp_til_part_val: 17.71743831679298\n",
      "D_jq_til_part_val: 4.589606582426283\n",
      "D_jp_til_part_val: 35.27052051243514\n",
      "D_jq_til_part_val: 2.51275222586675\n",
      "D_jp_til_part_val: 23.58772058378581\n",
      "D_jq_til_part_val: 1.6804429460896164\n"
     ]
    }
   ],
   "source": [
    "import numpy as np\n",
    "n = 7\n",
    "j = 1\n",
    "lamb = 0.69\n",
    "r_j_til = (np.sinh(((n+1)/2)-j) * lamb) / \\\n",
    "    (np.sinh((n+1)/2) * lamb) - (np.sinh((n-1)/2) * lamb)\n",
    "print(r_j_til)\n",
    "\n",
    "print(sim.calc_rank())\n",
    "print(sim.calc_rank_analytic())\n",
    "\n",
    "np.testing.assert_almost_equal(sim.calc_rank(), sim.calc_rank_analytic())"
   ]
  },
  {
   "cell_type": "code",
   "execution_count": 9,
   "id": "65aa5a42",
   "metadata": {},
   "outputs": [
    {
     "name": "stdout",
     "output_type": "stream",
     "text": [
      "D_jq_analytical_sol: 0.2501398400642878\n",
      "D_jp_analytical_sol: 0.017820532012786452\n",
      "D_jq_analytical_sol: -0.6259679976865031\n",
      "D_jp_analytical_sol: 0.026646891871847482\n",
      "D_jq_analytical_sol: 0.18788747183811896\n",
      "D_jp_analytical_sol: 0.04867123350932336\n",
      "D_jq_analytical_sol: 0.09480202839013911\n",
      "D_jp_analytical_sol: 0.09480202839013911\n",
      "D_jq_analytical_sol: 0.04867123350932336\n",
      "D_jp_analytical_sol: 0.18788747183811896\n",
      "D_jq_analytical_sol: 0.026646891871847482\n",
      "D_jp_analytical_sol: -0.6259679976865031\n",
      "D_jq_analytical_sol: 0.017820532012786452\n",
      "D_jp_analytical_sol: 0.2501398400642878\n"
     ]
    },
    {
     "data": {
      "text/plain": [
       "array([ 0.60410362, -0.09668893, -0.03874855, -0.        ,  0.03874855,\n",
       "        0.09668893, -0.60410362])"
      ]
     },
     "execution_count": 9,
     "metadata": {},
     "output_type": "execute_result"
    }
   ],
   "source": [
    "sim.calc_rank()"
   ]
  },
  {
   "cell_type": "code",
   "execution_count": 10,
   "id": "6a76bb20",
   "metadata": {},
   "outputs": [
    {
     "name": "stdout",
     "output_type": "stream",
     "text": [
      "D_jp_til_part_val: 1.6804429460896164\n",
      "D_jq_til_part_val: 23.58772058378581\n",
      "D_jp_til_part_val: 2.51275222586675\n",
      "D_jq_til_part_val: 35.27052051243514\n",
      "D_jp_til_part_val: 4.589606582426283\n",
      "D_jq_til_part_val: 17.71743831679298\n",
      "D_jp_til_part_val: 8.939654538309535\n",
      "D_jq_til_part_val: 8.939654538309535\n",
      "D_jp_til_part_val: 17.71743831679298\n",
      "D_jq_til_part_val: 4.589606582426283\n",
      "D_jp_til_part_val: 35.27052051243514\n",
      "D_jq_til_part_val: 2.51275222586675\n",
      "D_jp_til_part_val: 23.58772058378581\n",
      "D_jq_til_part_val: 1.6804429460896164\n"
     ]
    },
    {
     "data": {
      "text/plain": [
       "array([ 0.60410362, -0.09668893, -0.03874855,  0.        ,  0.03874855,\n",
       "        0.09668893, -0.60410362])"
      ]
     },
     "execution_count": 10,
     "metadata": {},
     "output_type": "execute_result"
    }
   ],
   "source": [
    "sim.calc_rank_analytic()"
   ]
  },
  {
   "cell_type": "markdown",
   "id": "f4a0da55",
   "metadata": {},
   "source": [
    "Big question is why does calc_rank use D_jp - D_jq and calc_rank_analytic as well as all of the other writing I have use D_jq - Djp\n",
    "\n",
    "Best method to figure this out is just to rewrite the formalism I think.  "
   ]
  },
  {
   "cell_type": "markdown",
   "id": "13169b68",
   "metadata": {},
   "source": []
  },
  {
   "cell_type": "code",
   "execution_count": 18,
   "id": "9b2352bd",
   "metadata": {},
   "outputs": [
    {
     "name": "stdout",
     "output_type": "stream",
     "text": [
      "0.9824542681675227\n",
      "[0.9824542681675227]\n",
      "0.46905561684366626\n",
      "[0.9824542681675227, 0.46905561684366626]\n",
      "0.1879762735584102\n",
      "[0.9824542681675227, 0.46905561684366626, 0.1879762735584102]\n",
      "0.0\n",
      "[0.9824542681675227, 0.46905561684366626, 0.1879762735584102, 0.0]\n",
      "-0.1879762735584102\n",
      "[0.9824542681675227, 0.46905561684366626, 0.1879762735584102, 0.0, -0.1879762735584102]\n",
      "-0.46905561684366626\n",
      "[0.9824542681675227, 0.46905561684366626, 0.1879762735584102, 0.0, -0.1879762735584102, -0.46905561684366626]\n",
      "-0.9824542681675227\n",
      "[0.9824542681675227, 0.46905561684366626, 0.1879762735584102, 0.0, -0.1879762735584102, -0.46905561684366626, -0.9824542681675227]\n"
     ]
    },
    {
     "data": {
      "image/png": "[encoded data removed]",
      "text/plain": [
       "<Figure size 640x480 with 1 Axes>"
      ]
     },
     "metadata": {},
     "output_type": "display_data"
    }
   ],
   "source": [
    "import matplotlib.pyplot as plt\n",
    "import numpy as np\n",
    "\n",
    "def rank(i):\n",
    "    num = np.sinh(( ((n+1)/2) - i) * lamb)\n",
    "    denom = np.sinh(((n+1)/2) * lamb) - np.sinh(((n-1)/2) * lamb)\n",
    "    return num / denom\n",
    "\n",
    "def rank_array(n):\n",
    "    ranks = []\n",
    "    for i in range(1,n+1):\n",
    "        ranks.append(rank(i))\n",
    "        print(rank(i))\n",
    "        print(ranks)\n",
    "    return ranks\n",
    "\n",
    "def plot_array(X,Y):\n",
    "    plt.title(f'{X}, {Y}')\n",
    "    plt.plot(X,Y, marker='o')\n",
    "\n",
    "n=7\n",
    "\n",
    "ranks = rank_array(n)\n",
    "plot_array(list(range(1,n+1)), ranks)\n"
   ]
  },
  {
   "cell_type": "code",
   "execution_count": 38,
   "id": "50cd07c4",
   "metadata": {},
   "outputs": [
    {
     "name": "stdout",
     "output_type": "stream",
     "text": [
      "rank\n",
      "1: 0.9767441860465114\n",
      "2: 0.46511627906976744\n",
      "3: 0.18604651162790697\n",
      "4: 0.0\n",
      "5: -0.18604651162790697\n",
      "6: -0.46511627906976744\n",
      "7: -0.9767441860465114\n",
      "exception rank\n",
      "1: -0.8505747124184174\n",
      "2: -0.27586206884026937\n",
      "3: 0.16091954024877797\n",
      "4: 3.552713678800501e-16\n",
      "5: -0.16091954024877833\n",
      "6: 0.27586206884026954\n",
      "7: 0.8505747124184172\n",
      "full rank\n",
      "num for i:1 3.937499999999999\n",
      "denom for i:1 4.03125\n",
      "1: 0.8505747127137924\n",
      "num for i:2 1.875\n",
      "denom for i:2 4.03125\n",
      "2: 0.2758620690706889\n",
      "num for i:3 0.75\n",
      "denom for i:3 4.03125\n",
      "3: -0.16091954003707004\n",
      "num for i:4 0.0\n",
      "denom for i:4 4.03125\n",
      "4: -3.7645493342806323e-17\n",
      "num for i:5 -0.75\n",
      "denom for i:5 4.03125\n",
      "5: 0.16091954003707004\n",
      "num for i:6 -1.875\n",
      "denom for i:6 4.03125\n",
      "6: -0.275862069070689\n",
      "num for i:7 -3.937499999999999\n",
      "denom for i:7 4.03125\n",
      "7: -0.8505747127137924\n",
      "1.0114942526671955\n",
      "num for i:1 3.937499999999999\n",
      "denom for i:1 4.03125\n",
      "num for i:3 0.75\n",
      "denom for i:3 4.03125\n",
      "1.0114942527508624\n"
     ]
    }
   ],
   "source": [
    "\n",
    "\n",
    "import numpy as np\n",
    "\n",
    "#set local parameters based on class parameters\n",
    "n = 7\n",
    "k_o = 0.4\n",
    "k_s = 1\n",
    "k_d = 0\n",
    "p = 5\n",
    "q = 3\n",
    "c_reg = 1e10\n",
    "\n",
    "alpha = 1 - (2 * ((k_o - k_d)/(k_s - k_d)))\n",
    "alpha_prime = k_o/k_s\n",
    "lamb_val = np.arccosh(1/(1-alpha))\n",
    "\n",
    "K = {}\n",
    "K_exp = {}\n",
    "A = {}\n",
    "arr_len = n-1\n",
    "dual_len = (n-1) * 2\n",
    "dual_len_exp = (n-1)*2 + 2\n",
    "a = np.zeros(dual_len)\n",
    "a_exp = np.zeros(dual_len_exp)\n",
    "b = np.zeros(arr_len)\n",
    "b_bar = np.zeros(arr_len)\n",
    "c = np.zeros(1)\n",
    "c_bar = np.zeros(1) \n",
    "\n",
    "def tridiag(n):\n",
    "    arr_len = n-1\n",
    "    diag_len = arr_len-1\n",
    "    B = np.diag(np.ones((diag_len)), k=1) + np.diag(np.ones((diag_len)), k=-1)\n",
    "    return B        \n",
    "\n",
    "def k_create(n, alpha_prime):\n",
    "    arr_len = n-1\n",
    "    A = np.identity(arr_len)\n",
    "    D = A\n",
    "    B = alpha_prime*tridiag(n)\n",
    "    C = B\n",
    "    E = np.block([[A,B],[B,A]])\n",
    "    return E\n",
    "\n",
    "def y_create(n):\n",
    "    A = np.ones(n-1)\n",
    "    B = A * -1\n",
    "    D = np.concatenate([A, B])\n",
    "    return D\n",
    "\n",
    "def a_create(n, alpha_prime):\n",
    "    K = k_create(n, alpha_prime)\n",
    "    y = y_create(n)\n",
    "    a = np.linalg.solve(K, y)\n",
    "    return a\n",
    "\n",
    "K = k_create(n,alpha_prime)\n",
    "# print('K', '\\n', K)\n",
    "# print('det:', np.linalg.det(K))\n",
    "\n",
    "y = y_create(n)\n",
    "a = a_create(n, alpha_prime)\n",
    "\n",
    "#creates a vector for exceptions (only works for exception cases!)\n",
    "def e_i(n, i):\n",
    "    len_arr = n-1\n",
    "    array_pos = i-1     #(-1 to normalize), p and q refer to normal indices (from 1 to len_arr)\n",
    "    arr = np.zeros(len_arr)\n",
    "    if i > 0 and i < n: #if outside, k_o excluded from similarity matrix e.g. AE exception for n=5\n",
    "        arr[array_pos] = 1 \n",
    "    return arr\n",
    "\n",
    "#sides matrix in k_exp representing exceptions\n",
    "def k_exp_horiz(n, p, q, alpha_prime):\n",
    "    A = e_i(n, p) + e_i(n, q-1)\n",
    "    B = e_i(n, q) + e_i(n, p-1)\n",
    "    C = e_i(n, p-1) + e_i(n, q)\n",
    "    D = e_i(n, q-1) + e_i(n, p)\n",
    "    E = alpha_prime * np.block([[A,C],[B,D]])\n",
    "    return E\n",
    "\n",
    "def k_create_excep(n, p, q, alpha_prime):\n",
    "    K = k_create(n, alpha_prime)\n",
    "    E_1 = k_exp_horiz(n, p, q, alpha_prime)\n",
    "    E_2 = E_1.transpose()\n",
    "    E_3 = np.identity(2) #2 since there's only 2 columns for exceptions\n",
    "    \n",
    "    W = np.concatenate([K, E_1])\n",
    "    X = np.concatenate([E_2, E_3])\n",
    "    Z = np.concatenate([W, X], 1)\n",
    "    return Z\n",
    "\n",
    "def y_create_exp(n):\n",
    "    A = np.ones(n-1)\n",
    "    B = A * -1\n",
    "    C = np.array([1, -1])\n",
    "    D = np.concatenate([A, B, C])\n",
    "    return D\n",
    "\n",
    "def a_exp_create(n, p, q, alpha_prime, c_reg):\n",
    "    K_exp = k_create_excep(n, p, q, alpha_prime)\n",
    "    y_exp = y_create_exp(n)\n",
    "    a_exp = np.linalg.solve(K_exp + (1/c_reg)*np.identity(len(K_exp)), y_exp)\n",
    "    return a_exp\n",
    "\n",
    "K_exp = k_create_excep(n, p, q, alpha_prime)\n",
    "y_exp = y_create_exp(n)\n",
    "a_exp = a_exp_create(n, p, q, alpha_prime, c_reg)\n",
    "\n",
    "#store a_exp in Self\n",
    "a_exp = a_exp\n",
    "a_exp_bar = np.append(a_exp[0:n-1], a_exp[-2])\n",
    "\n",
    "# Create a dictionary with keys generated using the index and values from the array\n",
    "def create_bc(n,p,q,alpha_prime):\n",
    "    a_exp = a_exp_create(n,p,q,alpha_prime,c_reg)\n",
    "    num_coeff = n-1\n",
    "    b = {i: a_exp[i-1] for i in range(1, num_coeff + 1)}\n",
    "    b_bar = {i: a_exp[i-1+n-1] for i in range(1, num_coeff + 1)}\n",
    "    c = {1: a_exp[2 * num_coeff]}\n",
    "    c_bar = {1: a_exp[2 * num_coeff + 1]}\n",
    "    return b, b_bar, c, c_bar\n",
    "\n",
    "def create_bc_arrays(n,p,q,alpha_prime):\n",
    "    b, b_bar, c, c_bar = create_bc(n,p,q,alpha_prime)\n",
    "    b_array = dict_to_array(b)\n",
    "    b_bar_array = dict_to_array(b_bar)\n",
    "    c_array = dict_to_array(c)\n",
    "    c_bar_array = dict_to_array(c_bar)\n",
    "    return b_array, b_bar_array, c_array, c_bar_array\n",
    "\n",
    "def get_b(i):\n",
    "    b, b_bar, c, c_bar = create_bc(n,p,q,alpha_prime)\n",
    "    if i < 1 or i >= n:\n",
    "        return 0\n",
    "    else:\n",
    "        return b[i]\n",
    "\n",
    "#turns dictionary to array for testing\n",
    "def dict_to_array(dict_arr):\n",
    "    arr = np.zeros(len(dict_arr))\n",
    "    for i in range(1, len(dict_arr) + 1):\n",
    "        arr[(i-1)] = dict_arr[i]  \n",
    "        return arr        \n",
    "\n",
    "b, b_bar, c, c_bar = create_bc(n,p,q,alpha_prime)\n",
    "b_array, b_bar_array, c_array, c_bar_array = create_bc_arrays(n,p,q,alpha_prime)\n",
    "\n",
    "A = tridiag(n)\n",
    "B = np.linalg.inv(np.identity(n-1) - (A*alpha_prime))\n",
    "\n",
    "def B_ij_analytical(i, j):\n",
    "    num = np.cosh((n-(np.abs(j-i))) * lamb_val) - np.cosh((n-i-j)*lamb_val)\n",
    "    denom = (1-alpha) * np.sinh(lamb_val) * np.sinh(n * lamb_val)\n",
    "    return num/denom\n",
    "\n",
    "def B_ij(i,j):\n",
    "    i_ind = i-1\n",
    "    j_ind = j-1\n",
    "    if i < 1 or j < 1 or i > n or j > n:\n",
    "        return 0\n",
    "    else: \n",
    "        return B[i_ind][j_ind]\n",
    "\n",
    "#test analytical solutions for b and c\n",
    "def b_exist(b, i):\n",
    "    if i>0 and i<n: \n",
    "        return b[i]\n",
    "    else: \n",
    "        return 0\n",
    "\n",
    "def b_mult():\n",
    "    A = tridiag(n)\n",
    "    B = np.linalg.inv(np.identity(n-1) - (A*alpha_prime))\n",
    "\n",
    "    K_mult = np.ones(n-1) - (c[1]*alpha_prime*(e_i(n, p) + e_i(n, q-1) - e_i(n, p-1) - e_i(n, q)))\n",
    "    b_exp_analytical = B @ K_mult\n",
    "    return b_exp_analytical\n",
    "\n",
    "def b_til_dict():\n",
    "    b_til = B @ np.ones(len(B))\n",
    "    b_til_dict = {i: b_til[i-1] for i in range(1, arr_len + 1)}\n",
    "    return b_til_dict\n",
    "\n",
    "def b_i(i):\n",
    "    if i < 1 or i > arr_len:\n",
    "        return 0\n",
    "    else:\n",
    "        return b[i]\n",
    "\n",
    "def K_row(j, k):\n",
    "    arr_1 = np.zeros(n-1)\n",
    "    for i in range (0, n-1):\n",
    "        if j == (i+1) and k == (i+2):\n",
    "            arr_1[i] = 1\n",
    "            break\n",
    "        if j == (i+1):\n",
    "            arr_1[i] = alpha_prime\n",
    "        if k == (i+2):\n",
    "            arr_1[i] = alpha_prime\n",
    "    arr_2 = np.zeros(n-1)\n",
    "    for i in range (0, n-1):\n",
    "        if j == (i+2) and k == (i+1):\n",
    "            arr_2[i] = 1\n",
    "            break\n",
    "        if j == (i+2):\n",
    "            arr_2[i] = alpha_prime\n",
    "        if k == (i+1):\n",
    "            arr_2[i] = alpha_prime\n",
    "    \n",
    "    return np.concatenate([arr_1, arr_2])\n",
    "\n",
    "def K_row_exp(j, k):\n",
    "    arr_1 = np.zeros(n-1)\n",
    "    for i in range (0, n-1):\n",
    "        if j == (i+1) and k == (i+2):\n",
    "            arr_1[i] = 1\n",
    "            break\n",
    "        if j == (i+1):\n",
    "            arr_1[i] = alpha_prime\n",
    "        if k == (i+2):\n",
    "            arr_1[i] = alpha_prime\n",
    "    arr_2 = np.zeros(n-1)\n",
    "    for i in range (0, n-1):\n",
    "        if j == (i+2) and k == (i+1):\n",
    "            arr_2[i] = 1\n",
    "            break\n",
    "        if j == (i+2):\n",
    "            arr_2[i] = alpha_prime\n",
    "        if k == (i+1):\n",
    "            arr_2[i] = alpha_prime\n",
    "    arr_3 = np.zeros(2)\n",
    "    if j == p and k == q:\n",
    "        arr_3[0] = 1\n",
    "    elif j == q and k == p:\n",
    "        arr_3[1] = 1 \n",
    "    elif j == p or k == q:\n",
    "        arr_3[0] = alpha_prime\n",
    "    elif j == q or k == p:\n",
    "        arr_3[1] = alpha_prime\n",
    "    \n",
    "    return np.concatenate([arr_1, arr_2, arr_3])\n",
    "\n",
    "def delta(i,j):\n",
    "    if i == j:\n",
    "        return 1\n",
    "    else:\n",
    "        return 0\n",
    "\n",
    "def f_j_k(j,k):\n",
    "    K_row_exp_cur = K_row_exp(j,k)\n",
    "    return K_row_exp_cur@a_exp\n",
    "    \n",
    "def rank_mult_exp(j):\n",
    "    rank = alpha_prime * (b_i(j-1) - b_i(j) + c[1] * (delta(j,q) - delta(j,p)))\n",
    "    return rank\n",
    "\n",
    "def show_ranks():\n",
    "    print('rank')\n",
    "    for i in range (1, n+1):\n",
    "        print(f'{i}:', rank(i)) \n",
    "    \n",
    "    print('exception rank')\n",
    "    for i in range (1, n+1):\n",
    "        print(f'{i}:', rank_mult_exp(i)) \n",
    "\n",
    "show_ranks()\n",
    "\n",
    "#returns B_ij\n",
    "def create_B_ij_exp(i,j):\n",
    "    num = np.sinh((n-np.max([i,j]))*lamb_val) * np.sinh(np.min([i,j]) * lamb_val)\n",
    "    denom = np.sinh(lamb_val) * np.sinh(n*lamb_val)\n",
    "    return num/denom/alpha_prime\n",
    "\n",
    "def B_ij(i,j):\n",
    "    if i > 0 and i <= n and j > 0 and j <= n:\n",
    "        return create_B_ij_exp(i,j)\n",
    "    else:\n",
    "        return 0\n",
    "    \n",
    "def create_D_ij_exp(i, j):\n",
    "    return alpha_prime * ( create_B_ij_exp(i-1, j) \n",
    "                        + create_B_ij_exp(i, j-1) \n",
    "                        - create_B_ij_exp(i, j) \n",
    "                        - create_B_ij_exp(i-1, j-1))\n",
    "\n",
    "def D_ij(i,j):\n",
    "    if i > 0 and i <= n and j > 0 and j <= n:\n",
    "        return create_D_ij_exp(i,j)\n",
    "    else:\n",
    "        return 0\n",
    "\n",
    "def create_D_ij_matrix():\n",
    "    arr = np.zeros((n,n))\n",
    "    for i_ind in range (0, n):\n",
    "        i = i_ind + 1\n",
    "        for j_ind in range (0, n):\n",
    "            j = j_ind + 1\n",
    "            arr[i_ind][j_ind] = create_D_ij_exp(i, j)\n",
    "    return arr\n",
    "\n",
    "#i <= j-1\n",
    "def D_ij_analytical_case_1(i, j):\n",
    "    l = lamb_val\n",
    "    one = np.sinh((n-j)*l)\n",
    "    two = np.sinh(i*l)\n",
    "    three = np.sinh((i-1)*l)\n",
    "    four = np.sinh((n-(j-1))*l)\n",
    "    num = (one * three) + (four * two) - (one * two) - (four * three)\n",
    "    denom = np.sinh(lamb_val) * np.sinh(lamb_val * n)\n",
    "    return num/denom\n",
    "\n",
    "def D_ij_analytical_case_2(i, j):\n",
    "    l = lamb_val\n",
    "    one = np.sinh((n-i)*l)\n",
    "    two = np.sinh(j*l)\n",
    "    three = np.sinh((j-1)*l)\n",
    "    four = np.sinh((n-(i-1))*l)\n",
    "    num = (one * three) + (four * two) - (one * two) - (four * three)\n",
    "    denom = np.sinh(lamb_val) * np.sinh(lamb_val * n)\n",
    "    return num/denom\n",
    "\n",
    "def create_D_ij_analytical_1_case_3a(i, j):\n",
    "    l = lamb_val\n",
    "    one = np.sinh((n - max(i-1,j))*l) * np.sinh(min(i-1,j)*l)\n",
    "    two = np.sinh((n - max(i,j-1))*l) * np.sinh(min(i,j-1)*l)\n",
    "    three = np.sinh(((n-max(i,j)))*l) * np.sinh((min(i,j))*l)\n",
    "    four = np.sinh((n-max(i-1,j-1))*l) * np.sinh(min(i-1,j-1)*l)\n",
    "    num = one + two - three - four\n",
    "    denom = np.sinh(lamb_val) * np.sinh(lamb_val * n)\n",
    "    return num/denom\n",
    "\n",
    "def D_ij_analytical_case_3b(i, j):\n",
    "    l = lamb_val\n",
    "    one = np.sinh((n-j)*l) * np.sinh((i-1)*l)\n",
    "    two = np.sinh((n-i)*l) * np.sinh((j-1)*l)\n",
    "    three = np.sinh((n-i)*l) * np.sinh((i)*l)\n",
    "    four = np.sinh((n-(i-1))*l) * np.sinh((j-1)*l)\n",
    "    num = one + two - three - four\n",
    "    denom = np.sinh(lamb_val) * np.sinh(lamb_val * n)\n",
    "    return num/denom\n",
    "\n",
    "def D_ij_analytical_sol(i, j):\n",
    "        if i < j:\n",
    "            return D_ij_analytical_case_1(i, j)\n",
    "        elif i > j: \n",
    "            return D_ij_analytical_case_2(i, j)\n",
    "        elif i == j:\n",
    "            return create_D_ij_analytical_1_case_3a(i, j)\n",
    "\n",
    "#nonexception\n",
    "def rank(i):\n",
    "    num = np.sinh(( ((n+1)/2) - i) * lamb_val)\n",
    "    print(f'num for i:{i}',num)\n",
    "    denom = np.sinh(((n+1)/2) * lamb_val) - np.sinh(((n-1)/2) * lamb_val)\n",
    "    print(f'denom for i:{i}', denom)\n",
    "    return num / denom\n",
    "\n",
    "def rank_til(i):\n",
    "    return rank(i)\n",
    "\n",
    "def rank_mult_exp_2(j):\n",
    "    rank_mult_exp_2 = rank_til(j) + ( c[1] * \n",
    "                                    alpha_prime * (D_ij(j,p) - D_ij(j,q) + delta(j,p) - delta(j,q)) )\n",
    "    return rank_mult_exp_2\n",
    "\n",
    "def show_full_ranks_exp():\n",
    "    print('full rank')\n",
    "    for i in range (1, n+1):\n",
    "        print(f'{i}:', rank_mult_exp_2(i))\n",
    "\n",
    "show_full_ranks_exp()\n",
    "\n",
    "def f_j_k(j,k):\n",
    "    K_row_exp_cur = K_row_exp(j,k)\n",
    "    return K_row_exp_cur@a_exp\n",
    "\n",
    "def test_f_j_k_vs_rank():\n",
    "    print(f_j_k(1,3))\n",
    "    print(rank_mult_exp_2(1)-rank_mult_exp_2(3))\n",
    "\n",
    "test_f_j_k_vs_rank()\n"
   ]
  },
  {
   "cell_type": "code",
   "execution_count": 26,
   "id": "b3d400c8",
   "metadata": {},
   "outputs": [
    {
     "name": "stdout",
     "output_type": "stream",
     "text": [
      "0.19999999999999996\n"
     ]
    },
    {
     "data": {
      "text/plain": [
       "0.6931471805599453"
      ]
     },
     "execution_count": 26,
     "metadata": {},
     "output_type": "execute_result"
    }
   ],
   "source": [
    "print(alpha)\n",
    "np.arccosh(1/(1-alpha))"
   ]
  }
 ],
 "metadata": {
  "kernelspec": {
   "display_name": "base",
   "language": "python",
   "name": "python3"
  },
  "language_info": {
   "codemirror_mode": {
    "name": "ipython",
    "version": 3
   },
   "file_extension": ".py",
   "mimetype": "text/x-python",
   "name": "python",
   "nbconvert_exporter": "python",
   "pygments_lexer": "ipython3",
   "version": "3.11.7"
  }
 },
 "nbformat": 4,
 "nbformat_minor": 5
}
