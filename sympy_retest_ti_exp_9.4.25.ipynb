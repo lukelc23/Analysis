{
 "cells": [
  {
   "cell_type": "code",
   "execution_count": 1,
   "id": "9b01a832",
   "metadata": {},
   "outputs": [
    {
     "name": "stdout",
     "output_type": "stream",
     "text": [
      "display:\n",
      "num:\n"
     ]
    },
    {
     "data": {
      "text/latex": [
       "$\\displaystyle 1 + \\frac{- \\sinh{\\left(\\lambda \\left(\\frac{n}{2} - p + \\frac{1}{2}\\right) \\right)} + \\sinh{\\left(\\lambda \\left(\\frac{n}{2} - q + \\frac{1}{2}\\right) \\right)}}{- \\sinh{\\left(\\lambda \\left(\\frac{n}{2} - \\frac{1}{2}\\right) \\right)} + \\sinh{\\left(\\lambda \\left(\\frac{n}{2} + \\frac{1}{2}\\right) \\right)}}$"
      ],
      "text/plain": [
       "1 + (-sinh(lambda*(n/2 - p + 1/2)) + sinh(lambda*(n/2 - q + 1/2)))/(-sinh(lambda*(n/2 - 1/2)) + sinh(lambda*(n/2 + 1/2)))"
      ]
     },
     "metadata": {},
     "output_type": "display_data"
    },
    {
     "name": "stdout",
     "output_type": "stream",
     "text": [
      "denom\n"
     ]
    },
    {
     "data": {
      "text/latex": [
       "$\\displaystyle - \\frac{4 \\alpha_{prime} \\left(\\sinh{\\left(\\lambda \\left(\\frac{p}{2} + \\frac{q}{2} - 0.5\\right) \\right)} \\cosh{\\left(\\lambda \\left(n - p + 0.5\\right) \\right)} + \\sinh{\\left(\\lambda \\left(n - \\frac{p}{2} - \\frac{q}{2} + 0.5\\right) \\right)} \\cosh{\\left(\\lambda \\left(q - 0.5\\right) \\right)}\\right) \\sinh{\\left(\\lambda \\left(- \\frac{p}{2} + \\frac{q}{2}\\right) \\right)} \\tanh{\\left(\\frac{\\lambda}{2} \\right)}}{\\sinh{\\left(\\lambda n \\right)}} - 2 \\alpha_{prime} + 1$"
      ],
      "text/plain": [
       "-4*alpha_prime*(sinh(lambda*(p/2 + q/2 - 0.5))*cosh(lambda*(n - p + 0.5)) + sinh(lambda*(n - p/2 - q/2 + 0.5))*cosh(lambda*(q - 0.5)))*sinh(lambda*(-p/2 + q/2))*tanh(lambda/2)/sinh(lambda*n) - 2*alpha_prime + 1"
      ]
     },
     "metadata": {},
     "output_type": "display_data"
    },
    {
     "name": "stdout",
     "output_type": "stream",
     "text": [
      "c_analytical_start\n"
     ]
    },
    {
     "data": {
      "text/latex": [
       "$\\displaystyle \\frac{1 + \\frac{- \\sinh{\\left(\\lambda \\left(\\frac{n}{2} - p + \\frac{1}{2}\\right) \\right)} + \\sinh{\\left(\\lambda \\left(\\frac{n}{2} - q + \\frac{1}{2}\\right) \\right)}}{- \\sinh{\\left(\\lambda \\left(\\frac{n}{2} - \\frac{1}{2}\\right) \\right)} + \\sinh{\\left(\\lambda \\left(\\frac{n}{2} + \\frac{1}{2}\\right) \\right)}}}{- \\frac{4 \\alpha_{prime} \\left(\\sinh{\\left(\\lambda \\left(\\frac{p}{2} + \\frac{q}{2} - 0.5\\right) \\right)} \\cosh{\\left(\\lambda \\left(n - p + 0.5\\right) \\right)} + \\sinh{\\left(\\lambda \\left(n - \\frac{p}{2} - \\frac{q}{2} + 0.5\\right) \\right)} \\cosh{\\left(\\lambda \\left(q - 0.5\\right) \\right)}\\right) \\sinh{\\left(\\lambda \\left(- \\frac{p}{2} + \\frac{q}{2}\\right) \\right)} \\tanh{\\left(\\frac{\\lambda}{2} \\right)}}{\\sinh{\\left(\\lambda n \\right)}} - 2 \\alpha_{prime} + 1}$"
      ],
      "text/plain": [
       "(1 + (-sinh(lambda*(n/2 - p + 1/2)) + sinh(lambda*(n/2 - q + 1/2)))/(-sinh(lambda*(n/2 - 1/2)) + sinh(lambda*(n/2 + 1/2))))/(-4*alpha_prime*(sinh(lambda*(p/2 + q/2 - 0.5))*cosh(lambda*(n - p + 0.5)) + sinh(lambda*(n - p/2 - q/2 + 0.5))*cosh(lambda*(q - 0.5)))*sinh(lambda*(-p/2 + q/2))*tanh(lambda/2)/sinh(lambda*n) - 2*alpha_prime + 1)"
      ]
     },
     "metadata": {},
     "output_type": "display_data"
    }
   ],
   "source": [
    "from sympy import symbols, sinh, cosh, tanh, Symbol, simplify\n",
    "import numpy as np\n",
    "import sympy as sp\n",
    "from IPython.display import display, Math\n",
    "\n",
    "# Define your symbols\n",
    "n, p, q, alpha_prime = symbols('n p q alpha_prime')\n",
    "lamb = symbols('lamb')  # Original symbol for lambda\n",
    "\n",
    "# Define the expressions using the original symbol\n",
    "num = 1 + (\n",
    "    (sinh(((n + 1) / 2 - q) * lamb) - sinh(((n + 1) / 2 - p) * lamb)) \n",
    "    / (sinh(((n + 1) / 2) * lamb) - sinh(((n - 1) / 2) * lamb))\n",
    ")\n",
    "\n",
    "#correct denominator\n",
    "denom = ( 1 - 2*alpha_prime \n",
    "- (4 * alpha_prime * ( (tanh(lamb / 2)) / sinh(lamb * n) ) * sinh( ((q-p)/2) * lamb) ) \n",
    "* (\n",
    "        (cosh((q - 1 / 2) * lamb) * sinh((n - ((p + q) / 2 - 1 / 2)) * lamb)) +\n",
    "        (cosh((n - p + 1 / 2) * lamb) * sinh(((p + q) / 2 - 1 / 2) * lamb))\n",
    "    )\n",
    ")\n",
    "\n",
    "c_analytical = num/denom\n",
    "\n",
    "# New symbol for lambda (λ)\n",
    "lambda_symbol = Symbol('lambda', real=True)\n",
    "\n",
    "# Substitute lamb with the new lambda symbol\n",
    "num_display = num.subs(lamb, lambda_symbol)\n",
    "denom_display = denom.subs(lamb, lambda_symbol)\n",
    "c_analytical_display = c_analytical.subs(lamb, lambda_symbol)\n",
    "\n",
    "print('display:')\n",
    "print('num:')\n",
    "display(num_display)\n",
    "print('denom')\n",
    "display(denom_display)\n",
    "print('c_analytical_start')\n",
    "display(c_analytical_display)\n"
   ]
  },
  {
   "cell_type": "markdown",
   "id": "2cae0bbc",
   "metadata": {},
   "source": [
    "# Comparing the starting formula with the actual values"
   ]
  },
  {
   "cell_type": "code",
   "execution_count": 2,
   "id": "52f5387e",
   "metadata": {},
   "outputs": [
    {
     "name": "stdout",
     "output_type": "stream",
     "text": [
      "4.06378273140094\n"
     ]
    }
   ],
   "source": [
    "num_eval = num.evalf(subs = {n: 7, p: 6, q: 2, lamb: 0.69, alpha_prime: 1/(2 *cosh(lamb)) })\n",
    "denom_eval = denom.evalf(subs = {n: 7, p: 6, q: 2, lamb: 0.69, alpha_prime: 1/(2 *cosh(lamb)) })\n",
    "c = num_eval/denom_eval\n",
    "print(c)"
   ]
  },
  {
   "cell_type": "markdown",
   "id": "6b84c5d2",
   "metadata": {},
   "source": [
    "Backsolving for the correct k_o"
   ]
  },
  {
   "cell_type": "code",
   "execution_count": 3,
   "id": "30667920",
   "metadata": {},
   "outputs": [
    {
     "name": "stdout",
     "output_type": "stream",
     "text": [
      "0.400754765124285\n"
     ]
    }
   ],
   "source": [
    "lamb_eval = 0.69\n",
    "alpha_prime_eval = 1/(2 *cosh(lamb_eval))\n",
    "k_o = float(alpha_prime_eval)\n",
    "print(alpha_prime_eval)\n"
   ]
  },
  {
   "cell_type": "code",
   "execution_count": 4,
   "id": "298d7dba",
   "metadata": {},
   "outputs": [
    {
     "name": "stdout",
     "output_type": "stream",
     "text": [
      "D_jq_analytical_sol: 0.2501398400642878\n",
      "D_jp_analytical_sol: 0.017820532012786452\n",
      "D_jq_analytical_sol: -0.6259679976865031\n",
      "D_jp_analytical_sol: 0.026646891871847482\n",
      "D_jq_analytical_sol: 0.18788747183811896\n",
      "D_jp_analytical_sol: 0.04867123350932336\n",
      "D_jq_analytical_sol: 0.09480202839013911\n",
      "D_jp_analytical_sol: 0.09480202839013911\n",
      "D_jq_analytical_sol: 0.04867123350932336\n",
      "D_jp_analytical_sol: 0.18788747183811896\n",
      "D_jq_analytical_sol: 0.026646891871847482\n",
      "D_jp_analytical_sol: -0.6259679976865031\n",
      "D_jq_analytical_sol: 0.017820532012786452\n",
      "D_jp_analytical_sol: 0.2501398400642878\n",
      "[1.50741469 5.32993035 5.23324142 5.23324142 5.32993035 1.50741469\n",
      " 4.06378273]\n"
     ]
    }
   ],
   "source": [
    "from Ranking_exp import Ranking_exp\n",
    "sim = Ranking_exp(n=7, k_o = k_o, k_s = 1, k_d = 0, p = 6, q = 2, c_reg = 1e10)\n",
    "sim.calc_rank()\n",
    "print(sim.a_exp_bar)"
   ]
  },
  {
   "cell_type": "code",
   "execution_count": 5,
   "id": "03c132a9",
   "metadata": {},
   "outputs": [
    {
     "name": "stdout",
     "output_type": "stream",
     "text": [
      "equal!\n"
     ]
    }
   ],
   "source": [
    "np.testing.assert_almost_equal(c, sim.a_exp_bar[-1])\n",
    "print('equal!')"
   ]
  },
  {
   "cell_type": "markdown",
   "id": "55748452",
   "metadata": {},
   "source": [
    "# The starting formula is correct"
   ]
  },
  {
   "cell_type": "markdown",
   "id": "f4dfe217",
   "metadata": {},
   "source": [
    "# Checking the final formula for rank\n"
   ]
  },
  {
   "cell_type": "markdown",
   "id": "7856eb2a",
   "metadata": {},
   "source": [
    "Actually calc_rank_analytic already.  D_jp-D_jq\n",
    "But calc_rank uses D_jq-D_jp\n",
    "The issue is that they both get the right rank, but they shouldn't."
   ]
  },
  {
   "cell_type": "markdown",
   "id": "7d5fc820",
   "metadata": {},
   "source": [
    "Write both out to see what's happening.  "
   ]
  },
  {
   "cell_type": "code",
   "execution_count": null,
   "id": "e051ea04",
   "metadata": {},
   "outputs": [],
   "source": []
  },
  {
   "cell_type": "code",
   "execution_count": 7,
   "id": "40fd76f6",
   "metadata": {},
   "outputs": [
    {
     "name": "stdout",
     "output_type": "stream",
     "text": [
      "-6.5452429954945615\n",
      "D_jq_analytical_sol: 0.2501398400642878\n",
      "D_jp_analytical_sol: 0.017820532012786452\n",
      "D_jq_analytical_sol: -0.6259679976865031\n",
      "D_jp_analytical_sol: 0.026646891871847482\n",
      "D_jq_analytical_sol: 0.18788747183811896\n",
      "D_jp_analytical_sol: 0.04867123350932336\n",
      "D_jq_analytical_sol: 0.09480202839013911\n",
      "D_jp_analytical_sol: 0.09480202839013911\n",
      "D_jq_analytical_sol: 0.04867123350932336\n",
      "D_jp_analytical_sol: 0.18788747183811896\n",
      "D_jq_analytical_sol: 0.026646891871847482\n",
      "D_jp_analytical_sol: -0.6259679976865031\n",
      "D_jq_analytical_sol: 0.017820532012786452\n",
      "D_jp_analytical_sol: 0.2501398400642878\n",
      "[ 0.60410362 -0.09668893 -0.03874855 -0.          0.03874855  0.09668893\n",
      " -0.60410362]\n",
      "D_jp_til_part_val: 1.6804429460896164\n",
      "D_jq_til_part_val: 23.58772058378581\n",
      "D_jp_til_part_val: 2.51275222586675\n",
      "D_jq_til_part_val: 35.27052051243514\n",
      "D_jp_til_part_val: 4.589606582426283\n",
      "D_jq_til_part_val: 17.71743831679298\n",
      "D_jp_til_part_val: 8.939654538309535\n",
      "D_jq_til_part_val: 8.939654538309535\n",
      "D_jp_til_part_val: 17.71743831679298\n",
      "D_jq_til_part_val: 4.589606582426283\n",
      "D_jp_til_part_val: 35.27052051243514\n",
      "D_jq_til_part_val: 2.51275222586675\n",
      "D_jp_til_part_val: 23.58772058378581\n",
      "D_jq_til_part_val: 1.6804429460896164\n",
      "[ 1.36080491  1.03480016  0.4147011   0.         -0.4147011  -1.03480016\n",
      " -1.36080491]\n",
      "D_jq_analytical_sol: 0.2501398400642878\n",
      "D_jp_analytical_sol: 0.017820532012786452\n",
      "D_jq_analytical_sol: -0.6259679976865031\n",
      "D_jp_analytical_sol: 0.026646891871847482\n",
      "D_jq_analytical_sol: 0.18788747183811896\n",
      "D_jp_analytical_sol: 0.04867123350932336\n",
      "D_jq_analytical_sol: 0.09480202839013911\n",
      "D_jp_analytical_sol: 0.09480202839013911\n",
      "D_jq_analytical_sol: 0.04867123350932336\n",
      "D_jp_analytical_sol: 0.18788747183811896\n",
      "D_jq_analytical_sol: 0.026646891871847482\n",
      "D_jp_analytical_sol: -0.6259679976865031\n",
      "D_jq_analytical_sol: 0.017820532012786452\n",
      "D_jp_analytical_sol: 0.2501398400642878\n",
      "D_jp_til_part_val: 1.6804429460896164\n",
      "D_jq_til_part_val: 23.58772058378581\n",
      "D_jp_til_part_val: 2.51275222586675\n",
      "D_jq_til_part_val: 35.27052051243514\n",
      "D_jp_til_part_val: 4.589606582426283\n",
      "D_jq_til_part_val: 17.71743831679298\n",
      "D_jp_til_part_val: 8.939654538309535\n",
      "D_jq_til_part_val: 8.939654538309535\n",
      "D_jp_til_part_val: 17.71743831679298\n",
      "D_jq_til_part_val: 4.589606582426283\n",
      "D_jp_til_part_val: 35.27052051243514\n",
      "D_jq_til_part_val: 2.51275222586675\n",
      "D_jp_til_part_val: 23.58772058378581\n",
      "D_jq_til_part_val: 1.6804429460896164\n"
     ]
    },
    {
     "ename": "AssertionError",
     "evalue": "\nArrays are not almost equal to 7 decimals\n\nMismatched elements: 6 / 7 (85.7%)\nMax absolute difference: 1.13148909\nMax relative difference: 1.0934373\n x: array([ 0.6041036, -0.0966889, -0.0387485, -0.       ,  0.0387485,\n        0.0966889, -0.6041036])\n y: array([ 1.3608049,  1.0348002,  0.4147011,  0.       , -0.4147011,\n       -1.0348002, -1.3608049])",
     "output_type": "error",
     "traceback": [
      "\u001b[1;31m---------------------------------------------------------------------------\u001b[0m",
      "\u001b[1;31mAssertionError\u001b[0m                            Traceback (most recent call last)",
      "Cell \u001b[1;32mIn[7], line 12\u001b[0m\n\u001b[0;32m      9\u001b[0m \u001b[38;5;28mprint\u001b[39m(sim\u001b[38;5;241m.\u001b[39mcalc_rank())\n\u001b[0;32m     10\u001b[0m \u001b[38;5;28mprint\u001b[39m(sim\u001b[38;5;241m.\u001b[39mcalc_rank_analytic())\n\u001b[1;32m---> 12\u001b[0m np\u001b[38;5;241m.\u001b[39mtesting\u001b[38;5;241m.\u001b[39massert_almost_equal(sim\u001b[38;5;241m.\u001b[39mcalc_rank(), sim\u001b[38;5;241m.\u001b[39mcalc_rank_analytic())\n",
      "File \u001b[1;32mc:\\Users\\lukel\\anaconda3\\Lib\\contextlib.py:81\u001b[0m, in \u001b[0;36mContextDecorator.__call__.<locals>.inner\u001b[1;34m(*args, **kwds)\u001b[0m\n\u001b[0;32m     78\u001b[0m \u001b[38;5;129m@wraps\u001b[39m(func)\n\u001b[0;32m     79\u001b[0m \u001b[38;5;28;01mdef\u001b[39;00m \u001b[38;5;21minner\u001b[39m(\u001b[38;5;241m*\u001b[39margs, \u001b[38;5;241m*\u001b[39m\u001b[38;5;241m*\u001b[39mkwds):\n\u001b[0;32m     80\u001b[0m     \u001b[38;5;28;01mwith\u001b[39;00m \u001b[38;5;28mself\u001b[39m\u001b[38;5;241m.\u001b[39m_recreate_cm():\n\u001b[1;32m---> 81\u001b[0m         \u001b[38;5;28;01mreturn\u001b[39;00m func(\u001b[38;5;241m*\u001b[39margs, \u001b[38;5;241m*\u001b[39m\u001b[38;5;241m*\u001b[39mkwds)\n",
      "    \u001b[1;31m[... skipping hidden 1 frame]\u001b[0m\n",
      "File \u001b[1;32mc:\\Users\\lukel\\anaconda3\\Lib\\contextlib.py:81\u001b[0m, in \u001b[0;36mContextDecorator.__call__.<locals>.inner\u001b[1;34m(*args, **kwds)\u001b[0m\n\u001b[0;32m     78\u001b[0m \u001b[38;5;129m@wraps\u001b[39m(func)\n\u001b[0;32m     79\u001b[0m \u001b[38;5;28;01mdef\u001b[39;00m \u001b[38;5;21minner\u001b[39m(\u001b[38;5;241m*\u001b[39margs, \u001b[38;5;241m*\u001b[39m\u001b[38;5;241m*\u001b[39mkwds):\n\u001b[0;32m     80\u001b[0m     \u001b[38;5;28;01mwith\u001b[39;00m \u001b[38;5;28mself\u001b[39m\u001b[38;5;241m.\u001b[39m_recreate_cm():\n\u001b[1;32m---> 81\u001b[0m         \u001b[38;5;28;01mreturn\u001b[39;00m func(\u001b[38;5;241m*\u001b[39margs, \u001b[38;5;241m*\u001b[39m\u001b[38;5;241m*\u001b[39mkwds)\n",
      "    \u001b[1;31m[... skipping hidden 1 frame]\u001b[0m\n",
      "File \u001b[1;32mc:\\Users\\lukel\\anaconda3\\Lib\\contextlib.py:81\u001b[0m, in \u001b[0;36mContextDecorator.__call__.<locals>.inner\u001b[1;34m(*args, **kwds)\u001b[0m\n\u001b[0;32m     78\u001b[0m \u001b[38;5;129m@wraps\u001b[39m(func)\n\u001b[0;32m     79\u001b[0m \u001b[38;5;28;01mdef\u001b[39;00m \u001b[38;5;21minner\u001b[39m(\u001b[38;5;241m*\u001b[39margs, \u001b[38;5;241m*\u001b[39m\u001b[38;5;241m*\u001b[39mkwds):\n\u001b[0;32m     80\u001b[0m     \u001b[38;5;28;01mwith\u001b[39;00m \u001b[38;5;28mself\u001b[39m\u001b[38;5;241m.\u001b[39m_recreate_cm():\n\u001b[1;32m---> 81\u001b[0m         \u001b[38;5;28;01mreturn\u001b[39;00m func(\u001b[38;5;241m*\u001b[39margs, \u001b[38;5;241m*\u001b[39m\u001b[38;5;241m*\u001b[39mkwds)\n",
      "File \u001b[1;32mc:\\Users\\lukel\\anaconda3\\Lib\\site-packages\\numpy\\testing\\_private\\utils.py:862\u001b[0m, in \u001b[0;36massert_array_compare\u001b[1;34m(comparison, x, y, err_msg, verbose, header, precision, equal_nan, equal_inf, strict)\u001b[0m\n\u001b[0;32m    858\u001b[0m         err_msg \u001b[38;5;241m+\u001b[39m\u001b[38;5;241m=\u001b[39m \u001b[38;5;124m'\u001b[39m\u001b[38;5;130;01m\\n\u001b[39;00m\u001b[38;5;124m'\u001b[39m \u001b[38;5;241m+\u001b[39m \u001b[38;5;124m'\u001b[39m\u001b[38;5;130;01m\\n\u001b[39;00m\u001b[38;5;124m'\u001b[39m\u001b[38;5;241m.\u001b[39mjoin(remarks)\n\u001b[0;32m    859\u001b[0m         msg \u001b[38;5;241m=\u001b[39m build_err_msg([ox, oy], err_msg,\n\u001b[0;32m    860\u001b[0m                             verbose\u001b[38;5;241m=\u001b[39mverbose, header\u001b[38;5;241m=\u001b[39mheader,\n\u001b[0;32m    861\u001b[0m                             names\u001b[38;5;241m=\u001b[39m(\u001b[38;5;124m'\u001b[39m\u001b[38;5;124mx\u001b[39m\u001b[38;5;124m'\u001b[39m, \u001b[38;5;124m'\u001b[39m\u001b[38;5;124my\u001b[39m\u001b[38;5;124m'\u001b[39m), precision\u001b[38;5;241m=\u001b[39mprecision)\n\u001b[1;32m--> 862\u001b[0m         \u001b[38;5;28;01mraise\u001b[39;00m \u001b[38;5;167;01mAssertionError\u001b[39;00m(msg)\n\u001b[0;32m    863\u001b[0m \u001b[38;5;28;01mexcept\u001b[39;00m \u001b[38;5;167;01mValueError\u001b[39;00m:\n\u001b[0;32m    864\u001b[0m     \u001b[38;5;28;01mimport\u001b[39;00m \u001b[38;5;21;01mtraceback\u001b[39;00m\n",
      "\u001b[1;31mAssertionError\u001b[0m: \nArrays are not almost equal to 7 decimals\n\nMismatched elements: 6 / 7 (85.7%)\nMax absolute difference: 1.13148909\nMax relative difference: 1.0934373\n x: array([ 0.6041036, -0.0966889, -0.0387485, -0.       ,  0.0387485,\n        0.0966889, -0.6041036])\n y: array([ 1.3608049,  1.0348002,  0.4147011,  0.       , -0.4147011,\n       -1.0348002, -1.3608049])"
     ]
    }
   ],
   "source": [
    "import numpy as np\n",
    "n = 7\n",
    "j = 1\n",
    "lamb = 0.69\n",
    "r_j_til = (np.sinh(((n+1)/2)-j) * lamb) / \\\n",
    "    (np.sinh((n+1)/2) * lamb) - (np.sinh((n-1)/2) * lamb)\n",
    "print(r_j_til)\n",
    "\n",
    "print(sim.calc_rank())\n",
    "print(sim.calc_rank_analytic())\n",
    "\n",
    "np.testing.assert_almost_equal(sim.calc_rank(), sim.calc_rank_analytic())"
   ]
  },
  {
   "cell_type": "code",
   "execution_count": null,
   "id": "65aa5a42",
   "metadata": {},
   "outputs": [
    {
     "name": "stdout",
     "output_type": "stream",
     "text": [
      "D_jq_analytical_sol: 0.2501398400642878\n",
      "D_jp_analytical_sol: 0.017820532012786452\n",
      "D_jq_analytical_sol: -0.6259679976865031\n",
      "D_jp_analytical_sol: 0.026646891871847482\n",
      "D_jq_analytical_sol: 0.18788747183811896\n",
      "D_jp_analytical_sol: 0.04867123350932336\n",
      "D_jq_analytical_sol: 0.09480202839013911\n",
      "D_jp_analytical_sol: 0.09480202839013911\n",
      "D_jq_analytical_sol: 0.04867123350932336\n",
      "D_jp_analytical_sol: 0.18788747183811896\n",
      "D_jq_analytical_sol: 0.026646891871847482\n",
      "D_jp_analytical_sol: -0.6259679976865031\n",
      "D_jq_analytical_sol: 0.017820532012786452\n",
      "D_jp_analytical_sol: 0.2501398400642878\n"
     ]
    },
    {
     "data": {
      "text/plain": [
       "array([ 0.60410362, -0.09668893, -0.03874855, -0.        ,  0.03874855,\n",
       "        0.09668893, -0.60410362])"
      ]
     },
     "execution_count": 15,
     "metadata": {},
     "output_type": "execute_result"
    }
   ],
   "source": [
    "sim.calc_rank()"
   ]
  },
  {
   "cell_type": "code",
   "execution_count": null,
   "id": "6a76bb20",
   "metadata": {},
   "outputs": [
    {
     "name": "stdout",
     "output_type": "stream",
     "text": [
      "D_jp_til_part_val: 1.6804429460896164\n",
      "D_jq_til_part_val: 23.58772058378581\n",
      "D_jp_til_part_val: 2.51275222586675\n",
      "D_jq_til_part_val: 35.27052051243514\n",
      "D_jp_til_part_val: 4.589606582426283\n",
      "D_jq_til_part_val: 17.71743831679298\n",
      "D_jp_til_part_val: 8.939654538309535\n",
      "D_jq_til_part_val: 8.939654538309535\n",
      "D_jp_til_part_val: 17.71743831679298\n",
      "D_jq_til_part_val: 4.589606582426283\n",
      "D_jp_til_part_val: 35.27052051243514\n",
      "D_jq_til_part_val: 2.51275222586675\n",
      "D_jp_til_part_val: 23.58772058378581\n",
      "D_jq_til_part_val: 1.6804429460896164\n"
     ]
    },
    {
     "data": {
      "text/plain": [
       "array([ 0.60410362, -0.09668893, -0.03874855,  0.        ,  0.03874855,\n",
       "        0.09668893, -0.60410362])"
      ]
     },
     "execution_count": 16,
     "metadata": {},
     "output_type": "execute_result"
    }
   ],
   "source": [
    "sim.calc_rank_analytic()"
   ]
  },
  {
   "cell_type": "markdown",
   "id": "f4a0da55",
   "metadata": {},
   "source": [
    "Big question is why does calc_rank use D_jp - D_jq and calc_rank_analytic as well as all of the other writing I have use D_jq - Djp\n",
    "\n",
    "Best method to figure this out is just to rewrite the formalism I think.  "
   ]
  },
  {
   "cell_type": "markdown",
   "id": "13169b68",
   "metadata": {},
   "source": []
  },
  {
   "cell_type": "code",
   "execution_count": null,
   "id": "9b2352bd",
   "metadata": {},
   "outputs": [],
   "source": []
  }
 ],
 "metadata": {
  "kernelspec": {
   "display_name": "base",
   "language": "python",
   "name": "python3"
  },
  "language_info": {
   "codemirror_mode": {
    "name": "ipython",
    "version": 3
   },
   "file_extension": ".py",
   "mimetype": "text/x-python",
   "name": "python",
   "nbconvert_exporter": "python",
   "pygments_lexer": "ipython3",
   "version": "3.11.7"
  }
 },
 "nbformat": 4,
 "nbformat_minor": 5
}
