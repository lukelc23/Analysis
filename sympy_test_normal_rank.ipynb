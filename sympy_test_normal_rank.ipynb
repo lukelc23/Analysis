{
 "cells": [
  {
   "cell_type": "code",
   "execution_count": 3,
   "metadata": {},
   "outputs": [
    {
     "name": "stdout",
     "output_type": "stream",
     "text": [
      "rank_part\n",
      "test rank part simplification\n"
     ]
    },
    {
     "data": {
      "text/latex": [
       "$\\displaystyle \\frac{\\left(\\frac{1}{2} - \\frac{\\alpha}{2}\\right) \\left(- \\sinh{\\left(i lamb \\right)} + \\sinh{\\left(lamb n \\right)} - \\sinh{\\left(lamb \\left(- i + n\\right) \\right)}\\right)}{\\left(1 - \\alpha\\right) \\sinh{\\left(lamb \\right)} \\sinh{\\left(lamb n \\right)} \\tanh{\\left(\\frac{lamb}{2} \\right)}}$"
      ],
      "text/plain": [
       "(1/2 - alpha/2)*(-sinh(i*lamb) + sinh(lamb*n) - sinh(lamb*(-i + n)))/((1 - alpha)*sinh(lamb)*sinh(lamb*n)*tanh(lamb/2))"
      ]
     },
     "metadata": {},
     "output_type": "display_data"
    },
    {
     "data": {
      "text/latex": [
       "$\\displaystyle \\frac{- \\sinh{\\left(i lamb \\right)} + \\sinh{\\left(lamb n \\right)} + \\sinh{\\left(lamb \\left(i - n\\right) \\right)}}{2 \\sinh{\\left(lamb \\right)} \\sinh{\\left(lamb n \\right)} \\tanh{\\left(\\frac{lamb}{2} \\right)}}$"
      ],
      "text/plain": [
       "(-sinh(i*lamb) + sinh(lamb*n) + sinh(lamb*(i - n)))/(2*sinh(lamb)*sinh(lamb*n)*tanh(lamb/2))"
      ]
     },
     "metadata": {},
     "output_type": "display_data"
    },
    {
     "name": "stdout",
     "output_type": "stream",
     "text": [
      "True\n",
      "rank_part simplification is true\n",
      "first step of rank_part simplification:\n",
      "rank_part_analytic:\n"
     ]
    },
    {
     "data": {
      "text/latex": [
       "$\\displaystyle \\frac{- 2 \\sinh{\\left(\\frac{lamb n}{2} \\right)} \\cosh{\\left(lamb \\left(- i + \\frac{n}{2}\\right) \\right)} + \\sinh{\\left(lamb n \\right)}}{2 \\sinh{\\left(lamb \\right)} \\sinh{\\left(lamb n \\right)} \\tanh{\\left(\\frac{lamb}{2} \\right)}}$"
      ],
      "text/plain": [
       "(-2*sinh(lamb*n/2)*cosh(lamb*(-i + n/2)) + sinh(lamb*n))/(2*sinh(lamb)*sinh(lamb*n)*tanh(lamb/2))"
      ]
     },
     "metadata": {},
     "output_type": "display_data"
    },
    {
     "name": "stdout",
     "output_type": "stream",
     "text": [
      "True\n",
      "equal but rank_part is not fully simplified.\n",
      "test if full ranking expression is equal, then simplification\n"
     ]
    },
    {
     "data": {
      "text/latex": [
       "$\\displaystyle \\frac{- 2 \\sinh{\\left(\\frac{lamb n}{2} \\right)} \\cosh{\\left(lamb \\left(- i + \\frac{n}{2} + 1\\right) \\right)} + \\sinh{\\left(lamb n \\right)}}{2 \\sinh{\\left(lamb \\right)} \\sinh{\\left(lamb n \\right)} \\tanh{\\left(\\frac{lamb}{2} \\right)}}$"
      ],
      "text/plain": [
       "(-2*sinh(lamb*n/2)*cosh(lamb*(-i + n/2 + 1)) + sinh(lamb*n))/(2*sinh(lamb)*sinh(lamb*n)*tanh(lamb/2))"
      ]
     },
     "metadata": {},
     "output_type": "display_data"
    },
    {
     "data": {
      "text/latex": [
       "$\\displaystyle \\frac{\\sinh{\\left(lamb n \\right)} - \\sinh{\\left(lamb \\left(i - 1\\right) \\right)} - \\sinh{\\left(lamb \\left(- i + n + 1\\right) \\right)}}{\\delta_{s} \\left(1 - \\alpha\\right) \\sinh{\\left(lamb \\right)} \\sinh{\\left(lamb n \\right)} \\tanh{\\left(\\frac{lamb}{2} \\right)}}$"
      ],
      "text/plain": [
       "(sinh(lamb*n) - sinh(lamb*(i - 1)) - sinh(lamb*(-i + n + 1)))/(delta_s*(1 - alpha)*sinh(lamb)*sinh(lamb*n)*tanh(lamb/2))"
      ]
     },
     "metadata": {},
     "output_type": "display_data"
    },
    {
     "name": "stdout",
     "output_type": "stream",
     "text": [
      "True\n",
      "rank_part_2 and a_i_minus1 * ( delta_s * ( (1-alpha) / 2 ) ) are the same\n",
      "test if analytic expression is the same as non simplified\n"
     ]
    },
    {
     "data": {
      "text/latex": [
       "$\\displaystyle \\frac{2 \\sinh{\\left(\\frac{lamb n}{2} \\right)} \\sinh{\\left(lamb \\left(- i + \\frac{n}{2} + \\frac{1}{2}\\right) \\right)} \\cosh{\\left(\\frac{lamb}{2} \\right)}}{\\sinh{\\left(lamb \\right)} \\sinh{\\left(lamb n \\right)}}$"
      ],
      "text/plain": [
       "2*sinh(lamb*n/2)*sinh(lamb*(-i + n/2 + 1/2))*cosh(lamb/2)/(sinh(lamb)*sinh(lamb*n))"
      ]
     },
     "metadata": {},
     "output_type": "display_data"
    },
    {
     "data": {
      "text/latex": [
       "$\\displaystyle \\frac{\\delta_{s} \\left(1 - \\alpha\\right) \\left(\\frac{- \\sinh{\\left(i lamb \\right)} + \\sinh{\\left(lamb n \\right)} - \\sinh{\\left(lamb \\left(- i + n\\right) \\right)}}{\\delta_{s} \\left(1 - \\alpha\\right) \\sinh{\\left(lamb \\right)} \\sinh{\\left(lamb n \\right)} \\tanh{\\left(\\frac{lamb}{2} \\right)}} - \\frac{\\sinh{\\left(lamb n \\right)} - \\sinh{\\left(lamb \\left(i - 1\\right) \\right)} - \\sinh{\\left(lamb \\left(- i + n + 1\\right) \\right)}}{\\delta_{s} \\left(1 - \\alpha\\right) \\sinh{\\left(lamb \\right)} \\sinh{\\left(lamb n \\right)} \\tanh{\\left(\\frac{lamb}{2} \\right)}}\\right)}{2}$"
      ],
      "text/plain": [
       "delta_s*(1 - alpha)*((-sinh(i*lamb) + sinh(lamb*n) - sinh(lamb*(-i + n)))/(delta_s*(1 - alpha)*sinh(lamb)*sinh(lamb*n)*tanh(lamb/2)) - (sinh(lamb*n) - sinh(lamb*(i - 1)) - sinh(lamb*(-i + n + 1)))/(delta_s*(1 - alpha)*sinh(lamb)*sinh(lamb*n)*tanh(lamb/2)))/2"
      ]
     },
     "metadata": {},
     "output_type": "display_data"
    },
    {
     "name": "stdout",
     "output_type": "stream",
     "text": [
      "rank_analytic True\n",
      "rank_analytic2 True\n",
      "FINAL:test if non-simplified can be simplified to analytic\n",
      "final rank_expression_simplified:\n"
     ]
    },
    {
     "data": {
      "text/latex": [
       "$\\displaystyle \\frac{- \\sinh{\\left(i lamb \\right)} + \\sinh{\\left(lamb \\left(i - 1\\right) \\right)} + \\sinh{\\left(lamb \\left(i - n\\right) \\right)} + \\sinh{\\left(lamb \\left(- i + n + 1\\right) \\right)}}{2 \\sinh{\\left(lamb \\right)} \\sinh{\\left(lamb n \\right)} \\tanh{\\left(\\frac{lamb}{2} \\right)}}$"
      ],
      "text/plain": [
       "(-sinh(i*lamb) + sinh(lamb*(i - 1)) + sinh(lamb*(i - n)) + sinh(lamb*(-i + n + 1)))/(2*sinh(lamb)*sinh(lamb*n)*tanh(lamb/2))"
      ]
     },
     "metadata": {},
     "output_type": "display_data"
    },
    {
     "name": "stdout",
     "output_type": "stream",
     "text": [
      "final rank_analytic:\n"
     ]
    },
    {
     "data": {
      "text/latex": [
       "$\\displaystyle \\frac{2 \\sinh{\\left(\\frac{lamb n}{2} \\right)} \\sinh{\\left(lamb \\left(- i + \\frac{n}{2} + \\frac{1}{2}\\right) \\right)} \\cosh{\\left(\\frac{lamb}{2} \\right)}}{\\sinh{\\left(lamb \\right)} \\sinh{\\left(lamb n \\right)}}$"
      ],
      "text/plain": [
       "2*sinh(lamb*n/2)*sinh(lamb*(-i + n/2 + 1/2))*cosh(lamb/2)/(sinh(lamb)*sinh(lamb*n))"
      ]
     },
     "metadata": {},
     "output_type": "display_data"
    },
    {
     "name": "stdout",
     "output_type": "stream",
     "text": [
      "True\n",
      "expressions are equal but not simplified in the same manner\n"
     ]
    }
   ],
   "source": [
    "import sympy as sp\n",
    "from sympy import trigsimp, cosh, acosh, sinh, tanh, symbols\n",
    "\n",
    "lamb = symbols('lamb')\n",
    "i, delta_s = sp.symbols('i delta_s')\n",
    "n, q, p, alpha, alpha_prime, lamb = sp.symbols('n q p alpha alpha_prime lamb')\n",
    "a_i = (sinh(n * lamb) - (sinh((n - i) * lamb) + sinh(i * lamb))) / (delta_s * (1 - alpha) * tanh(lamb / 2) * sinh(lamb) * sinh(n * lamb))\n",
    "a_i_minus1 = (sinh(n * lamb) - (sinh((n - i + 1) * lamb) + sinh((i-1) * lamb))) / (delta_s * (1 - alpha) * tanh(lamb / 2) * sinh(lamb) * sinh(n * lamb))\n",
    "print('rank_part')\n",
    "\n",
    "\n",
    "print('test rank part simplification')\n",
    "rank_part = ( delta_s * ( (1-alpha) / 2 ) ) * (a_i)\n",
    "display(rank_part)\n",
    "rank_part_simplified = sp.simplify(rank_part)\n",
    "display(rank_part_simplified)\n",
    "are_equal = sp.simplify(rank_part_simplified - rank_part) == 0\n",
    "print(are_equal)\n",
    "print('rank_part simplification is true')\n",
    "\n",
    "print('first step of rank_part simplification:')\n",
    "rank_part_analytic = ( sinh(n * lamb) - 2 * sinh(n/2 * lamb) * cosh((n/2-i) * lamb) ) / (2 * tanh(lamb/2) * sinh(lamb) * sinh(lamb*n))\n",
    "print('rank_part_analytic:')\n",
    "display(rank_part_analytic)\n",
    "are_equal = sp.simplify(rank_part_simplified - rank_part_analytic) == 0\n",
    "print(are_equal)\n",
    "print('equal but rank_part is not fully simplified.')\n",
    "\n",
    "print('test if full ranking expression is equal, then simplification')\n",
    "rank_part_2_analytic = ( sinh(n * lamb) - 2 * sinh(n/2 * lamb) * cosh((n/2-(i-1)) * lamb) ) / (2 * tanh(lamb/2) * sinh(lamb) * sinh(lamb*n))\n",
    "are_equal = sp.simplify( (a_i_minus1 * ( delta_s * ( (1-alpha) / 2 ) ) ) - rank_part_2_analytic) == 0\n",
    "display(rank_part_2_analytic)\n",
    "display(a_i_minus1)\n",
    "print(are_equal)\n",
    "print('rank_part_2 and a_i_minus1 * ( delta_s * ( (1-alpha) / 2 ) ) are the same')\n",
    "\n",
    "print('test if analytic expression is the same as non simplified')\n",
    "rank_analytic = (2 * cosh(lamb / 2) * sinh(n / 2 * lamb) * sinh(((n + 1) / 2 - i) * lamb)) / (sinh(lamb) * sinh(n * lamb))\n",
    "rank_analytic2 = sinh( ((n+1)/2 - i) * lamb ) / ( sinh((n+1)/2 * lamb) - sinh((n-1)/2 * lamb) )\n",
    "display(rank_analytic)\n",
    "rank_expression = ( delta_s * (1 - alpha) / 2) * (a_i - a_i_minus1)\n",
    "display(rank_expression)\n",
    "are_equal = sp.simplify( rank_analytic - rank_expression) == 0\n",
    "print('rank_analytic', are_equal)\n",
    "are_equal = sp.simplify( rank_analytic - rank_analytic2) == 0\n",
    "print('rank_analytic2', are_equal)"
   ]
  },
  {
   "cell_type": "code",
   "execution_count": 7,
   "metadata": {},
   "outputs": [
    {
     "name": "stdout",
     "output_type": "stream",
     "text": [
      "FINAL: test if non-simplified expression can be simplified to analytic\n",
      "Expression before simplification:\n"
     ]
    },
    {
     "data": {
      "text/latex": [
       "$\\displaystyle \\frac{\\delta_{s} \\left(1 - \\alpha\\right) \\left(\\frac{- \\sinh{\\left(i lamb \\right)} + \\sinh{\\left(lamb n \\right)} - \\sinh{\\left(lamb \\left(- i + n\\right) \\right)}}{\\delta_{s} \\left(1 - \\alpha\\right) \\sinh{\\left(lamb \\right)} \\sinh{\\left(lamb n \\right)} \\tanh{\\left(\\frac{lamb}{2} \\right)}} - \\frac{\\sinh{\\left(lamb n \\right)} - \\sinh{\\left(lamb \\left(i - 1\\right) \\right)} - \\sinh{\\left(lamb \\left(- i + n + 1\\right) \\right)}}{\\delta_{s} \\left(1 - \\alpha\\right) \\sinh{\\left(lamb \\right)} \\sinh{\\left(lamb n \\right)} \\tanh{\\left(\\frac{lamb}{2} \\right)}}\\right)}{2}$"
      ],
      "text/plain": [
       "delta_s*(1 - alpha)*((-sinh(i*lamb) + sinh(lamb*n) - sinh(lamb*(-i + n)))/(delta_s*(1 - alpha)*sinh(lamb)*sinh(lamb*n)*tanh(lamb/2)) - (sinh(lamb*n) - sinh(lamb*(i - 1)) - sinh(lamb*(-i + n + 1)))/(delta_s*(1 - alpha)*sinh(lamb)*sinh(lamb*n)*tanh(lamb/2)))/2"
      ]
     },
     "metadata": {},
     "output_type": "display_data"
    },
    {
     "name": "stdout",
     "output_type": "stream",
     "text": [
      "sympy rank_expression_simplified:\n"
     ]
    },
    {
     "data": {
      "text/latex": [
       "$\\displaystyle \\frac{- \\sinh{\\left(i lamb \\right)} + \\sinh{\\left(lamb \\left(i - 1\\right) \\right)} + \\sinh{\\left(lamb \\left(i - n\\right) \\right)} + \\sinh{\\left(lamb \\left(- i + n + 1\\right) \\right)}}{2 \\sinh{\\left(lamb \\right)} \\sinh{\\left(lamb n \\right)} \\tanh{\\left(\\frac{lamb}{2} \\right)}}$"
      ],
      "text/plain": [
       "(-sinh(i*lamb) + sinh(lamb*(i - 1)) + sinh(lamb*(i - n)) + sinh(lamb*(-i + n + 1)))/(2*sinh(lamb)*sinh(lamb*n)*tanh(lamb/2))"
      ]
     },
     "metadata": {},
     "output_type": "display_data"
    },
    {
     "name": "stdout",
     "output_type": "stream",
     "text": [
      "final rank_analytic (without simplifying c):\n"
     ]
    },
    {
     "data": {
      "text/latex": [
       "$\\displaystyle \\frac{2 \\sinh{\\left(\\frac{lamb n}{2} \\right)} \\sinh{\\left(lamb \\left(- i + \\frac{n}{2} + \\frac{1}{2}\\right) \\right)} \\cosh{\\left(\\frac{lamb}{2} \\right)}}{\\sinh{\\left(lamb \\right)} \\sinh{\\left(lamb n \\right)}}$"
      ],
      "text/plain": [
       "2*sinh(lamb*n/2)*sinh(lamb*(-i + n/2 + 1/2))*cosh(lamb/2)/(sinh(lamb)*sinh(lamb*n))"
      ]
     },
     "metadata": {},
     "output_type": "display_data"
    },
    {
     "name": "stdout",
     "output_type": "stream",
     "text": [
      "rank_expression_simplified and rank_analytic are equal: True\n"
     ]
    },
    {
     "data": {
      "text/latex": [
       "$\\displaystyle \\frac{\\sinh{\\left(lamb \\left(- i + \\frac{n}{2} + \\frac{1}{2}\\right) \\right)}}{- \\sinh{\\left(lamb \\left(\\frac{n}{2} - \\frac{1}{2}\\right) \\right)} + \\sinh{\\left(lamb \\left(\\frac{n}{2} + \\frac{1}{2}\\right) \\right)}}$"
      ],
      "text/plain": [
       "sinh(lamb*(-i + n/2 + 1/2))/(-sinh(lamb*(n/2 - 1/2)) + sinh(lamb*(n/2 + 1/2)))"
      ]
     },
     "metadata": {},
     "output_type": "display_data"
    },
    {
     "name": "stdout",
     "output_type": "stream",
     "text": [
      "rank_expression_simplified and rank_analytic are equal: True\n",
      "expressions are equal but not simplified in the same manner\n"
     ]
    }
   ],
   "source": [
    "print('FINAL: test if non-simplified expression can be simplified to analytic')\n",
    "print('Expression before simplification:')\n",
    "# rank_expression = ( delta_s * (1 - alpha) / 2) * (a_i - a_i_minus1)\n",
    "# displays rank_expression before simplication\n",
    "display(rank_expression)\n",
    "\n",
    "# displays simplified expression from sympy\n",
    "rank_expression_simplified = sp.simplify(rank_expression)\n",
    "print('sympy rank_expression_simplified:')\n",
    "display(rank_expression_simplified)\n",
    "\n",
    "\n",
    "# displays the analytic expression without simplifying C\n",
    "print('final rank_analytic (without simplifying c):')\n",
    "rank_analytic = (2 * cosh(lamb / 2) * sinh(n / 2 * lamb) * sinh(((n + 1) / 2 - i) * lamb)) / (sinh(lamb) * sinh(n * lamb))\n",
    "display(rank_analytic)\n",
    "are_equal = sp.simplify( rank_analytic - rank_expression_simplified) == 0\n",
    "print('rank_expression_simplified and rank_analytic are equal:', are_equal)\n",
    "\n",
    "# displays the analytic expression after C\n",
    "rank_analytic2 = sinh( ((n+1)/2 - i) * lamb ) / ( sinh((n+1)/2 * lamb) - sinh((n-1)/2 * lamb) )\n",
    "display(rank_analytic2)\n",
    "are_equal = sp.simplify( rank_analytic - rank_expression_simplified) == 0\n",
    "print('rank_expression_simplified and rank_analytic are equal:', are_equal)\n",
    "      \n",
    "print('expressions are equal but not simplified in the same manner')"
   ]
  }
 ],
 "metadata": {
  "kernelspec": {
   "display_name": "base",
   "language": "python",
   "name": "python3"
  },
  "language_info": {
   "codemirror_mode": {
    "name": "ipython",
    "version": 3
   },
   "file_extension": ".py",
   "mimetype": "text/x-python",
   "name": "python",
   "nbconvert_exporter": "python",
   "pygments_lexer": "ipython3",
   "version": "3.11.7"
  }
 },
 "nbformat": 4,
 "nbformat_minor": 2
}
