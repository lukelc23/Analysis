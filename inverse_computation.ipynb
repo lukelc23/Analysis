{
 "cells": [
  {
   "cell_type": "code",
   "execution_count": 1,
   "metadata": {},
   "outputs": [
    {
     "name": "stdout",
     "output_type": "stream",
     "text": [
      "[  771.92931353 -1163.21002039  -963.21002039]\n",
      "[[ 0.6 -0.7]\n",
      " [-0.2  0.4]]\n"
     ]
    }
   ],
   "source": [
    "import numpy as np\n",
    "k_o = 0.5\n",
    "\n",
    "#testing inverse solution\n",
    "K = np.array([[1,-1,2],[3,2,0],[3,2,0]])\n",
    "I = np.identity(3)\n",
    "y = np.array([1,1,-1])\n",
    "c = 100\n",
    "W = K-np.dot((1/c),I)\n",
    "a = np.linalg.solve(W, y)\n",
    "print(a)\n",
    "\n",
    "A = np.array([[4,7],[2,6]])\n",
    "I_2 = np.identity(2)\n",
    "print(np.linalg.solve(A, I_2))\n",
    "\n",
    "#K matrix without exceptions\n",
    "def K_block(n, k_o):\n",
    "    A = np.identity(n-1)\n",
    "    D = A\n",
    "    k_oArr = k_o * np.ones(n-2)\n",
    "    B = np.diag(k_oArr, k=1) + np.diag(k_oArr, k=-1)\n",
    "    C = B\n",
    "    return np.block([[A,B],[B,A]])    \n",
    "    \n",
    "#def tridiag_exception()"
   ]
  },
  {
   "cell_type": "code",
   "execution_count": 2,
   "metadata": {},
   "outputs": [
    {
     "data": {
      "text/plain": [
       "array([[1., 1., 1.],\n",
       "       [1., 1., 1.],\n",
       "       [1., 1., 1.]])"
      ]
     },
     "execution_count": 2,
     "metadata": {},
     "output_type": "execute_result"
    }
   ],
   "source": [
    "np.ones((3,3))"
   ]
  },
  {
   "cell_type": "code",
   "execution_count": 3,
   "metadata": {},
   "outputs": [
    {
     "data": {
      "text/plain": [
       "array([[1, 1, 2],\n",
       "       [3, 3, 4]])"
      ]
     },
     "execution_count": 3,
     "metadata": {},
     "output_type": "execute_result"
    }
   ],
   "source": [
    "import numpy as np\n",
    "A = np.array([[1,1]])\n",
    "C = 3 * A\n",
    "B = np.array([[2]])\n",
    "D = 2 * B\n",
    "np.block([[A,B],[C,D]])"
   ]
  },
  {
   "cell_type": "code",
   "execution_count": 4,
   "metadata": {},
   "outputs": [
    {
     "name": "stdout",
     "output_type": "stream",
     "text": [
      "[[1 1 2]\n",
      " [3 3 4]]\n"
     ]
    }
   ],
   "source": [
    "import numpy as np\n",
    "\n",
    "# Define sub-blocks as 2D arrays\n",
    "A = np.array([[1, 1]])  # 1x2 array\n",
    "B = np.array([[2]])     # 1x1 array\n",
    "\n",
    "# Element-wise multiplication to scale the arrays\n",
    "C = 3 * A  # Multiplies each element in A by 3, resulting in a 1x2 array\n",
    "D = 2 * B  # Multiplies each element in B by 2, resulting in a 1x1 array\n",
    "\n",
    "# Combine these sub-blocks into a block matrix using np.block\n",
    "block_matrix = np.block([[A, B],\n",
    "                         [C, D]])\n",
    "\n",
    "print(block_matrix)\n"
   ]
  },
  {
   "cell_type": "code",
   "execution_count": 5,
   "metadata": {},
   "outputs": [
    {
     "name": "stdout",
     "output_type": "stream",
     "text": [
      "[[0.  0.5 0.  0.  0.  0.  0. ]\n",
      " [0.5 0.  0.5 0.  0.  0.  0. ]\n",
      " [0.  0.5 0.  0.5 0.  0.  0. ]\n",
      " [0.  0.  0.5 0.  0.5 0.  0. ]\n",
      " [0.  0.  0.  0.5 0.  0.5 0. ]\n",
      " [0.  0.  0.  0.  0.5 0.  0.5]\n",
      " [0.  0.  0.  0.  0.  0.5 0. ]]\n"
     ]
    }
   ],
   "source": [
    "import numpy as np\n",
    "n=7\n",
    "k_o = 0.5\n",
    "diag_len = n-1\n",
    "B = k_o * np.diag(np.ones((diag_len)), k=1) + k_o * np.diag(np.ones((diag_len)), k=-1)\n",
    "print(B)"
   ]
  },
  {
   "cell_type": "code",
   "execution_count": 6,
   "metadata": {},
   "outputs": [
    {
     "name": "stdout",
     "output_type": "stream",
     "text": [
      "A [1. 0. 0. 1. 0. 0.]\n",
      "B [0. 1. 1. 0. 0. 0.]\n",
      "C [0. 1. 1. 0. 0. 0.]\n",
      "D [1. 0. 0. 1. 0. 0.]\n",
      "K [[1.   0.   0.   0.   0.   0.   0.   0.49 0.   0.   0.   0.  ]\n",
      " [0.   1.   0.   0.   0.   0.   0.49 0.   0.49 0.   0.   0.  ]\n",
      " [0.   0.   1.   0.   0.   0.   0.   0.49 0.   0.49 0.   0.  ]\n",
      " [0.   0.   0.   1.   0.   0.   0.   0.   0.49 0.   0.49 0.  ]\n",
      " [0.   0.   0.   0.   1.   0.   0.   0.   0.   0.49 0.   0.49]\n",
      " [0.   0.   0.   0.   0.   1.   0.   0.   0.   0.   0.49 0.  ]\n",
      " [0.   0.49 0.   0.   0.   0.   1.   0.   0.   0.   0.   0.  ]\n",
      " [0.49 0.   0.49 0.   0.   0.   0.   1.   0.   0.   0.   0.  ]\n",
      " [0.   0.49 0.   0.49 0.   0.   0.   0.   1.   0.   0.   0.  ]\n",
      " [0.   0.   0.49 0.   0.49 0.   0.   0.   0.   1.   0.   0.  ]\n",
      " [0.   0.   0.   0.49 0.   0.49 0.   0.   0.   0.   1.   0.  ]\n",
      " [0.   0.   0.   0.   0.49 0.   0.   0.   0.   0.   0.   1.  ]]\n",
      "E_1 [[0.49 0.   0.   0.49 0.   0.   0.   0.49 0.49 0.   0.   0.  ]\n",
      " [0.   0.49 0.49 0.   0.   0.   0.49 0.   0.   0.49 0.   0.  ]]\n",
      "E_2 [[0.49 0.  ]\n",
      " [0.   0.49]\n",
      " [0.   0.49]\n",
      " [0.49 0.  ]\n",
      " [0.   0.  ]\n",
      " [0.   0.  ]\n",
      " [0.   0.49]\n",
      " [0.49 0.  ]\n",
      " [0.49 0.  ]\n",
      " [0.   0.49]\n",
      " [0.   0.  ]\n",
      " [0.   0.  ]]\n",
      "E_3 [[1. 0.]\n",
      " [0. 1.]]\n",
      "W [[1.   0.   0.   0.   0.   0.   0.   0.49 0.   0.   0.   0.  ]\n",
      " [0.   1.   0.   0.   0.   0.   0.49 0.   0.49 0.   0.   0.  ]\n",
      " [0.   0.   1.   0.   0.   0.   0.   0.49 0.   0.49 0.   0.  ]\n",
      " [0.   0.   0.   1.   0.   0.   0.   0.   0.49 0.   0.49 0.  ]\n",
      " [0.   0.   0.   0.   1.   0.   0.   0.   0.   0.49 0.   0.49]\n",
      " [0.   0.   0.   0.   0.   1.   0.   0.   0.   0.   0.49 0.  ]\n",
      " [0.   0.49 0.   0.   0.   0.   1.   0.   0.   0.   0.   0.  ]\n",
      " [0.49 0.   0.49 0.   0.   0.   0.   1.   0.   0.   0.   0.  ]\n",
      " [0.   0.49 0.   0.49 0.   0.   0.   0.   1.   0.   0.   0.  ]\n",
      " [0.   0.   0.49 0.   0.49 0.   0.   0.   0.   1.   0.   0.  ]\n",
      " [0.   0.   0.   0.49 0.   0.49 0.   0.   0.   0.   1.   0.  ]\n",
      " [0.   0.   0.   0.   0.49 0.   0.   0.   0.   0.   0.   1.  ]\n",
      " [0.49 0.   0.   0.49 0.   0.   0.   0.49 0.49 0.   0.   0.  ]\n",
      " [0.   0.49 0.49 0.   0.   0.   0.49 0.   0.   0.49 0.   0.  ]]\n",
      "X [[0.49 0.  ]\n",
      " [0.   0.49]\n",
      " [0.   0.49]\n",
      " [0.49 0.  ]\n",
      " [0.   0.  ]\n",
      " [0.   0.  ]\n",
      " [0.   0.49]\n",
      " [0.49 0.  ]\n",
      " [0.49 0.  ]\n",
      " [0.   0.49]\n",
      " [0.   0.  ]\n",
      " [0.   0.  ]\n",
      " [1.   0.  ]\n",
      " [0.   1.  ]]\n",
      "Z [[1.   0.   0.   0.   0.   0.   0.   0.49 0.   0.   0.   0.   0.49 0.  ]\n",
      " [0.   1.   0.   0.   0.   0.   0.49 0.   0.49 0.   0.   0.   0.   0.49]\n",
      " [0.   0.   1.   0.   0.   0.   0.   0.49 0.   0.49 0.   0.   0.   0.49]\n",
      " [0.   0.   0.   1.   0.   0.   0.   0.   0.49 0.   0.49 0.   0.49 0.  ]\n",
      " [0.   0.   0.   0.   1.   0.   0.   0.   0.   0.49 0.   0.49 0.   0.  ]\n",
      " [0.   0.   0.   0.   0.   1.   0.   0.   0.   0.   0.49 0.   0.   0.  ]\n",
      " [0.   0.49 0.   0.   0.   0.   1.   0.   0.   0.   0.   0.   0.   0.49]\n",
      " [0.49 0.   0.49 0.   0.   0.   0.   1.   0.   0.   0.   0.   0.49 0.  ]\n",
      " [0.   0.49 0.   0.49 0.   0.   0.   0.   1.   0.   0.   0.   0.49 0.  ]\n",
      " [0.   0.   0.49 0.   0.49 0.   0.   0.   0.   1.   0.   0.   0.   0.49]\n",
      " [0.   0.   0.   0.49 0.   0.49 0.   0.   0.   0.   1.   0.   0.   0.  ]\n",
      " [0.   0.   0.   0.   0.49 0.   0.   0.   0.   0.   0.   1.   0.   0.  ]\n",
      " [0.49 0.   0.   0.49 0.   0.   0.   0.49 0.49 0.   0.   0.   1.   0.  ]\n",
      " [0.   0.49 0.49 0.   0.   0.   0.49 0.   0.   0.49 0.   0.   0.   1.  ]]\n",
      "[[1.   0.   0.   0.   0.   0.   0.   0.49 0.   0.   0.   0.   0.49 0.  ]\n",
      " [0.   1.   0.   0.   0.   0.   0.49 0.   0.49 0.   0.   0.   0.   0.49]\n",
      " [0.   0.   1.   0.   0.   0.   0.   0.49 0.   0.49 0.   0.   0.   0.49]\n",
      " [0.   0.   0.   1.   0.   0.   0.   0.   0.49 0.   0.49 0.   0.49 0.  ]\n",
      " [0.   0.   0.   0.   1.   0.   0.   0.   0.   0.49 0.   0.49 0.   0.  ]\n",
      " [0.   0.   0.   0.   0.   1.   0.   0.   0.   0.   0.49 0.   0.   0.  ]\n",
      " [0.   0.49 0.   0.   0.   0.   1.   0.   0.   0.   0.   0.   0.   0.49]\n",
      " [0.49 0.   0.49 0.   0.   0.   0.   1.   0.   0.   0.   0.   0.49 0.  ]\n",
      " [0.   0.49 0.   0.49 0.   0.   0.   0.   1.   0.   0.   0.   0.49 0.  ]\n",
      " [0.   0.   0.49 0.   0.49 0.   0.   0.   0.   1.   0.   0.   0.   0.49]\n",
      " [0.   0.   0.   0.49 0.   0.49 0.   0.   0.   0.   1.   0.   0.   0.  ]\n",
      " [0.   0.   0.   0.   0.49 0.   0.   0.   0.   0.   0.   1.   0.   0.  ]\n",
      " [0.49 0.   0.   0.49 0.   0.   0.   0.49 0.49 0.   0.   0.   1.   0.  ]\n",
      " [0.   0.49 0.49 0.   0.   0.   0.49 0.   0.   0.49 0.   0.   0.   1.  ]]\n"
     ]
    }
   ],
   "source": [
    "import numpy as np\n",
    "\n",
    "n=7\n",
    "k_o = 0.49\n",
    "k_s = 1\n",
    "alpha = 1 - (2 * (k_o/k_s))\n",
    "alpha_prime = k_o/k_s\n",
    "\n",
    "#K matrix without exceptions\n",
    "def k_block(n, k_o, return_k):\n",
    "    arr_len = n-1\n",
    "    A = np.identity(arr_len)\n",
    "    D = A\n",
    "    diag_len = arr_len-1\n",
    "    B = k_o * np.diag(np.ones((diag_len)), k=1) + k_o * np.diag(np.ones((diag_len)), k=-1)\n",
    "    C = B\n",
    "    E = np.block([[A,B],[B,A]]) \n",
    "    if return_k == False:\n",
    "        return B\n",
    "    else:\n",
    "        return E\n",
    "\n",
    "def e_i(n, i):\n",
    "    len_arr = n-1\n",
    "    array_pos = i-1     #(-1 to normalize), p and q refer to normal indices (from 1 to len_arr)\n",
    "    arr = np.zeros(len_arr)\n",
    "    if i > 0 and i < n: #if outside, k_o excluded from similarity matrix e.g. AE exception for n=5\n",
    "        arr[array_pos] = 1 \n",
    "    return arr\n",
    "\n",
    "p = 4\n",
    "q = 2\n",
    "\n",
    "#columns in k matrix representing exceptions\n",
    "def k_exp_horiz(n, p, q, k_o):\n",
    "    A = e_i(n, p) + e_i(n, q-1)\n",
    "    B = e_i(n, q) + e_i(n, p-1)\n",
    "    C = e_i(n, p-1) + e_i(n, q)\n",
    "    D = e_i(n, q-1) + e_i(n, p)\n",
    "    E = k_o * np.block([[A,C],[B,D]])\n",
    "\n",
    "    print('A', A)\n",
    "    print('B', B)\n",
    "    print('C', C)\n",
    "    print('D', D)\n",
    "    return E\n",
    "\n",
    "\n",
    "K = k_block(n, k_o, True)\n",
    "E_1 = k_exp_horiz(n, p, q, k_o)\n",
    "E_2 = E_1.transpose()\n",
    "E_3 = np.identity(2) #2 since there's only 2 columns for exceptions\n",
    "\n",
    "print('K', K)\n",
    "print('E_1', E_1)\n",
    "print('E_2', E_2)\n",
    "print('E_3', E_3)\n",
    "\n",
    "def k_block_excep(K, E_1, E_2, E_3):\n",
    "    W = np.concatenate([K, E_1])\n",
    "    print('W', W)\n",
    "    X = np.concatenate([E_2, E_3])\n",
    "    print('X', X)\n",
    "    Z = np.concatenate([W, X], 1)\n",
    "    print('Z', Z)\n",
    "    return Z\n",
    "\n",
    "K = k_block_excep(K, E_1, E_2, E_3)\n",
    "print(K)\n",
    "\n",
    "\n",
    "\n"
   ]
  },
  {
   "cell_type": "code",
   "execution_count": 7,
   "metadata": {},
   "outputs": [
    {
     "name": "stdout",
     "output_type": "stream",
     "text": [
      "A [1. 0. 0.]\n",
      "B [0. 1. 1.]\n",
      "C [0. 1. 1.]\n",
      "D [1. 0. 0.]\n",
      "A [1. 0. 0.]\n",
      "B [0. 1. 1.]\n",
      "C [0. 1. 1.]\n",
      "D [1. 0. 0.]\n",
      "False\n"
     ]
    },
    {
     "name": "stderr",
     "output_type": "stream",
     "text": [
      "C:\\Users\\lukel\\AppData\\Local\\Temp\\ipykernel_43252\\354681684.py:12: DeprecationWarning: elementwise comparison failed; this will raise an error in the future.\n",
      "  print(K_exp_create(4, 4, 2, k_o) == K)\n"
     ]
    }
   ],
   "source": [
    "def K_exp_create(n,p,q,k_o):\n",
    "    K = k_block(n, k_o, True)\n",
    "    E_1 = k_exp_horiz(n, p, q, k_o)\n",
    "    E_2 = E_1.transpose()\n",
    "    E_3 = np.identity(2) #2 since there's only 2 columns for exceptions\n",
    "    W = np.concatenate([K, E_1])\n",
    "    X = np.concatenate([E_2, E_3])\n",
    "    Z = np.concatenate([W, X], 1)\n",
    "    return Z\n",
    "\n",
    "K_exp_create(4, 4, 2, k_o)\n",
    "print(K_exp_create(4, 4, 2, k_o) == K)"
   ]
  },
  {
   "cell_type": "code",
   "execution_count": 8,
   "metadata": {},
   "outputs": [
    {
     "data": {
      "text/plain": [
       "0.00031643838460330704"
      ]
     },
     "execution_count": 8,
     "metadata": {},
     "output_type": "execute_result"
    }
   ],
   "source": [
    "np.linalg.det(K)"
   ]
  },
  {
   "cell_type": "code",
   "execution_count": 9,
   "metadata": {},
   "outputs": [
    {
     "name": "stdout",
     "output_type": "stream",
     "text": [
      "[[1.   0.   0.   0.   0.   0.   0.   0.49 0.   0.   0.   0.   0.49 0.  ]\n",
      " [0.   1.   0.   0.   0.   0.   0.49 0.   0.49 0.   0.   0.   0.   0.49]\n",
      " [0.   0.   1.   0.   0.   0.   0.   0.49 0.   0.49 0.   0.   0.   0.49]\n",
      " [0.   0.   0.   1.   0.   0.   0.   0.   0.49 0.   0.49 0.   0.49 0.  ]\n",
      " [0.   0.   0.   0.   1.   0.   0.   0.   0.   0.49 0.   0.49 0.   0.  ]\n",
      " [0.   0.   0.   0.   0.   1.   0.   0.   0.   0.   0.49 0.   0.   0.  ]\n",
      " [0.   0.49 0.   0.   0.   0.   1.   0.   0.   0.   0.   0.   0.   0.49]\n",
      " [0.49 0.   0.49 0.   0.   0.   0.   1.   0.   0.   0.   0.   0.49 0.  ]\n",
      " [0.   0.49 0.   0.49 0.   0.   0.   0.   1.   0.   0.   0.   0.49 0.  ]\n",
      " [0.   0.   0.49 0.   0.49 0.   0.   0.   0.   1.   0.   0.   0.   0.49]\n",
      " [0.   0.   0.   0.49 0.   0.49 0.   0.   0.   0.   1.   0.   0.   0.  ]\n",
      " [0.   0.   0.   0.   0.49 0.   0.   0.   0.   0.   0.   1.   0.   0.  ]\n",
      " [0.49 0.   0.   0.49 0.   0.   0.   0.49 0.49 0.   0.   0.   1.   0.  ]\n",
      " [0.   0.49 0.49 0.   0.   0.   0.49 0.   0.   0.49 0.   0.   0.   1.  ]]\n",
      "y [ 1.  1.  1.  1.  1.  1. -1. -1. -1. -1. -1. -1.  1. -1.]\n",
      "[  3.09175364  51.0167512   52.23538258   6.79738785   6.34388741\n",
      "   4.10850483  -3.09175364 -51.0167512  -52.23538258  -6.79738785\n",
      "  -6.34388741  -4.10850483  46.74786622 -46.74786622]\n"
     ]
    }
   ],
   "source": [
    "print(K)\n",
    "I = np.identity(n-1)\n",
    "\n",
    "def create_y(n):\n",
    "    A = np.ones(n-1)\n",
    "    B = A * -1\n",
    "    C = np.array([1, -1])\n",
    "    D = np.concatenate([A, B, C])\n",
    "    return D\n",
    "y = create_y(n)\n",
    "print('y', y)\n",
    "a = np.linalg.solve(K, y)\n",
    "print(a)"
   ]
  },
  {
   "cell_type": "code",
   "execution_count": 10,
   "metadata": {},
   "outputs": [
    {
     "name": "stdout",
     "output_type": "stream",
     "text": [
      "[[ 1.77872346 -0.18100356  0.56377777  0.38931158  0.22298852  0.12300791\n",
      "   0.12839299 -0.72372969  0.32202498 -0.34581423 -0.25103655 -0.10926437\n",
      "  -0.86550187 -0.08102295]\n",
      " [-0.18100356 10.14096258  7.25512284  1.25095464 -0.65075524  0.39525491\n",
      "  -0.72372969 -7.15161178 -9.26733277  1.00920185 -0.80664268  0.31887007\n",
      "   7.5210068  -8.66396322]\n",
      " [ 0.56377777  7.25512284 10.23238036 -0.64519191  1.07165696 -0.20385653\n",
      "   0.32202498 -9.26733277 -7.21608144 -1.66194311  0.41603374 -0.52511191\n",
      "   8.1167659  -7.91231669]\n",
      " [ 0.38931158  1.25095464 -0.64519191  3.94448128 -0.54985728  1.24630867\n",
      "  -0.34581423  1.00920185 -1.66194311  0.85272764 -2.54348707  0.26943007\n",
      "  -1.80371529 -0.54521131]\n",
      " [ 0.22298852 -0.65075524  1.07165696 -0.54985728  2.95605825 -0.17373435\n",
      "  -0.25103655 -0.80664268  0.41603374 -2.54348707  0.3545599  -1.44846854\n",
      "   0.35156407  1.16307473]\n",
      " [ 0.12300791  0.39525491 -0.20385653  1.24630867 -0.17373435  1.70974959\n",
      "  -0.10926437  0.31887007 -0.52511191  0.26943007 -1.44846854  0.08512983\n",
      "  -0.56990662 -0.1722664 ]\n",
      " [ 0.12839299 -0.72372969  0.32202498 -0.34581423 -0.25103655 -0.10926437\n",
      "   1.77872346 -0.18100356  0.56377777  0.38931158  0.22298852  0.12300791\n",
      "  -0.08102295 -0.86550187]\n",
      " [-0.72372969 -7.15161178 -9.26733277  1.00920185 -0.80664268  0.31887007\n",
      "  -0.18100356 10.14096258  7.25512284  1.25095464 -0.65075524  0.39525491\n",
      "  -8.66396322  7.5210068 ]\n",
      " [ 0.32202498 -9.26733277 -7.21608144 -1.66194311  0.41603374 -0.52511191\n",
      "   0.56377777  7.25512284 10.23238036 -0.64519191  1.07165696 -0.20385653\n",
      "  -7.91231669  8.1167659 ]\n",
      " [-0.34581423  1.00920185 -1.66194311  0.85272764 -2.54348707  0.26943007\n",
      "   0.38931158  1.25095464 -0.64519191  3.94448128 -0.54985728  1.24630867\n",
      "  -0.54521131 -1.80371529]\n",
      " [-0.25103655 -0.80664268  0.41603374 -2.54348707  0.3545599  -1.44846854\n",
      "   0.22298852 -0.65075524  1.07165696 -0.54985728  2.95605825 -0.17373435\n",
      "   1.16307473  0.35156407]\n",
      " [-0.10926437  0.31887007 -0.52511191  0.26943007 -1.44846854  0.08512983\n",
      "   0.12300791  0.39525491 -0.20385653  1.24630867 -0.17373435  1.70974959\n",
      "  -0.1722664  -0.56990662]\n",
      " [-0.86550187  7.5210068   8.1167659  -1.80371529  0.35156407 -0.56990662\n",
      "  -0.08102295 -8.66396322 -7.91231669 -0.54521131  1.16307473 -0.1722664\n",
      "  10.43029356 -7.35565383]\n",
      " [-0.08102295 -8.66396322 -7.91231669 -0.54521131  1.16307473 -0.1722664\n",
      "  -0.86550187  7.5210068   8.1167659  -1.80371529  0.35156407 -0.56990662\n",
      "  -7.35565383 10.43029356]]\n",
      "[  3.09175364  51.0167512   52.23538258   6.79738785   6.34388741\n",
      "   4.10850483  -3.09175364 -51.0167512  -52.23538258  -6.79738785\n",
      "  -6.34388741  -4.10850483  46.74786622 -46.74786622]\n"
     ]
    }
   ],
   "source": [
    "#inverse solution for exceptions\n",
    "K_inv = np.linalg.inv(K)\n",
    "print(K_inv)\n",
    "a = np.dot(K_inv, y)\n",
    "print(a)\n"
   ]
  },
  {
   "cell_type": "code",
   "execution_count": 11,
   "metadata": {},
   "outputs": [
    {
     "name": "stdout",
     "output_type": "stream",
     "text": [
      "[  3.09175364  51.0167512   52.23538258   6.79738785   6.34388741\n",
      "   4.10850483  -3.09175364 -51.0167512  -52.23538258  -6.79738785\n",
      "  -6.34388741  -4.10850483  46.74786622 -46.74786622]\n",
      "7\n"
     ]
    }
   ],
   "source": [
    "#dual coefficients\n",
    "print(a)\n",
    "print(n)\n"
   ]
  },
  {
   "cell_type": "code",
   "execution_count": 12,
   "metadata": {},
   "outputs": [
    {
     "name": "stdout",
     "output_type": "stream",
     "text": [
      "{1: 3.09175363659178, 2: 51.016751195926076, 3: 52.23538258078389, 4: 6.797387847690047, 5: 6.343887413301915, 6: 4.108504832517937}\n",
      "{1: -3.091753636591781, 2: -51.016751195926076, 3: -52.23538258078389, 4: -6.797387847690052, 5: -6.343887413301911, 6: -4.108504832517939}\n",
      "46.74786622328979\n",
      "-46.74786622328979\n"
     ]
    }
   ],
   "source": [
    "# Create a dictionary with keys generated using the index and values from the array\n",
    "num_coeff = n-1\n",
    "b = {i: a[i-1] for i in range(1, num_coeff + 1)}\n",
    "b_bar = {i: a[i-1+n-1] for i in range(1, num_coeff + 1)}\n",
    "c = {1: a[2 * num_coeff]}\n",
    "c_bar = {1: a[2 * num_coeff + 1]}\n",
    "print(b)\n",
    "print(b_bar)\n",
    "print(c[1])\n",
    "print(c_bar[1])"
   ]
  },
  {
   "cell_type": "code",
   "execution_count": 13,
   "metadata": {},
   "outputs": [
    {
     "data": {
      "text/plain": [
       "{1: 3.09175363659178,\n",
       " 2: 51.016751195926076,\n",
       " 3: 52.23538258078389,\n",
       " 4: 6.797387847690047,\n",
       " 5: 6.343887413301915,\n",
       " 6: 4.108504832517937}"
      ]
     },
     "execution_count": 13,
     "metadata": {},
     "output_type": "execute_result"
    }
   ],
   "source": [
    "p\n",
    "b"
   ]
  },
  {
   "cell_type": "code",
   "execution_count": 14,
   "metadata": {},
   "outputs": [],
   "source": [
    "#f(j,k)\n",
    "\n",
    "def e_i(i,n):\n",
    "    e = np.zeros(n-1)\n",
    "    if i >= 1 and i < n:\n",
    "        i = i-1\n",
    "        e[i] = 1\n",
    "    return e\n",
    "\n",
    "\n"
   ]
  },
  {
   "cell_type": "code",
   "execution_count": 15,
   "metadata": {},
   "outputs": [],
   "source": [
    "# n = 4\n",
    "\n",
    "# print(e_i(4, 4))\n",
    "\n",
    "# A = k_block(4, 1, False)\n",
    "# B = np.linalg.inv(np.identity(n-1) - (A*k_o))\n",
    "# b_til = B * np.identity(n-1)\n",
    "\n",
    "# K_mult = np.ones(n-1) - (c[1]*k_o*(e_i(p, 4) + e_i(q-1, 4) - e_i(p-1, 4) - e_i(q, 4)))\n",
    "# b_analytical = np.dot(B, K_mult)\n",
    "\n",
    "# c_analytical = 1 - (k_o * (b[q-1] - b[p-1] - b[q]))\n",
    "# print(b_analytical)\n",
    "# print(b)\n",
    "# print(c)\n",
    "# print(c_analytical)\n",
    "\n",
    "# print(np.dot(K[2*(n-1),:], a))"
   ]
  },
  {
   "cell_type": "code",
   "execution_count": 16,
   "metadata": {},
   "outputs": [
    {
     "name": "stdout",
     "output_type": "stream",
     "text": [
      "4 2\n"
     ]
    }
   ],
   "source": [
    "np.dot(K, a)\n",
    "print(p,q)"
   ]
  },
  {
   "cell_type": "code",
   "execution_count": 17,
   "metadata": {},
   "outputs": [
    {
     "name": "stdout",
     "output_type": "stream",
     "text": [
      "[[1.   0.   0.   0.   0.   0.   0.   0.49 0.   0.   0.   0.   0.49 0.  ]\n",
      " [0.   1.   0.   0.   0.   0.   0.49 0.   0.49 0.   0.   0.   0.   0.49]\n",
      " [0.   0.   1.   0.   0.   0.   0.   0.49 0.   0.49 0.   0.   0.   0.49]\n",
      " [0.   0.   0.   1.   0.   0.   0.   0.   0.49 0.   0.49 0.   0.49 0.  ]\n",
      " [0.   0.   0.   0.   1.   0.   0.   0.   0.   0.49 0.   0.49 0.   0.  ]\n",
      " [0.   0.   0.   0.   0.   1.   0.   0.   0.   0.   0.49 0.   0.   0.  ]\n",
      " [0.   0.49 0.   0.   0.   0.   1.   0.   0.   0.   0.   0.   0.   0.49]\n",
      " [0.49 0.   0.49 0.   0.   0.   0.   1.   0.   0.   0.   0.   0.49 0.  ]\n",
      " [0.   0.49 0.   0.49 0.   0.   0.   0.   1.   0.   0.   0.   0.49 0.  ]\n",
      " [0.   0.   0.49 0.   0.49 0.   0.   0.   0.   1.   0.   0.   0.   0.49]\n",
      " [0.   0.   0.   0.49 0.   0.49 0.   0.   0.   0.   1.   0.   0.   0.  ]\n",
      " [0.   0.   0.   0.   0.49 0.   0.   0.   0.   0.   0.   1.   0.   0.  ]\n",
      " [0.49 0.   0.   0.49 0.   0.   0.   0.49 0.49 0.   0.   0.   1.   0.  ]\n",
      " [0.   0.49 0.49 0.   0.   0.   0.49 0.   0.   0.49 0.   0.   0.   1.  ]]\n"
     ]
    }
   ],
   "source": [
    "print(K)"
   ]
  },
  {
   "cell_type": "code",
   "execution_count": 18,
   "metadata": {},
   "outputs": [
    {
     "data": {
      "text/plain": [
       "array([[0. , 0.5, 0. , 0. , 0. , 0. , 0. ],\n",
       "       [0.5, 0. , 0.5, 0. , 0. , 0. , 0. ],\n",
       "       [0. , 0.5, 0. , 0.5, 0. , 0. , 0. ],\n",
       "       [0. , 0. , 0.5, 0. , 0.5, 0. , 0. ],\n",
       "       [0. , 0. , 0. , 0.5, 0. , 0.5, 0. ],\n",
       "       [0. , 0. , 0. , 0. , 0.5, 0. , 0.5],\n",
       "       [0. , 0. , 0. , 0. , 0. , 0.5, 0. ]])"
      ]
     },
     "execution_count": 18,
     "metadata": {},
     "output_type": "execute_result"
    }
   ],
   "source": [
    "B"
   ]
  },
  {
   "cell_type": "code",
   "execution_count": 19,
   "metadata": {},
   "outputs": [
    {
     "name": "stdout",
     "output_type": "stream",
     "text": [
      "[ 5.15364635  8.47682928 10.10518891 10.10518891  8.47682928  5.15364635]\n",
      "b_analytical [ 3.09175364 51.0167512  52.23538258  6.79738785  6.34388741  4.10850483]\n",
      "{1: 3.09175363659178, 2: 51.016751195926076, 3: 52.23538258078389, 4: 6.797387847690047, 5: 6.343887413301915, 6: 4.108504832517937}\n",
      "[  3.09175364  51.0167512   52.23538258   6.79738785   6.34388741\n",
      "   4.10850483  -3.09175364 -51.0167512  -52.23538258  -6.79738785\n",
      "  -6.34388741  -4.10850483  46.74786622 -46.74786622]\n"
     ]
    }
   ],
   "source": [
    "#TODO: b_analytical -> FIX\n",
    "\n",
    "A = k_block(n, 1, False)\n",
    "B = np.linalg.inv(np.identity(n-1) - (A*alpha_prime))\n",
    "b_til = B @ np.ones(n-1)\n",
    "print(b_til)\n",
    "\n",
    "K_mult = np.ones(n-1) - (c[1]*alpha_prime*(e_i(p, n) + e_i(q-1, n) - e_i(p-1, n) - e_i(q, n)))\n",
    "b_analytical = B @ K_mult\n",
    "print('b_analytical', b_analytical)\n",
    "print(b)\n",
    "print(a)"
   ]
  },
  {
   "cell_type": "code",
   "execution_count": 20,
   "metadata": {},
   "outputs": [
    {
     "name": "stdout",
     "output_type": "stream",
     "text": [
      "4 2\n"
     ]
    }
   ],
   "source": [
    "print(p,q)"
   ]
  },
  {
   "cell_type": "code",
   "execution_count": 21,
   "metadata": {},
   "outputs": [],
   "source": [
    "# print(e_i(4, n))\n",
    "\n",
    "# A = k_block(n, k_o, False)\n",
    "# B = np.linalg.inv(np.identity(n-1) - (A*k_o))\n",
    "# b_til = B * np.identity(n-1)\n",
    "\n",
    "# K_mult = np.ones(n-1) - (c[1]*alpha_prime*(e_i(p, n) + e_i(q-1, n) - e_i(p-1, n) - e_i(q, n)))\n",
    "# b_analytical = np.dot(B, K_mult)\n",
    "\n",
    "# c_analytical = 1 - (k_o * (b[p] + b[q-1] - b[p-1] - b[q]))\n",
    "# print('b_analytical', b_analytical)\n",
    "# print(b)\n",
    "# print('c_analytical', c_analytical)\n",
    "# print('c', c)\n",
    "# print('a', a)\n",
    "# print('c', c)\n",
    "\n",
    "# print(np.dot(K[2*(n-1),:], a))\n",
    "\n",
    "# print(K[2*(n-1),:])\n",
    "# print(K_mult)\n",
    "\n",
    "# print(np.identity(n-1) - (A*k_o))"
   ]
  },
  {
   "cell_type": "code",
   "execution_count": 22,
   "metadata": {},
   "outputs": [
    {
     "name": "stdout",
     "output_type": "stream",
     "text": [
      "0.3658536585365854\n",
      "0.09756097560975611\n",
      "0.024390243902439032\n",
      "0.0\n",
      "-0.024390243902439032\n",
      "-0.09756097560975611\n",
      "-0.3658536585365854\n",
      "[0.3658536585365854, 0.09756097560975611, 0.024390243902439032, 0.0, -0.024390243902439032, -0.09756097560975611, -0.3658536585365854]\n"
     ]
    },
    {
     "data": {
      "image/png": "[encoded data removed]",
      "text/plain": [
       "<Figure size 640x480 with 1 Axes>"
      ]
     },
     "metadata": {},
     "output_type": "display_data"
    }
   ],
   "source": [
    "#Non Exception Ranking\n",
    "\n",
    "import numpy as np\n",
    "import matplotlib.pyplot as plt\n",
    "\n",
    "def lamb(alpha):\n",
    "    return np.arccosh(1 / (1-alpha))\n",
    "\n",
    "#non adjacent test cases\n",
    "def rank(alpha, n, i):\n",
    "    num = np.sinh(( ((n+1)/2) - i) * lamb(alpha))\n",
    "    denom = np.sinh(((n+1)/2) * lamb(alpha)) - np.sinh(((n-1)/2) * lamb(alpha))\n",
    "    return num / denom\n",
    "\n",
    "n = 7\n",
    "index = list(range(1,8))\n",
    "\n",
    "results = {}\n",
    "results_array = []\n",
    "\n",
    "# Set variables dynamically\n",
    "for i in range(1, 8):\n",
    "   results[f'r_{i}'] = rank(0.5, 7, i)\n",
    "   print(results[f'r_{i}'])\n",
    "   results_array.append(results[f'r_{i}'])\n",
    "\n",
    "print(results_array)\n",
    "\n",
    "plt.plot(index, results_array, marker='o', linestyle='-', color='b')\n",
    "plt.title('Rank Function Results')\n",
    "plt.xlabel('Index (i)')\n",
    "plt.ylabel('Rank Value')\n",
    "plt.grid(True)\n",
    "plt.xticks(index)  # Set the ticks to match the index values\n",
    "plt.show()\n",
    "\n",
    "\n"
   ]
  },
  {
   "cell_type": "code",
   "execution_count": 23,
   "metadata": {},
   "outputs": [
    {
     "data": {
      "text/plain": [
       "7"
      ]
     },
     "execution_count": 23,
     "metadata": {},
     "output_type": "execute_result"
    }
   ],
   "source": [
    "n"
   ]
  },
  {
   "cell_type": "code",
   "execution_count": 24,
   "metadata": {},
   "outputs": [
    {
     "name": "stdout",
     "output_type": "stream",
     "text": [
      "1.0204081632653061 1.0204081632653061 0.20168848779883614 0.20168848779883614\n",
      "lambda is correct\n"
     ]
    }
   ],
   "source": [
    "print((1/(1-(1-(2*k_o/k_s)))),(1/(1-alpha)), np.arccosh(1/(1-alpha)), lamb(alpha))\n",
    "print('lambda is correct')"
   ]
  },
  {
   "cell_type": "code",
   "execution_count": 25,
   "metadata": {},
   "outputs": [],
   "source": [
    "\n",
    "#exception case\n",
    "#def rank\n",
    "\n",
    "def D_exp_matrix(i, j, n, alpha):\n",
    "    if i <= (j-1):\n",
    "        num = -2 * np.cosh((i-0.5)*lamb(alpha)) * np.cosh((n-(j-0.5))*lamb(alpha)) * np.tanh(lamb(alpha)/2)\n",
    "        denom = np.sinh(lamb(alpha) * n)\n",
    "        return num/denom\n",
    "    elif j <= (i-1):\n",
    "        num = -2 * np.cosh((j-0.5)*lamb(alpha)) * np.cosh((n-(i-0.5))*lamb(alpha)) * np.tanh(lamb(alpha)/2)\n",
    "        denom = np.sinh(lamb(alpha) * n)\n",
    "        return num/denom\n",
    "    elif i == j:\n",
    "        return -2 * ( 1 - ( (np.cosh((i-0.5)*lamb(alpha)) * \n",
    "                             np.cosh((n-(i-0.5))*lamb(alpha)) * np.tanh(lamb(alpha)/2) ) / np.sinh(lamb(alpha) * n) ) )\n",
    "        \n",
    "\n",
    "#Check this\n",
    "def c_formula(p, q, n, alpha):\n",
    "    num = 1 + rank(alpha,n,p) + rank(alpha,n,q)\n",
    "    denom = 1 - D_exp_matrix(q,q,n,alpha) - D_exp_matrix(p,p,n,alpha) + D_exp_matrix(q,p,n,alpha) + D_exp_matrix(p,q,n,alpha)\n",
    "    return num/denom\n",
    "\n",
    "def delta_ij(i,j,k_o,k_s):\n",
    "    delta_o = k_o/k_s\n",
    "    if i == j:\n",
    "        return delta_o\n",
    "    else:\n",
    "        return 0\n",
    "\n",
    "def rank_exp_j(j, p, q, n, alpha, k_o, k_s):\n",
    "    rank_norm = rank(alpha,n,j)\n",
    "    rank_add = c_formula(p,q,n,alpha) * ( D_exp_matrix(j,q,n,alpha) - D_exp_matrix(j,p,n,alpha) + delta_ij(j,p,k_o,k_s)) - delta_ij(j,q,k_o,k_s)\n",
    "    rank_exp = rank_norm + rank_add\n",
    "    return rank_exp\n",
    "    \n",
    "def prediction_2(j,k,p,q,n,alpha,k_o,k_s):\n",
    "    return rank_exp_j(k,p,q,n,alpha,k_o,k_s) - rank_exp_j(j,p,q,n,alpha,k_o,k_s)\n"
   ]
  },
  {
   "cell_type": "code",
   "execution_count": 26,
   "metadata": {},
   "outputs": [
    {
     "name": "stdout",
     "output_type": "stream",
     "text": [
      "-0.17597784427879162\n"
     ]
    }
   ],
   "source": [
    "i = 1\n",
    "j = 2\n",
    "D_trial = -2 * np.cosh( (i - (1/2)) * lamb(alpha)) * np.cosh( ( n - (j - (1/2)) ) * lamb(alpha)) * np.tanh(lamb(alpha)/2) / np.sinh(lamb(alpha) * n)\n",
    "print(D_trial)"
   ]
  },
  {
   "cell_type": "code",
   "execution_count": 27,
   "metadata": {},
   "outputs": [
    {
     "name": "stdout",
     "output_type": "stream",
     "text": [
      "-0.17597784427879162\n"
     ]
    }
   ],
   "source": [
    "num = -2 * np.cosh((i-0.5)*lamb(alpha)) * np.cosh((n-(j-0.5))*lamb(alpha)) * np.tanh(lamb(alpha)/2)\n",
    "denom = np.sinh(lamb(alpha) * n)\n",
    "print(num/denom)"
   ]
  },
  {
   "cell_type": "code",
   "execution_count": 28,
   "metadata": {},
   "outputs": [
    {
     "name": "stdout",
     "output_type": "stream",
     "text": [
      "D is correct\n"
     ]
    }
   ],
   "source": [
    "print('D is correct')"
   ]
  },
  {
   "cell_type": "code",
   "execution_count": 29,
   "metadata": {},
   "outputs": [
    {
     "data": {
      "text/plain": [
       "0.020000000000000018"
      ]
     },
     "execution_count": 29,
     "metadata": {},
     "output_type": "execute_result"
    }
   ],
   "source": [
    "alpha"
   ]
  },
  {
   "cell_type": "code",
   "execution_count": 30,
   "metadata": {},
   "outputs": [
    {
     "data": {
      "text/plain": [
       "7"
      ]
     },
     "execution_count": 30,
     "metadata": {},
     "output_type": "execute_result"
    }
   ],
   "source": [
    "n"
   ]
  },
  {
   "cell_type": "code",
   "execution_count": 31,
   "metadata": {},
   "outputs": [],
   "source": [
    "# B\n",
    "# print(B, '\\n', A, '\\n', (np.identity(n-1) - (A*k_o)), '\\n', np.linalg.inv(np.identity(n-1) - (A*k_o)))\n",
    "# print('B is correct')"
   ]
  },
  {
   "cell_type": "code",
   "execution_count": 32,
   "metadata": {},
   "outputs": [
    {
     "name": "stdout",
     "output_type": "stream",
     "text": [
      "-0.2544267025779146\n"
     ]
    }
   ],
   "source": [
    "print(D_exp_matrix(1,2,4,alpha))"
   ]
  },
  {
   "cell_type": "code",
   "execution_count": 33,
   "metadata": {},
   "outputs": [
    {
     "data": {
      "text/plain": [
       "0.49"
      ]
     },
     "execution_count": 33,
     "metadata": {},
     "output_type": "execute_result"
    }
   ],
   "source": [
    "k_o"
   ]
  },
  {
   "cell_type": "code",
   "execution_count": 34,
   "metadata": {},
   "outputs": [
    {
     "name": "stdout",
     "output_type": "stream",
     "text": [
      "[0.49 0.   0.49 0.   0.   0.   0.   0.49]\n"
     ]
    }
   ],
   "source": [
    "def K_mult(j,k,p,q,n,k_o):\n",
    "    arr_1 = np.zeros(n-1)\n",
    "    for i in range (0, n-1):\n",
    "        if j == (i+1) and k == (i+2):\n",
    "            arr_1[i] = 1\n",
    "            break\n",
    "        if j == (i+1):\n",
    "            arr_1[i] = k_o\n",
    "        if k == (i+2):\n",
    "            arr_1[i] = k_o\n",
    "    arr_2 = np.zeros(n-1)\n",
    "    for i in range (0, n-1):\n",
    "        if j == (i+2) and k == (i+1):\n",
    "            arr_2[i] = 1\n",
    "            break\n",
    "        if j == (i+2):\n",
    "            arr_2[i] = k_o\n",
    "        if k == (i+1):\n",
    "            arr_2[i] = k_o\n",
    "    arr_3 = np.zeros(2)\n",
    "    if j == q and k == p:\n",
    "        arr_3[0] = 1\n",
    "    if j == p and k == q:\n",
    "        arr_3[1] = 1 \n",
    "    if j == q or k == p:\n",
    "        arr_3[0] = k_o\n",
    "    if j == p or k == q:\n",
    "        arr_3[1] = k_o\n",
    "    \n",
    "    return np.concatenate([arr_1, arr_2, arr_3])\n",
    "\n",
    "print(K_mult(1,4,2,4,4,k_o))"
   ]
  },
  {
   "cell_type": "code",
   "execution_count": 35,
   "metadata": {},
   "outputs": [
    {
     "data": {
      "text/plain": [
       "7"
      ]
     },
     "execution_count": 35,
     "metadata": {},
     "output_type": "execute_result"
    }
   ],
   "source": [
    "n"
   ]
  },
  {
   "cell_type": "code",
   "execution_count": 36,
   "metadata": {},
   "outputs": [
    {
     "name": "stdout",
     "output_type": "stream",
     "text": [
      "[1.   0.   0.   0.   0.49 0.   0.49 0.  ]\n",
      "[0.   1.   0.   0.49 0.   0.49 0.   0.49]\n",
      "[0.   0.   1.   0.   0.49 0.   0.   0.49]\n",
      "[0.   0.49 0.   1.   0.   0.   0.   0.49]\n",
      "[0.49 0.   0.49 0.   1.   0.   0.49 0.  ]\n",
      "[0.   0.49 0.   0.   0.   1.   0.49 0.  ]\n",
      "[0.49 0.   0.   0.   0.49 0.49 0.49 0.  ]\n",
      "[0.   0.49 0.49 0.49 0.   0.   0.   0.49]\n",
      "[[1.   0.   0.   0.   0.49 0.   0.49 0.  ]\n",
      " [0.   1.   0.   0.49 0.   0.49 0.   0.49]\n",
      " [0.   0.   1.   0.   0.49 0.   0.   0.49]\n",
      " [0.   0.49 0.   1.   0.   0.   0.   0.49]\n",
      " [0.49 0.   0.49 0.   1.   0.   0.49 0.  ]\n",
      " [0.   0.49 0.   0.   0.   1.   0.49 0.  ]\n",
      " [0.49 0.   0.   0.   0.49 0.49 0.49 0.  ]\n",
      " [0.   0.49 0.49 0.49 0.   0.   0.   0.49]]\n",
      "[[1.   0.   0.   0.   0.   0.   0.   0.49 0.   0.   0.   0.   0.49 0.  ]\n",
      " [0.   1.   0.   0.   0.   0.   0.49 0.   0.49 0.   0.   0.   0.   0.49]\n",
      " [0.   0.   1.   0.   0.   0.   0.   0.49 0.   0.49 0.   0.   0.   0.49]\n",
      " [0.   0.   0.   1.   0.   0.   0.   0.   0.49 0.   0.49 0.   0.49 0.  ]\n",
      " [0.   0.   0.   0.   1.   0.   0.   0.   0.   0.49 0.   0.49 0.   0.  ]\n",
      " [0.   0.   0.   0.   0.   1.   0.   0.   0.   0.   0.49 0.   0.   0.  ]\n",
      " [0.   0.49 0.   0.   0.   0.   1.   0.   0.   0.   0.   0.   0.   0.49]\n",
      " [0.49 0.   0.49 0.   0.   0.   0.   1.   0.   0.   0.   0.   0.49 0.  ]\n",
      " [0.   0.49 0.   0.49 0.   0.   0.   0.   1.   0.   0.   0.   0.49 0.  ]\n",
      " [0.   0.   0.49 0.   0.49 0.   0.   0.   0.   1.   0.   0.   0.   0.49]\n",
      " [0.   0.   0.   0.49 0.   0.49 0.   0.   0.   0.   1.   0.   0.   0.  ]\n",
      " [0.   0.   0.   0.   0.49 0.   0.   0.   0.   0.   0.   1.   0.   0.  ]\n",
      " [0.49 0.   0.   0.49 0.   0.   0.   0.49 0.49 0.   0.   0.   1.   0.  ]\n",
      " [0.   0.49 0.49 0.   0.   0.   0.49 0.   0.   0.49 0.   0.   0.   1.  ]]\n",
      "False\n"
     ]
    },
    {
     "name": "stderr",
     "output_type": "stream",
     "text": [
      "C:\\Users\\lukel\\AppData\\Local\\Temp\\ipykernel_43252\\1592236515.py:24: DeprecationWarning: elementwise comparison failed; this will raise an error in the future.\n",
      "  print(Arr == K)\n"
     ]
    }
   ],
   "source": [
    "print(K_mult(1,2,2,4,4,k_o)) \n",
    "print(K_mult(2,3,2,4,4,k_o))\n",
    "print(K_mult(3,4,2,4,4,k_o)) \n",
    "print(K_mult(2,1,2,4,4,k_o))\n",
    "print(K_mult(3,2,2,4,4,k_o)) \n",
    "print(K_mult(4,3,2,4,4,k_o))\n",
    "print(K_mult(4,2,2,4,4,k_o)) \n",
    "print(K_mult(2,4,2,4,4,k_o))\n",
    "\n",
    "Arr = np.concatenate([\n",
    "    K_mult(1,2,2,4,4,k_o).reshape(1, -1),\n",
    "    K_mult(2,3,2,4,4,k_o).reshape(1, -1),\n",
    "    K_mult(3,4,2,4,4,k_o).reshape(1, -1),\n",
    "    K_mult(2,1,2,4,4,k_o).reshape(1, -1),\n",
    "    K_mult(3,2,2,4,4,k_o).reshape(1, -1),\n",
    "    K_mult(4,3,2,4,4,k_o).reshape(1, -1),\n",
    "    K_mult(4,2,2,4,4,k_o).reshape(1, -1),\n",
    "    K_mult(2,4,2,4,4,k_o).reshape(1, -1)\n",
    "], axis=0)\n",
    "print(Arr)\n",
    "\n",
    "print(K)\n",
    "\n",
    "print(Arr == K)\n"
   ]
  },
  {
   "cell_type": "code",
   "execution_count": 37,
   "metadata": {},
   "outputs": [
    {
     "name": "stdout",
     "output_type": "stream",
     "text": [
      "[1.   0.   0.   0.   0.49 0.   0.49 0.  ] [1.   0.   0.   0.   0.   0.   0.   0.49 0.   0.   0.   0.   0.49 0.  ]\n"
     ]
    },
    {
     "ename": "ValueError",
     "evalue": "operands could not be broadcast together with shapes (3,) (0,) ",
     "output_type": "error",
     "traceback": [
      "\u001b[1;31m---------------------------------------------------------------------------\u001b[0m",
      "\u001b[1;31mValueError\u001b[0m                                Traceback (most recent call last)",
      "Cell \u001b[1;32mIn[37], line 2\u001b[0m\n\u001b[0;32m      1\u001b[0m \u001b[38;5;28mprint\u001b[39m(K_mult(\u001b[38;5;241m1\u001b[39m,\u001b[38;5;241m2\u001b[39m,\u001b[38;5;241m2\u001b[39m,\u001b[38;5;241m4\u001b[39m,\u001b[38;5;241m4\u001b[39m,k_o), K[\u001b[38;5;241m0\u001b[39m,:])\n\u001b[1;32m----> 2\u001b[0m \u001b[38;5;28mprint\u001b[39m(K \u001b[38;5;241m==\u001b[39m K_exp_create(n,p,q,k_o))\n\u001b[0;32m      3\u001b[0m \u001b[38;5;28mprint\u001b[39m(np\u001b[38;5;241m.\u001b[39mdot(K_exp_create(n,p,q,k_o), a))\n\u001b[0;32m      4\u001b[0m \u001b[38;5;28mprint\u001b[39m(\u001b[38;5;124m'\u001b[39m\u001b[38;5;124mK_mult works\u001b[39m\u001b[38;5;124m'\u001b[39m)\n",
      "Cell \u001b[1;32mIn[7], line 3\u001b[0m, in \u001b[0;36mK_exp_create\u001b[1;34m(n, p, q, k_o)\u001b[0m\n\u001b[0;32m      1\u001b[0m \u001b[38;5;28;01mdef\u001b[39;00m \u001b[38;5;21mK_exp_create\u001b[39m(n,p,q,k_o):\n\u001b[0;32m      2\u001b[0m     K \u001b[38;5;241m=\u001b[39m k_block(n, k_o, \u001b[38;5;28;01mTrue\u001b[39;00m)\n\u001b[1;32m----> 3\u001b[0m     E_1 \u001b[38;5;241m=\u001b[39m k_exp_horiz(n, p, q, k_o)\n\u001b[0;32m      4\u001b[0m     E_2 \u001b[38;5;241m=\u001b[39m E_1\u001b[38;5;241m.\u001b[39mtranspose()\n\u001b[0;32m      5\u001b[0m     E_3 \u001b[38;5;241m=\u001b[39m np\u001b[38;5;241m.\u001b[39midentity(\u001b[38;5;241m2\u001b[39m) \u001b[38;5;66;03m#2 since there's only 2 columns for exceptions\u001b[39;00m\n",
      "Cell \u001b[1;32mIn[6], line 36\u001b[0m, in \u001b[0;36mk_exp_horiz\u001b[1;34m(n, p, q, k_o)\u001b[0m\n\u001b[0;32m     35\u001b[0m \u001b[38;5;28;01mdef\u001b[39;00m \u001b[38;5;21mk_exp_horiz\u001b[39m(n, p, q, k_o):\n\u001b[1;32m---> 36\u001b[0m     A \u001b[38;5;241m=\u001b[39m e_i(n, p) \u001b[38;5;241m+\u001b[39m e_i(n, q\u001b[38;5;241m-\u001b[39m\u001b[38;5;241m1\u001b[39m)\n\u001b[0;32m     37\u001b[0m     B \u001b[38;5;241m=\u001b[39m e_i(n, q) \u001b[38;5;241m+\u001b[39m e_i(n, p\u001b[38;5;241m-\u001b[39m\u001b[38;5;241m1\u001b[39m)\n\u001b[0;32m     38\u001b[0m     C \u001b[38;5;241m=\u001b[39m e_i(n, p\u001b[38;5;241m-\u001b[39m\u001b[38;5;241m1\u001b[39m) \u001b[38;5;241m+\u001b[39m e_i(n, q)\n",
      "\u001b[1;31mValueError\u001b[0m: operands could not be broadcast together with shapes (3,) (0,) "
     ]
    }
   ],
   "source": [
    "\n",
    "print(K_mult(1,2,2,4,4,k_o), K[0,:])\n",
    "print(K == K_exp_create(n,p,q,k_o))\n",
    "print(np.dot(K_exp_create(n,p,q,k_o), a))\n",
    "print('K_mult works')"
   ]
  },
  {
   "cell_type": "code",
   "execution_count": null,
   "metadata": {},
   "outputs": [
    {
     "name": "stdout",
     "output_type": "stream",
     "text": [
      "1 4\n",
      "[0.49 0.   0.49 0.   0.   0.   0.   0.   0.   0.49 0.   0.   0.49 0.  ]\n",
      "[  3.09175364  51.0167512   52.23538258   6.79738785   6.34388741\n",
      "   4.10850483  -3.09175364 -51.0167512  -52.23538258  -6.79738785\n",
      "  -6.34388741  -4.10850483  46.74786622 -46.74786622]\n",
      "46.68603115055795\n",
      "[  3.09175364  51.0167512   52.23538258   6.79738785   6.34388741\n",
      "   4.10850483  -3.09175364 -51.0167512  -52.23538258  -6.79738785\n",
      "  -6.34388741  -4.10850483  46.74786622 -46.74786622]\n",
      "46.68603115055795\n",
      "46.68603115055795\n",
      "1 4 4 2 7 0.49\n",
      "-1.1852558866648193\n"
     ]
    }
   ],
   "source": [
    "j=1\n",
    "k=4\n",
    "print(j,k)\n",
    "print(K_mult(j,k,p,q,n,k_o))\n",
    "print(a)\n",
    "print(np.dot(K_mult(j,k,p,q,n,k_o), a))\n",
    "\n",
    "K_mult(j,k,p,q,n,k_o)\n",
    "\n",
    "print(a)\n",
    "print(np.dot(K_mult(j,k,p,q,n,k_o), a))\n",
    "\n",
    "def prediction_1(j,k,p,q,n,k_o):\n",
    "    return(np.dot(K_mult(j,k,p,q,n,k_o), a))\n",
    "\n",
    "print(prediction_1(j,k,p,q,n,k_o))\n",
    "\n",
    "print(j,k,p,q,n,k_o)\n",
    "\n",
    "#Method 2 prediction\n",
    "print(prediction_2(j,k,p,q,n,alpha,k_o,k_s))\n"
   ]
  },
  {
   "cell_type": "code",
   "execution_count": null,
   "metadata": {},
   "outputs": [
    {
     "name": "stdout",
     "output_type": "stream",
     "text": [
      "[0.49 0.   0.49 0.   0.   0.   0.   0.   0.   0.49 0.   0.   0.49 0.  ]\n",
      "[  3.09175364  51.0167512   52.23538258   6.79738785   6.34388741\n",
      "   4.10850483  -3.09175364 -51.0167512  -52.23538258  -6.79738785\n",
      "  -6.34388741  -4.10850483  46.74786622 -46.74786622]\n",
      "[[1.   0.   0.   0.   0.   0.   0.   0.49 0.   0.   0.   0.   0.49 0.  ]\n",
      " [0.   1.   0.   0.   0.   0.   0.49 0.   0.49 0.   0.   0.   0.   0.49]\n",
      " [0.   0.   1.   0.   0.   0.   0.   0.49 0.   0.49 0.   0.   0.   0.49]\n",
      " [0.   0.   0.   1.   0.   0.   0.   0.   0.49 0.   0.49 0.   0.49 0.  ]\n",
      " [0.   0.   0.   0.   1.   0.   0.   0.   0.   0.49 0.   0.49 0.   0.  ]\n",
      " [0.   0.   0.   0.   0.   1.   0.   0.   0.   0.   0.49 0.   0.   0.  ]\n",
      " [0.   0.49 0.   0.   0.   0.   1.   0.   0.   0.   0.   0.   0.   0.49]\n",
      " [0.49 0.   0.49 0.   0.   0.   0.   1.   0.   0.   0.   0.   0.49 0.  ]\n",
      " [0.   0.49 0.   0.49 0.   0.   0.   0.   1.   0.   0.   0.   0.49 0.  ]\n",
      " [0.   0.   0.49 0.   0.49 0.   0.   0.   0.   1.   0.   0.   0.   0.49]\n",
      " [0.   0.   0.   0.49 0.   0.49 0.   0.   0.   0.   1.   0.   0.   0.  ]\n",
      " [0.   0.   0.   0.   0.49 0.   0.   0.   0.   0.   0.   1.   0.   0.  ]\n",
      " [0.49 0.   0.   0.49 0.   0.   0.   0.49 0.49 0.   0.   0.   1.   0.  ]\n",
      " [0.   0.49 0.49 0.   0.   0.   0.49 0.   0.   0.49 0.   0.   0.   1.  ]]\n",
      "[ 1.  1.  1.  1.  1.  1. -1. -1. -1. -1. -1. -1.  1. -1.]\n"
     ]
    }
   ],
   "source": [
    "print(K_mult(j,k,p,q,n,k_o))\n",
    "print(a)\n",
    "print(K)\n",
    "print(np.dot(K,a))"
   ]
  },
  {
   "cell_type": "code",
   "execution_count": null,
   "metadata": {},
   "outputs": [
    {
     "data": {
      "text/plain": [
       "{1: 3.09175363659178,\n",
       " 2: 51.016751195926076,\n",
       " 3: 52.23538258078389,\n",
       " 4: 6.797387847690047,\n",
       " 5: 6.343887413301915,\n",
       " 6: 4.108504832517937}"
      ]
     },
     "execution_count": 526,
     "metadata": {},
     "output_type": "execute_result"
    }
   ],
   "source": [
    "b"
   ]
  },
  {
   "cell_type": "code",
   "execution_count": null,
   "metadata": {},
   "outputs": [],
   "source": [
    "#Rank\n",
    "\n",
    "def delta_ij(i,j,k_o,k_s):\n",
    "    delta_o = k_o/k_s\n",
    "    if i == j:\n",
    "        return delta_o\n",
    "    else:\n",
    "        return 0\n",
    "    \n",
    "def get_b(i, b):\n",
    "    if i < 1 or i >= len(b):\n",
    "        return 0\n",
    "    else:\n",
    "        return b[i]\n",
    "    \n",
    "def get_c(c):\n",
    "    return c[1]\n",
    "\n",
    "def rank_method1(j, b, c, k_o, k_s):\n",
    "    alpha_prime = k_o/k_s\n",
    "    rank = alpha_prime * ( get_b(j-1, b) - get_b(j, b) + ( get_c(c) * (delta_ij(j, q, k_o, k_s) - delta_ij(j, p, k_o, k_s) ) ) )\n",
    "    return rank"
   ]
  },
  {
   "cell_type": "code",
   "execution_count": null,
   "metadata": {},
   "outputs": [
    {
     "data": {
      "text/plain": [
       "6.343887413301915"
      ]
     },
     "execution_count": 528,
     "metadata": {},
     "output_type": "execute_result"
    }
   ],
   "source": [
    "get_b(5, b)"
   ]
  },
  {
   "cell_type": "code",
   "execution_count": null,
   "metadata": {},
   "outputs": [
    {
     "name": "stdout",
     "output_type": "stream",
     "text": [
      "[  3.09175364  51.0167512   52.23538258   6.79738785   6.34388741\n",
      "   4.10850483  -3.09175364 -51.0167512  -52.23538258  -6.79738785\n",
      "  -6.34388741  -4.10850483  46.74786622 -46.74786622]\n",
      "{1: 3.09175363659178, 2: 51.016751195926076, 3: 52.23538258078389, 4: 6.797387847690047, 5: 6.343887413301915, 6: 4.108504832517937}\n"
     ]
    },
    {
     "data": {
      "text/plain": [
       "array([  3.09175364,  51.0167512 ,  52.23538258,   6.79738785,\n",
       "         6.34388741,   4.10850483,  -3.09175364, -51.0167512 ,\n",
       "       -52.23538258,  -6.79738785,  -6.34388741,  -4.10850483,\n",
       "        46.74786622, -46.74786622])"
      ]
     },
     "execution_count": 529,
     "metadata": {},
     "output_type": "execute_result"
    }
   ],
   "source": [
    "print(a)\n",
    "print(b)\n",
    "a\n"
   ]
  },
  {
   "cell_type": "code",
   "execution_count": null,
   "metadata": {},
   "outputs": [
    {
     "name": "stdout",
     "output_type": "stream",
     "text": [
      "4 2 7\n",
      "[ 1.  1.  1.  1.  1.  1. -1. -1. -1. -1. -1. -1.  1. -1.]\n"
     ]
    }
   ],
   "source": [
    "print(p,q, n)\n",
    "print(np.dot(K, a))"
   ]
  },
  {
   "cell_type": "code",
   "execution_count": null,
   "metadata": {},
   "outputs": [
    {
     "name": "stdout",
     "output_type": "stream",
     "text": [
      "[0. 0. 0.]\n",
      "[-15.54244887  26.5056459   26.36790266 -16.25388327  -2.82533215\n",
      "   0.32163775]\n",
      "{1: 3.09175363659178, 2: 51.016751195926076, 3: 52.23538258078389, 4: 6.797387847690047, 5: 6.343887413301915, 6: 4.108504832517937}\n",
      "c_analytical 50.07858626865791\n",
      "c {1: 46.74786622328979}\n",
      "a [  3.09175364  51.0167512   52.23538258   6.79738785   6.34388741\n",
      "   4.10850483  -3.09175364 -51.0167512  -52.23538258  -6.79738785\n",
      "  -6.34388741  -4.10850483  46.74786622 -46.74786622]\n",
      "c {1: 46.74786622328979}\n",
      "1.0000000000000036\n",
      "[0.49 0.   0.   0.49 0.   0.   0.   0.49 0.49 0.   0.   0.   1.   0.  ]\n",
      "[-21.90645445  23.90645445  23.90645445 -21.90645445   1.\n",
      "   1.        ]\n",
      "[[ 1.     -0.2401  0.      0.      0.      0.    ]\n",
      " [-0.2401  1.     -0.2401  0.      0.      0.    ]\n",
      " [ 0.     -0.2401  1.     -0.2401  0.      0.    ]\n",
      " [ 0.      0.     -0.2401  1.     -0.2401  0.    ]\n",
      " [ 0.      0.      0.     -0.2401  1.     -0.2401]\n",
      " [ 0.      0.      0.      0.     -0.2401  1.    ]]\n"
     ]
    }
   ],
   "source": [
    "print(e_i(4, n))\n",
    "\n",
    "A = k_block(n, k_o, False)\n",
    "B = np.linalg.inv(np.identity(n-1) - (A*k_o))\n",
    "b_til = B * np.identity(n-1)\n",
    "\n",
    "K_mult = np.ones(n-1) - (c[1]*alpha_prime*(e_i(n, p) + e_i(n, q-1) - e_i(n, p-1) - e_i(n, q)))\n",
    "b_analytical = np.dot(B, K_mult)\n",
    "\n",
    "c_analytical = 1 - (k_o * (b[q-1] - b[p-1] - b[q]))\n",
    "print(b_analytical)\n",
    "print(b)\n",
    "print('c_analytical', c_analytical)\n",
    "print('c', c)\n",
    "print('a', a)\n",
    "print('c', c)\n",
    "\n",
    "print(np.dot(K[2*(n-1),:], a))\n",
    "\n",
    "print(K[2*(n-1),:])\n",
    "print(K_mult)\n",
    "\n",
    "print(np.identity(n-1) - (A*k_o))"
   ]
  },
  {
   "cell_type": "code",
   "execution_count": null,
   "metadata": {},
   "outputs": [
    {
     "name": "stdout",
     "output_type": "stream",
     "text": [
      "[[0.   0.49 0.   0.   0.   0.  ]\n",
      " [0.49 0.   0.49 0.   0.   0.  ]\n",
      " [0.   0.49 0.   0.49 0.   0.  ]\n",
      " [0.   0.   0.49 0.   0.49 0.  ]\n",
      " [0.   0.   0.   0.49 0.   0.49]\n",
      " [0.   0.   0.   0.   0.49 0.  ]]\n",
      "[-21.90645445  23.90645445  23.90645445 -21.90645445   1.\n",
      "   1.        ]\n",
      "[[1.06543975e+00 2.72552079e-01 6.97209258e-02 1.78307855e-02\n",
      "  4.54307059e-03 1.09079125e-03]\n",
      " [2.72552079e-01 1.13516068e+00 2.90382865e-01 7.42639964e-02\n",
      "  1.89215768e-02 4.54307059e-03]\n",
      " [6.97209258e-02 2.90382865e-01 1.13970375e+00 2.91473656e-01\n",
      "  7.42639964e-02 1.78307855e-02]\n",
      " [1.78307855e-02 7.42639964e-02 2.91473656e-01 1.13970375e+00\n",
      "  2.90382865e-01 6.97209258e-02]\n",
      " [4.54307059e-03 1.89215768e-02 7.42639964e-02 2.90382865e-01\n",
      "  1.13516068e+00 2.72552079e-01]\n",
      " [1.09079125e-03 4.54307059e-03 1.78307855e-02 6.97209258e-02\n",
      "  2.72552079e-01 1.06543975e+00]]\n"
     ]
    }
   ],
   "source": [
    "print(A)\n",
    "print(K_mult)\n",
    "print(B)"
   ]
  },
  {
   "cell_type": "code",
   "execution_count": null,
   "metadata": {},
   "outputs": [
    {
     "ename": "TypeError",
     "evalue": "'numpy.ndarray' object is not callable",
     "output_type": "error",
     "traceback": [
      "\u001b[1;31m---------------------------------------------------------------------------\u001b[0m",
      "\u001b[1;31mTypeError\u001b[0m                                 Traceback (most recent call last)",
      "Cell \u001b[1;32mIn[532], line 1\u001b[0m\n\u001b[1;32m----> 1\u001b[0m rank_method1(\u001b[38;5;241m1\u001b[39m, b, c, k_o, k_s) \u001b[38;5;241m-\u001b[39m rank_method1(\u001b[38;5;241m3\u001b[39m, b, c, k_o, k_s) \u001b[38;5;241m==\u001b[39m prediction_1(\u001b[38;5;241m1\u001b[39m,\u001b[38;5;241m3\u001b[39m,\u001b[38;5;241m2\u001b[39m,\u001b[38;5;241m4\u001b[39m,\u001b[38;5;241m7\u001b[39m,k_o)\n",
      "Cell \u001b[1;32mIn[524], line 14\u001b[0m, in \u001b[0;36mprediction_1\u001b[1;34m(j, k, p, q, n, k_o)\u001b[0m\n\u001b[0;32m     13\u001b[0m \u001b[38;5;28;01mdef\u001b[39;00m \u001b[38;5;21mprediction_1\u001b[39m(j,k,p,q,n,k_o):\n\u001b[1;32m---> 14\u001b[0m     \u001b[38;5;28;01mreturn\u001b[39;00m(np\u001b[38;5;241m.\u001b[39mdot(K_mult(j,k,p,q,n,k_o), a))\n",
      "\u001b[1;31mTypeError\u001b[0m: 'numpy.ndarray' object is not callable"
     ]
    }
   ],
   "source": [
    "rank_method1(1, b, c, k_o, k_s) - rank_method1(3, b, c, k_o, k_s) == prediction_1(1,3,2,4,7,k_o)"
   ]
  },
  {
   "cell_type": "code",
   "execution_count": null,
   "metadata": {},
   "outputs": [
    {
     "data": {
      "text/plain": [
       "-26.51316736793375"
      ]
     },
     "execution_count": 165,
     "metadata": {},
     "output_type": "execute_result"
    }
   ],
   "source": [
    "rank_method1(1, b, c, k_o, k_s) - rank_method1(3, b, c, k_o, k_s)"
   ]
  },
  {
   "cell_type": "code",
   "execution_count": null,
   "metadata": {},
   "outputs": [
    {
     "data": {
      "text/plain": [
       "0.8731222517339532"
      ]
     },
     "execution_count": 173,
     "metadata": {},
     "output_type": "execute_result"
    }
   ],
   "source": [
    "prediction_1(1,4,2,4,7,k_o)"
   ]
  },
  {
   "cell_type": "code",
   "execution_count": null,
   "metadata": {},
   "outputs": [
    {
     "name": "stdout",
     "output_type": "stream",
     "text": [
      "-1.5149592819299722\n",
      "-24.225578852219492\n",
      "24.99820808600378\n",
      "0.7423300481456866\n",
      "0.0\n",
      "0.0\n",
      "0.0\n",
      "[-1.5149592819299722, -24.225578852219492, 24.99820808600378, 0.7423300481456866, 0.0, 0.0, 0.0]\n"
     ]
    },
    {
     "data": {
      "image/png": "[encoded data removed]",
      "text/plain": [
       "<Figure size 640x480 with 1 Axes>"
      ]
     },
     "metadata": {},
     "output_type": "display_data"
    }
   ],
   "source": [
    "#Exception Ranking\n",
    "\n",
    "import numpy as np\n",
    "import matplotlib.pyplot as plt\n",
    "\n",
    "def lamb(alpha):\n",
    "    return np.arccosh(1 / (1-alpha))\n",
    "\n",
    "#non adjacent test cases\n",
    "def rank(alpha, n, i):\n",
    "    num = np.sinh(( ((n+1)/2) - i) * lamb(alpha))\n",
    "    denom = np.sinh(((n+1)/2) * lamb(alpha)) - np.sinh(((n-1)/2) * lamb(alpha))\n",
    "    return num / denom\n",
    "\n",
    "n = 7\n",
    "index = list(range(1,8))\n",
    "\n",
    "results = {}\n",
    "results_array = []\n",
    "\n",
    "# Set variables dynamically\n",
    "for i in range(1, 8):\n",
    "   results[f'r_{i}'] = rank_method1(i, b, c, k_o, k_s)\n",
    "   print(results[f'r_{i}'])\n",
    "   results_array.append(results[f'r_{i}'])\n",
    "\n",
    "print(results_array)\n",
    "\n",
    "plt.plot(index, results_array, marker='o', linestyle='-', color='b')\n",
    "plt.title('Rank Function Results')\n",
    "plt.xlabel('Index (i)')\n",
    "plt.ylabel('Rank Value')\n",
    "plt.grid(True)\n",
    "plt.xticks(index)  # Set the ticks to match the index values\n",
    "plt.show()\n",
    "\n",
    "\n"
   ]
  }
 ],
 "metadata": {
  "kernelspec": {
   "display_name": "base",
   "language": "python",
   "name": "python3"
  },
  "language_info": {
   "codemirror_mode": {
    "name": "ipython",
    "version": 3
   },
   "file_extension": ".py",
   "mimetype": "text/x-python",
   "name": "python",
   "nbconvert_exporter": "python",
   "pygments_lexer": "ipython3",
   "version": "3.11.7"
  }
 },
 "nbformat": 4,
 "nbformat_minor": 2
}
