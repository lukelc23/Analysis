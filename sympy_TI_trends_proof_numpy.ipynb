{
 "cells": [
  {
   "cell_type": "code",
   "execution_count": 1,
   "metadata": {},
   "outputs": [],
   "source": [
    "from sympy import symbols, sinh, cosh, tanh, Symbol, simplify\n",
    "from IPython.display import display, Math\n",
    "\n",
    "# Define your symbols\n",
    "n, p, q, alpha_prime = symbols('n p q alpha_prime')\n",
    "lamb = symbols('lamb')  # Original symbol for lambda\n",
    "\n",
    "# print('display:')\n",
    "# print('num:')\n",
    "# display(num_display)\n",
    "# print('denom')\n",
    "# display(denom_display)\n",
    "# print('c_analytical_start')\n",
    "# display(c_analytical_display)\n"
   ]
  },
  {
   "cell_type": "code",
   "execution_count": 2,
   "metadata": {},
   "outputs": [
    {
     "name": "stdout",
     "output_type": "stream",
     "text": [
      "1435.68102000867\n"
     ]
    }
   ],
   "source": [
    "denom1 = sinh(lamb) * sinh(lamb * n)\n",
    "D_sim = sinh(lamb*(n - p/2 + q/2)) - sinh(lamb*(n - 3*p/2 - q/2 + 1))/2 + sinh(lamb*(n - p/2 - 3*q/2 + 1))/2\n",
    "\n",
    "denom2 = 2 * sinh((q-p)/2 * lamb) * D_sim\n",
    "\n",
    "denom = denom1 - denom2*D_sim\n",
    "\n",
    "print(denom.evalf(subs = {n: 7, p: 5, q: 2, lamb: 0.69, alpha_prime: 1/(2 *cosh(lamb)) }))\n",
    "\n"
   ]
  },
  {
   "cell_type": "code",
   "execution_count": 3,
   "metadata": {},
   "outputs": [
    {
     "ename": "TypeError",
     "evalue": "'Add' object cannot be interpreted as an integer",
     "output_type": "error",
     "traceback": [
      "\u001b[1;31m---------------------------------------------------------------------------\u001b[0m",
      "\u001b[1;31mTypeError\u001b[0m                                 Traceback (most recent call last)",
      "Cell \u001b[1;32mIn[3], line 30\u001b[0m\n\u001b[0;32m     27\u001b[0m     \u001b[38;5;28mprint\u001b[39m(array)\n\u001b[0;32m     28\u001b[0m     \u001b[38;5;28;01mreturn\u001b[39;00m array\n\u001b[1;32m---> 30\u001b[0m trend_array \u001b[38;5;241m=\u001b[39m D_ij_trend_array()\n\u001b[0;32m     32\u001b[0m \u001b[38;5;28;01mimport\u001b[39;00m \u001b[38;5;21;01mmatplotlib\u001b[39;00m\u001b[38;5;21;01m.\u001b[39;00m\u001b[38;5;21;01mpyplot\u001b[39;00m \u001b[38;5;28;01mas\u001b[39;00m \u001b[38;5;21;01mplt\u001b[39;00m\n\u001b[0;32m     34\u001b[0m \u001b[38;5;28mprint\u001b[39m(D_ij_trend_array())\n",
      "Cell \u001b[1;32mIn[3], line 25\u001b[0m, in \u001b[0;36mD_ij_trend_array\u001b[1;34m()\u001b[0m\n\u001b[0;32m     23\u001b[0m \u001b[38;5;28;01mdef\u001b[39;00m \u001b[38;5;21mD_ij_trend_array\u001b[39m():        \n\u001b[0;32m     24\u001b[0m     array \u001b[38;5;241m=\u001b[39m []\n\u001b[1;32m---> 25\u001b[0m     \u001b[38;5;28;01mfor\u001b[39;00m j \u001b[38;5;129;01min\u001b[39;00m \u001b[38;5;28mrange\u001b[39m (\u001b[38;5;241m1\u001b[39m, n\u001b[38;5;241m+\u001b[39m\u001b[38;5;241m1\u001b[39m):\n\u001b[0;32m     26\u001b[0m         array\u001b[38;5;241m.\u001b[39mappend(D_ij_analytical_sol_trend2(j,q) \u001b[38;5;241m-\u001b[39m D_ij_analytical_sol_trend2(j,p))\n\u001b[0;32m     27\u001b[0m     \u001b[38;5;28mprint\u001b[39m(array)\n",
      "\u001b[1;31mTypeError\u001b[0m: 'Add' object cannot be interpreted as an integer"
     ]
    }
   ],
   "source": [
    "def D_ij_analytical_case_1b(i, j):\n",
    "    num = 2 * cosh( (i-1/2) * lamb ) * cosh( (n-(j-1/2)) * lamb) * tanh(lamb/2) \n",
    "    denom = sinh(lamb * n)\n",
    "    return num/denom\n",
    "\n",
    "def D_ij_analytical_case_2b(i, j):\n",
    "    num = 2 * cosh( (j-1/2) * lamb ) * cosh( (n-(i-1/2)) * lamb) * tanh(lamb/2) \n",
    "    denom = sinh(lamb * n)\n",
    "    return num/denom\n",
    "\n",
    "def D_ij_analytical_case_3c_minus_delta(i, j):\n",
    "    lamb = lamb\n",
    "    return ( ( 2 * tanh(lamb/2) * cosh((i-1/2)*lamb) * cosh((n-i+1/2)*lamb) ) / sinh(lamb*n) )\n",
    "\n",
    "def D_ij_analytical_sol_trend2(i, j):\n",
    "        if i < j:\n",
    "            return D_ij_analytical_case_1b(i, j)\n",
    "        elif i > j: \n",
    "            return D_ij_analytical_case_2b(i, j)\n",
    "        elif i == j:\n",
    "            return D_ij_analytical_case_3c_minus_delta(i, j)\n",
    "        \n",
    "def D_ij_trend_array():        \n",
    "    array = []\n",
    "    for j in range (1, n+1):\n",
    "        array.append(D_ij_analytical_sol_trend2(j,q) - D_ij_analytical_sol_trend2(j,p))\n",
    "    print(array)\n",
    "    return array\n",
    "\n",
    "trend_array = D_ij_trend_array()\n",
    "\n",
    "import matplotlib.pyplot as plt\n",
    "\n",
    "print(D_ij_trend_array())\n",
    "\n",
    "index = list(range(1,n+1))\n",
    "plt.plot(index, trend_array, marker='o', linestyle='-', color='b')\n",
    "plt.title('D_jq - D_jp trend')\n",
    "plt.xlabel('Index (i)')\n",
    "plt.ylabel('Rank Value')\n",
    "plt.grid(True)\n",
    "plt.xticks(index)  # Set the ticks to match the index values\n",
    "plt.show()\n"
   ]
  },
  {
   "cell_type": "code",
   "execution_count": null,
   "metadata": {},
   "outputs": [],
   "source": [
    "r_j_til = sinh(((n+1)/2 - j)*lamb) / ( sinh((n+1)/2 * lamb) - sinh((n-1)/2 * lamb) )\n",
    "\n",
    "r_j_til_simp = sinh(((n+1)/2 - j)*lamb)\n",
    "\n",
    "\n",
    "\n",
    "\n",
    "r_j_diff = sinh()\n",
    "\n",
    "rank = r_j_til + r_j_diff"
   ]
  }
 ],
 "metadata": {
  "kernelspec": {
   "display_name": "base",
   "language": "python",
   "name": "python3"
  },
  "language_info": {
   "codemirror_mode": {
    "name": "ipython",
    "version": 3
   },
   "file_extension": ".py",
   "mimetype": "text/x-python",
   "name": "python",
   "nbconvert_exporter": "python",
   "pygments_lexer": "ipython3",
   "version": "3.11.7"
  }
 },
 "nbformat": 4,
 "nbformat_minor": 2
}
