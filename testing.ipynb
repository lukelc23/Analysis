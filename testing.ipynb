{
 "cells": [
  {
   "cell_type": "code",
   "execution_count": 6,
   "id": "82d2fb09",
   "metadata": {},
   "outputs": [],
   "source": [
    "from Ranking_exp import Ranking_exp"
   ]
  },
  {
   "cell_type": "code",
   "execution_count": null,
   "id": "b0a370b2",
   "metadata": {},
   "outputs": [],
   "source": [
    "sim = Ranking_exp(n=9, k_o=0.3, k_s=1, k_d=0, p=5, q=3, c_var=0)\n",
    "sim.f_j_k()\n"
   ]
  }
 ],
 "metadata": {
  "kernelspec": {
   "display_name": "base",
   "language": "python",
   "name": "python3"
  },
  "language_info": {
   "codemirror_mode": {
    "name": "ipython",
    "version": 3
   },
   "file_extension": ".py",
   "mimetype": "text/x-python",
   "name": "python",
   "nbconvert_exporter": "python",
   "pygments_lexer": "ipython3",
   "version": "3.11.7"
  }
 },
 "nbformat": 4,
 "nbformat_minor": 5
}
