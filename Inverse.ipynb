{
 "cells": [
  {
   "cell_type": "code",
   "execution_count": 1,
   "metadata": {},
   "outputs": [
    {
     "ename": "SyntaxError",
     "evalue": "invalid syntax (3194026391.py, line 14)",
     "output_type": "error",
     "traceback": [
      "\u001b[1;36m  Cell \u001b[1;32mIn[1], line 14\u001b[1;36m\u001b[0m\n\u001b[1;33m    def\u001b[0m\n\u001b[1;37m        ^\u001b[0m\n\u001b[1;31mSyntaxError\u001b[0m\u001b[1;31m:\u001b[0m invalid syntax\n"
     ]
    }
   ],
   "source": [
    "import numpy as np\n",
    "\n",
    "## Method 1\n",
    "## Solve a = np.dot(K**-1, y)\n",
    "\n",
    "def set_y(n):\n",
    "    y_1 = np.ones(shape=(n-1,1))\n",
    "    y_2 = y_1 * -1\n",
    "    y_3 = np.array([[1],[-1]])\n",
    "    y = np.concatenate((y_1, y_2, y_3))\n",
    "    return y\n",
    "\n",
    "###Tridiagonal\n",
    "def \n",
    "\n",
    "def set_K(n):\n",
    "    delta_o = 0.5\n",
    "    delta_s = 1\n",
    "    alpha_p = delta_o / delta_s\n",
    "    K_1 = np.identity(n-1)\n",
    "    K_4 = K_1 \n",
    "\n",
    "n = 5\n",
    "a = np.zeros(shape=(n-1,1))\n",
    "y = set_y(n)\n",
    "\n",
    "print(y)\n",
    "print(a)\n",
    "\n"
   ]
  },
  {
   "cell_type": "code",
   "execution_count": null,
   "metadata": {},
   "outputs": [],
   "source": []
  }
 ],
 "metadata": {
  "kernelspec": {
   "display_name": "base",
   "language": "python",
   "name": "python3"
  },
  "language_info": {
   "codemirror_mode": {
    "name": "ipython",
    "version": 3
   },
   "file_extension": ".py",
   "mimetype": "text/x-python",
   "name": "python",
   "nbconvert_exporter": "python",
   "pygments_lexer": "ipython3",
   "version": "3.11.7"
  }
 },
 "nbformat": 4,
 "nbformat_minor": 2
}
