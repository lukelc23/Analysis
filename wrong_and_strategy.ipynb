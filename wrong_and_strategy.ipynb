{
 "cells": [
  {
   "cell_type": "markdown",
   "metadata": {},
   "source": [
    "Next to test:\n",
    "\n",
    "{Section 1}\n",
    "#rank formula f(j,k) = alpha_prime * b )... <> K_mult for conditions for non-adjacent parings\n",
    "\n",
    "#D_ij is already confirmed\n",
    "\n",
    "{Section 2}\n",
    "These should all be easily done if the coding is correct\n",
    "\n",
    "\n",
    "-> change B_ij to B\n",
    "-> set rank_til to be -rank_orig\n",
    "#test: \n",
    "\n",
    "alpha_prime * (b_[j-1] - b[j] ) = alpha_prime * (b_til_[j-1] - b_til_[j]) + c[1] * alpha_prime * (B(j,p) + B(j,q-1) - B(j, p-1) - B(j,q) - B(j-1, p) - B(j-1, p-1) ) = rank_til(j) + c * alpha_prime * (D(j,q) - D(j,p))\n",
    "etc.\n",
    "\n",
    "#test: \n",
    "rank_exp(j) = rank_til(j) + c[1] * alpha_prime * (D(j,p) - D(j,p))\n",
    "\n",
    "{section 3}\n",
    "c = ......\n",
    "then you're done\n",
    "\n",
    "{section 4}\n",
    "Different rankings in graphs"
   ]
  },
  {
   "cell_type": "code",
   "execution_count": null,
   "metadata": {},
   "outputs": [],
   "source": [
    "#Wrong code & explanations:"
   ]
  },
  {
   "cell_type": "code",
   "execution_count": 1,
   "metadata": {},
   "outputs": [
    {
     "ename": "NameError",
     "evalue": "name 'tridiag' is not defined",
     "output_type": "error",
     "traceback": [
      "\u001b[1;31m---------------------------------------------------------------------------\u001b[0m",
      "\u001b[1;31mNameError\u001b[0m                                 Traceback (most recent call last)",
      "Cell \u001b[1;32mIn[1], line 2\u001b[0m\n\u001b[0;32m      1\u001b[0m \u001b[38;5;66;03m# testing i = 1, \u001b[39;00m\n\u001b[1;32m----> 2\u001b[0m A \u001b[38;5;241m=\u001b[39m tridiag(n)\n\u001b[0;32m      3\u001b[0m B \u001b[38;5;241m=\u001b[39m np\u001b[38;5;241m.\u001b[39mlinalg\u001b[38;5;241m.\u001b[39minv(np\u001b[38;5;241m.\u001b[39midentity(n\u001b[38;5;241m-\u001b[39m\u001b[38;5;241m1\u001b[39m) \u001b[38;5;241m-\u001b[39m (A\u001b[38;5;241m*\u001b[39malpha_prime))\n\u001b[0;32m      5\u001b[0m K_mult \u001b[38;5;241m=\u001b[39m np\u001b[38;5;241m.\u001b[39mones(n\u001b[38;5;241m-\u001b[39m\u001b[38;5;241m1\u001b[39m) \u001b[38;5;241m-\u001b[39m (c[\u001b[38;5;241m1\u001b[39m]\u001b[38;5;241m*\u001b[39malpha_prime\u001b[38;5;241m*\u001b[39m(e_i(n, p) \u001b[38;5;241m+\u001b[39m e_i(n, q\u001b[38;5;241m-\u001b[39m\u001b[38;5;241m1\u001b[39m) \u001b[38;5;241m-\u001b[39m e_i(n, p\u001b[38;5;241m-\u001b[39m\u001b[38;5;241m1\u001b[39m) \u001b[38;5;241m-\u001b[39m e_i(n, q)))\n",
      "\u001b[1;31mNameError\u001b[0m: name 'tridiag' is not defined"
     ]
    }
   ],
   "source": [
    "# testing i = 1, \n",
    "\n",
    "#The issue here was setting b_til[i] since b_til was 0 indexed\n",
    "A = tridiag(n)\n",
    "B = np.linalg.inv(np.identity(n-1) - (A*alpha_prime))\n",
    "\n",
    "K_mult = np.ones(n-1) - (c[1]*alpha_prime*(e_i(n, p) + e_i(n, q-1) - e_i(n, p-1) - e_i(n, q)))\n",
    "b_exp_analytical = B @ K_mult\n",
    "\n",
    "\n",
    "print(b_exp_analytical)\n",
    "\n",
    "b_til = B @ np.identity(len(B))\n",
    "for i in range (0, len(b_til)):\n",
    "        b_i_analytical = b_til[i] - ( c[1] * alpha_prime * \n",
    "                                    ( B_ij(i,p) + B_ij(i,q-1) - B_ij(i,p-1) - B_ij(i,q) ) )\n",
    "        print(b_i_analytical)\n",
    "\n",
    "\n",
    "#This is the correct code, after changing b_til to a dictionary\n",
    "def test_b_i():\n",
    "    b_til = b_til_dict()\n",
    "    b_i_array = []\n",
    "    for i in range (1, arr_len+1):\n",
    "        b_i_analytical = b_til[i] - ( c[1] * alpha_prime * \n",
    "                                    ( B_ij(i,p) + B_ij(i,q-1) - B_ij(i,p-1) - B_ij(i,q) ) )\n",
    "        b_i_array.append(b_i_analytical)\n",
    "    b_i_array = np.array(b_i_array)\n",
    "    assert np.allclose(b_i_array, b_array)\n",
    "    print('b_i_array verified')\n"
   ]
  },
  {
   "cell_type": "code",
   "execution_count": null,
   "metadata": {},
   "outputs": [],
   "source": [
    "\n"
   ]
  }
 ],
 "metadata": {
  "kernelspec": {
   "display_name": "base",
   "language": "python",
   "name": "python3"
  },
  "language_info": {
   "codemirror_mode": {
    "name": "ipython",
    "version": 3
   },
   "file_extension": ".py",
   "mimetype": "text/x-python",
   "name": "python",
   "nbconvert_exporter": "python",
   "pygments_lexer": "ipython3",
   "version": "3.11.7"
  }
 },
 "nbformat": 4,
 "nbformat_minor": 2
}
