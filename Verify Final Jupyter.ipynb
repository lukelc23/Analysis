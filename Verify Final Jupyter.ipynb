{
 "cells": [
  {
   "cell_type": "code",
   "execution_count": null,
   "metadata": {},
   "outputs": [
    {
     "name": "stdout",
     "output_type": "stream",
     "text": [
      "1: -0.7283417916787769\n",
      "2: -0.09251268751816469\n",
      "3: -0.19656151490084783\n",
      "4: -0.39889109973395276\n",
      "5: -0.10704464664982503\n",
      "6: 0.13127948310939247\n",
      "7: 0.43524335442330475\n",
      "8: 0.95682890294887\n"
     ]
    }
   ],
   "source": [
    "import numpy as np\n",
    "import matplotlib.pyplot as plt\n",
    "from Ranking_exp import Ranking_exp\n",
    "\n",
    "#check final formula\n",
    "# uses rank_mult_exp_analytical\n",
    "    # uses \"previous\" form\n",
    "    # rank = rank_til(j) + c_analytical_form() * alpha_prime * (D_ij_analytical_sol(j, q) - D_ij_analytical_sol(j, p) + delta(j,q) - delta(j,p))\n",
    "\n",
    "sim = Ranking_exp(n=8, k_o=0.4, k_s=1, k_d=0, p=4, q=2, c_var=0) \n",
    "ranks = sim.calc_rank()   \n",
    "\n",
    "    \n",
    "\n",
    "# Print Values\n",
    "# x_vals = np.arange(1, 6)\n",
    "# plt.plot(x_vals, ranks, label=f'n = 5')\n",
    "\n"
   ]
  },
  {
   "cell_type": "code",
   "execution_count": 22,
   "metadata": {},
   "outputs": [
    {
     "name": "stdout",
     "output_type": "stream",
     "text": [
      "[ 0.67283731  0.00925596  0.10537558  0.25418298 -0.2249911  -0.81666073]\n"
     ]
    }
   ],
   "source": [
    "print(ranks)"
   ]
  },
  {
   "cell_type": "code",
   "execution_count": 23,
   "metadata": {},
   "outputs": [
    {
     "name": "stdout",
     "output_type": "stream",
     "text": [
      "-0.22499110003559986\n",
      "0.00925596297614839\n",
      "-0.23424706301174825\n"
     ]
    }
   ],
   "source": [
    "print(ranks[4])\n",
    "print(ranks[1])\n",
    "rank_test_analytical_2_5 = ranks[4] - ranks[1]\n",
    "print(rank_test_analytical_2_5)\n",
    "\n",
    "# implies the rank formula is opposite??\n",
    "# something is off because these formulas can't be opposite....."
   ]
  },
  {
   "cell_type": "code",
   "execution_count": 24,
   "metadata": {},
   "outputs": [
    {
     "name": "stdout",
     "output_type": "stream",
     "text": [
      "0.5217391304347826\n"
     ]
    }
   ],
   "source": [
    "#check actual values\n",
    "#rank_test is f(1,3) = rank(3) - rank(1)\n",
    "sim = Ranking_exp(n=5, k_o=0.4, k_s=1, k_d=0, p=4, q=2, c_var=0) \n",
    "ranktest_actual_2_5 = sim.f_j_k(2,5)\n",
    "print(ranktest_actual_2_5)\n",
    "\n",
    "\n"
   ]
  },
  {
   "cell_type": "code",
   "execution_count": 28,
   "metadata": {},
   "outputs": [
    {
     "name": "stdout",
     "output_type": "stream",
     "text": [
      "[ 0.60869565 -0.08695652  0.          0.08695652 -0.60869565]\n"
     ]
    }
   ],
   "source": [
    "#check actual values\n",
    "#rank_test is f(1,3) = rank(3) - rank(1)\n",
    "sim = Ranking_exp(n=5, k_o=0.4, k_s=1, k_d=0, p=4, q=2, c_var=0) \n",
    "ranks = sim.calc_rank_analytic()\n",
    "print(ranks)"
   ]
  },
  {
   "cell_type": "markdown",
   "metadata": {},
   "source": [
    "Progress:\n",
    "\n",
    "- [x] Check to see if the ranking formula is correct? (Why does f(j,k) = r_k - r_j?)\n",
    "  - Look at the paper to check this\n"
   ]
  },
  {
   "cell_type": "code",
   "execution_count": 26,
   "metadata": {},
   "outputs": [
    {
     "name": "stdout",
     "output_type": "stream",
     "text": [
      "1: -0.6086956521739131\n",
      "2: 0.08695652173913047\n",
      "3: 0.0\n",
      "4: -0.08695652173913047\n",
      "5: 0.6086956521739131\n",
      "[ 0.60869565 -0.08695652 -0.          0.08695652 -0.60869565]\n"
     ]
    }
   ],
   "source": [
    "#testing\n",
    "# This shows something weird but the ordering shows a monotonic ranking system\n",
    "# This also shows that the formula is doing the inverse.  \n",
    "sim = Ranking_exp(n=5, k_o=0.4, k_s=1, k_d=0, p=4, q=2, c_var=0)\n",
    "ranks = sim.calc_rank_test() \n",
    "print(ranks)"
   ]
  }
 ],
 "metadata": {
  "kernelspec": {
   "display_name": "base",
   "language": "python",
   "name": "python3"
  },
  "language_info": {
   "codemirror_mode": {
    "name": "ipython",
    "version": 3
   },
   "file_extension": ".py",
   "mimetype": "text/x-python",
   "name": "python",
   "nbconvert_exporter": "python",
   "pygments_lexer": "ipython3",
   "version": "3.11.7"
  }
 },
 "nbformat": 4,
 "nbformat_minor": 2
}
