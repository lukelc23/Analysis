{
 "cells": [
  {
   "cell_type": "code",
   "execution_count": 47,
   "metadata": {},
   "outputs": [
    {
     "name": "stdout",
     "output_type": "stream",
     "text": [
      "Rank of K: 7\n",
      "Shape of K: (8, 8)\n",
      "K is singular\n",
      "Solution from lstsq: [ 1.50000000e+00  5.00000000e-01  7.30445089e-16 -1.50000000e+00\n",
      " -5.00000000e-01  1.39657890e-15 -5.00000000e-01  5.00000000e-01]\n",
      "Null space of K: [[-0.00000000e+00]\n",
      " [ 4.08248290e-01]\n",
      " [ 4.08248290e-01]\n",
      " [-5.27882848e-16]\n",
      " [-4.08248290e-01]\n",
      " [-4.08248290e-01]\n",
      " [ 4.08248290e-01]\n",
      " [-4.08248290e-01]]\n"
     ]
    }
   ],
   "source": [
    "import numpy as np\n",
    "from scipy.linalg import null_space\n",
    "\n",
    "# Define matrix K and vector y\n",
    "K = np.array([\n",
    "    [1, 0, 0, 0, 0.5, 0, 0.5, 0],\n",
    "    [0, 1, 0, 0.5, 0, 0.5, 0, 0.5],\n",
    "    [0, 0, 1, 0, 0.5, 0, 0, 0.5],\n",
    "    [0, 0.5, 0, 1, 0, 0, 0, 0.5],\n",
    "    [0.5, 0, 0.5, 0, 1, 0, 0.5, 0],\n",
    "    [0, 0.5, 0, 0, 0, 1, 0.5, 0],\n",
    "    [0.5, 0, 0, 0, 0.5, 0.5, 1, 0],\n",
    "    [0, 0.5, 0.5, 0.5, 0, 0, 0, 1]\n",
    "])\n",
    "\n",
    "y = np.array([1, 1, 1, -1, -1, -1, 1, -1])\n",
    "\n",
    "# Check if K is singular\n",
    "rank_K = np.linalg.matrix_rank(K)\n",
    "print(f\"Rank of K: {rank_K}\")\n",
    "print(f\"Shape of K: {K.shape}\")\n",
    "\n",
    "if rank_K < K.shape[0]:\n",
    "    print(\"K is singular\")\n",
    "\n",
    "    # Finding solutions using lstsq\n",
    "    solution, residuals, rank, s = np.linalg.lstsq(K, y, rcond=None)\n",
    "    print(\"Solution from lstsq:\", solution)\n",
    "\n",
    "    # Checking the null space of K\n",
    "    null_space_K = null_space(K)\n",
    "    print(\"Null space of K:\", null_space_K)\n",
    "\n",
    "    # General solution is particular solution\n"
   ]
  },
  {
   "cell_type": "code",
   "execution_count": 48,
   "metadata": {},
   "outputs": [
    {
     "name": "stdout",
     "output_type": "stream",
     "text": [
      "[  771.92931353 -1163.21002039  -963.21002039]\n",
      "[[ 0.6 -0.7]\n",
      " [-0.2  0.4]]\n"
     ]
    }
   ],
   "source": [
    "import numpy as np\n",
    "k_o = 0.49\n",
    "\n",
    "#testing inverse solution\n",
    "K = np.array([[1,-1,2],[3,2,0],[3,2,0]])\n",
    "I = np.identity(3)\n",
    "y = np.array([1,1,-1])\n",
    "c = 100\n",
    "W = K-np.dot((1/c),I)\n",
    "a = np.linalg.solve(W, y)\n",
    "print(a)\n",
    "\n",
    "A = np.array([[4,7],[2,6]])\n",
    "I_2 = np.identity(2)\n",
    "print(np.linalg.solve(A, I_2))\n",
    "\n",
    "#K matrix without exceptions\n",
    "def K_block(n, k_o):\n",
    "    A = np.identity(n-1)\n",
    "    D = A\n",
    "    k_oArr = k_o * np.ones(n-2)\n",
    "    B = np.diag(k_oArr, k=1) + np.diag(k_oArr, k=-1)\n",
    "    C = B\n",
    "    return np.block([[A,B],[B,A]])    \n",
    "    \n",
    "#def tridiag_exception()"
   ]
  },
  {
   "cell_type": "code",
   "execution_count": 49,
   "metadata": {},
   "outputs": [
    {
     "data": {
      "text/plain": [
       "array([[1., 1., 1.],\n",
       "       [1., 1., 1.],\n",
       "       [1., 1., 1.]])"
      ]
     },
     "execution_count": 49,
     "metadata": {},
     "output_type": "execute_result"
    }
   ],
   "source": [
    "np.ones((3,3))"
   ]
  },
  {
   "cell_type": "code",
   "execution_count": 50,
   "metadata": {},
   "outputs": [
    {
     "data": {
      "text/plain": [
       "array([[1, 1, 2],\n",
       "       [3, 3, 4]])"
      ]
     },
     "execution_count": 50,
     "metadata": {},
     "output_type": "execute_result"
    }
   ],
   "source": [
    "import numpy as np\n",
    "A = np.array([[1,1]])\n",
    "C = 3 * A\n",
    "B = np.array([[2]])\n",
    "D = 2 * B\n",
    "np.block([[A,B],[C,D]])"
   ]
  },
  {
   "cell_type": "code",
   "execution_count": 51,
   "metadata": {},
   "outputs": [
    {
     "name": "stdout",
     "output_type": "stream",
     "text": [
      "[[1 1 2]\n",
      " [3 3 4]]\n"
     ]
    }
   ],
   "source": [
    "import numpy as np\n",
    "\n",
    "# Define sub-blocks as 2D arrays\n",
    "A = np.array([[1, 1]])  # 1x2 array\n",
    "B = np.array([[2]])     # 1x1 array\n",
    "\n",
    "# Element-wise multiplication to scale the arrays\n",
    "C = 3 * A  # Multiplies each element in A by 3, resulting in a 1x2 array\n",
    "D = 2 * B  # Multiplies each element in B by 2, resulting in a 1x1 array\n",
    "\n",
    "# Combine these sub-blocks into a block matrix using np.block\n",
    "block_matrix = np.block([[A, B],\n",
    "                         [C, D]])\n",
    "\n",
    "print(block_matrix)\n"
   ]
  },
  {
   "cell_type": "code",
   "execution_count": 52,
   "metadata": {},
   "outputs": [
    {
     "name": "stdout",
     "output_type": "stream",
     "text": [
      "[[0.  0.5 0.  0. ]\n",
      " [0.5 0.  0.5 0. ]\n",
      " [0.  0.5 0.  0.5]\n",
      " [0.  0.  0.5 0. ]]\n"
     ]
    }
   ],
   "source": [
    "import numpy as np\n",
    "n=4\n",
    "k_o = 0.5\n",
    "diag_len = n-1\n",
    "B = k_o * np.diag(np.ones((diag_len)), k=1) + k_o * np.diag(np.ones((diag_len)), k=-1)\n",
    "print(B)"
   ]
  },
  {
   "cell_type": "code",
   "execution_count": 53,
   "metadata": {},
   "outputs": [
    {
     "name": "stdout",
     "output_type": "stream",
     "text": [
      "A [0. 1. 0. 0. 1. 0.]\n",
      "B [0. 0. 1. 1. 0. 0.]\n",
      "C [0. 0. 1. 1. 0. 0.]\n",
      "D [0. 1. 0. 0. 1. 0.]\n",
      "K [[1.   0.   0.   0.   0.   0.   0.   0.49 0.   0.   0.   0.  ]\n",
      " [0.   1.   0.   0.   0.   0.   0.49 0.   0.49 0.   0.   0.  ]\n",
      " [0.   0.   1.   0.   0.   0.   0.   0.49 0.   0.49 0.   0.  ]\n",
      " [0.   0.   0.   1.   0.   0.   0.   0.   0.49 0.   0.49 0.  ]\n",
      " [0.   0.   0.   0.   1.   0.   0.   0.   0.   0.49 0.   0.49]\n",
      " [0.   0.   0.   0.   0.   1.   0.   0.   0.   0.   0.49 0.  ]\n",
      " [0.   0.49 0.   0.   0.   0.   1.   0.   0.   0.   0.   0.  ]\n",
      " [0.49 0.   0.49 0.   0.   0.   0.   1.   0.   0.   0.   0.  ]\n",
      " [0.   0.49 0.   0.49 0.   0.   0.   0.   1.   0.   0.   0.  ]\n",
      " [0.   0.   0.49 0.   0.49 0.   0.   0.   0.   1.   0.   0.  ]\n",
      " [0.   0.   0.   0.49 0.   0.49 0.   0.   0.   0.   1.   0.  ]\n",
      " [0.   0.   0.   0.   0.49 0.   0.   0.   0.   0.   0.   1.  ]]\n",
      "E_1 [[0.   0.49 0.   0.   0.49 0.   0.   0.   0.49 0.49 0.   0.  ]\n",
      " [0.   0.   0.49 0.49 0.   0.   0.   0.49 0.   0.   0.49 0.  ]]\n",
      "E_2 [[0.   0.  ]\n",
      " [0.49 0.  ]\n",
      " [0.   0.49]\n",
      " [0.   0.49]\n",
      " [0.49 0.  ]\n",
      " [0.   0.  ]\n",
      " [0.   0.  ]\n",
      " [0.   0.49]\n",
      " [0.49 0.  ]\n",
      " [0.49 0.  ]\n",
      " [0.   0.49]\n",
      " [0.   0.  ]]\n",
      "E_3 [[1. 0.]\n",
      " [0. 1.]]\n",
      "W [[1.   0.   0.   0.   0.   0.   0.   0.49 0.   0.   0.   0.  ]\n",
      " [0.   1.   0.   0.   0.   0.   0.49 0.   0.49 0.   0.   0.  ]\n",
      " [0.   0.   1.   0.   0.   0.   0.   0.49 0.   0.49 0.   0.  ]\n",
      " [0.   0.   0.   1.   0.   0.   0.   0.   0.49 0.   0.49 0.  ]\n",
      " [0.   0.   0.   0.   1.   0.   0.   0.   0.   0.49 0.   0.49]\n",
      " [0.   0.   0.   0.   0.   1.   0.   0.   0.   0.   0.49 0.  ]\n",
      " [0.   0.49 0.   0.   0.   0.   1.   0.   0.   0.   0.   0.  ]\n",
      " [0.49 0.   0.49 0.   0.   0.   0.   1.   0.   0.   0.   0.  ]\n",
      " [0.   0.49 0.   0.49 0.   0.   0.   0.   1.   0.   0.   0.  ]\n",
      " [0.   0.   0.49 0.   0.49 0.   0.   0.   0.   1.   0.   0.  ]\n",
      " [0.   0.   0.   0.49 0.   0.49 0.   0.   0.   0.   1.   0.  ]\n",
      " [0.   0.   0.   0.   0.49 0.   0.   0.   0.   0.   0.   1.  ]\n",
      " [0.   0.49 0.   0.   0.49 0.   0.   0.   0.49 0.49 0.   0.  ]\n",
      " [0.   0.   0.49 0.49 0.   0.   0.   0.49 0.   0.   0.49 0.  ]]\n",
      "X [[0.   0.  ]\n",
      " [0.49 0.  ]\n",
      " [0.   0.49]\n",
      " [0.   0.49]\n",
      " [0.49 0.  ]\n",
      " [0.   0.  ]\n",
      " [0.   0.  ]\n",
      " [0.   0.49]\n",
      " [0.49 0.  ]\n",
      " [0.49 0.  ]\n",
      " [0.   0.49]\n",
      " [0.   0.  ]\n",
      " [1.   0.  ]\n",
      " [0.   1.  ]]\n",
      "Z [[1.   0.   0.   0.   0.   0.   0.   0.49 0.   0.   0.   0.   0.   0.  ]\n",
      " [0.   1.   0.   0.   0.   0.   0.49 0.   0.49 0.   0.   0.   0.49 0.  ]\n",
      " [0.   0.   1.   0.   0.   0.   0.   0.49 0.   0.49 0.   0.   0.   0.49]\n",
      " [0.   0.   0.   1.   0.   0.   0.   0.   0.49 0.   0.49 0.   0.   0.49]\n",
      " [0.   0.   0.   0.   1.   0.   0.   0.   0.   0.49 0.   0.49 0.49 0.  ]\n",
      " [0.   0.   0.   0.   0.   1.   0.   0.   0.   0.   0.49 0.   0.   0.  ]\n",
      " [0.   0.49 0.   0.   0.   0.   1.   0.   0.   0.   0.   0.   0.   0.  ]\n",
      " [0.49 0.   0.49 0.   0.   0.   0.   1.   0.   0.   0.   0.   0.   0.49]\n",
      " [0.   0.49 0.   0.49 0.   0.   0.   0.   1.   0.   0.   0.   0.49 0.  ]\n",
      " [0.   0.   0.49 0.   0.49 0.   0.   0.   0.   1.   0.   0.   0.49 0.  ]\n",
      " [0.   0.   0.   0.49 0.   0.49 0.   0.   0.   0.   1.   0.   0.   0.49]\n",
      " [0.   0.   0.   0.   0.49 0.   0.   0.   0.   0.   0.   1.   0.   0.  ]\n",
      " [0.   0.49 0.   0.   0.49 0.   0.   0.   0.49 0.49 0.   0.   1.   0.  ]\n",
      " [0.   0.   0.49 0.49 0.   0.   0.   0.49 0.   0.   0.49 0.   0.   1.  ]]\n",
      "[[1.   0.   0.   0.   0.   0.   0.   0.49 0.   0.   0.   0.   0.   0.  ]\n",
      " [0.   1.   0.   0.   0.   0.   0.49 0.   0.49 0.   0.   0.   0.49 0.  ]\n",
      " [0.   0.   1.   0.   0.   0.   0.   0.49 0.   0.49 0.   0.   0.   0.49]\n",
      " [0.   0.   0.   1.   0.   0.   0.   0.   0.49 0.   0.49 0.   0.   0.49]\n",
      " [0.   0.   0.   0.   1.   0.   0.   0.   0.   0.49 0.   0.49 0.49 0.  ]\n",
      " [0.   0.   0.   0.   0.   1.   0.   0.   0.   0.   0.49 0.   0.   0.  ]\n",
      " [0.   0.49 0.   0.   0.   0.   1.   0.   0.   0.   0.   0.   0.   0.  ]\n",
      " [0.49 0.   0.49 0.   0.   0.   0.   1.   0.   0.   0.   0.   0.   0.49]\n",
      " [0.   0.49 0.   0.49 0.   0.   0.   0.   1.   0.   0.   0.   0.49 0.  ]\n",
      " [0.   0.   0.49 0.   0.49 0.   0.   0.   0.   1.   0.   0.   0.49 0.  ]\n",
      " [0.   0.   0.   0.49 0.   0.49 0.   0.   0.   0.   1.   0.   0.   0.49]\n",
      " [0.   0.   0.   0.   0.49 0.   0.   0.   0.   0.   0.   1.   0.   0.  ]\n",
      " [0.   0.49 0.   0.   0.49 0.   0.   0.   0.49 0.49 0.   0.   1.   0.  ]\n",
      " [0.   0.   0.49 0.49 0.   0.   0.   0.49 0.   0.   0.49 0.   0.   1.  ]]\n"
     ]
    }
   ],
   "source": [
    "import numpy as np\n",
    "\n",
    "n=4\n",
    "k_o = 0.49\n",
    "\n",
    "#K matrix without exceptions\n",
    "def k_block(n, k_o, return_k):\n",
    "    arr_len = n-1\n",
    "    A = np.identity(arr_len)\n",
    "    D = A\n",
    "    diag_len = arr_len-1\n",
    "    B = k_o * np.diag(np.ones((diag_len)), k=1) + k_o * np.diag(np.ones((diag_len)), k=-1)\n",
    "    C = B\n",
    "    E = np.block([[A,B],[B,A]]) \n",
    "    if return_k == False:\n",
    "        return B\n",
    "    else:\n",
    "        return E\n",
    "\n",
    "def one_hot_sim(n, i):\n",
    "    len_arr = n-1\n",
    "    array_pos = i-1     #(-1 to normalize), p and q refer to normal indices (from 1 to len_arr)\n",
    "    arr = np.zeros(len_arr)\n",
    "    if i > 0 and i < n: #if outside, k_o excluded from similarity matrix e.g. AE exception for n=5\n",
    "        arr[array_pos] = 1 \n",
    "    return arr\n",
    "\n",
    "n = 7\n",
    "p = 5\n",
    "q = 3\n",
    "\n",
    "#columns in k matrix representing exceptions\n",
    "def k_exp_horiz(n, p, q, k_o):\n",
    "    A = one_hot_sim(n, p) + one_hot_sim(n, q-1)\n",
    "    B = one_hot_sim(n, q) + one_hot_sim(n, p-1)\n",
    "    C = one_hot_sim(n, p-1) + one_hot_sim(n, q)\n",
    "    D = one_hot_sim(n, q-1) + one_hot_sim(n, p)\n",
    "    E = k_o * np.block([[A,C],[B,D]])\n",
    "\n",
    "    print('A', A)\n",
    "    print('B', B)\n",
    "    print('C', C)\n",
    "    print('D', D)\n",
    "    return E\n",
    "\n",
    "K = k_block(n, k_o, True)\n",
    "E_1 = k_exp_horiz(n, p, q, k_o)\n",
    "E_2 = K_trans = E_1.transpose()\n",
    "E_3 = np.identity(2) #2 since there's only 2 columns for exceptions\n",
    "\n",
    "print('K', K)\n",
    "print('E_1', E_1)\n",
    "print('E_2', E_2)\n",
    "print('E_3', E_3)\n",
    "\n",
    "def k_block_excep(K, E_1, E_2, E_3):\n",
    "    W = np.concatenate([K, E_1])\n",
    "    print('W', W)\n",
    "    X = np.concatenate([E_2, E_3])\n",
    "    print('X', X)\n",
    "    Z = np.concatenate([W, X], 1)\n",
    "    print('Z', Z)\n",
    "    return Z\n",
    "\n",
    "K = k_block_excep(K, E_1, E_2, E_3)\n",
    "print(K)\n",
    "\n",
    "\n",
    "\n"
   ]
  },
  {
   "cell_type": "code",
   "execution_count": 54,
   "metadata": {},
   "outputs": [
    {
     "data": {
      "text/plain": [
       "0.00030601018911752964"
      ]
     },
     "execution_count": 54,
     "metadata": {},
     "output_type": "execute_result"
    }
   ],
   "source": [
    "np.linalg.det(K)"
   ]
  },
  {
   "cell_type": "code",
   "execution_count": 55,
   "metadata": {},
   "outputs": [
    {
     "data": {
      "text/plain": [
       "14"
      ]
     },
     "execution_count": 55,
     "metadata": {},
     "output_type": "execute_result"
    }
   ],
   "source": [
    "len(K)"
   ]
  },
  {
   "cell_type": "code",
   "execution_count": 56,
   "metadata": {},
   "outputs": [
    {
     "name": "stdout",
     "output_type": "stream",
     "text": [
      "[[1.   0.   0.   0.   0.   0.   0.   0.49 0.   0.   0.   0.   0.   0.  ]\n",
      " [0.   1.   0.   0.   0.   0.   0.49 0.   0.49 0.   0.   0.   0.49 0.  ]\n",
      " [0.   0.   1.   0.   0.   0.   0.   0.49 0.   0.49 0.   0.   0.   0.49]\n",
      " [0.   0.   0.   1.   0.   0.   0.   0.   0.49 0.   0.49 0.   0.   0.49]\n",
      " [0.   0.   0.   0.   1.   0.   0.   0.   0.   0.49 0.   0.49 0.49 0.  ]\n",
      " [0.   0.   0.   0.   0.   1.   0.   0.   0.   0.   0.49 0.   0.   0.  ]\n",
      " [0.   0.49 0.   0.   0.   0.   1.   0.   0.   0.   0.   0.   0.   0.  ]\n",
      " [0.49 0.   0.49 0.   0.   0.   0.   1.   0.   0.   0.   0.   0.   0.49]\n",
      " [0.   0.49 0.   0.49 0.   0.   0.   0.   1.   0.   0.   0.   0.49 0.  ]\n",
      " [0.   0.   0.49 0.   0.49 0.   0.   0.   0.   1.   0.   0.   0.49 0.  ]\n",
      " [0.   0.   0.   0.49 0.   0.49 0.   0.   0.   0.   1.   0.   0.   0.49]\n",
      " [0.   0.   0.   0.   0.49 0.   0.   0.   0.   0.   0.   1.   0.   0.  ]\n",
      " [0.   0.49 0.   0.   0.49 0.   0.   0.   0.49 0.49 0.   0.   1.   0.  ]\n",
      " [0.   0.   0.49 0.49 0.   0.   0.   0.49 0.   0.   0.49 0.   0.   1.  ]]\n",
      "y [ 1.  1.  1.  1.  1.  1. -1. -1. -1. -1. -1. -1.  1. -1.]\n",
      "[[1.01 0.   0.   0.   0.   0.   0.   0.49 0.   0.   0.   0.   0.   0.  ]\n",
      " [0.   1.01 0.   0.   0.   0.   0.49 0.   0.49 0.   0.   0.   0.49 0.  ]\n",
      " [0.   0.   1.01 0.   0.   0.   0.   0.49 0.   0.49 0.   0.   0.   0.49]\n",
      " [0.   0.   0.   1.01 0.   0.   0.   0.   0.49 0.   0.49 0.   0.   0.49]\n",
      " [0.   0.   0.   0.   1.01 0.   0.   0.   0.   0.49 0.   0.49 0.49 0.  ]\n",
      " [0.   0.   0.   0.   0.   1.01 0.   0.   0.   0.   0.49 0.   0.   0.  ]\n",
      " [0.   0.49 0.   0.   0.   0.   1.01 0.   0.   0.   0.   0.   0.   0.  ]\n",
      " [0.49 0.   0.49 0.   0.   0.   0.   1.01 0.   0.   0.   0.   0.   0.49]\n",
      " [0.   0.49 0.   0.49 0.   0.   0.   0.   1.01 0.   0.   0.   0.49 0.  ]\n",
      " [0.   0.   0.49 0.   0.49 0.   0.   0.   0.   1.01 0.   0.   0.49 0.  ]\n",
      " [0.   0.   0.   0.49 0.   0.49 0.   0.   0.   0.   1.01 0.   0.   0.49]\n",
      " [0.   0.   0.   0.   0.49 0.   0.   0.   0.   0.   0.   1.01 0.   0.  ]\n",
      " [0.   0.49 0.   0.   0.49 0.   0.   0.   0.49 0.49 0.   0.   1.01 0.  ]\n",
      " [0.   0.   0.49 0.49 0.   0.   0.   0.49 0.   0.   0.49 0.   0.   1.01]]\n",
      "[  3.45697259   5.08478024  34.99436154  34.99436154   5.08478024\n",
      "   3.45697259  -3.45697259  -5.08478024 -34.99436154 -34.99436154\n",
      "  -5.08478024  -3.45697259  30.01127691 -30.01127691]\n"
     ]
    }
   ],
   "source": [
    "print(K)\n",
    "I = np.identity(n-1)\n",
    "\n",
    "def create_y(n):\n",
    "    A = np.ones(n-1)\n",
    "    B = A * -1\n",
    "    C = np.array([1, -1])\n",
    "    D = np.concatenate([A, B, C])\n",
    "    return D\n",
    "y = create_y(n)\n",
    "print('y', y)\n",
    "\n",
    "c = 100\n",
    "K_ridge = K + ((1/c) * np.identity(len(K)))\n",
    "print(K_ridge)\n",
    "a = np.linalg.solve(K_ridge, y)\n",
    "print(a)"
   ]
  },
  {
   "cell_type": "code",
   "execution_count": 57,
   "metadata": {},
   "outputs": [
    {
     "name": "stdout",
     "output_type": "stream",
     "text": [
      "[[1.   0.   0.   0.   0.   0.   0.   0.49 0.   0.   0.   0.   0.   0.  ]\n",
      " [0.   1.   0.   0.   0.   0.   0.49 0.   0.49 0.   0.   0.   0.49 0.  ]\n",
      " [0.   0.   1.   0.   0.   0.   0.   0.49 0.   0.49 0.   0.   0.   0.49]\n",
      " [0.   0.   0.   1.   0.   0.   0.   0.   0.49 0.   0.49 0.   0.   0.49]\n",
      " [0.   0.   0.   0.   1.   0.   0.   0.   0.   0.49 0.   0.49 0.49 0.  ]\n",
      " [0.   0.   0.   0.   0.   1.   0.   0.   0.   0.   0.49 0.   0.   0.  ]\n",
      " [0.   0.49 0.   0.   0.   0.   1.   0.   0.   0.   0.   0.   0.   0.  ]\n",
      " [0.49 0.   0.49 0.   0.   0.   0.   1.   0.   0.   0.   0.   0.   0.49]\n",
      " [0.   0.49 0.   0.49 0.   0.   0.   0.   1.   0.   0.   0.   0.49 0.  ]\n",
      " [0.   0.   0.49 0.   0.49 0.   0.   0.   0.   1.   0.   0.   0.49 0.  ]\n",
      " [0.   0.   0.   0.49 0.   0.49 0.   0.   0.   0.   1.   0.   0.   0.49]\n",
      " [0.   0.   0.   0.   0.49 0.   0.   0.   0.   0.   0.   1.   0.   0.  ]\n",
      " [0.   0.49 0.   0.   0.49 0.   0.   0.   0.49 0.49 0.   0.   1.   0.  ]\n",
      " [0.   0.   0.49 0.49 0.   0.   0.   0.49 0.   0.   0.49 0.   0.   1.  ]]\n",
      "y [ 1.  1.  1.  1.  1.  1. -1. -1. -1. -1. -1. -1.  1. -1.]\n",
      "[  3.64072426   5.38923319  51.77229816  51.77229816   5.38923319\n",
      "   3.64072426  -3.64072426  -5.38923319 -51.77229816 -51.77229816\n",
      "  -5.38923319  -3.64072426  46.45540368 -46.45540368]\n"
     ]
    }
   ],
   "source": [
    "print(K)\n",
    "I = np.identity(n-1)\n",
    "\n",
    "def create_y(n):\n",
    "    A = np.ones(n-1)\n",
    "    B = A * -1\n",
    "    C = np.array([1, -1])\n",
    "    D = np.concatenate([A, B, C])\n",
    "    return D\n",
    "y = create_y(n)\n",
    "print('y', y)\n",
    "a = np.linalg.solve(K, y)\n",
    "print(a)"
   ]
  },
  {
   "cell_type": "code",
   "execution_count": 58,
   "metadata": {},
   "outputs": [
    {
     "name": "stdout",
     "output_type": "stream",
     "text": [
      "[[ 1.67552719 -0.18608041  0.57420425 -0.29128587  0.19881342  0.11423979\n",
      "   0.09027663 -1.41282135  0.17346887 -0.43315304 -0.23547384 -0.09645404\n",
      "   0.11980799  0.66241053]\n",
      " [-0.18608041  2.91214198 -0.35755829  0.89282565  0.48536445  0.19881342\n",
      "  -1.41282135  0.38355349 -1.18356386  0.60040556 -0.40979909 -0.23547384\n",
      "  -1.36537682 -0.24695115]\n",
      " [ 0.57420425 -0.35755829  7.35246347  4.54079212  0.89282565 -0.29128587\n",
      "   0.17346887 -1.18356386 -4.47292058 -6.44362067  0.60040556 -0.43315304\n",
      "   5.0364596  -5.4870769 ]\n",
      " [-0.29128587  0.89282565  4.54079212  7.35246347 -0.35755829  0.57420425\n",
      "  -0.43315304  0.60040556 -6.44362067 -4.47292058 -1.18356386  0.17346887\n",
      "   5.0364596  -5.4870769 ]\n",
      " [ 0.19881342  0.48536445  0.89282565 -0.35755829  2.91214198 -0.18608041\n",
      "  -0.23547384 -0.40979909  0.60040556 -1.18356386  0.38355349 -1.41282135\n",
      "  -1.36537682 -0.24695115]\n",
      " [ 0.11423979  0.19881342 -0.29128587  0.57420425 -0.18608041  1.67552719\n",
      "  -0.09645404 -0.23547384 -0.43315304  0.17346887 -1.41282135  0.09027663\n",
      "   0.11980799  0.66241053]\n",
      " [ 0.09027663 -1.41282135  0.17346887 -0.43315304 -0.23547384 -0.09645404\n",
      "   1.67552719 -0.18608041  0.57420425 -0.29128587  0.19881342  0.11423979\n",
      "   0.66241053  0.11980799]\n",
      " [-1.41282135  0.38355349 -1.18356386  0.60040556 -0.40979909 -0.23547384\n",
      "  -0.18608041  2.91214198 -0.35755829  0.89282565  0.48536445  0.19881342\n",
      "  -0.24695115 -1.36537682]\n",
      " [ 0.17346887 -1.18356386 -4.47292058 -6.44362067  0.60040556 -0.43315304\n",
      "   0.57420425 -0.35755829  7.35246347  4.54079212  0.89282565 -0.29128587\n",
      "  -5.4870769   5.0364596 ]\n",
      " [-0.43315304  0.60040556 -6.44362067 -4.47292058 -1.18356386  0.17346887\n",
      "  -0.29128587  0.89282565  4.54079212  7.35246347 -0.35755829  0.57420425\n",
      "  -5.4870769   5.0364596 ]\n",
      " [-0.23547384 -0.40979909  0.60040556 -1.18356386  0.38355349 -1.41282135\n",
      "   0.19881342  0.48536445  0.89282565 -0.35755829  2.91214198 -0.18608041\n",
      "  -0.24695115 -1.36537682]\n",
      " [-0.09645404 -0.23547384 -0.43315304  0.17346887 -1.41282135  0.09027663\n",
      "   0.11423979  0.19881342 -0.29128587  0.57420425 -0.18608041  1.67552719\n",
      "   0.66241053  0.11980799]\n",
      " [ 0.11980799 -1.36537682  5.0364596   5.0364596  -1.36537682  0.11980799\n",
      "   0.66241053 -0.24695115 -5.4870769  -5.4870769  -0.24695115  0.66241053\n",
      "   7.6390145  -4.64724582]\n",
      " [ 0.66241053 -0.24695115 -5.4870769  -5.4870769  -0.24695115  0.66241053\n",
      "   0.11980799 -1.36537682  5.0364596   5.0364596  -1.36537682  0.11980799\n",
      "  -4.64724582  7.6390145 ]]\n",
      "[  3.45697259   5.08478024  34.99436154  34.99436154   5.08478024\n",
      "   3.45697259  -3.45697259  -5.08478024 -34.99436154 -34.99436154\n",
      "  -5.08478024  -3.45697259  30.01127691 -30.01127691]\n"
     ]
    }
   ],
   "source": [
    "#inverse solution for exceptions\n",
    "K_inv = np.linalg.inv(K_ridge)\n",
    "print(K_inv)\n",
    "a = np.dot(K_inv, y)\n",
    "print(a)\n"
   ]
  },
  {
   "cell_type": "code",
   "execution_count": 59,
   "metadata": {},
   "outputs": [
    {
     "name": "stdout",
     "output_type": "stream",
     "text": [
      "[  3.45697259   5.08478024  34.99436154  34.99436154   5.08478024\n",
      "   3.45697259  -3.45697259  -5.08478024 -34.99436154 -34.99436154\n",
      "  -5.08478024  -3.45697259  30.01127691 -30.01127691]\n",
      "7\n"
     ]
    }
   ],
   "source": [
    "#dual coefficients\n",
    "print(a)\n",
    "print(n)\n"
   ]
  },
  {
   "cell_type": "code",
   "execution_count": 60,
   "metadata": {},
   "outputs": [
    {
     "name": "stdout",
     "output_type": "stream",
     "text": [
      "{1: 3.4569725896446757, 2: 5.084780235798208, 3: 34.99436154369407, 4: 34.994361543694076, 5: 5.084780235798208, 6: 3.456972589644675}\n",
      "{1: -3.456972589644675, 2: -5.084780235798209, 3: -34.994361543694076, 4: -34.994361543694076, 5: -5.084780235798208, 6: -3.456972589644673}\n",
      "30.011276912611834\n",
      "-30.011276912611827\n"
     ]
    }
   ],
   "source": [
    "n = 7\n",
    "p = 5\n",
    "q = 3\n",
    "\n",
    "# Create a dictionary with keys generated using the index and values from the array\n",
    "num_coeff = n-1\n",
    "b = {i: a[i-1] for i in range(1, num_coeff + 1)}\n",
    "b_bar = {i: a[i-1+n-1] for i in range(1, num_coeff + 1)}\n",
    "c = {1: a[2 * num_coeff]}\n",
    "c_bar = {1: a[2 * num_coeff + 1]}\n",
    "print(b)\n",
    "print(b_bar)\n",
    "print(c[1])\n",
    "print(c_bar[1])"
   ]
  },
  {
   "cell_type": "code",
   "execution_count": 61,
   "metadata": {},
   "outputs": [
    {
     "name": "stdout",
     "output_type": "stream",
     "text": [
      "[0. 0. 0.]\n"
     ]
    },
    {
     "ename": "ValueError",
     "evalue": "operands could not be broadcast together with shapes (6,6) (3,3) ",
     "output_type": "error",
     "traceback": [
      "\u001b[1;31m---------------------------------------------------------------------------\u001b[0m",
      "\u001b[1;31mValueError\u001b[0m                                Traceback (most recent call last)",
      "Cell \u001b[1;32mIn[61], line 14\u001b[0m\n\u001b[0;32m     11\u001b[0m \u001b[38;5;28mprint\u001b[39m(e_i(\u001b[38;5;241m4\u001b[39m, \u001b[38;5;241m4\u001b[39m))\n\u001b[0;32m     13\u001b[0m A \u001b[38;5;241m=\u001b[39m k_block(\u001b[38;5;241m4\u001b[39m, \u001b[38;5;241m1\u001b[39m, \u001b[38;5;28;01mFalse\u001b[39;00m)\n\u001b[1;32m---> 14\u001b[0m B \u001b[38;5;241m=\u001b[39m np\u001b[38;5;241m.\u001b[39mlinalg\u001b[38;5;241m.\u001b[39minv(np\u001b[38;5;241m.\u001b[39midentity(n\u001b[38;5;241m-\u001b[39m\u001b[38;5;241m1\u001b[39m) \u001b[38;5;241m-\u001b[39m (A\u001b[38;5;241m*\u001b[39mk_o))\n\u001b[0;32m     15\u001b[0m b_til \u001b[38;5;241m=\u001b[39m B \u001b[38;5;241m*\u001b[39m np\u001b[38;5;241m.\u001b[39midentity(n\u001b[38;5;241m-\u001b[39m\u001b[38;5;241m1\u001b[39m)\n\u001b[0;32m     18\u001b[0m K_mult \u001b[38;5;241m=\u001b[39m np\u001b[38;5;241m.\u001b[39mones(n\u001b[38;5;241m-\u001b[39m\u001b[38;5;241m1\u001b[39m) \u001b[38;5;241m-\u001b[39m (c[\u001b[38;5;241m1\u001b[39m]\u001b[38;5;241m*\u001b[39mk_o\u001b[38;5;241m*\u001b[39m(e_i(p, \u001b[38;5;241m4\u001b[39m) \u001b[38;5;241m+\u001b[39m e_i(q\u001b[38;5;241m-\u001b[39m\u001b[38;5;241m1\u001b[39m, \u001b[38;5;241m4\u001b[39m) \u001b[38;5;241m-\u001b[39m e_i(p\u001b[38;5;241m-\u001b[39m\u001b[38;5;241m1\u001b[39m, \u001b[38;5;241m4\u001b[39m) \u001b[38;5;241m-\u001b[39m e_i(q, \u001b[38;5;241m4\u001b[39m)))\n",
      "\u001b[1;31mValueError\u001b[0m: operands could not be broadcast together with shapes (6,6) (3,3) "
     ]
    }
   ],
   "source": [
    "#f(j,k)\n",
    "\n",
    "def e_i(i,n):\n",
    "    e = np.zeros(n-1)\n",
    "    if i >= 1 and i < n:\n",
    "        i = i-1\n",
    "        e[i] = 1\n",
    "\n",
    "    return e\n",
    "\n",
    "print(e_i(4, 4))\n",
    "\n",
    "A = k_block(4, 1, False)\n",
    "B = np.linalg.inv(np.identity(n-1) - (A*k_o))\n",
    "b_til = B * np.identity(n-1)\n",
    "\n",
    "\n",
    "K_mult = np.ones(n-1) - (c[1]*k_o*(e_i(p, 4) + e_i(q-1, 4) - e_i(p-1, 4) - e_i(q, 4)))\n",
    "b_analytical = np.dot(B, K_mult)\n",
    "\n",
    "c_analytical = 1 - (k_o * (b_bar[q-1] - b_bar[p-1] - b_bar[q]))\n",
    "print(b_analytical)\n",
    "print(b)\n",
    "print(c)\n",
    "print(c_analytical)\n",
    "\n",
    "print(n, p, q)"
   ]
  },
  {
   "cell_type": "code",
   "execution_count": null,
   "metadata": {},
   "outputs": [
    {
     "name": "stdout",
     "output_type": "stream",
     "text": [
      "0.004600039816361394\n"
     ]
    }
   ],
   "source": [
    "n = 7\n",
    "p = 5\n",
    "q = 3\n",
    "\n",
    "c_reg = 1e10\n",
    "\n",
    "lamb = np.arccosh((1 + (1/c_reg))/(1-k_o))\n",
    "\n",
    "def sinh(x):\n",
    "    return np.sinh(x)\n",
    "\n",
    "def tanh(x):\n",
    "    return np.tanh(x)\n",
    "\n",
    "def cosh(x):\n",
    "    return np.cosh(x)\n",
    "\n",
    "num = 1 + (\n",
    "sinh( (((n+1)/2 - q) * lamb)) - sinh( ((n+1)/2 - p) * lamb)  / \n",
    "( sinh( (((n+1)/2) * lamb)) - sinh( ((n-1)/2) * lamb))\n",
    ")\n",
    "\n",
    "denom = 1 - 2*k_o - \\\n",
    "    4*k_o * (tanh(lamb/2) / sinh(lamb * n)) * sinh((q-p)/2 * lamb) * \\\n",
    "    cosh((q-1/2)*lamb) * sinh((n - (p+q)/2 + 1/2)*lamb) + cosh((n - p + 1/2)*lamb) * sinh(((p+q)/2 - 1/2)*lamb)\n",
    "\n",
    "c_exp = num/denom\n",
    "print(c_exp)"
   ]
  },
  {
   "cell_type": "code",
   "execution_count": null,
   "metadata": {},
   "outputs": [
    {
     "name": "stdout",
     "output_type": "stream",
     "text": [
      "[0.49 0.   0.   0.   0.49 0.49 1.   0.  ]\n",
      "[  1.44955547  33.80685479  33.33333333  -1.44955547 -33.80685479\n",
      " -33.33333333  32.85981188 -32.85981188]\n",
      "[ 0.98550445  0.66193145  0.66666667 -0.98550445 -0.66193145 -0.66666667\n",
      "  0.67140188 -0.67140188]\n",
      "8\n",
      "32.85981187991236\n",
      "0.6714018812008788\n",
      "[0.49 0.   0.   0.   0.49 0.49 1.   0.  ]\n"
     ]
    }
   ],
   "source": [
    "print(K[2*(n-1),:])\n",
    "print(a)\n",
    "print(np.dot(K, a))\n",
    "\n",
    "print(len(K_inv))\n",
    "print(np.dot(K_inv[2*(n-1),:], y))\n",
    "print(np.dot(K[2*(n-1),:], a))\n",
    "print(K[2*(n-1),:])\n"
   ]
  },
  {
   "cell_type": "code",
   "execution_count": null,
   "metadata": {},
   "outputs": [
    {
     "data": {
      "text/plain": [
       "32.85981187991236"
      ]
     },
     "execution_count": 42,
     "metadata": {},
     "output_type": "execute_result"
    }
   ],
   "source": [
    "c[1]"
   ]
  },
  {
   "cell_type": "code",
   "execution_count": null,
   "metadata": {},
   "outputs": [
    {
     "name": "stdout",
     "output_type": "stream",
     "text": [
      "[[0. 1. 0.]\n",
      " [1. 0. 1.]\n",
      " [0. 1. 0.]]\n"
     ]
    }
   ],
   "source": [
    "print(A)"
   ]
  }
 ],
 "metadata": {
  "kernelspec": {
   "display_name": "base",
   "language": "python",
   "name": "python3"
  },
  "language_info": {
   "codemirror_mode": {
    "name": "ipython",
    "version": 3
   },
   "file_extension": ".py",
   "mimetype": "text/x-python",
   "name": "python",
   "nbconvert_exporter": "python",
   "pygments_lexer": "ipython3",
   "version": "3.11.7"
  }
 },
 "nbformat": 4,
 "nbformat_minor": 2
}
