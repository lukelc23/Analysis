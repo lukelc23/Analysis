{
 "cells": [
  {
   "cell_type": "code",
   "execution_count": 1,
   "metadata": {},
   "outputs": [
    {
     "name": "stdout",
     "output_type": "stream",
     "text": [
      "Rank of K: 7\n",
      "Shape of K: (8, 8)\n",
      "K is singular\n",
      "Solution from lstsq: [ 1.50000000e+00  5.00000000e-01  7.30445089e-16 -1.50000000e+00\n",
      " -5.00000000e-01  1.39657890e-15 -5.00000000e-01  5.00000000e-01]\n",
      "Null space of K: [[-0.00000000e+00]\n",
      " [ 4.08248290e-01]\n",
      " [ 4.08248290e-01]\n",
      " [-5.27882848e-16]\n",
      " [-4.08248290e-01]\n",
      " [-4.08248290e-01]\n",
      " [ 4.08248290e-01]\n",
      " [-4.08248290e-01]]\n"
     ]
    }
   ],
   "source": [
    "import numpy as np\n",
    "from scipy.linalg import null_space\n",
    "\n",
    "# Define matrix K and vector y\n",
    "K = np.array([\n",
    "    [1, 0, 0, 0, 0.5, 0, 0.5, 0],\n",
    "    [0, 1, 0, 0.5, 0, 0.5, 0, 0.5],\n",
    "    [0, 0, 1, 0, 0.5, 0, 0, 0.5],\n",
    "    [0, 0.5, 0, 1, 0, 0, 0, 0.5],\n",
    "    [0.5, 0, 0.5, 0, 1, 0, 0.5, 0],\n",
    "    [0, 0.5, 0, 0, 0, 1, 0.5, 0],\n",
    "    [0.5, 0, 0, 0, 0.5, 0.5, 1, 0],\n",
    "    [0, 0.5, 0.5, 0.5, 0, 0, 0, 1]\n",
    "])\n",
    "\n",
    "y = np.array([1, 1, 1, -1, -1, -1, 1, -1])\n",
    "\n",
    "# Check if K is singular\n",
    "rank_K = np.linalg.matrix_rank(K)\n",
    "print(f\"Rank of K: {rank_K}\")\n",
    "print(f\"Shape of K: {K.shape}\")\n",
    "\n",
    "if rank_K < K.shape[0]:\n",
    "    print(\"K is singular\")\n",
    "\n",
    "    # Finding solutions using lstsq\n",
    "    solution, residuals, rank, s = np.linalg.lstsq(K, y, rcond=None)\n",
    "    print(\"Solution from lstsq:\", solution)\n",
    "\n",
    "    # Checking the null space of K\n",
    "    null_space_K = null_space(K)\n",
    "    print(\"Null space of K:\", null_space_K)\n",
    "\n",
    "    # General solution is particular solution\n"
   ]
  },
  {
   "cell_type": "code",
   "execution_count": 2,
   "metadata": {},
   "outputs": [
    {
     "name": "stdout",
     "output_type": "stream",
     "text": [
      "[  771.92931353 -1163.21002039  -963.21002039]\n",
      "[[ 0.6 -0.7]\n",
      " [-0.2  0.4]]\n"
     ]
    }
   ],
   "source": [
    "import numpy as np\n",
    "k_o = 0.49\n",
    "\n",
    "#testing inverse solution\n",
    "K = np.array([[1,-1,2],[3,2,0],[3,2,0]])\n",
    "I = np.identity(3)\n",
    "y = np.array([1,1,-1])\n",
    "c = 100\n",
    "W = K-np.dot((1/c),I)\n",
    "a = np.linalg.solve(W, y)\n",
    "print(a)\n",
    "\n",
    "A = np.array([[4,7],[2,6]])\n",
    "I_2 = np.identity(2)\n",
    "print(np.linalg.solve(A, I_2))\n",
    "\n",
    "#K matrix without exceptions\n",
    "def K_block(n, k_o):\n",
    "    A = np.identity(n-1)\n",
    "    D = A\n",
    "    k_oArr = k_o * np.ones(n-2)\n",
    "    B = np.diag(k_oArr, k=1) + np.diag(k_oArr, k=-1)\n",
    "    C = B\n",
    "    return np.block([[A,B],[B,A]])    \n",
    "    \n",
    "#def tridiag_exception()"
   ]
  },
  {
   "cell_type": "code",
   "execution_count": 3,
   "metadata": {},
   "outputs": [
    {
     "data": {
      "text/plain": [
       "array([[1., 1., 1.],\n",
       "       [1., 1., 1.],\n",
       "       [1., 1., 1.]])"
      ]
     },
     "execution_count": 3,
     "metadata": {},
     "output_type": "execute_result"
    }
   ],
   "source": [
    "np.ones((3,3))"
   ]
  },
  {
   "cell_type": "code",
   "execution_count": 4,
   "metadata": {},
   "outputs": [
    {
     "data": {
      "text/plain": [
       "array([[1, 1, 2],\n",
       "       [3, 3, 4]])"
      ]
     },
     "execution_count": 4,
     "metadata": {},
     "output_type": "execute_result"
    }
   ],
   "source": [
    "import numpy as np\n",
    "A = np.array([[1,1]])\n",
    "C = 3 * A\n",
    "B = np.array([[2]])\n",
    "D = 2 * B\n",
    "np.block([[A,B],[C,D]])"
   ]
  },
  {
   "cell_type": "code",
   "execution_count": 5,
   "metadata": {},
   "outputs": [
    {
     "name": "stdout",
     "output_type": "stream",
     "text": [
      "[[1 1 2]\n",
      " [3 3 4]]\n"
     ]
    }
   ],
   "source": [
    "import numpy as np\n",
    "\n",
    "# Define sub-blocks as 2D arrays\n",
    "A = np.array([[1, 1]])  # 1x2 array\n",
    "B = np.array([[2]])     # 1x1 array\n",
    "\n",
    "# Element-wise multiplication to scale the arrays\n",
    "C = 3 * A  # Multiplies each element in A by 3, resulting in a 1x2 array\n",
    "D = 2 * B  # Multiplies each element in B by 2, resulting in a 1x1 array\n",
    "\n",
    "# Combine these sub-blocks into a block matrix using np.block\n",
    "block_matrix = np.block([[A, B],\n",
    "                         [C, D]])\n",
    "\n",
    "print(block_matrix)\n"
   ]
  },
  {
   "cell_type": "code",
   "execution_count": 6,
   "metadata": {},
   "outputs": [
    {
     "name": "stdout",
     "output_type": "stream",
     "text": [
      "[[0.  0.5 0.  0. ]\n",
      " [0.5 0.  0.5 0. ]\n",
      " [0.  0.5 0.  0.5]\n",
      " [0.  0.  0.5 0. ]]\n"
     ]
    }
   ],
   "source": [
    "import numpy as np\n",
    "n=4\n",
    "k_o = 0.5\n",
    "diag_len = n-1\n",
    "B = k_o * np.diag(np.ones((diag_len)), k=1) + k_o * np.diag(np.ones((diag_len)), k=-1)\n",
    "print(B)"
   ]
  },
  {
   "cell_type": "code",
   "execution_count": 7,
   "metadata": {},
   "outputs": [
    {
     "name": "stdout",
     "output_type": "stream",
     "text": [
      "A [1. 0. 0.]\n",
      "B [0. 1. 1.]\n",
      "C [0. 1. 1.]\n",
      "D [1. 0. 0.]\n",
      "K [[1.   0.   0.   0.   0.49 0.  ]\n",
      " [0.   1.   0.   0.49 0.   0.49]\n",
      " [0.   0.   1.   0.   0.49 0.  ]\n",
      " [0.   0.49 0.   1.   0.   0.  ]\n",
      " [0.49 0.   0.49 0.   1.   0.  ]\n",
      " [0.   0.49 0.   0.   0.   1.  ]]\n",
      "E_1 [[0.49 0.   0.   0.   0.49 0.49]\n",
      " [0.   0.49 0.49 0.49 0.   0.  ]]\n",
      "E_2 [[0.49 0.  ]\n",
      " [0.   0.49]\n",
      " [0.   0.49]\n",
      " [0.   0.49]\n",
      " [0.49 0.  ]\n",
      " [0.49 0.  ]]\n",
      "E_3 [[1. 0.]\n",
      " [0. 1.]]\n",
      "W [[1.   0.   0.   0.   0.49 0.  ]\n",
      " [0.   1.   0.   0.49 0.   0.49]\n",
      " [0.   0.   1.   0.   0.49 0.  ]\n",
      " [0.   0.49 0.   1.   0.   0.  ]\n",
      " [0.49 0.   0.49 0.   1.   0.  ]\n",
      " [0.   0.49 0.   0.   0.   1.  ]\n",
      " [0.49 0.   0.   0.   0.49 0.49]\n",
      " [0.   0.49 0.49 0.49 0.   0.  ]]\n",
      "X [[0.49 0.  ]\n",
      " [0.   0.49]\n",
      " [0.   0.49]\n",
      " [0.   0.49]\n",
      " [0.49 0.  ]\n",
      " [0.49 0.  ]\n",
      " [1.   0.  ]\n",
      " [0.   1.  ]]\n",
      "Z [[1.   0.   0.   0.   0.49 0.   0.49 0.  ]\n",
      " [0.   1.   0.   0.49 0.   0.49 0.   0.49]\n",
      " [0.   0.   1.   0.   0.49 0.   0.   0.49]\n",
      " [0.   0.49 0.   1.   0.   0.   0.   0.49]\n",
      " [0.49 0.   0.49 0.   1.   0.   0.49 0.  ]\n",
      " [0.   0.49 0.   0.   0.   1.   0.49 0.  ]\n",
      " [0.49 0.   0.   0.   0.49 0.49 1.   0.  ]\n",
      " [0.   0.49 0.49 0.49 0.   0.   0.   1.  ]]\n",
      "[[1.   0.   0.   0.   0.49 0.   0.49 0.  ]\n",
      " [0.   1.   0.   0.49 0.   0.49 0.   0.49]\n",
      " [0.   0.   1.   0.   0.49 0.   0.   0.49]\n",
      " [0.   0.49 0.   1.   0.   0.   0.   0.49]\n",
      " [0.49 0.   0.49 0.   1.   0.   0.49 0.  ]\n",
      " [0.   0.49 0.   0.   0.   1.   0.49 0.  ]\n",
      " [0.49 0.   0.   0.   0.49 0.49 1.   0.  ]\n",
      " [0.   0.49 0.49 0.49 0.   0.   0.   1.  ]]\n"
     ]
    }
   ],
   "source": [
    "import numpy as np\n",
    "\n",
    "n=4\n",
    "k_o = 0.49\n",
    "\n",
    "#K matrix without exceptions\n",
    "def k_block(n, k_o, return_k):\n",
    "    arr_len = n-1\n",
    "    A = np.identity(arr_len)\n",
    "    D = A\n",
    "    diag_len = arr_len-1\n",
    "    B = k_o * np.diag(np.ones((diag_len)), k=1) + k_o * np.diag(np.ones((diag_len)), k=-1)\n",
    "    C = B\n",
    "    E = np.block([[A,B],[B,A]]) \n",
    "    if return_k == False:\n",
    "        return B\n",
    "    else:\n",
    "        return E\n",
    "\n",
    "def one_hot_sim(n, i):\n",
    "    len_arr = n-1\n",
    "    array_pos = i-1     #(-1 to normalize), p and q refer to normal indices (from 1 to len_arr)\n",
    "    arr = np.zeros(len_arr)\n",
    "    if i > 0 and i < n: #if outside, k_o excluded from similarity matrix e.g. AE exception for n=5\n",
    "        arr[array_pos] = 1 \n",
    "    return arr\n",
    "\n",
    "p = 4\n",
    "q = 2\n",
    "\n",
    "#columns in k matrix representing exceptions\n",
    "def k_exp_horiz(n, p, q, k_o):\n",
    "    A = one_hot_sim(n, p) + one_hot_sim(n, q-1)\n",
    "    B = one_hot_sim(n, q) + one_hot_sim(n, p-1)\n",
    "    C = one_hot_sim(n, p-1) + one_hot_sim(n, q)\n",
    "    D = one_hot_sim(n, q-1) + one_hot_sim(n, p)\n",
    "    E = k_o * np.block([[A,C],[B,D]])\n",
    "\n",
    "    print('A', A)\n",
    "    print('B', B)\n",
    "    print('C', C)\n",
    "    print('D', D)\n",
    "    return E\n",
    "\n",
    "K = k_block(n, k_o, True)\n",
    "E_1 = k_exp_horiz(n, p, q, k_o)\n",
    "E_2 = K_trans = E_1.transpose()\n",
    "E_3 = np.identity(2) #2 since there's only 2 columns for exceptions\n",
    "\n",
    "print('K', K)\n",
    "print('E_1', E_1)\n",
    "print('E_2', E_2)\n",
    "print('E_3', E_3)\n",
    "\n",
    "def k_block_excep(K, E_1, E_2, E_3):\n",
    "    W = np.concatenate([K, E_1])\n",
    "    print('W', W)\n",
    "    X = np.concatenate([E_2, E_3])\n",
    "    print('X', X)\n",
    "    Z = np.concatenate([W, X], 1)\n",
    "    print('Z', Z)\n",
    "    return Z\n",
    "\n",
    "K = k_block_excep(K, E_1, E_2, E_3)\n",
    "print(K)\n",
    "\n",
    "\n",
    "\n"
   ]
  },
  {
   "cell_type": "code",
   "execution_count": 8,
   "metadata": {},
   "outputs": [
    {
     "data": {
      "text/plain": [
       "0.008127739635840014"
      ]
     },
     "execution_count": 8,
     "metadata": {},
     "output_type": "execute_result"
    }
   ],
   "source": [
    "np.linalg.det(K)"
   ]
  },
  {
   "cell_type": "code",
   "execution_count": 9,
   "metadata": {},
   "outputs": [
    {
     "data": {
      "text/plain": [
       "8"
      ]
     },
     "execution_count": 9,
     "metadata": {},
     "output_type": "execute_result"
    }
   ],
   "source": [
    "len(K)"
   ]
  },
  {
   "cell_type": "code",
   "execution_count": 10,
   "metadata": {},
   "outputs": [
    {
     "name": "stdout",
     "output_type": "stream",
     "text": [
      "[[1.   0.   0.   0.   0.49 0.   0.49 0.  ]\n",
      " [0.   1.   0.   0.49 0.   0.49 0.   0.49]\n",
      " [0.   0.   1.   0.   0.49 0.   0.   0.49]\n",
      " [0.   0.49 0.   1.   0.   0.   0.   0.49]\n",
      " [0.49 0.   0.49 0.   1.   0.   0.49 0.  ]\n",
      " [0.   0.49 0.   0.   0.   1.   0.49 0.  ]\n",
      " [0.49 0.   0.   0.   0.49 0.49 1.   0.  ]\n",
      " [0.   0.49 0.49 0.49 0.   0.   0.   1.  ]]\n",
      "y [ 1.  1.  1. -1. -1. -1.  1. -1.]\n",
      "[[1.01 0.   0.   0.   0.49 0.   0.49 0.  ]\n",
      " [0.   1.01 0.   0.49 0.   0.49 0.   0.49]\n",
      " [0.   0.   1.01 0.   0.49 0.   0.   0.49]\n",
      " [0.   0.49 0.   1.01 0.   0.   0.   0.49]\n",
      " [0.49 0.   0.49 0.   1.01 0.   0.49 0.  ]\n",
      " [0.   0.49 0.   0.   0.   1.01 0.49 0.  ]\n",
      " [0.49 0.   0.   0.   0.49 0.49 1.01 0.  ]\n",
      " [0.   0.49 0.49 0.49 0.   0.   0.   1.01]]\n",
      "[  1.44955547  33.80685479  33.33333333  -1.44955547 -33.80685479\n",
      " -33.33333333  32.85981188 -32.85981188]\n"
     ]
    }
   ],
   "source": [
    "print(K)\n",
    "I = np.identity(n-1)\n",
    "\n",
    "def create_y(n):\n",
    "    A = np.ones(n-1)\n",
    "    B = A * -1\n",
    "    C = np.array([1, -1])\n",
    "    D = np.concatenate([A, B, C])\n",
    "    return D\n",
    "y = create_y(n)\n",
    "print('y', y)\n",
    "\n",
    "c = 100\n",
    "K_ridge = K + ((1/c) * np.identity(len(K)))\n",
    "print(K_ridge)\n",
    "a = np.linalg.solve(K_ridge, y)\n",
    "print(a)"
   ]
  },
  {
   "cell_type": "code",
   "execution_count": 11,
   "metadata": {},
   "outputs": [
    {
     "name": "stdout",
     "output_type": "stream",
     "text": [
      "[[1.   0.   0.   0.   0.49 0.   0.49 0.  ]\n",
      " [0.   1.   0.   0.49 0.   0.49 0.   0.49]\n",
      " [0.   0.   1.   0.   0.49 0.   0.   0.49]\n",
      " [0.   0.49 0.   1.   0.   0.   0.   0.49]\n",
      " [0.49 0.   0.49 0.   1.   0.   0.49 0.  ]\n",
      " [0.   0.49 0.   0.   0.   1.   0.49 0.  ]\n",
      " [0.49 0.   0.   0.   0.49 0.49 1.   0.  ]\n",
      " [0.   0.49 0.49 0.49 0.   0.   0.   1.  ]]\n",
      "y [ 1.  1.  1. -1. -1. -1.  1. -1.]\n",
      "[  1.47553971  50.4852446   50.          -1.47553971 -50.4852446\n",
      " -50.          49.5147554  -49.5147554 ]\n"
     ]
    }
   ],
   "source": [
    "print(K)\n",
    "I = np.identity(n-1)\n",
    "\n",
    "def create_y(n):\n",
    "    A = np.ones(n-1)\n",
    "    B = A * -1\n",
    "    C = np.array([1, -1])\n",
    "    D = np.concatenate([A, B, C])\n",
    "    return D\n",
    "y = create_y(n)\n",
    "print('y', y)\n",
    "a = np.linalg.solve(K, y)\n",
    "print(a)"
   ]
  },
  {
   "cell_type": "code",
   "execution_count": 12,
   "metadata": {},
   "outputs": [
    {
     "name": "stdout",
     "output_type": "stream",
     "text": [
      "[[ 1.64846549 -0.2049991   0.42863825  0.19891002 -0.67852055  0.42863825\n",
      "  -0.67852055 -0.2049991 ]\n",
      " [-0.2049991   6.79117193  5.00268462 -0.67852055 -4.9190673  -5.88620427\n",
      "   5.34161646 -5.39258875]\n",
      " [ 0.42863825  5.00268462  6.70146553  0.42863825 -5.88620427 -4.85409002\n",
      "   5.00268462 -5.88620427]\n",
      " [ 0.19891002 -0.67852055  0.42863825  1.64846549 -0.2049991   0.42863825\n",
      "  -0.2049991  -0.67852055]\n",
      " [-0.67852055 -4.9190673  -5.88620427 -0.2049991   6.79117193  5.00268462\n",
      "  -5.39258875  5.34161646]\n",
      " [ 0.42863825 -5.88620427 -4.85409002  0.42863825  5.00268462  6.70146553\n",
      "  -5.88620427  5.00268462]\n",
      " [-0.67852055  5.34161646  5.00268462 -0.2049991  -5.39258875 -5.88620427\n",
      "   6.79117193 -4.9190673 ]\n",
      " [-0.2049991  -5.39258875 -5.88620427 -0.67852055  5.34161646  5.00268462\n",
      "  -4.9190673   6.79117193]]\n",
      "[  1.44955547  33.80685479  33.33333333  -1.44955547 -33.80685479\n",
      " -33.33333333  32.85981188 -32.85981188]\n"
     ]
    }
   ],
   "source": [
    "#inverse solution for exceptions\n",
    "K_inv = np.linalg.inv(K_ridge)\n",
    "print(K_inv)\n",
    "a = np.dot(K_inv, y)\n",
    "print(a)\n"
   ]
  },
  {
   "cell_type": "code",
   "execution_count": 13,
   "metadata": {},
   "outputs": [
    {
     "name": "stdout",
     "output_type": "stream",
     "text": [
      "[  1.44955547  33.80685479  33.33333333  -1.44955547 -33.80685479\n",
      " -33.33333333  32.85981188 -32.85981188]\n",
      "4\n"
     ]
    }
   ],
   "source": [
    "#dual coefficients\n",
    "print(a)\n",
    "print(n)\n"
   ]
  },
  {
   "cell_type": "code",
   "execution_count": 14,
   "metadata": {},
   "outputs": [
    {
     "name": "stdout",
     "output_type": "stream",
     "text": [
      "{1: 1.4495554696559723, 2: 33.80685478675426, 3: 33.333333333333314}\n",
      "{1: -1.4495554696559716, 2: -33.80685478675426, 3: -33.33333333333331}\n",
      "32.85981187991236\n",
      "-32.85981187991236\n"
     ]
    }
   ],
   "source": [
    "n=4\n",
    "# Create a dictionary with keys generated using the index and values from the array\n",
    "num_coeff = n-1\n",
    "b = {i: a[i-1] for i in range(1, num_coeff + 1)}\n",
    "b_bar = {i: a[i-1+n-1] for i in range(1, num_coeff + 1)}\n",
    "c = {1: a[2 * num_coeff]}\n",
    "c_bar = {1: a[2 * num_coeff + 1]}\n",
    "print(b)\n",
    "print(b_bar)\n",
    "print(c[1])\n",
    "print(c_bar[1])"
   ]
  },
  {
   "cell_type": "code",
   "execution_count": 15,
   "metadata": {},
   "outputs": [
    {
     "data": {
      "text/plain": [
       "{1: 1.4495554696559723, 2: 33.80685478675426, 3: 33.333333333333314}"
      ]
     },
     "execution_count": 15,
     "metadata": {},
     "output_type": "execute_result"
    }
   ],
   "source": [
    "p\n",
    "b"
   ]
  },
  {
   "cell_type": "code",
   "execution_count": 16,
   "metadata": {},
   "outputs": [
    {
     "name": "stdout",
     "output_type": "stream",
     "text": [
      "[0. 0. 0.]\n",
      "[ 1.94340328 34.7851247  34.14601893]\n",
      "{1: 1.4495554696559723, 2: 33.80685478675426, 3: 33.333333333333314}\n",
      "{1: 32.85981187991236}\n",
      "-31.188409998711478\n"
     ]
    },
    {
     "ename": "TypeError",
     "evalue": "unsupported operand type(s) for *: 'float' and 'dict'",
     "output_type": "error",
     "traceback": [
      "\u001b[1;31m---------------------------------------------------------------------------\u001b[0m",
      "\u001b[1;31mTypeError\u001b[0m                                 Traceback (most recent call last)",
      "Cell \u001b[1;32mIn[16], line 27\u001b[0m\n\u001b[0;32m     24\u001b[0m \u001b[38;5;28mprint\u001b[39m(c)\n\u001b[0;32m     25\u001b[0m \u001b[38;5;28mprint\u001b[39m(c_analytical)\n\u001b[1;32m---> 27\u001b[0m \u001b[38;5;28mprint\u001b[39m(np\u001b[38;5;241m.\u001b[39mdot(K_inv[\u001b[38;5;241m2\u001b[39m\u001b[38;5;241m*\u001b[39m(n\u001b[38;5;241m-\u001b[39m\u001b[38;5;241m1\u001b[39m),:], b))\n\u001b[0;32m     32\u001b[0m sol(\u001b[38;5;241m1\u001b[39m,\u001b[38;5;241m1\u001b[39m,\u001b[38;5;241m1\u001b[39m,\u001b[38;5;241m1\u001b[39m,\u001b[38;5;241m0.5\u001b[39m)\n",
      "File \u001b[1;32m<__array_function__ internals>:200\u001b[0m, in \u001b[0;36mdot\u001b[1;34m(*args, **kwargs)\u001b[0m\n",
      "\u001b[1;31mTypeError\u001b[0m: unsupported operand type(s) for *: 'float' and 'dict'"
     ]
    }
   ],
   "source": [
    "#f(j,k)\n",
    "\n",
    "def e_i(i,n):\n",
    "    e = np.zeros(n-1)\n",
    "    if i >= 1 and i < n:\n",
    "        i = i-1\n",
    "        e[i] = 1\n",
    "\n",
    "    return e\n",
    "\n",
    "print(e_i(4, 4))\n",
    "\n",
    "A = k_block(4, 1, False)\n",
    "B = np.linalg.inv(np.identity(n-1) - (A*k_o))\n",
    "b_til = B * np.identity(n-1)\n",
    "\n",
    "\n",
    "K_mult = np.ones(n-1) - (c[1]*k_o*(e_i(p, 4) + e_i(q-1, 4) - e_i(p-1, 4) - e_i(q, 4)))\n",
    "b_analytical = np.dot(B, K_mult)\n",
    "\n",
    "c_analytical = 1 - (k_o * (b_bar[q-1] - b_bar[p-1] - b_bar[q]))\n",
    "print(b_analytical)\n",
    "print(b)\n",
    "print(c)\n",
    "print(c_analytical)\n",
    "\n",
    "print(np.dot(K_inv[2*(n-1),:], b))\n",
    "\n",
    "\n",
    "\n",
    "    \n",
    "sol(1,1,1,1,0.5)"
   ]
  },
  {
   "cell_type": "code",
   "execution_count": null,
   "metadata": {},
   "outputs": [
    {
     "name": "stdout",
     "output_type": "stream",
     "text": [
      "[3. 0. 0. 0. 3. 3. 3. 0.]\n",
      "[-0.29268293 -0.41463415 -0.19512195  0.29268293  0.41463415  0.19512195\n",
      "  0.01626016 -0.01626016]\n",
      "[ 1.  1.  1. -1. -1. -1.  1. -1.]\n",
      "8\n",
      "0.01626016260162602\n",
      "1.0\n",
      "[3. 0. 0. 0. 3. 3. 3. 0.]\n"
     ]
    }
   ],
   "source": [
    "print(K[2*(n-1),:])\n",
    "print(a)\n",
    "print(np.dot(K, a))\n",
    "\n",
    "print(len(K_inv))\n",
    "print(np.dot(K_inv[2*(n-1),:], y))\n",
    "print(np.dot(K[2*(n-1),:], a))\n",
    "print(K[2*(n-1),:])\n"
   ]
  },
  {
   "cell_type": "code",
   "execution_count": null,
   "metadata": {},
   "outputs": [
    {
     "data": {
      "text/plain": [
       "0.01626016260162602"
      ]
     },
     "execution_count": 107,
     "metadata": {},
     "output_type": "execute_result"
    }
   ],
   "source": [
    "c[1]"
   ]
  },
  {
   "cell_type": "code",
   "execution_count": null,
   "metadata": {},
   "outputs": [
    {
     "name": "stdout",
     "output_type": "stream",
     "text": [
      "[[0. 1. 0.]\n",
      " [1. 0. 1.]\n",
      " [0. 1. 0.]]\n"
     ]
    }
   ],
   "source": [
    "print(A)"
   ]
  }
 ],
 "metadata": {
  "kernelspec": {
   "display_name": "base",
   "language": "python",
   "name": "python3"
  },
  "language_info": {
   "codemirror_mode": {
    "name": "ipython",
    "version": 3
   },
   "file_extension": ".py",
   "mimetype": "text/x-python",
   "name": "python",
   "nbconvert_exporter": "python",
   "pygments_lexer": "ipython3",
   "version": "3.11.7"
  }
 },
 "nbformat": 4,
 "nbformat_minor": 2
}
