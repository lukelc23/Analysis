{
 "cells": [
  {
   "cell_type": "code",
   "execution_count": 1,
   "metadata": {},
   "outputs": [
    {
     "name": "stdout",
     "output_type": "stream",
     "text": [
      "[[1.  0.  0.  0.  0.  0.5 0.  0. ]\n",
      " [0.  1.  0.  0.  0.5 0.  0.5 0. ]\n",
      " [0.  0.  1.  0.  0.  0.5 0.  0.5]\n",
      " [0.  0.  0.  1.  0.  0.  0.5 0. ]\n",
      " [0.  0.5 0.  0.  1.  0.  0.  0. ]\n",
      " [0.5 0.  0.5 0.  0.  1.  0.  0. ]\n",
      " [0.  0.5 0.  0.5 0.  0.  1.  0. ]\n",
      " [0.  0.  0.5 0.  0.  0.  0.  1. ]]\n",
      "[0.  0.5 0.  0.  1.  0.  0.  0. ]\n"
     ]
    }
   ],
   "source": [
    "import numpy as np\n",
    "\n",
    "#K matrix without exceptions\n",
    "def K_block(n, k_o):\n",
    "    A = np.identity(n-1)\n",
    "    D = A\n",
    "    k_oArr = k_o * np.ones(n-2)\n",
    "    B = np.diag(k_oArr, k=1) + np.diag(k_oArr, k=-1)\n",
    "    C = B\n",
    "    return np.block([[A,B],[B,A]]) \n",
    "\n",
    "#testing inverse solution\n",
    "n = 5\n",
    "k_o = 0.5\n",
    "print(K_block(n, k_o))\n",
    "\n",
    "def one_hot_sim(n, i):\n",
    "    len_arr = n-1\n",
    "    array_pos = i-1     #(-1 to normalize), p and q refer to normal indices (from 1 to len_arr)\n",
    "    arr = np.zeros(len_arr)\n",
    "    if i > 0 and i < n: #if outside, k_o excluded from similarity matrix e.g. AE exception for n=5\n",
    "        arr[array_pos] = 1 \n",
    "    return arr\n",
    "\n",
    "def K_row_test(n, j, k):\n",
    "    A = one_hot_sim(n, j) + one_hot_sim(n, k-1)\n",
    "    B = one_hot_sim(n, k-1) + one_hot_sim(n, k)\n",
    "    return np.transpose(np.concatenate([A,B]))\n",
    "\n",
    "def K_row_training(n, i, y):\n",
    "    K = K_block(n, k_o)\n",
    "    arr_pos = i-1\n",
    "    arr_pos_neg = arr_pos + (n-1)\n",
    "    if y == 1:\n",
    "        return K[arr_pos,:]\n",
    "    else:\n",
    "        return K[arr_pos_neg,:]\n",
    "\n",
    "def create_y(n):\n",
    "    A = np.ones(n-1)\n",
    "    B = A * -1\n",
    "    return np.concatenate([A,B])\n",
    "y = create_y(n)\n",
    "\n",
    "print(K_row_training(5, 5, 1))\n"
   ]
  },
  {
   "cell_type": "code",
   "execution_count": 3,
   "metadata": {},
   "outputs": [
    {
     "name": "stdout",
     "output_type": "stream",
     "text": [
      "5.0\n"
     ]
    }
   ],
   "source": [
    "K_row = K_row_training(5, 1, 1)\n",
    "I = np.identity(n-1)\n",
    "y = create_y(n)\n",
    "K_row_inv = np.divide(1,K_row, where=(K_row != 0))\n",
    "a = K_row_inv @ y\n",
    "print(a)"
   ]
  }
 ],
 "metadata": {
  "kernelspec": {
   "display_name": "base",
   "language": "python",
   "name": "python3"
  },
  "language_info": {
   "codemirror_mode": {
    "name": "ipython",
    "version": 3
   },
   "file_extension": ".py",
   "mimetype": "text/x-python",
   "name": "python",
   "nbconvert_exporter": "python",
   "pygments_lexer": "ipython3",
   "version": "3.11.7"
  }
 },
 "nbformat": 4,
 "nbformat_minor": 2
}
