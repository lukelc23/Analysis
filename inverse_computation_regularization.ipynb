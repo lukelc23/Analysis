{
 "cells": [
  {
   "cell_type": "markdown",
   "id": "1c8ac1f6",
   "metadata": {},
   "source": [
    "Implemented: Inverse computation with regularization\n",
    "- Uses np.linalg.solve for a and a_bar\n",
    "- Uses reg instead of c for the regularization parameter\n",
    "\n",
    "Not implemented: With Exceptions (yet)\n"
   ]
  },
  {
   "cell_type": "markdown",
   "id": "c86e3cc6",
   "metadata": {},
   "source": [
    "# Verify formula with regularization \n",
    "\n",
    "[x] DONE \n",
    "\n",
    "$ y = (k + \\frac{1}{c} I ) a $\n",
    "\n",
    "$ y = (\\tilde{K} + \\tilde{c}^{-1} I ) a $\n",
    "\n",
    "$ \\frac{1}{\\delta_s} (\\tilde{K} + \\tilde{c}^{-1} I )^{-1} 1 = \\bar{a} $\n",
    "\n",
    "Steps: \n",
    "* Set regularization\n",
    "* Change k_create to include k_o\n",
    "    * Set $\\tilde{c}$ and $k_s$ and $k_d = 0$\n",
    "* Look up and set $\\tilde{K}$"
   ]
  },
  {
   "cell_type": "code",
   "execution_count": 2,
   "id": "5444455f",
   "metadata": {},
   "outputs": [],
   "source": [
    "import numpy as np\n",
    "#list important:\n",
    "# k_create,\n",
    "# one_hot_sim, k_exp_horiz\n",
    "\n",
    "#Set Parameters\n",
    "n = 7\n",
    "k_o = 0.4\n",
    "k_s = 1.8\n",
    "k_d = 0\n",
    "delta_s = k_s - k_d\n",
    "delta_o = k_o - k_d\n",
    "alpha = 1 - (2 * (delta_o/delta_s))\n",
    "alpha_prime = delta_o/delta_s\n",
    "p = 5\n",
    "q = 2\n",
    "c_var = 0\n",
    "lamb_val = np.arccosh((1+c_var)/(1-alpha))\n",
    "\n",
    "K = {}\n",
    "K_exp = {}\n",
    "A = {}\n",
    "\n",
    "arr_len = n-1\n",
    "dual_len = (n-1) * 2\n",
    "dual_len_exp = (n-1)*2 + 2\n",
    "a = np.zeros(dual_len)\n",
    "a_exp = np.zeros(dual_len_exp)\n",
    "b = np.zeros(arr_len)\n",
    "b_bar = np.zeros(arr_len)\n",
    "c = np.zeros(1)\n",
    "c_bar = np.zeros(1) \n",
    "\n",
    "reg = 2\n",
    "\n",
    "def printer(var):\n",
    "    print('{var}:', var)\n",
    "\n",
    "def check_variables():\n",
    "    print('n: ', n)\n",
    "    print('alpha: ', alpha)\n",
    "    print('k_s: ', k_s)\n",
    "    print('k_o: ', k_o)\n",
    "    print('alpha_prime: ', alpha_prime)\n",
    "    print('c_var', c_var)\n",
    "    print('lamb_val', lamb_val)\n",
    "    print('a', a)\n",
    "    print('a_exp', a_exp)\n",
    "    print('b', b)\n",
    "    print('c', c)\n"
   ]
  },
  {
   "cell_type": "code",
   "execution_count": 3,
   "id": "f7c17866",
   "metadata": {},
   "outputs": [],
   "source": [
    "#K matrix without exceptions\n",
    "    # return_k = false -> returns offset diagonal  \n",
    "def tridiag(n):\n",
    "    arr_len = n-1\n",
    "    diag_len = arr_len-1\n",
    "    B = np.diag(np.ones((diag_len)), k=1) + np.diag(np.ones((diag_len)), k=-1)\n",
    "    return B        \n",
    "\n",
    "def k_create(n, alpha_prime):\n",
    "    arr_len = n-1\n",
    "    A = k_s * np.identity(arr_len)\n",
    "    D = A\n",
    "    B = k_o*tridiag(n)\n",
    "    C = B\n",
    "    E = np.block([[A,B],[B,A]])\n",
    "    return E\n",
    "\n",
    "def k_tilde_create(n, alpha_prime):\n",
    "    arr_len = n-1\n",
    "    A = np.identity(arr_len)\n",
    "    B = -alpha_prime*tridiag(n)\n",
    "    E = A + B\n",
    "    return E\n",
    "\n",
    "def y_create(n):\n",
    "    A = np.ones(n-1)\n",
    "    B = A * -1\n",
    "    D = np.concatenate([A, B])\n",
    "    return D\n",
    "\n",
    "def a_create(n, alpha_prime):\n",
    "    K = k_create(n, alpha_prime)\n",
    "    y = y_create(n)\n",
    "    a = np.linalg.solve(K, y)\n",
    "    return a\n",
    "\n",
    "def a_create_reg(n, alpha_prime, c):\n",
    "    K = k_create(n, alpha_prime)\n",
    "    y = y_create(n)\n",
    "    a = np.linalg.solve(K + (1/c)*np.identity((n-1)*2), y)\n",
    "    return a\n"
   ]
  },
  {
   "cell_type": "code",
   "execution_count": 4,
   "id": "71ed9792",
   "metadata": {},
   "outputs": [
    {
     "name": "stdout",
     "output_type": "stream",
     "text": [
      "K \n",
      " [[1.8 0.  0.  0.  0.  0.  0.  0.4 0.  0.  0.  0. ]\n",
      " [0.  1.8 0.  0.  0.  0.  0.4 0.  0.4 0.  0.  0. ]\n",
      " [0.  0.  1.8 0.  0.  0.  0.  0.4 0.  0.4 0.  0. ]\n",
      " [0.  0.  0.  1.8 0.  0.  0.  0.  0.4 0.  0.4 0. ]\n",
      " [0.  0.  0.  0.  1.8 0.  0.  0.  0.  0.4 0.  0.4]\n",
      " [0.  0.  0.  0.  0.  1.8 0.  0.  0.  0.  0.4 0. ]\n",
      " [0.  0.4 0.  0.  0.  0.  1.8 0.  0.  0.  0.  0. ]\n",
      " [0.4 0.  0.4 0.  0.  0.  0.  1.8 0.  0.  0.  0. ]\n",
      " [0.  0.4 0.  0.4 0.  0.  0.  0.  1.8 0.  0.  0. ]\n",
      " [0.  0.  0.4 0.  0.4 0.  0.  0.  0.  1.8 0.  0. ]\n",
      " [0.  0.  0.  0.4 0.  0.4 0.  0.  0.  0.  1.8 0. ]\n",
      " [0.  0.  0.  0.  0.4 0.  0.  0.  0.  0.  0.  1.8]]\n",
      "K + (1/c)*np.identity((n-1)*2) \n",
      " [[2.3 0.  0.  0.  0.  0.  0.  0.4 0.  0.  0.  0. ]\n",
      " [0.  2.3 0.  0.  0.  0.  0.4 0.  0.4 0.  0.  0. ]\n",
      " [0.  0.  2.3 0.  0.  0.  0.  0.4 0.  0.4 0.  0. ]\n",
      " [0.  0.  0.  2.3 0.  0.  0.  0.  0.4 0.  0.4 0. ]\n",
      " [0.  0.  0.  0.  2.3 0.  0.  0.  0.  0.4 0.  0.4]\n",
      " [0.  0.  0.  0.  0.  2.3 0.  0.  0.  0.  0.4 0. ]\n",
      " [0.  0.4 0.  0.  0.  0.  2.3 0.  0.  0.  0.  0. ]\n",
      " [0.4 0.  0.4 0.  0.  0.  0.  2.3 0.  0.  0.  0. ]\n",
      " [0.  0.4 0.  0.4 0.  0.  0.  0.  2.3 0.  0.  0. ]\n",
      " [0.  0.  0.4 0.  0.4 0.  0.  0.  0.  2.3 0.  0. ]\n",
      " [0.  0.  0.  0.4 0.  0.4 0.  0.  0.  0.  2.3 0. ]\n",
      " [0.  0.  0.  0.  0.4 0.  0.  0.  0.  0.  0.  2.3]]\n",
      "det: 681.6126258749446\n",
      "{var}: [ 0.54696663  0.64505811  0.6621175   0.6621175   0.64505811  0.54696663\n",
      " -0.54696663 -0.64505811 -0.6621175  -0.6621175  -0.64505811 -0.54696663]\n",
      "{var}: [0.54696663 0.64505811 0.6621175  0.6621175  0.64505811 0.54696663]\n"
     ]
    }
   ],
   "source": [
    "K = k_create(n,alpha_prime)\n",
    "print('K', '\\n', K)\n",
    "print('K + (1/c)*np.identity((n-1)*2)', '\\n', K + (1/reg)*np.identity((n-1)*2))\n",
    "print('det:', np.linalg.det(K))\n",
    "y = y_create(n)\n",
    "a = a_create_reg(n, alpha_prime, reg)\n",
    "printer(a)\n",
    "\n",
    "K_tilde = k_tilde_create(n,alpha_prime)\n",
    "a_bar = a[:len(a)//2]\n",
    "printer(a_bar)"
   ]
  },
  {
   "cell_type": "code",
   "execution_count": 5,
   "id": "29db0bbe",
   "metadata": {},
   "outputs": [
    {
     "name": "stdout",
     "output_type": "stream",
     "text": [
      "[ 1.  1.  1.  1.  1.  1. -1. -1. -1. -1. -1. -1.]\n"
     ]
    }
   ],
   "source": [
    "print((K + (1/reg)*np.identity((n-1)*2)) @ a)"
   ]
  },
  {
   "cell_type": "code",
   "execution_count": 6,
   "id": "f260a3d9",
   "metadata": {},
   "outputs": [
    {
     "name": "stdout",
     "output_type": "stream",
     "text": [
      "test: K@a = y \n",
      "\n"
     ]
    }
   ],
   "source": [
    "def test_Ka_y_reg():\n",
    "    assert np.allclose( (K + (1/reg)*np.identity((n-1)*2)) @ a, y), \"if not equal\"\n",
    "    print('test: K@a = y', '\\n')\n",
    "\n",
    "test_Ka_y_reg()"
   ]
  },
  {
   "cell_type": "code",
   "execution_count": 7,
   "id": "0e3b5587",
   "metadata": {},
   "outputs": [
    {
     "name": "stdout",
     "output_type": "stream",
     "text": [
      "[[ 1.8 -0.4  0.   0.   0.   0. ]\n",
      " [-0.4  1.8 -0.4  0.   0.   0. ]\n",
      " [ 0.  -0.4  1.8 -0.4  0.   0. ]\n",
      " [ 0.   0.  -0.4  1.8 -0.4  0. ]\n",
      " [ 0.   0.   0.  -0.4  1.8 -0.4]\n",
      " [ 0.   0.   0.   0.  -0.4  1.8]]\n",
      "[[1.8 0.  0.  0.  0.  0.  0.  0.4 0.  0.  0.  0. ]\n",
      " [0.  1.8 0.  0.  0.  0.  0.4 0.  0.4 0.  0.  0. ]\n",
      " [0.  0.  1.8 0.  0.  0.  0.  0.4 0.  0.4 0.  0. ]\n",
      " [0.  0.  0.  1.8 0.  0.  0.  0.  0.4 0.  0.4 0. ]\n",
      " [0.  0.  0.  0.  1.8 0.  0.  0.  0.  0.4 0.  0.4]\n",
      " [0.  0.  0.  0.  0.  1.8 0.  0.  0.  0.  0.4 0. ]\n",
      " [0.  0.4 0.  0.  0.  0.  1.8 0.  0.  0.  0.  0. ]\n",
      " [0.4 0.  0.4 0.  0.  0.  0.  1.8 0.  0.  0.  0. ]\n",
      " [0.  0.4 0.  0.4 0.  0.  0.  0.  1.8 0.  0.  0. ]\n",
      " [0.  0.  0.4 0.  0.4 0.  0.  0.  0.  1.8 0.  0. ]\n",
      " [0.  0.  0.  0.4 0.  0.4 0.  0.  0.  0.  1.8 0. ]\n",
      " [0.  0.  0.  0.  0.4 0.  0.  0.  0.  0.  0.  1.8]]\n"
     ]
    }
   ],
   "source": [
    "print(delta_s * K_tilde)\n",
    "print(K)\n"
   ]
  },
  {
   "cell_type": "code",
   "execution_count": null,
   "id": "6bb69f53",
   "metadata": {},
   "outputs": [
    {
     "name": "stdout",
     "output_type": "stream",
     "text": [
      "{var}: [1. 1. 1. 1. 1. 1.]\n",
      "{var}: [0.54696663 0.64505811 0.6621175  0.6621175  0.64505811 0.54696663]\n",
      "{var}: [0.54696663 0.64505811 0.6621175  0.6621175  0.64505811 0.54696663]\n"
     ]
    }
   ],
   "source": [
    "(K + (1/reg)*np.identity((n-1)*2)) @ a\n",
    "reg_tilde = reg * delta_s\n",
    "\n",
    "printer( ( (delta_s) * (K_tilde + (1/reg_tilde)*np.identity(len(K_tilde))) ) @ a_bar )\n",
    "\n",
    "printer(a_bar)\n",
    "\n",
    "printer( ( (1/delta_s) * np.linalg.inv(K_tilde + (1/reg_tilde)*np.identity(len(K_tilde))) ) @ np.ones(n-1) )"
   ]
  },
  {
   "cell_type": "code",
   "execution_count": null,
   "id": "4aeb0184",
   "metadata": {},
   "outputs": [
    {
     "name": "stdout",
     "output_type": "stream",
     "text": [
      "{var}: 3.6\n"
     ]
    }
   ],
   "source": [
    "reg_tilde = reg * delta_s\n",
    "printer(reg_tilde)"
   ]
  }
 ],
 "metadata": {
  "kernelspec": {
   "display_name": "base",
   "language": "python",
   "name": "python3"
  },
  "language_info": {
   "codemirror_mode": {
    "name": "ipython",
    "version": 3
   },
   "file_extension": ".py",
   "mimetype": "text/x-python",
   "name": "python",
   "nbconvert_exporter": "python",
   "pygments_lexer": "ipython3",
   "version": "3.11.7"
  }
 },
 "nbformat": 4,
 "nbformat_minor": 5
}
