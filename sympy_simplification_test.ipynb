{
 "cells": [
  {
   "cell_type": "code",
   "execution_count": 23,
   "metadata": {},
   "outputs": [
    {
     "name": "stdout",
     "output_type": "stream",
     "text": [
      "(2*sinh(lamb/2)*cosh(lamb*n/2) - sinh(lamb*(n/2 - p + 1/2)) + sinh(lamb*(n/2 - q + 1/2)))/(2*sinh(lamb/2)*cosh(lamb*n/2))\n",
      "2*sinh(lamb*(p + q)/2)*cosh(lamb*(n - p - q + 1)/2)\n"
     ]
    }
   ],
   "source": [
    "import sympy as sp\n",
    "\n",
    "lamb = symbols('lamb')\n",
    "n = symbols('n')\n",
    "p = symbols('p')\n",
    "q = symbols('q')\n",
    "\n",
    "\n",
    "sp.trigsimp(2 * cosh( ( (n+1/2) - (p/2) ) * lamb  ) * sinh(p * lamb) - \n",
    "         2 * cosh( ( (n/2) - (p/2) ) * lamb  ) * sinh(q * lamb))\n",
    "\n",
    "expression = 1 + (\n",
    "    (sp.sinh(((n + 1) / 2 - q) * lamb) - sp.sinh(((n + 1) / 2 - p) * lamb)) \n",
    "    / (sp.sinh(((n + 1) / 2) * lamb) - sp.sinh(((n - 1) / 2) * lamb))\n",
    ")\n",
    "\n",
    "# Simplify the expression if needed\n",
    "simplified_expression = sp.simplify(expression)\n",
    "\n",
    "print(simplified_expression)\n",
    "\n",
    "expression = 2 * cosh( ( (n+1)/2 - (p+q)/2 ) * lamb ) * sinh( (p+q)/2 * lamb )\n",
    "\n",
    "# Simplify the expression if needed\n",
    "simplified_expression = sp.simplify(expression)\n",
    "print(simplified_expression)"
   ]
  },
  {
   "cell_type": "code",
   "execution_count": null,
   "metadata": {},
   "outputs": [],
   "source": [
    "#next = Doing num and then denom, then the whole thing (probably the last step is where the error could be)\n",
    "#next2 = Doing next plus"
   ]
  },
  {
   "cell_type": "code",
   "execution_count": 64,
   "metadata": {},
   "outputs": [
    {
     "name": "stdout",
     "output_type": "stream",
     "text": [
      "Numerator: (2*sinh(lamb/2)*cosh(lamb*n/2) - sinh(lamb*(n/2 - p + 1/2)) + sinh(lamb*(n/2 - q + 1/2)))/(2*sinh(lamb/2)*cosh(lamb*n/2))\n",
      "Denominator: (2*alpha_prime*(2*sinh(lamb*(n - p/2 + q/2)) - sinh(lamb*(n - 3*p/2 - q/2 + 1)) + sinh(lamb*(n - p/2 - 3*q/2 + 1)))*sinh(lamb*(p - q)/2)*tanh(lamb/2) - (2*alpha_prime - 1)*sinh(lamb*n))/sinh(lamb*n)\n",
      "total (2*sinh(lamb/2)*cosh(lamb*n/2) - sinh(lamb*(n/2 - p + 1/2)) + sinh(lamb*(n/2 - q + 1/2)))*sinh(lamb*n)/(2*(2*alpha_prime*(2*sinh(lamb*(n - p/2 + q/2)) - sinh(lamb*(n - 3*p/2 - q/2 + 1)) + sinh(lamb*(n - p/2 - 3*q/2 + 1)))*sinh(lamb*(p - q)/2)*tanh(lamb/2) - (2*alpha_prime - 1)*sinh(lamb*n))*sinh(lamb/2)*cosh(lamb*n/2))\n"
     ]
    }
   ],
   "source": [
    "import sympy as sp\n",
    "from sympy import trigsimp, cosh, sinh, tanh, symbols\n",
    "\n",
    "# Define the symbolic variables\n",
    "n, q, p, alpha, alpha_prime, lamb = sp.symbols('n q p alpha alpha_prime lamb')\n",
    "\n",
    "# Define the numerator expression using SymPy functions\n",
    "num = 1 + (\n",
    "    (sp.sinh(((n + 1) / 2 - q) * lamb) - sp.sinh(((n + 1) / 2 - p) * lamb)) \n",
    "    / (sp.sinh(((n + 1) / 2) * lamb) - sp.sinh(((n - 1) / 2) * lamb))\n",
    ")\n",
    "\n",
    "# Define the denominator expression using SymPy functions\n",
    "denom = 1 - 2*alpha_prime - (\n",
    "    4 * alpha_prime * (sp.tanh(lamb / 2) * sp.sinh(((q - p) / 2) * lamb) / sp.sinh(lamb * n)) \n",
    "    * (\n",
    "        (sp.cosh((q - 1 / 2) * lamb) * sp.sinh((n - ((p + q) / 2 - 1 / 2)) * lamb)) +\n",
    "        (sp.cosh((n - p + 1 / 2) * lamb) * sp.sinh(((p + q) / 2 - 1 / 2) * lamb))\n",
    "    )\n",
    ")\n",
    "\n",
    "# Simplify the expressions if needed\n",
    "simplified_num = sp.simplify(num)\n",
    "simplified_denom = sp.simplify(denom)\n",
    "simplified_total = sp.simplify(num/denom)\n",
    "\n",
    "print(\"Numerator:\", simplified_num)\n",
    "print(\"Denominator:\", simplified_denom)\n",
    "print(\"total\", simplified_total)\n"
   ]
  },
  {
   "cell_type": "code",
   "execution_count": 25,
   "metadata": {},
   "outputs": [
    {
     "data": {
      "text/latex": [
       "$\\displaystyle \\frac{\\left(2 \\sinh{\\left(\\frac{lamb}{2} \\right)} \\cosh{\\left(\\frac{lamb n}{2} \\right)} - \\sinh{\\left(lamb \\left(\\frac{n}{2} - p + \\frac{1}{2}\\right) \\right)} + \\sinh{\\left(lamb \\left(\\frac{n}{2} - q + \\frac{1}{2}\\right) \\right)}\\right) \\sinh{\\left(lamb n \\right)}}{2 \\cdot \\left(2 \\alpha_{prime} \\left(2 \\sinh{\\left(lamb \\left(n - \\frac{p}{2} + \\frac{q}{2}\\right) \\right)} - \\sinh{\\left(lamb \\left(n - \\frac{3 p}{2} - \\frac{q}{2} + 1\\right) \\right)} + \\sinh{\\left(lamb \\left(n - \\frac{p}{2} - \\frac{3 q}{2} + 1\\right) \\right)}\\right) \\sinh{\\left(\\frac{lamb \\left(p - q\\right)}{2} \\right)} \\tanh{\\left(\\frac{lamb}{2} \\right)} - \\left(2 \\alpha_{prime} - 1\\right) \\sinh{\\left(lamb n \\right)}\\right) \\sinh{\\left(\\frac{lamb}{2} \\right)} \\cosh{\\left(\\frac{lamb n}{2} \\right)}}$"
      ],
      "text/plain": [
       "(2*sinh(lamb/2)*cosh(lamb*n/2) - sinh(lamb*(n/2 - p + 1/2)) + sinh(lamb*(n/2 - q + 1/2)))*sinh(lamb*n)/(2*(2*alpha_prime*(2*sinh(lamb*(n - p/2 + q/2)) - sinh(lamb*(n - 3*p/2 - q/2 + 1)) + sinh(lamb*(n - p/2 - 3*q/2 + 1)))*sinh(lamb*(p - q)/2)*tanh(lamb/2) - (2*alpha_prime - 1)*sinh(lamb*n))*sinh(lamb/2)*cosh(lamb*n/2))"
      ]
     },
     "metadata": {},
     "output_type": "display_data"
    }
   ],
   "source": [
    "from IPython.display import display, Math\n",
    "display(simplified_total)"
   ]
  },
  {
   "cell_type": "code",
   "execution_count": 26,
   "metadata": {},
   "outputs": [
    {
     "data": {
      "text/latex": [
       "$\\displaystyle \\frac{\\left(2 \\sinh{\\left(\\frac{lamb}{2} \\right)} \\cosh{\\left(\\frac{lamb n}{2} \\right)} - \\sinh{\\left(lamb \\left(\\frac{n}{2} - p + \\frac{1}{2}\\right) \\right)} + \\sinh{\\left(lamb \\left(\\frac{n}{2} - q + \\frac{1}{2}\\right) \\right)}\\right) \\tanh{\\left(\\frac{lamb}{2} \\right)}}{2 \\cdot \\left(2 \\alpha_{prime} \\left(2 \\sinh{\\left(lamb \\left(n - \\frac{p}{2} + \\frac{q}{2}\\right) \\right)} - \\sinh{\\left(lamb \\left(n - \\frac{3 p}{2} - \\frac{q}{2} + 1\\right) \\right)} + \\sinh{\\left(lamb \\left(n - \\frac{p}{2} - \\frac{3 q}{2} + 1\\right) \\right)}\\right) \\sinh{\\left(\\frac{lamb \\left(p - q\\right)}{2} \\right)} \\tanh{\\left(\\frac{lamb}{2} \\right)} - \\left(2 \\alpha_{prime} - 1\\right) \\sinh{\\left(lamb n \\right)}\\right) \\sinh{\\left(\\frac{lamb}{2} \\right)} \\cosh{\\left(lamb \\right)} \\cosh{\\left(\\frac{lamb n}{2} \\right)}}$"
      ],
      "text/plain": [
       "(2*sinh(lamb/2)*cosh(lamb*n/2) - sinh(lamb*(n/2 - p + 1/2)) + sinh(lamb*(n/2 - q + 1/2)))*tanh(lamb/2)/(2*(2*alpha_prime*(2*sinh(lamb*(n - p/2 + q/2)) - sinh(lamb*(n - 3*p/2 - q/2 + 1)) + sinh(lamb*(n - p/2 - 3*q/2 + 1)))*sinh(lamb*(p - q)/2)*tanh(lamb/2) - (2*alpha_prime - 1)*sinh(lamb*n))*sinh(lamb/2)*cosh(lamb)*cosh(lamb*n/2))"
      ]
     },
     "metadata": {},
     "output_type": "display_data"
    }
   ],
   "source": [
    "alpha_prime = 1 / (2*cosh(lamb))\n",
    "c = num/denom\n",
    "D_diff = 2 * tanh(lamb/2) / sinh(lamb * n)\n",
    "form_combined = c * alpha_prime * D_diff\n",
    "sympy_final_simplified = sp.simplify(form_combined)\n",
    "display(sympy_final_simplified)\n"
   ]
  },
  {
   "cell_type": "code",
   "execution_count": 27,
   "metadata": {},
   "outputs": [
    {
     "data": {
      "text/latex": [
       "$\\displaystyle - \\frac{2 \\cdot \\left(2 D_{sim} \\tanh{\\left(\\frac{lamb}{2} \\right)} + \\frac{3 \\sinh{\\left(\\frac{lamb}{2} \\right)}}{2} - \\frac{\\sinh{\\left(\\frac{3 lamb}{2} \\right)}}{2}\\right) \\cosh{\\left(\\frac{lamb n}{2} \\right)}}{\\cosh{\\left(lamb \\right)}}$"
      ],
      "text/plain": [
       "-2*(2*D_sim*tanh(lamb/2) + 3*sinh(lamb/2)/2 - sinh(3*lamb/2)/2)*cosh(lamb*n/2)/cosh(lamb)"
      ]
     },
     "metadata": {},
     "output_type": "display_data"
    }
   ],
   "source": [
    "D_sim = symbols('D_sim')\n",
    "expression_now = 2 * cosh(n/2 * lamb) * ( cosh(lamb) * sinh(lamb/2) - sinh(lamb/2) - 2 * tanh(lamb/2) * D_sim ) / cosh(lamb)\n",
    "display(sp.simplify(expression_now))"
   ]
  },
  {
   "cell_type": "code",
   "execution_count": 28,
   "metadata": {},
   "outputs": [
    {
     "data": {
      "text/latex": [
       "$\\displaystyle \\cosh{\\left(\\frac{lamb \\left(p - q\\right)}{2} \\right)} + \\frac{\\cosh{\\left(\\frac{lamb \\left(p + 3 q - 2.0\\right)}{2} \\right)}}{2} - \\frac{\\cosh{\\left(\\frac{lamb \\left(3 p + q - 2.0\\right)}{2} \\right)}}{2}$"
      ],
      "text/plain": [
       "cosh(lamb*(p - q)/2) + cosh(lamb*(p + 3*q - 2.0)/2)/2 - cosh(lamb*(3*p + q - 2.0)/2)/2"
      ]
     },
     "metadata": {},
     "output_type": "display_data"
    }
   ],
   "source": [
    "expression = cosh( (q-1/2)*lamb ) * cosh( (p+q-1)/2 * lamb ) - sinh( (p+q-1)/2*lamb ) * sinh( (p-1/2) * lamb)\n",
    "simplified_exp = sp.trigsimp(expression)\n",
    "display(simplified_exp)"
   ]
  },
  {
   "cell_type": "code",
   "execution_count": 29,
   "metadata": {},
   "outputs": [
    {
     "data": {
      "text/latex": [
       "$\\displaystyle \\left(\\cosh{\\left(lamb \\left(p - 0.5\\right) \\right)} - \\cosh{\\left(lamb \\left(q - 0.5\\right) \\right)}\\right) \\sinh{\\left(\\frac{lamb \\left(p + q - 1\\right)}{2} \\right)}$"
      ],
      "text/plain": [
       "(cosh(lamb*(p - 0.5)) - cosh(lamb*(q - 0.5)))*sinh(lamb*(p + q - 1)/2)"
      ]
     },
     "metadata": {},
     "output_type": "display_data"
    }
   ],
   "source": [
    "expression = sinh( (p+q-1)/2 * lamb ) * cosh( (p-1/2)*lamb )  - sinh( (p+q-1)/2*lamb ) * cosh( (q-1/2) * lamb)\n",
    "simplified_exp = sp.trigsimp(expression)\n",
    "display(simplified_exp)"
   ]
  },
  {
   "cell_type": "code",
   "execution_count": 30,
   "metadata": {},
   "outputs": [
    {
     "name": "stdout",
     "output_type": "stream",
     "text": [
      "expression1 and expression 2 are equal:  True\n",
      "sinh(lamb*(n - p/2 + q/2)) - sinh(lamb*(n - 3*p/2 - q/2 + 1))/2 + sinh(lamb*(n - p/2 - 3*q/2 + 1))/2\n"
     ]
    },
    {
     "data": {
      "text/latex": [
       "$\\displaystyle \\sinh{\\left(lamb \\left(n - \\frac{p}{2} + \\frac{q}{2}\\right) \\right)} - \\frac{\\sinh{\\left(lamb \\left(n - \\frac{3 p}{2} - \\frac{q}{2} + 1\\right) \\right)}}{2} + \\frac{\\sinh{\\left(lamb \\left(n - \\frac{p}{2} - \\frac{3 q}{2} + 1\\right) \\right)}}{2}$"
      ],
      "text/plain": [
       "sinh(lamb*(n - p/2 + q/2)) - sinh(lamb*(n - 3*p/2 - q/2 + 1))/2 + sinh(lamb*(n - p/2 - 3*q/2 + 1))/2"
      ]
     },
     "metadata": {},
     "output_type": "display_data"
    },
    {
     "name": "stdout",
     "output_type": "stream",
     "text": [
      "final simplified and intermediate simplified are_equal:  True\n"
     ]
    }
   ],
   "source": [
    "import sympy as sp\n",
    "from sympy import trigsimp, cosh, sinh, tanh, symbols\n",
    "\n",
    "lamb = symbols('lamb')\n",
    "n = symbols('n')\n",
    "p = symbols('p')\n",
    "q = symbols('q')\n",
    "\n",
    "# Define the symbolic variables\n",
    "n, q, p, alpha, alpha_prime, lamb = sp.symbols('n q p alpha alpha_prime lamb')\n",
    "\n",
    "expression = cosh( (q-1/2)*lamb ) * sinh( (n - (p+q-1)/2) * lamb ) + cosh( (n - (p-1/2)) * lamb ) * sinh( ((p+q-1)/2)*lamb )\n",
    "term1 = cosh( (q-1/2)*lamb ) * cosh( (p+q-1)/2 * lamb ) - sinh( (p+q-1)/2*lamb ) * sinh( (p-1/2) * lamb)\n",
    "term2 = sinh( (p+q-1)/2 * lamb ) * cosh( (p-1/2)*lamb )  - sinh( (p+q-1)/2*lamb ) * cosh( (q-1/2) * lamb)\n",
    "expression2 = sinh(n*lamb) * term1 + cosh(n*lamb) * term2\n",
    "are_equal = sp.simplify(expression2 - expression) == 0\n",
    "print('expression1 and expression 2 are equal: ', are_equal)\n",
    "simplified_exp = sp.trigsimp(expression)\n",
    "simplified_exp = sinh(lamb*(n - p/2 + q/2)) - sinh(lamb*(n - 3*p/2 - q/2 + 1))/2 + sinh(lamb*(n - p/2 - 3*q/2 + 1))/2\n",
    "print(simplified_exp)\n",
    "display(simplified_exp)\n",
    "are_equal = sp.simplify(expression2 - simplified_exp) == 0\n",
    "print('final simplified and intermediate simplified are_equal: ', are_equal)\n"
   ]
  },
  {
   "cell_type": "code",
   "execution_count": 31,
   "metadata": {},
   "outputs": [
    {
     "data": {
      "text/latex": [
       "$\\displaystyle \\left(\\cosh{\\left(\\frac{lamb \\left(p - q\\right)}{2} \\right)} + \\frac{\\cosh{\\left(\\frac{lamb \\left(p + 3 q - 2.0\\right)}{2} \\right)}}{2} - \\frac{\\cosh{\\left(\\frac{lamb \\left(3 p + q - 2.0\\right)}{2} \\right)}}{2}\\right) \\sinh{\\left(lamb n \\right)}$"
      ],
      "text/plain": [
       "(cosh(lamb*(p - q)/2) + cosh(lamb*(p + 3*q - 2.0)/2)/2 - cosh(lamb*(3*p + q - 2.0)/2)/2)*sinh(lamb*n)"
      ]
     },
     "metadata": {},
     "output_type": "display_data"
    },
    {
     "data": {
      "text/latex": [
       "$\\displaystyle \\left(\\cosh{\\left(\\frac{lamb \\left(p - q\\right)}{2} \\right)} + \\frac{\\cosh{\\left(\\frac{lamb \\left(p + 3 q - 2.0\\right)}{2} \\right)}}{2} - \\frac{\\cosh{\\left(\\frac{lamb \\left(3 p + q - 2.0\\right)}{2} \\right)}}{2}\\right) \\sinh{\\left(lamb n \\right)}$"
      ],
      "text/plain": [
       "(cosh(lamb*(p - q)/2) + cosh(lamb*(p + 3*q - 2.0)/2)/2 - cosh(lamb*(3*p + q - 2.0)/2)/2)*sinh(lamb*n)"
      ]
     },
     "metadata": {},
     "output_type": "display_data"
    },
    {
     "data": {
      "text/latex": [
       "$\\displaystyle \\left(\\cosh{\\left(lamb \\left(p - 0.5\\right) \\right)} - \\cosh{\\left(lamb \\left(q - 0.5\\right) \\right)}\\right) \\sinh{\\left(\\frac{lamb \\left(p + q - 1\\right)}{2} \\right)} \\cosh{\\left(lamb n \\right)}$"
      ],
      "text/plain": [
       "(cosh(lamb*(p - 0.5)) - cosh(lamb*(q - 0.5)))*sinh(lamb*(p + q - 1)/2)*cosh(lamb*n)"
      ]
     },
     "metadata": {},
     "output_type": "display_data"
    },
    {
     "data": {
      "text/latex": [
       "$\\displaystyle \\left(\\cosh{\\left(lamb \\left(p - 0.5\\right) \\right)} - \\cosh{\\left(lamb \\left(q - 0.5\\right) \\right)}\\right) \\sinh{\\left(\\frac{lamb \\left(p + q - 1\\right)}{2} \\right)} \\cosh{\\left(lamb n \\right)}$"
      ],
      "text/plain": [
       "(cosh(lamb*(p - 0.5)) - cosh(lamb*(q - 0.5)))*sinh(lamb*(p + q - 1)/2)*cosh(lamb*n)"
      ]
     },
     "metadata": {},
     "output_type": "display_data"
    },
    {
     "data": {
      "text/latex": [
       "$\\displaystyle \\sinh{\\left(lamb \\left(n - \\frac{p}{2} + \\frac{q}{2}\\right) \\right)} - \\frac{\\sinh{\\left(lamb \\left(n - \\frac{3 p}{2} - \\frac{q}{2} + 1\\right) \\right)}}{2} + \\frac{\\sinh{\\left(lamb \\left(n - \\frac{p}{2} - \\frac{3 q}{2} + 1\\right) \\right)}}{2}$"
      ],
      "text/plain": [
       "sinh(lamb*(n - p/2 + q/2)) - sinh(lamb*(n - 3*p/2 - q/2 + 1))/2 + sinh(lamb*(n - p/2 - 3*q/2 + 1))/2"
      ]
     },
     "metadata": {},
     "output_type": "display_data"
    }
   ],
   "source": [
    "display(sinh(n*lamb) * sp.trigsimp(term1))\n",
    "display(sp.trigsimp(sinh(n*lamb) * sp.trigsimp(term1)))\n",
    "\n",
    "display(cosh(n*lamb) * sp.trigsimp(term2))\n",
    "display(sp.trigsimp(cosh(n*lamb) * sp.trigsimp(term2)))\n",
    "display(sp.trigsimp(expression))"
   ]
  },
  {
   "cell_type": "code",
   "execution_count": 32,
   "metadata": {},
   "outputs": [
    {
     "data": {
      "text/latex": [
       "$\\displaystyle \\sinh{\\left(lamb n \\right)} \\cosh{\\left(\\frac{lamb p}{2} - \\frac{lamb q}{2} \\right)} + \\frac{\\sinh{\\left(lamb n \\right)} \\cosh{\\left(\\frac{lamb p}{2} + \\frac{3 lamb q}{2} - 1.0 lamb \\right)}}{2} - \\frac{\\sinh{\\left(lamb n \\right)} \\cosh{\\left(\\frac{3 lamb p}{2} + \\frac{lamb q}{2} - 1.0 lamb \\right)}}{2}$"
      ],
      "text/plain": [
       "sinh(lamb*n)*cosh(lamb*p/2 - lamb*q/2) + sinh(lamb*n)*cosh(lamb*p/2 + 3*lamb*q/2 - 1.0*lamb)/2 - sinh(lamb*n)*cosh(3*lamb*p/2 + lamb*q/2 - 1.0*lamb)/2"
      ]
     },
     "metadata": {},
     "output_type": "display_data"
    }
   ],
   "source": [
    "display(sp.expand(sinh(n*lamb) * sp.trigsimp(term1)))"
   ]
  },
  {
   "cell_type": "code",
   "execution_count": 33,
   "metadata": {},
   "outputs": [
    {
     "data": {
      "text/latex": [
       "$\\displaystyle \\sinh{\\left(lamb n \\right)}$"
      ],
      "text/plain": [
       "sinh(lamb*n)"
      ]
     },
     "execution_count": 33,
     "metadata": {},
     "output_type": "execute_result"
    }
   ],
   "source": [
    "sp.expand(sinh(n*lamb))"
   ]
  },
  {
   "cell_type": "code",
   "execution_count": 34,
   "metadata": {},
   "outputs": [
    {
     "name": "stdout",
     "output_type": "stream",
     "text": [
      "cosh equality:  True\n"
     ]
    }
   ],
   "source": [
    "cosh_expression = cosh( (q-1/2)*lamb ) * cosh( (p+q-1)/2 * lamb )\n",
    "cosh_simplification = 1/2 * ( cosh( ((3*q+p-2)/2) * lamb) + cosh( ((q-p)/2) * lamb) )\n",
    "are_equal = sp.simplify(expression2 - simplified_exp) == 0\n",
    "print('cosh equality: ', are_equal)\n"
   ]
  },
  {
   "cell_type": "code",
   "execution_count": 35,
   "metadata": {},
   "outputs": [
    {
     "data": {
      "text/latex": [
       "$\\displaystyle - \\sinh{\\left(lamb \\left(p - 0.5\\right) \\right)} \\sinh{\\left(lamb \\left(\\frac{p}{2} + \\frac{q}{2} - \\frac{1}{2}\\right) \\right)} + \\cosh{\\left(lamb \\left(q - 0.5\\right) \\right)} \\cosh{\\left(lamb \\left(\\frac{p}{2} + \\frac{q}{2} - \\frac{1}{2}\\right) \\right)}$"
      ],
      "text/plain": [
       "-sinh(lamb*(p - 0.5))*sinh(lamb*(p/2 + q/2 - 1/2)) + cosh(lamb*(q - 0.5))*cosh(lamb*(p/2 + q/2 - 1/2))"
      ]
     },
     "metadata": {},
     "output_type": "display_data"
    },
    {
     "data": {
      "text/latex": [
       "$\\displaystyle \\cosh{\\left(\\frac{lamb \\left(p - q\\right)}{2} \\right)} + \\frac{\\cosh{\\left(\\frac{lamb \\left(p + 3 q - 2.0\\right)}{2} \\right)}}{2} - \\frac{\\cosh{\\left(\\frac{lamb \\left(3 p + q - 2.0\\right)}{2} \\right)}}{2}$"
      ],
      "text/plain": [
       "cosh(lamb*(p - q)/2) + cosh(lamb*(p + 3*q - 2.0)/2)/2 - cosh(lamb*(3*p + q - 2.0)/2)/2"
      ]
     },
     "metadata": {},
     "output_type": "display_data"
    },
    {
     "data": {
      "text/latex": [
       "$\\displaystyle \\sinh{\\left(lamb \\left(\\frac{p}{2} + \\frac{q}{2} - \\frac{1}{2}\\right) \\right)} \\cosh{\\left(lamb \\left(p - 0.5\\right) \\right)} - \\sinh{\\left(lamb \\left(\\frac{p}{2} + \\frac{q}{2} - \\frac{1}{2}\\right) \\right)} \\cosh{\\left(lamb \\left(q - 0.5\\right) \\right)}$"
      ],
      "text/plain": [
       "sinh(lamb*(p/2 + q/2 - 1/2))*cosh(lamb*(p - 0.5)) - sinh(lamb*(p/2 + q/2 - 1/2))*cosh(lamb*(q - 0.5))"
      ]
     },
     "metadata": {},
     "output_type": "display_data"
    },
    {
     "data": {
      "text/latex": [
       "$\\displaystyle \\left(\\cosh{\\left(lamb \\left(p - 0.5\\right) \\right)} - \\cosh{\\left(lamb \\left(q - 0.5\\right) \\right)}\\right) \\sinh{\\left(\\frac{lamb \\left(p + q - 1\\right)}{2} \\right)}$"
      ],
      "text/plain": [
       "(cosh(lamb*(p - 0.5)) - cosh(lamb*(q - 0.5)))*sinh(lamb*(p + q - 1)/2)"
      ]
     },
     "metadata": {},
     "output_type": "display_data"
    },
    {
     "name": "stdout",
     "output_type": "stream",
     "text": [
      "True\n"
     ]
    },
    {
     "data": {
      "text/latex": [
       "$\\displaystyle \\sinh{\\left(lamb \\left(n - \\frac{p}{2} + \\frac{q}{2}\\right) \\right)} - \\frac{\\sinh{\\left(lamb \\left(n - \\frac{3 p}{2} - \\frac{q}{2} + 1\\right) \\right)}}{2} + \\frac{\\sinh{\\left(lamb \\left(n - \\frac{p}{2} - \\frac{3 q}{2} + 1\\right) \\right)}}{2}$"
      ],
      "text/plain": [
       "sinh(lamb*(n - p/2 + q/2)) - sinh(lamb*(n - 3*p/2 - q/2 + 1))/2 + sinh(lamb*(n - p/2 - 3*q/2 + 1))/2"
      ]
     },
     "metadata": {},
     "output_type": "display_data"
    }
   ],
   "source": [
    "display(term1)\n",
    "term_1_simplified = sp.simplify(term1)\n",
    "display(term_1_simplified)\n",
    "\n",
    "display(term2)\n",
    "term_2_simplified = sp.simplify(term2)\n",
    "display(term_2_simplified)\n",
    "print(are_equal)\n",
    "\n",
    "simplified_expression = sp.simplify(expression)\n",
    "display(simplified_expression)"
   ]
  },
  {
   "cell_type": "code",
   "execution_count": 36,
   "metadata": {},
   "outputs": [
    {
     "data": {
      "text/latex": [
       "$\\displaystyle \\left(- \\sinh{\\left(lamb \\left(p - 0.5\\right) \\right)} \\sinh{\\left(lamb \\left(\\frac{p}{2} + \\frac{q}{2} - \\frac{1}{2}\\right) \\right)} + \\cosh{\\left(lamb \\left(q - 0.5\\right) \\right)} \\cosh{\\left(lamb \\left(\\frac{p}{2} + \\frac{q}{2} - \\frac{1}{2}\\right) \\right)}\\right) \\sinh{\\left(lamb n \\right)} + \\left(\\sinh{\\left(lamb \\left(\\frac{p}{2} + \\frac{q}{2} - \\frac{1}{2}\\right) \\right)} \\cosh{\\left(lamb \\left(p - 0.5\\right) \\right)} - \\sinh{\\left(lamb \\left(\\frac{p}{2} + \\frac{q}{2} - \\frac{1}{2}\\right) \\right)} \\cosh{\\left(lamb \\left(q - 0.5\\right) \\right)}\\right) \\cosh{\\left(lamb n \\right)}$"
      ],
      "text/plain": [
       "(-sinh(lamb*(p - 0.5))*sinh(lamb*(p/2 + q/2 - 1/2)) + cosh(lamb*(q - 0.5))*cosh(lamb*(p/2 + q/2 - 1/2)))*sinh(lamb*n) + (sinh(lamb*(p/2 + q/2 - 1/2))*cosh(lamb*(p - 0.5)) - sinh(lamb*(p/2 + q/2 - 1/2))*cosh(lamb*(q - 0.5)))*cosh(lamb*n)"
      ]
     },
     "metadata": {},
     "output_type": "display_data"
    },
    {
     "data": {
      "text/latex": [
       "$\\displaystyle \\left(- \\sinh{\\left(lamb \\left(p - 0.5\\right) \\right)} \\sinh{\\left(lamb \\left(\\frac{p}{2} + \\frac{q}{2} - \\frac{1}{2}\\right) \\right)} + \\cosh{\\left(lamb \\left(q - 0.5\\right) \\right)} \\cosh{\\left(lamb \\left(\\frac{p}{2} + \\frac{q}{2} - \\frac{1}{2}\\right) \\right)}\\right) \\sinh{\\left(lamb n \\right)} + \\left(\\sinh{\\left(lamb \\left(\\frac{p}{2} + \\frac{q}{2} - \\frac{1}{2}\\right) \\right)} \\cosh{\\left(lamb \\left(p - 0.5\\right) \\right)} - \\sinh{\\left(lamb \\left(\\frac{p}{2} + \\frac{q}{2} - \\frac{1}{2}\\right) \\right)} \\cosh{\\left(lamb \\left(q - 0.5\\right) \\right)}\\right) \\cosh{\\left(lamb n \\right)}$"
      ],
      "text/plain": [
       "(-sinh(lamb*(p - 0.5))*sinh(lamb*(p/2 + q/2 - 1/2)) + cosh(lamb*(q - 0.5))*cosh(lamb*(p/2 + q/2 - 1/2)))*sinh(lamb*n) + (sinh(lamb*(p/2 + q/2 - 1/2))*cosh(lamb*(p - 0.5)) - sinh(lamb*(p/2 + q/2 - 1/2))*cosh(lamb*(q - 0.5)))*cosh(lamb*n)"
      ]
     },
     "metadata": {},
     "output_type": "display_data"
    },
    {
     "name": "stdout",
     "output_type": "stream",
     "text": [
      "True\n"
     ]
    }
   ],
   "source": [
    "term1 = cosh( (q-1/2)*lamb ) * cosh( (p+q-1)/2 * lamb ) - sinh( (p+q-1)/2*lamb ) * sinh( (p-1/2) * lamb)\n",
    "term2 = sinh( (p+q-1)/2 * lamb ) * cosh( (p-1/2)*lamb )  - sinh( (p+q-1)/2*lamb ) * cosh( (q-1/2) * lamb)\n",
    "expression2 = sinh(n*lamb) * term1 + cosh(n*lamb) * term2\n",
    "expression3 = ( sinh(n*lamb) * ( cosh( (q-1/2)*lamb ) * cosh( (p+q-1)/2 * lamb ) - \n",
    "               sinh( (p+q-1)/2*lamb ) * sinh( (p-1/2) * lamb) ) \n",
    "               + cosh(n*lamb) * ( sinh( (p+q-1)/2 * lamb ) * cosh( (p-1/2)*lamb )  -\n",
    "                 sinh( (p+q-1)/2*lamb ) * cosh( (q-1/2) * lamb))\n",
    ")\n",
    "\n",
    "display(expression2)\n",
    "display(expression3)\n",
    "are_equal = expression2 - expression3 == 0\n",
    "print(are_equal)\n"
   ]
  },
  {
   "cell_type": "code",
   "execution_count": 37,
   "metadata": {},
   "outputs": [
    {
     "data": {
      "text/latex": [
       "$\\displaystyle \\left(- \\sinh{\\left(lamb \\left(p - 0.5\\right) \\right)} \\sinh{\\left(lamb \\left(\\frac{p}{2} + \\frac{q}{2} - \\frac{1}{2}\\right) \\right)} + \\cosh{\\left(lamb \\left(q - 0.5\\right) \\right)} \\cosh{\\left(lamb \\left(\\frac{p}{2} + \\frac{q}{2} - \\frac{1}{2}\\right) \\right)}\\right) \\sinh{\\left(lamb n \\right)} + \\left(\\sinh{\\left(lamb \\left(\\frac{p}{2} + \\frac{q}{2} - \\frac{1}{2}\\right) \\right)} \\cosh{\\left(lamb \\left(p - 0.5\\right) \\right)} - \\sinh{\\left(lamb \\left(\\frac{p}{2} + \\frac{q}{2} - \\frac{1}{2}\\right) \\right)} \\cosh{\\left(lamb \\left(q - 0.5\\right) \\right)}\\right) \\cosh{\\left(lamb n \\right)}$"
      ],
      "text/plain": [
       "(-sinh(lamb*(p - 0.5))*sinh(lamb*(p/2 + q/2 - 1/2)) + cosh(lamb*(q - 0.5))*cosh(lamb*(p/2 + q/2 - 1/2)))*sinh(lamb*n) + (sinh(lamb*(p/2 + q/2 - 1/2))*cosh(lamb*(p - 0.5)) - sinh(lamb*(p/2 + q/2 - 1/2))*cosh(lamb*(q - 0.5)))*cosh(lamb*n)"
      ]
     },
     "metadata": {},
     "output_type": "display_data"
    },
    {
     "name": "stdout",
     "output_type": "stream",
     "text": [
      "1\n"
     ]
    },
    {
     "data": {
      "text/latex": [
       "$\\displaystyle \\left(\\cosh{\\left(lamb \\left(p - 0.5\\right) \\right)} - \\cosh{\\left(lamb \\left(q - 0.5\\right) \\right)}\\right) \\sinh{\\left(\\frac{p}{2} + \\frac{q}{2} - \\frac{1}{2} \\right)} \\cosh{\\left(lamb n \\right)} + \\left(0.5 \\cosh{\\left(\\frac{p}{2} + \\frac{3 q}{2} - 1 \\right)} - 0.5 \\cosh{\\left(\\frac{3 p}{2} + \\frac{q}{2} - 1 \\right)}\\right) \\sinh{\\left(lamb n \\right)}$"
      ],
      "text/plain": [
       "(cosh(lamb*(p - 0.5)) - cosh(lamb*(q - 0.5)))*sinh(p/2 + q/2 - 1/2)*cosh(lamb*n) + (0.5*cosh(p/2 + 3*q/2 - 1) - 0.5*cosh(3*p/2 + q/2 - 1))*sinh(lamb*n)"
      ]
     },
     "metadata": {},
     "output_type": "display_data"
    },
    {
     "name": "stdout",
     "output_type": "stream",
     "text": [
      "False\n"
     ]
    }
   ],
   "source": [
    "display(expression3)\n",
    "print(1)\n",
    "\n",
    "term3 = sinh(n*lamb) * ( cosh( (q-1/2)*lamb ) * cosh( (p+q-1)/2 * lamb ) - \n",
    "               sinh( (p+q-1)/2*lamb ) * sinh( (p-1/2) * lamb) )\n",
    "term4 = cosh(n*lamb) * ( sinh( (p+q-1)/2 * lamb ) * cosh( (p-1/2)*lamb )  -\n",
    "                 sinh( (p+q-1)/2*lamb ) * cosh( (q-1/2) * lamb))\n",
    "\n",
    "expression4 = ( sinh(n * lamb) * ( 1/2 * ( cosh((3*q+p-2)/2) + cosh((q-p)/2 * lamb) ) - 1/2 * ( cosh((3*p+q-2)/2) + cosh((q-p)/2 * lamb) ) )\n",
    "               + cosh(n*lamb) * (sinh((p+q-1)/2) * (cosh((p-1/2)*lamb) - cosh((q-1/2)*lamb)))\n",
    ")\n",
    "# + cosh(n * lamb) * (\n",
    "#     sinh((p + q - 1)/2 * lamb) * (\n",
    "#         cosh((p - 1/2) * lamb) - cosh((q - 1/2) * lamb)\n",
    "#     )\n",
    "# )\n",
    "\n",
    "display(expression4)\n",
    "are_equal = expression2 - expression4 == 0\n",
    "print(are_equal)"
   ]
  },
  {
   "cell_type": "code",
   "execution_count": 39,
   "metadata": {},
   "outputs": [
    {
     "data": {
      "text/latex": [
       "$\\displaystyle \\cosh{\\left(lamb \\left(q - 0.5\\right) \\right)} \\cosh{\\left(lamb \\left(\\frac{p}{2} + \\frac{q}{2} - \\frac{1}{2}\\right) \\right)}$"
      ],
      "text/plain": [
       "cosh(lamb*(q - 0.5))*cosh(lamb*(p/2 + q/2 - 1/2))"
      ]
     },
     "metadata": {},
     "output_type": "display_data"
    },
    {
     "data": {
      "text/latex": [
       "$\\displaystyle 0.5 \\cosh{\\left(lamb \\left(- \\frac{p}{2} + \\frac{q}{2}\\right) \\right)} + 0.5 \\cosh{\\left(lamb \\left(\\frac{p}{2} + \\frac{3 q}{2} - 1\\right) \\right)}$"
      ],
      "text/plain": [
       "0.5*cosh(lamb*(-p/2 + q/2)) + 0.5*cosh(lamb*(p/2 + 3*q/2 - 1))"
      ]
     },
     "metadata": {},
     "output_type": "display_data"
    },
    {
     "data": {
      "text/plain": [
       "False"
      ]
     },
     "execution_count": 39,
     "metadata": {},
     "output_type": "execute_result"
    }
   ],
   "source": [
    "lhs = cosh((q - 1/2) * lamb) * cosh((p + q - 1)/2 * lamb)\n",
    "display(lhs)\n",
    "rhs = 1/2 * (cosh((p+3*q-2)/2 * lamb) + cosh((q-p)/2 * lamb))\n",
    "display(rhs)\n",
    "sp.simplify(lhs - rhs) == 0"
   ]
  },
  {
   "cell_type": "code",
   "execution_count": 40,
   "metadata": {},
   "outputs": [
    {
     "data": {
      "text/plain": [
       "False"
      ]
     },
     "execution_count": 40,
     "metadata": {},
     "output_type": "execute_result"
    }
   ],
   "source": [
    "sp.simplify((cosh((q - 1/2)) * cosh((p + q - 1)/2)) - (1/2 * (cosh((p+3*q-2)/2) + cosh((q-p)/2)))) == 0\n"
   ]
  },
  {
   "cell_type": "code",
   "execution_count": 41,
   "metadata": {},
   "outputs": [
    {
     "data": {
      "text/latex": [
       "$\\displaystyle 2 \\sinh{\\left(\\frac{lamb p}{2} \\right)} \\cosh{\\left(\\frac{lamb n}{2} - \\frac{lamb p}{2} + \\frac{lamb}{2} \\right)} - 2 \\sinh{\\left(\\frac{lamb q}{2} - 0.5 lamb \\right)} \\cosh{\\left(\\frac{lamb n}{2} - \\frac{lamb q}{2} \\right)}$"
      ],
      "text/plain": [
       "2*sinh(lamb*p/2)*cosh(lamb*n/2 - lamb*p/2 + lamb/2) - 2*sinh(lamb*q/2 - 0.5*lamb)*cosh(lamb*n/2 - lamb*q/2)"
      ]
     },
     "execution_count": 41,
     "metadata": {},
     "output_type": "execute_result"
    }
   ],
   "source": [
    "sp.expand(\n",
    "    2 * cosh( ( (n+1)/2 - p/2 ) * lamb ) * sinh(p/2 * lamb)\n",
    "    - 2 * cosh( (n/2 - q/2 ) * lamb ) * sinh( (q/2 - 1/2 ) * lamb )\n",
    ")"
   ]
  },
  {
   "cell_type": "code",
   "execution_count": 42,
   "metadata": {},
   "outputs": [
    {
     "name": "stdout",
     "output_type": "stream",
     "text": [
      "sinh(lamb*(p/2 + q/2 - 1/2))*cosh(lamb*(n - p + 0.5)) + sinh(lamb*(n - p/2 - q/2 + 1/2))*cosh(lamb*(q - 0.5))\n",
      "False\n"
     ]
    }
   ],
   "source": [
    "print(expression)\n",
    "expression_hand = ( sinh(n * lamb) * (1/2 * ( cosh( ((3*p + q - 2)/2) * lamb ) - cosh( ((3*q+p-2)/2) * lamb ) ) + cosh( ((q-p)/2)) * lamb ) \n",
    "                   + cosh(n * lamb) * (1/2 * ( sinh( ((3*p + q - 2)/2) * lamb ) - sinh( ((3*q+p-2)/2) * lamb) ) + sinh( ((q-p)/2))  * lamb )\n",
    ")\n",
    "are_equal = sp.simplify(expression_hand - simplified_exp) == 0\n",
    "print(are_equal)"
   ]
  },
  {
   "cell_type": "code",
   "execution_count": 62,
   "metadata": {},
   "outputs": [
    {
     "name": "stdout",
     "output_type": "stream",
     "text": [
      "Original Expression: 24.1631645383591\n",
      "Simplified Expression: 24.1631645383591\n"
     ]
    }
   ],
   "source": [
    "# Define term1 and term2 using the given expressions\n",
    "term1 = cosh((q-0.5)*lamb) * cosh((p+q-1)/2 * lamb) - sinh((p+q-1)/2 * lamb) * sinh((p-0.5) * lamb)\n",
    "term2 = sinh((p+q-1)/2 * lamb) * cosh((p-0.5)*lamb) - sinh((p+q-1)/2 * lamb) * cosh((q-0.5) * lamb)\n",
    "\n",
    "# Define the full expression using term1 and term2\n",
    "expression = sinh(n*lamb) * term1 + cosh(n*lamb) * term2\n",
    "\n",
    "# Define the simplified expression\n",
    "simplified_exp = (sinh(lamb*(n - p/2 + q/2)) - \n",
    "                  sinh(lamb*(n - 3*p/2 - q/2 + 1))/2 + \n",
    "                  sinh(lamb*(n - p/2 - 3*q/2 + 1))/2)\n",
    "\n",
    "# Output the results to compare\n",
    "print(\"Original Expression:\", expression.evalf(subs={p: 5, q: 2, n: 7, alpha_prime: 0.2, lamb: acosh(1.25) }))\n",
    "print(\"Simplified Expression:\", simplified_exp.evalf(subs={p: 5, q: 2, n: 7, alpha_prime: 0.2, lamb: acosh(1.25)}))\n"
   ]
  },
  {
   "cell_type": "code",
   "execution_count": 44,
   "metadata": {},
   "outputs": [
    {
     "data": {
      "text/latex": [
       "$\\displaystyle 566896.944715304$"
      ],
      "text/plain": [
       "566896.944715304"
      ]
     },
     "metadata": {},
     "output_type": "display_data"
    }
   ],
   "source": [
    "simplified_exp = simplified_exp * tanh(lamb/2) / sinh(lamb/2) / 2 \n",
    "display(simplified_exp)"
   ]
  },
  {
   "cell_type": "code",
   "execution_count": 49,
   "metadata": {},
   "outputs": [
    {
     "name": "stdout",
     "output_type": "stream",
     "text": [
      "-(alpha - 1)*(sinh(lamb*(i - 1.5)) - sinh(lamb*(i + 0.5)) + sinh(lamb*(-i + n + 1.5)) + sinh(lamb*(i - n + 0.5)))/(4*alpha*sinh(lamb/2)*sinh(lamb)*sinh(lamb*n))\n"
     ]
    },
    {
     "data": {
      "text/latex": [
       "$\\displaystyle - \\frac{\\left(\\alpha - 1\\right) \\left(\\sinh{\\left(lamb \\left(i - 1.5\\right) \\right)} - \\sinh{\\left(lamb \\left(i + 0.5\\right) \\right)} + \\sinh{\\left(lamb \\left(- i + n + 1.5\\right) \\right)} + \\sinh{\\left(lamb \\left(i - n + 0.5\\right) \\right)}\\right)}{4 \\alpha \\sinh{\\left(\\frac{lamb}{2} \\right)} \\sinh{\\left(lamb \\right)} \\sinh{\\left(lamb n \\right)}}$"
      ],
      "text/plain": [
       "-(alpha - 1)*(sinh(lamb*(i - 1.5)) - sinh(lamb*(i + 0.5)) + sinh(lamb*(-i + n + 1.5)) + sinh(lamb*(i - n + 0.5)))/(4*alpha*sinh(lamb/2)*sinh(lamb)*sinh(lamb*n))"
      ]
     },
     "metadata": {},
     "output_type": "display_data"
    }
   ],
   "source": [
    "from sympy import trigsimp, cosh, sinh, tanh, symbols\n",
    "\n",
    "lamb = symbols('lamb')\n",
    "n = symbols('n')\n",
    "p = symbols('p')\n",
    "q = symbols('q')\n",
    "\n",
    "#checking previous rank representation\n",
    "\n",
    "i, delta_s = sp.symbols('i delta_s')\n",
    "\n",
    "b_i_1 = ( sinh((n + 1/2) * lamb) - sinh((n - i + 1/2) * lamb) + sinh((n - 1/2) * lamb) - sinh((i + 1/2) * lamb) ) / sinh(lamb / 2)\n",
    "b_i_2 = ( sinh(lamb / 2) + sinh((i - 1/2) * lamb) + sinh((n - i - 1/2) * lamb) - sinh(lamb / 2) ) / sinh(lamb / 2)\n",
    "denom = 2 * delta_s * alpha * sinh(lamb) * sinh(lamb * n)\n",
    "\n",
    "a_i = (b_i_1 - b_i_2) / denom\n",
    "\n",
    "b_i_1_minus1 = ( sinh((n + 1/2) * lamb) - sinh((n - (i - 1) + 1/2) * lamb) + sinh((n - 1/2) * lamb) - sinh(((i - 1) + 1/2) * lamb) ) / sinh(lamb / 2)\n",
    "b_i_2_minus1 = ( sinh(lamb / 2) + sinh(((i-1) - 1/2) * lamb) + sinh((n - (i-1) - 1/2) * lamb) - sinh(lamb / 2) ) / sinh(lamb / 2)\n",
    "\n",
    "a_i_minus1 = (b_i_1_minus1 - b_i_2_minus1) / denom\n",
    "\n",
    "rank = ( delta_s * (1 - alpha) / 2) * (a_i - a_i_minus1)\n",
    "\n",
    "simplified_exp = sp.simplify(rank)\n",
    "print(simplified_exp)\n",
    "display(simplified_exp)"
   ]
  },
  {
   "cell_type": "code",
   "execution_count": 50,
   "metadata": {},
   "outputs": [
    {
     "name": "stdout",
     "output_type": "stream",
     "text": [
      "rank_part\n",
      "test rank part simplification\n"
     ]
    },
    {
     "data": {
      "text/latex": [
       "$\\displaystyle \\frac{\\left(\\frac{1}{2} - \\frac{\\alpha}{2}\\right) \\left(- \\sinh{\\left(i lamb \\right)} + \\sinh{\\left(lamb n \\right)} - \\sinh{\\left(lamb \\left(- i + n\\right) \\right)}\\right)}{\\left(1 - \\alpha\\right) \\sinh{\\left(lamb \\right)} \\sinh{\\left(lamb n \\right)} \\tanh{\\left(\\frac{lamb}{2} \\right)}}$"
      ],
      "text/plain": [
       "(1/2 - alpha/2)*(-sinh(i*lamb) + sinh(lamb*n) - sinh(lamb*(-i + n)))/((1 - alpha)*sinh(lamb)*sinh(lamb*n)*tanh(lamb/2))"
      ]
     },
     "metadata": {},
     "output_type": "display_data"
    },
    {
     "data": {
      "text/latex": [
       "$\\displaystyle \\frac{- \\sinh{\\left(i lamb \\right)} + \\sinh{\\left(lamb n \\right)} + \\sinh{\\left(lamb \\left(i - n\\right) \\right)}}{2 \\sinh{\\left(lamb \\right)} \\sinh{\\left(lamb n \\right)} \\tanh{\\left(\\frac{lamb}{2} \\right)}}$"
      ],
      "text/plain": [
       "(-sinh(i*lamb) + sinh(lamb*n) + sinh(lamb*(i - n)))/(2*sinh(lamb)*sinh(lamb*n)*tanh(lamb/2))"
      ]
     },
     "metadata": {},
     "output_type": "display_data"
    },
    {
     "name": "stdout",
     "output_type": "stream",
     "text": [
      "True\n",
      "rank_part simplification is true\n",
      "first step of rank_part simplification:\n",
      "rank_part_analytic:\n"
     ]
    },
    {
     "data": {
      "text/latex": [
       "$\\displaystyle \\frac{- 2 \\sinh{\\left(\\frac{lamb n}{2} \\right)} \\cosh{\\left(lamb \\left(- i + \\frac{n}{2}\\right) \\right)} + \\sinh{\\left(lamb n \\right)}}{2 \\sinh{\\left(lamb \\right)} \\sinh{\\left(lamb n \\right)} \\tanh{\\left(\\frac{lamb}{2} \\right)}}$"
      ],
      "text/plain": [
       "(-2*sinh(lamb*n/2)*cosh(lamb*(-i + n/2)) + sinh(lamb*n))/(2*sinh(lamb)*sinh(lamb*n)*tanh(lamb/2))"
      ]
     },
     "metadata": {},
     "output_type": "display_data"
    },
    {
     "name": "stdout",
     "output_type": "stream",
     "text": [
      "True\n",
      "equal but rank_part is not fully simplified.\n",
      "test if full ranking expression is equal, then simplification\n"
     ]
    },
    {
     "data": {
      "text/latex": [
       "$\\displaystyle \\frac{- 2 \\sinh{\\left(\\frac{lamb n}{2} \\right)} \\cosh{\\left(lamb \\left(- i + \\frac{n}{2} + 1\\right) \\right)} + \\sinh{\\left(lamb n \\right)}}{2 \\sinh{\\left(lamb \\right)} \\sinh{\\left(lamb n \\right)} \\tanh{\\left(\\frac{lamb}{2} \\right)}}$"
      ],
      "text/plain": [
       "(-2*sinh(lamb*n/2)*cosh(lamb*(-i + n/2 + 1)) + sinh(lamb*n))/(2*sinh(lamb)*sinh(lamb*n)*tanh(lamb/2))"
      ]
     },
     "metadata": {},
     "output_type": "display_data"
    },
    {
     "data": {
      "text/latex": [
       "$\\displaystyle \\frac{\\sinh{\\left(lamb n \\right)} - \\sinh{\\left(lamb \\left(i - 1\\right) \\right)} - \\sinh{\\left(lamb \\left(- i + n + 1\\right) \\right)}}{\\delta_{s} \\left(1 - \\alpha\\right) \\sinh{\\left(lamb \\right)} \\sinh{\\left(lamb n \\right)} \\tanh{\\left(\\frac{lamb}{2} \\right)}}$"
      ],
      "text/plain": [
       "(sinh(lamb*n) - sinh(lamb*(i - 1)) - sinh(lamb*(-i + n + 1)))/(delta_s*(1 - alpha)*sinh(lamb)*sinh(lamb*n)*tanh(lamb/2))"
      ]
     },
     "metadata": {},
     "output_type": "display_data"
    },
    {
     "name": "stdout",
     "output_type": "stream",
     "text": [
      "True\n",
      "rank_part_2 and a_i_minus1 * ( delta_s * ( (1-alpha) / 2 ) ) are the same\n",
      "test if analytic expression is the same as non simplified\n"
     ]
    },
    {
     "data": {
      "text/latex": [
       "$\\displaystyle \\frac{2 \\sinh{\\left(\\frac{lamb n}{2} \\right)} \\sinh{\\left(lamb \\left(- i + \\frac{n}{2} + \\frac{1}{2}\\right) \\right)} \\cosh{\\left(\\frac{lamb}{2} \\right)}}{\\sinh{\\left(lamb \\right)} \\sinh{\\left(lamb n \\right)}}$"
      ],
      "text/plain": [
       "2*sinh(lamb*n/2)*sinh(lamb*(-i + n/2 + 1/2))*cosh(lamb/2)/(sinh(lamb)*sinh(lamb*n))"
      ]
     },
     "metadata": {},
     "output_type": "display_data"
    },
    {
     "data": {
      "text/latex": [
       "$\\displaystyle \\frac{\\delta_{s} \\left(1 - \\alpha\\right) \\left(\\frac{- \\sinh{\\left(i lamb \\right)} + \\sinh{\\left(lamb n \\right)} - \\sinh{\\left(lamb \\left(- i + n\\right) \\right)}}{\\delta_{s} \\left(1 - \\alpha\\right) \\sinh{\\left(lamb \\right)} \\sinh{\\left(lamb n \\right)} \\tanh{\\left(\\frac{lamb}{2} \\right)}} - \\frac{\\sinh{\\left(lamb n \\right)} - \\sinh{\\left(lamb \\left(i - 1\\right) \\right)} - \\sinh{\\left(lamb \\left(- i + n + 1\\right) \\right)}}{\\delta_{s} \\left(1 - \\alpha\\right) \\sinh{\\left(lamb \\right)} \\sinh{\\left(lamb n \\right)} \\tanh{\\left(\\frac{lamb}{2} \\right)}}\\right)}{2}$"
      ],
      "text/plain": [
       "delta_s*(1 - alpha)*((-sinh(i*lamb) + sinh(lamb*n) - sinh(lamb*(-i + n)))/(delta_s*(1 - alpha)*sinh(lamb)*sinh(lamb*n)*tanh(lamb/2)) - (sinh(lamb*n) - sinh(lamb*(i - 1)) - sinh(lamb*(-i + n + 1)))/(delta_s*(1 - alpha)*sinh(lamb)*sinh(lamb*n)*tanh(lamb/2)))/2"
      ]
     },
     "metadata": {},
     "output_type": "display_data"
    },
    {
     "name": "stdout",
     "output_type": "stream",
     "text": [
      "True\n",
      "FINAL:test if non-simplified can be simplified to analytic\n",
      "final rank_expression_simplified:\n"
     ]
    },
    {
     "data": {
      "text/latex": [
       "$\\displaystyle \\frac{- \\sinh{\\left(i lamb \\right)} + \\sinh{\\left(lamb \\left(i - 1\\right) \\right)} + \\sinh{\\left(lamb \\left(i - n\\right) \\right)} + \\sinh{\\left(lamb \\left(- i + n + 1\\right) \\right)}}{2 \\sinh{\\left(lamb \\right)} \\sinh{\\left(lamb n \\right)} \\tanh{\\left(\\frac{lamb}{2} \\right)}}$"
      ],
      "text/plain": [
       "(-sinh(i*lamb) + sinh(lamb*(i - 1)) + sinh(lamb*(i - n)) + sinh(lamb*(-i + n + 1)))/(2*sinh(lamb)*sinh(lamb*n)*tanh(lamb/2))"
      ]
     },
     "metadata": {},
     "output_type": "display_data"
    },
    {
     "name": "stdout",
     "output_type": "stream",
     "text": [
      "final rank_analytic:\n"
     ]
    },
    {
     "data": {
      "text/latex": [
       "$\\displaystyle \\frac{2 \\sinh{\\left(\\frac{lamb n}{2} \\right)} \\sinh{\\left(lamb \\left(- i + \\frac{n}{2} + \\frac{1}{2}\\right) \\right)} \\cosh{\\left(\\frac{lamb}{2} \\right)}}{\\sinh{\\left(lamb \\right)} \\sinh{\\left(lamb n \\right)}}$"
      ],
      "text/plain": [
       "2*sinh(lamb*n/2)*sinh(lamb*(-i + n/2 + 1/2))*cosh(lamb/2)/(sinh(lamb)*sinh(lamb*n))"
      ]
     },
     "metadata": {},
     "output_type": "display_data"
    },
    {
     "name": "stdout",
     "output_type": "stream",
     "text": [
      "True\n",
      "expressions are equal but not simplified in the same manner\n",
      "test if proto-analytic expression and final ranking expression are the same\n"
     ]
    },
    {
     "data": {
      "text/latex": [
       "$\\displaystyle \\frac{\\sinh{\\left(lamb \\left(- i + \\frac{n}{2} + \\frac{1}{2}\\right) \\right)}}{- \\sinh{\\left(lamb \\left(\\frac{n}{2} - \\frac{1}{2}\\right) \\right)} + \\sinh{\\left(lamb \\left(\\frac{n}{2} + \\frac{1}{2}\\right) \\right)}}$"
      ],
      "text/plain": [
       "sinh(lamb*(-i + n/2 + 1/2))/(-sinh(lamb*(n/2 - 1/2)) + sinh(lamb*(n/2 + 1/2)))"
      ]
     },
     "metadata": {},
     "output_type": "display_data"
    },
    {
     "name": "stdout",
     "output_type": "stream",
     "text": [
      "Is proto analytic equal to final analytic?\n",
      "True\n",
      "can simplify from proto analytic to final?\n"
     ]
    },
    {
     "data": {
      "text/latex": [
       "$\\displaystyle \\frac{\\sinh{\\left(\\frac{lamb \\left(- 2 i + n + 1\\right)}{2} \\right)}}{2 \\sinh{\\left(\\frac{lamb}{2} \\right)} \\cosh{\\left(\\frac{lamb n}{2} \\right)}}$"
      ],
      "text/plain": [
       "sinh(lamb*(-2*i + n + 1)/2)/(2*sinh(lamb/2)*cosh(lamb*n/2))"
      ]
     },
     "metadata": {},
     "output_type": "display_data"
    },
    {
     "name": "stdout",
     "output_type": "stream",
     "text": [
      "test simplification from first step\n"
     ]
    },
    {
     "data": {
      "text/latex": [
       "$\\displaystyle \\delta_{s} \\left(\\frac{1}{2} - \\frac{\\alpha}{2}\\right) \\left(\\frac{- \\sinh{\\left(i lamb \\right)} + \\sinh{\\left(lamb n \\right)} - \\sinh{\\left(lamb \\left(- i + n\\right) \\right)}}{\\delta_{s} \\left(1 - \\alpha\\right) \\sinh{\\left(lamb \\right)} \\sinh{\\left(lamb n \\right)} \\tanh{\\left(\\frac{lamb}{2} \\right)}} - \\frac{\\sinh{\\left(lamb n \\right)} - \\sinh{\\left(lamb \\left(i - 1\\right) \\right)} - \\sinh{\\left(lamb \\left(- i + n + 1\\right) \\right)}}{\\delta_{s} \\left(1 - \\alpha\\right) \\sinh{\\left(lamb \\right)} \\sinh{\\left(lamb n \\right)} \\tanh{\\left(\\frac{lamb}{2} \\right)}}\\right)$"
      ],
      "text/plain": [
       "delta_s*(1/2 - alpha/2)*((-sinh(i*lamb) + sinh(lamb*n) - sinh(lamb*(-i + n)))/(delta_s*(1 - alpha)*sinh(lamb)*sinh(lamb*n)*tanh(lamb/2)) - (sinh(lamb*n) - sinh(lamb*(i - 1)) - sinh(lamb*(-i + n + 1)))/(delta_s*(1 - alpha)*sinh(lamb)*sinh(lamb*n)*tanh(lamb/2)))"
      ]
     },
     "metadata": {},
     "output_type": "display_data"
    },
    {
     "data": {
      "text/latex": [
       "$\\displaystyle \\frac{- \\sinh{\\left(i lamb \\right)} + \\sinh{\\left(lamb \\left(i - 1\\right) \\right)} + \\sinh{\\left(lamb \\left(i - n\\right) \\right)} + \\sinh{\\left(lamb \\left(- i + n + 1\\right) \\right)}}{2 \\sinh{\\left(lamb \\right)} \\sinh{\\left(lamb n \\right)} \\tanh{\\left(\\frac{lamb}{2} \\right)}}$"
      ],
      "text/plain": [
       "(-sinh(i*lamb) + sinh(lamb*(i - 1)) + sinh(lamb*(i - n)) + sinh(lamb*(-i + n + 1)))/(2*sinh(lamb)*sinh(lamb*n)*tanh(lamb/2))"
      ]
     },
     "metadata": {},
     "output_type": "display_data"
    }
   ],
   "source": [
    "a_i = (sinh(n * lamb) - (sinh((n - i) * lamb) + sinh(i * lamb))) / (delta_s * (1 - alpha) * tanh(lamb / 2) * sinh(lamb) * sinh(n * lamb))\n",
    "a_i_minus1 = (sinh(n * lamb) - (sinh((n - i + 1) * lamb) + sinh((i-1) * lamb))) / (delta_s * (1 - alpha) * tanh(lamb / 2) * sinh(lamb) * sinh(n * lamb))\n",
    "print('rank_part')\n",
    "\n",
    "\n",
    "print('test rank part simplification')\n",
    "rank_part = ( delta_s * ( (1-alpha) / 2 ) ) * (a_i)\n",
    "display(rank_part)\n",
    "rank_part_simplified = sp.simplify(rank_part)\n",
    "display(rank_part_simplified)\n",
    "are_equal = sp.simplify(rank_part_simplified - rank_part) == 0\n",
    "print(are_equal)\n",
    "print('rank_part simplification is true')\n",
    "\n",
    "print('first step of rank_part simplification:')\n",
    "rank_part_analytic = ( sinh(n * lamb) - 2 * sinh(n/2 * lamb) * cosh((n/2-i) * lamb) ) / (2 * tanh(lamb/2) * sinh(lamb) * sinh(lamb*n))\n",
    "print('rank_part_analytic:')\n",
    "display(rank_part_analytic)\n",
    "are_equal = sp.simplify(rank_part_simplified - rank_part_analytic) == 0\n",
    "print(are_equal)\n",
    "print('equal but rank_part is not fully simplified.')\n",
    "\n",
    "print('test if full ranking expression is equal, then simplification')\n",
    "rank_part_2_analytic = ( sinh(n * lamb) - 2 * sinh(n/2 * lamb) * cosh((n/2-(i-1)) * lamb) ) / (2 * tanh(lamb/2) * sinh(lamb) * sinh(lamb*n))\n",
    "are_equal = sp.simplify( (a_i_minus1 * ( delta_s * ( (1-alpha) / 2 ) ) ) - rank_part_2_analytic) == 0\n",
    "display(rank_part_2_analytic)\n",
    "display(a_i_minus1)\n",
    "print(are_equal)\n",
    "print('rank_part_2 and a_i_minus1 * ( delta_s * ( (1-alpha) / 2 ) ) are the same')\n",
    "\n",
    "print('test if analytic expression is the same as non simplified')\n",
    "rank_analytic = (2 * cosh(lamb / 2) * sinh(n / 2 * lamb) * sinh(((n + 1) / 2 - i) * lamb)) / (sinh(lamb) * sinh(n * lamb))\n",
    "display(rank_analytic)\n",
    "rank_expression = ( delta_s * (1 - alpha) / 2) * (a_i - a_i_minus1)\n",
    "display(rank_expression)\n",
    "are_equal = sp.simplify( rank_analytic - rank_expression) == 0\n",
    "print(are_equal)\n",
    "\n",
    "print('FINAL:test if non-simplified can be simplified to analytic')\n",
    "rank_expression_simplified = sp.simplify(rank_expression)\n",
    "print('final rank_expression_simplified:')\n",
    "display(rank_expression_simplified)\n",
    "print('final rank_analytic:')\n",
    "display(rank_analytic)\n",
    "are_equal = sp.simplify( rank_analytic - rank_expression_simplified) == 0\n",
    "print(are_equal)\n",
    "print('expressions are equal but not simplified in the same manner')\n",
    "\n",
    "rank_analytic2 = sinh( ((n+1)/2 - i) * lamb ) / ( sinh((n+1)/2 * lamb) - sinh((n-1)/2 * lamb) )\n",
    "print('test if proto-analytic expression and final ranking expression are the same')\n",
    "final_ranking = sinh(((n + 1) / 2 - i) * lamb) / (sinh((n + 1) / 2 * lamb) - sinh((n - 1) / 2 * lamb))\n",
    "display(final_ranking)\n",
    "are_equal = sp.simplify( rank_analytic - final_ranking) == 0\n",
    "print('Is proto analytic equal to final analytic?')\n",
    "print(are_equal)\n",
    "print('can simplify from proto analytic to final?')\n",
    "proto_analytic_simplified = sp.simplify(rank_analytic2)\n",
    "display(proto_analytic_simplified)\n",
    "\n",
    "print('test simplification from first step')\n",
    "rank = ( delta_s * ( (1-alpha) / 2 ) ) * (a_i - a_i_minus1)\n",
    "display(rank)\n",
    "\n",
    "rank_simplified = sp.simplify(rank)\n",
    "display(rank_simplified)\n",
    "\n",
    "\n",
    "\n",
    "a_i = (sinh(n * lamb) - (sinh((n - i) * lamb) + sinh(i * lamb))) / (delta_s * (1 - alpha) * tanh(lamb / 2) * sinh(lamb) * sinh(n * lamb))\n",
    "a_i_minus1 = (sinh(n * lamb) - (sinh((n - i + 1) * lamb) + sinh((i-1) * lamb))) / (delta_s * (1 - alpha) * tanh(lamb / 2) * sinh(lamb) * sinh(n * lamb))\n",
    "rank = ( delta_s * ( (1-alpha) / 2 ) ) * (a_i - a_i_minus1)\n",
    "\n"
   ]
  },
  {
   "cell_type": "code",
   "execution_count": 51,
   "metadata": {},
   "outputs": [
    {
     "data": {
      "text/latex": [
       "$\\displaystyle \\frac{0.5 \\left(\\sinh{\\left(\\frac{lamb p}{2} \\right)} \\cosh{\\left(\\frac{lamb \\left(n - p + 1\\right)}{2} \\right)} - \\sinh{\\left(\\frac{lamb \\left(q - 1\\right)}{2} \\right)} \\cosh{\\left(\\frac{lamb \\left(n - p\\right)}{2} \\right)}\\right) \\sinh{\\left(lamb n \\right)} \\cosh{\\left(lamb \\right)}}{\\tanh{\\left(\\frac{lamb}{n} \\right)}}$"
      ],
      "text/plain": [
       "0.5*(sinh(lamb*p/2)*cosh(lamb*(n - p + 1)/2) - sinh(lamb*(q - 1)/2)*cosh(lamb*(n - p)/2))*sinh(lamb*n)*cosh(lamb)/tanh(lamb/n)"
      ]
     },
     "metadata": {},
     "output_type": "display_data"
    }
   ],
   "source": [
    "num = ( cosh((n-p)/2 * lamb) * cosh(lamb/2) * (sinh(p/2*lamb) - sinh(q/2*lamb)) \n",
    "                    + sinh(lamb/2) * (sinh((n-p)/2*lamb) * sinh(p/2*lamb) + cosh((n-p)/2*lamb)*cosh(q/2*lamb)) )\n",
    "\n",
    "display(sp.simplify(num / (tanh(lamb/n)) * cosh(lamb) * (1/2) * sinh(lamb*n))\n",
    "        \n",
    "         )\n"
   ]
  },
  {
   "cell_type": "code",
   "execution_count": 52,
   "metadata": {},
   "outputs": [
    {
     "data": {
      "text/latex": [
       "$\\displaystyle \\left(\\sinh{\\left(\\frac{lamb n}{2} \\right)} \\sinh{\\left(\\frac{lamb p}{2} \\right)} + \\cosh{\\left(\\frac{lamb n}{2} \\right)} \\cosh{\\left(\\frac{lamb q}{2} \\right)}\\right) e^{- \\frac{lamb p}{2}}$"
      ],
      "text/plain": [
       "(sinh(lamb*n/2)*sinh(lamb*p/2) + cosh(lamb*n/2)*cosh(lamb*q/2))*exp(-lamb*p/2)"
      ]
     },
     "metadata": {},
     "output_type": "display_data"
    },
    {
     "name": "stdout",
     "output_type": "stream",
     "text": [
      "(sinh(lamb*n/2)*sinh(lamb*p/2) + cosh(lamb*n/2)*cosh(lamb*q/2))*exp(-lamb*p/2)\n"
     ]
    }
   ],
   "source": [
    "term1 = cosh(p/2 * lamb) - sinh(p/2 * lamb)\n",
    "term2 = sinh(p/2 * lamb) * sinh(n/2 * lamb) + cosh(q/2 * lamb) * cosh(n/2 * lamb)\n",
    "\n",
    "num_simplified = sp.simplify(term1 * term2)\n",
    "display(num_simplified)\n",
    "print(num_simplified)\n",
    "\n",
    "\n"
   ]
  },
  {
   "cell_type": "code",
   "execution_count": 53,
   "metadata": {},
   "outputs": [
    {
     "name": "stdout",
     "output_type": "stream",
     "text": [
      "(2*sinh(lamb/2)*cosh(lamb*n/2) - sinh(lamb*(n/2 - p + 1/2)) + sinh(lamb*(n/2 - q + 1/2)))*sinh(lamb*n)/(2*(2*alpha_prime*(2*sinh(lamb*(n - p/2 + q/2)) - sinh(lamb*(n - 3*p/2 - q/2 + 1)) + sinh(lamb*(n - p/2 - 3*q/2 + 1)))*sinh(lamb*(p - q)/2)*tanh(lamb/2) - (2*alpha_prime - 1)*sinh(lamb*n))*sinh(lamb/2)*cosh(lamb*n/2))\n"
     ]
    },
    {
     "data": {
      "text/latex": [
       "$\\displaystyle \\sinh{\\left(lamb \\left(n - \\frac{p}{2} + \\frac{q}{2}\\right) \\right)} - \\sinh{\\left(lamb \\left(n - \\frac{3 p}{2} - \\frac{q}{2} + 1\\right) \\right)} + \\sinh{\\left(lamb \\left(n - \\frac{p}{2} - \\frac{3 q}{2} + 1\\right) \\right)}$"
      ],
      "text/plain": [
       "sinh(lamb*(n - p/2 + q/2)) - sinh(lamb*(n - 3*p/2 - q/2 + 1)) + sinh(lamb*(n - p/2 - 3*q/2 + 1))"
      ]
     },
     "metadata": {},
     "output_type": "display_data"
    }
   ],
   "source": [
    "print(simplified_total)\n",
    "display(sinh(lamb*(n - p/2 + q/2)) - sinh(lamb*(n - 3*p/2 - q/2 + 1)) + sinh(lamb*(n - p/2 - 3*q/2 + 1)))"
   ]
  },
  {
   "cell_type": "code",
   "execution_count": 54,
   "metadata": {},
   "outputs": [
    {
     "data": {
      "text/latex": [
       "$\\displaystyle \\frac{\\left(2 \\sinh{\\left(\\frac{lamb}{2} \\right)} \\cosh{\\left(\\frac{lamb n}{2} \\right)} - \\sinh{\\left(lamb \\left(\\frac{n}{2} - p + \\frac{1}{2}\\right) \\right)} + \\sinh{\\left(lamb \\left(\\frac{n}{2} - q + \\frac{1}{2}\\right) \\right)}\\right) \\tanh{\\left(\\frac{lamb}{2} \\right)}}{2 \\cdot \\left(2 \\alpha_{prime} \\left(2 \\sinh{\\left(lamb \\left(n - \\frac{p}{2} + \\frac{q}{2}\\right) \\right)} - \\sinh{\\left(lamb \\left(n - \\frac{3 p}{2} - \\frac{q}{2} + 1\\right) \\right)} + \\sinh{\\left(lamb \\left(n - \\frac{p}{2} - \\frac{3 q}{2} + 1\\right) \\right)}\\right) \\sinh{\\left(\\frac{lamb \\left(p - q\\right)}{2} \\right)} \\tanh{\\left(\\frac{lamb}{2} \\right)} - \\left(2 \\alpha_{prime} - 1\\right) \\sinh{\\left(lamb n \\right)}\\right) \\sinh{\\left(\\frac{lamb}{2} \\right)} \\cosh{\\left(lamb \\right)} \\cosh{\\left(\\frac{lamb n}{2} \\right)}}$"
      ],
      "text/plain": [
       "(2*sinh(lamb/2)*cosh(lamb*n/2) - sinh(lamb*(n/2 - p + 1/2)) + sinh(lamb*(n/2 - q + 1/2)))*tanh(lamb/2)/(2*(2*alpha_prime*(2*sinh(lamb*(n - p/2 + q/2)) - sinh(lamb*(n - 3*p/2 - q/2 + 1)) + sinh(lamb*(n - p/2 - 3*q/2 + 1)))*sinh(lamb*(p - q)/2)*tanh(lamb/2) - (2*alpha_prime - 1)*sinh(lamb*n))*sinh(lamb/2)*cosh(lamb)*cosh(lamb*n/2))"
      ]
     },
     "execution_count": 54,
     "metadata": {},
     "output_type": "execute_result"
    }
   ],
   "source": [
    "sympy_final_simplified"
   ]
  },
  {
   "cell_type": "code",
   "execution_count": 55,
   "metadata": {},
   "outputs": [
    {
     "data": {
      "text/latex": [
       "$\\displaystyle \\frac{\\left(\\sinh{\\left(\\frac{lamb n}{2} \\right)} \\sinh{\\left(\\frac{lamb p}{2} \\right)} + \\cosh{\\left(\\frac{lamb n}{2} \\right)} \\cosh{\\left(\\frac{lamb q}{2} \\right)}\\right) e^{- \\frac{lamb p}{2}}}{0.5 \\sinh{\\left(\\frac{lamb}{2} \\right)} \\sinh{\\left(lamb n \\right)} \\cosh{\\left(\\frac{lamb n}{2} \\right)} - \\sinh{\\left(lamb \\left(n - \\frac{p}{2} + \\frac{q}{2}\\right) \\right)} + \\sinh{\\left(lamb \\left(n - \\frac{3 p}{2} - \\frac{q}{2} + 1\\right) \\right)} - \\sinh{\\left(lamb \\left(n - \\frac{p}{2} - \\frac{3 q}{2} + 1\\right) \\right)}}$"
      ],
      "text/plain": [
       "(sinh(lamb*n/2)*sinh(lamb*p/2) + cosh(lamb*n/2)*cosh(lamb*q/2))*exp(-lamb*p/2)/(0.5*sinh(lamb/2)*sinh(lamb*n)*cosh(lamb*n/2) - sinh(lamb*(n - p/2 + q/2)) + sinh(lamb*(n - 3*p/2 - q/2 + 1)) - sinh(lamb*(n - p/2 - 3*q/2 + 1)))"
      ]
     },
     "metadata": {},
     "output_type": "display_data"
    }
   ],
   "source": [
    "# rank_diff = c * alpha-prime * (D_jq - Djp)\n",
    "\n",
    "D_sim = sinh(lamb*(n - p/2 + q/2)) - sinh(lamb*(n - 3*p/2 - q/2 + 1)) + sinh(lamb*(n - p/2 - 3*q/2 + 1))\n",
    "denom_term1 = cosh(n/2 * lamb) * (1/2) * sinh(n*lamb) * sinh(lamb/2)\n",
    "form = num_simplified / (denom_term1 - D_sim)\n",
    "display(sp.simplify(form))\n",
    "\n",
    "\n"
   ]
  },
  {
   "cell_type": "code",
   "execution_count": 56,
   "metadata": {},
   "outputs": [
    {
     "data": {
      "text/latex": [
       "$\\displaystyle 0.5 \\sinh{\\left(\\frac{lamb}{2} \\right)} \\sinh{\\left(lamb n \\right)} \\cosh{\\left(\\frac{lamb n}{2} \\right)} - \\sinh{\\left(lamb \\left(n - \\frac{p}{2} + \\frac{q}{2}\\right) \\right)} + \\sinh{\\left(lamb \\left(n - \\frac{3 p}{2} - \\frac{q}{2} + 1\\right) \\right)} - \\sinh{\\left(lamb \\left(n - \\frac{p}{2} - \\frac{3 q}{2} + 1\\right) \\right)}$"
      ],
      "text/plain": [
       "0.5*sinh(lamb/2)*sinh(lamb*n)*cosh(lamb*n/2) - sinh(lamb*(n - p/2 + q/2)) + sinh(lamb*(n - 3*p/2 - q/2 + 1)) - sinh(lamb*(n - p/2 - 3*q/2 + 1))"
      ]
     },
     "metadata": {},
     "output_type": "display_data"
    }
   ],
   "source": [
    "display(sp.simplify((denom_term1 - D_sim)))"
   ]
  },
  {
   "cell_type": "code",
   "execution_count": 57,
   "metadata": {},
   "outputs": [
    {
     "data": {
      "text/latex": [
       "$\\displaystyle \\frac{\\left(\\frac{lamb \\left(0.5 \\sinh{\\left(\\frac{lamb}{2} \\right)} \\sinh{\\left(lamb n \\right)} \\cosh{\\left(\\frac{lamb n}{2} \\right)} - \\sinh{\\left(lamb \\left(n - \\frac{p}{2} + \\frac{q}{2}\\right) \\right)} + \\sinh{\\left(lamb \\left(n - \\frac{3 p}{2} - \\frac{q}{2} + 1\\right) \\right)} - \\sinh{\\left(lamb \\left(n - \\frac{p}{2} - \\frac{3 q}{2} + 1\\right) \\right)}\\right) e^{\\frac{lamb p}{2}} \\sinh{\\left(- i + \\frac{n}{2} + \\frac{1}{2} \\right)}}{2} - \\left(\\sinh{\\left(\\frac{lamb n}{2} \\right)} \\sinh{\\left(\\frac{lamb p}{2} \\right)} + \\cosh{\\left(\\frac{lamb n}{2} \\right)} \\cosh{\\left(\\frac{lamb q}{2} \\right)}\\right) \\sinh{\\left(\\frac{lamb}{2} \\right)} \\cosh{\\left(\\frac{lamb n}{2} \\right)}\\right) e^{- \\frac{lamb p}{2}}}{\\left(0.5 \\sinh{\\left(\\frac{lamb}{2} \\right)} \\sinh{\\left(lamb n \\right)} \\cosh{\\left(\\frac{lamb n}{2} \\right)} - \\sinh{\\left(lamb \\left(n - \\frac{p}{2} + \\frac{q}{2}\\right) \\right)} + \\sinh{\\left(lamb \\left(n - \\frac{3 p}{2} - \\frac{q}{2} + 1\\right) \\right)} - \\sinh{\\left(lamb \\left(n - \\frac{p}{2} - \\frac{3 q}{2} + 1\\right) \\right)}\\right) \\sinh{\\left(\\frac{lamb}{2} \\right)} \\cosh{\\left(\\frac{lamb n}{2} \\right)}}$"
      ],
      "text/plain": [
       "(lamb*(0.5*sinh(lamb/2)*sinh(lamb*n)*cosh(lamb*n/2) - sinh(lamb*(n - p/2 + q/2)) + sinh(lamb*(n - 3*p/2 - q/2 + 1)) - sinh(lamb*(n - p/2 - 3*q/2 + 1)))*exp(lamb*p/2)*sinh(-i + n/2 + 1/2)/2 - (sinh(lamb*n/2)*sinh(lamb*p/2) + cosh(lamb*n/2)*cosh(lamb*q/2))*sinh(lamb/2)*cosh(lamb*n/2))*exp(-lamb*p/2)/((0.5*sinh(lamb/2)*sinh(lamb*n)*cosh(lamb*n/2) - sinh(lamb*(n - p/2 + q/2)) + sinh(lamb*(n - 3*p/2 - q/2 + 1)) - sinh(lamb*(n - p/2 - 3*q/2 + 1)))*sinh(lamb/2)*cosh(lamb*n/2))"
      ]
     },
     "metadata": {},
     "output_type": "display_data"
    }
   ],
   "source": [
    "rank_til = ( sinh((n+1)/2 - i) * lamb ) / ( ( sinh((n+1)/2 * lamb) - sinh((n-1)/2 * lamb) ) )\n",
    "form_final = sp.simplify(rank_til - form)\n",
    "display(form_final)\n",
    "\n",
    "                                        "
   ]
  },
  {
   "cell_type": "code",
   "execution_count": null,
   "metadata": {},
   "outputs": [
    {
     "data": {
      "text/latex": [
       "$\\displaystyle \\frac{\\left(\\frac{lamb \\left(0.5 \\sinh{\\left(\\frac{lamb}{2} \\right)} \\sinh{\\left(lamb n \\right)} \\cosh{\\left(\\frac{lamb n}{2} \\right)} - \\sinh{\\left(lamb \\left(n - \\frac{p}{2} + \\frac{q}{2}\\right) \\right)} + \\sinh{\\left(lamb \\left(n - \\frac{3 p}{2} - \\frac{q}{2} + 1\\right) \\right)} - \\sinh{\\left(lamb \\left(n - \\frac{p}{2} - \\frac{3 q}{2} + 1\\right) \\right)}\\right) e^{\\frac{lamb p}{2}} \\sinh{\\left(- i + \\frac{n}{2} + \\frac{1}{2} \\right)}}{2} - \\left(\\sinh{\\left(\\frac{lamb n}{2} \\right)} \\sinh{\\left(\\frac{lamb p}{2} \\right)} + \\cosh{\\left(\\frac{lamb n}{2} \\right)} \\cosh{\\left(\\frac{lamb q}{2} \\right)}\\right) \\sinh{\\left(\\frac{lamb}{2} \\right)} \\cosh{\\left(\\frac{lamb n}{2} \\right)}\\right) e^{- \\frac{lamb p}{2}}}{\\left(0.5 \\sinh{\\left(\\frac{lamb}{2} \\right)} \\sinh{\\left(lamb n \\right)} \\cosh{\\left(\\frac{lamb n}{2} \\right)} - \\sinh{\\left(lamb \\left(n - \\frac{p}{2} + \\frac{q}{2}\\right) \\right)} + \\sinh{\\left(lamb \\left(n - \\frac{3 p}{2} - \\frac{q}{2} + 1\\right) \\right)} - \\sinh{\\left(lamb \\left(n - \\frac{p}{2} - \\frac{3 q}{2} + 1\\right) \\right)}\\right) \\sinh{\\left(\\frac{lamb}{2} \\right)} \\cosh{\\left(\\frac{lamb n}{2} \\right)}}$"
      ],
      "text/plain": [
       "(lamb*(0.5*sinh(lamb/2)*sinh(lamb*n)*cosh(lamb*n/2) - sinh(lamb*(n - p/2 + q/2)) + sinh(lamb*(n - 3*p/2 - q/2 + 1)) - sinh(lamb*(n - p/2 - 3*q/2 + 1)))*exp(lamb*p/2)*sinh(-i + n/2 + 1/2)/2 - (sinh(lamb*n/2)*sinh(lamb*p/2) + cosh(lamb*n/2)*cosh(lamb*q/2))*sinh(lamb/2)*cosh(lamb*n/2))*exp(-lamb*p/2)/((0.5*sinh(lamb/2)*sinh(lamb*n)*cosh(lamb*n/2) - sinh(lamb*(n - p/2 + q/2)) + sinh(lamb*(n - 3*p/2 - q/2 + 1)) - sinh(lamb*(n - p/2 - 3*q/2 + 1)))*sinh(lamb/2)*cosh(lamb*n/2))"
      ]
     },
     "metadata": {},
     "output_type": "display_data"
    }
   ],
   "source": [
    "display(form_final)\n"
   ]
  },
  {
   "cell_type": "code",
   "execution_count": 58,
   "metadata": {},
   "outputs": [
    {
     "name": "stdout",
     "output_type": "stream",
     "text": [
      "0.00949535673868766\n",
      "0.00949535673868766\n",
      "0.102572766568812\n"
     ]
    }
   ],
   "source": [
    "from sympy import symbols, N, acosh\n",
    "\n",
    "# form_combined: correct formula before simplifications\n",
    "# sympy_final_simplified\n",
    "\n",
    "# form: analytically simplified\n",
    "\n",
    "alpha_prime = symbols('alpha_prime')\n",
    "\n",
    "# Evaluate the expression numerically\n",
    "numerical_value_form_combined = form_combined.evalf(subs={p: 5, q: 2, n: 7, alpha_prime: 0.2, lamb: acosh(1.25) })\n",
    "numerical_value_form_sympy_final_simplified = sympy_final_simplified.evalf(subs={p: 5, q: 2, n: 7, alpha_prime: 0.2, lamb: acosh(1.25) })\n",
    "numerical_value_form = form.evalf(subs={p: 5, q: 2, n: 7, alpha_prime: 0.2, lamb: acosh(1.25) })\n",
    "# or using N()\n",
    "# numerical_value = N(expr, subs={x: 2, y: 1.5, z: -3})\n",
    "\n",
    "print(numerical_value_form_combined)\n",
    "print(numerical_value_form_sympy_final_simplified)\n",
    "print(numerical_value_form)\n"
   ]
  },
  {
   "cell_type": "markdown",
   "metadata": {},
   "source": [
    "Something is wrong in the final expression but I just have to check what...."
   ]
  },
  {
   "cell_type": "code",
   "execution_count": null,
   "metadata": {},
   "outputs": [],
   "source": []
  }
 ],
 "metadata": {
  "kernelspec": {
   "display_name": "base",
   "language": "python",
   "name": "python3"
  },
  "language_info": {
   "codemirror_mode": {
    "name": "ipython",
    "version": 3
   },
   "file_extension": ".py",
   "mimetype": "text/x-python",
   "name": "python",
   "nbconvert_exporter": "python",
   "pygments_lexer": "ipython3",
   "version": "3.11.7"
  }
 },
 "nbformat": 4,
 "nbformat_minor": 2
}
