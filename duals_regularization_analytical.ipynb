{
 "cells": [
  {
   "cell_type": "code",
   "execution_count": 3,
   "id": "1a585167",
   "metadata": {},
   "outputs": [],
   "source": [
    "import numpy as np\n",
    "\n",
    "#set local parameters based on class parameters\n",
    "\n",
    "k_o = 0.4\n",
    "c_reg = 1e10\n",
    "p = 5\n",
    "q = 3\n",
    "n = 7\n",
    "alpha = 1-2*k_o\n",
    "alpha_prime = k_o\n",
    "\n",
    "lamb = np.arccosh((1+1/c_reg)/(1-alpha))\n",
    "\n",
    "def lamb_calc(c_reg,k_o):\n",
    "    alpha = 1-2*k_o\n",
    "    return np.arccosh((1+1/c_reg)/(1-alpha))\n",
    "\n",
    "def sinh(x):\n",
    "    return np.sinh(x)\n",
    "\n",
    "def tanh(x):\n",
    "    return np.tanh(x)\n",
    "\n",
    "def cosh(x):\n",
    "    return np.cosh(x)\n",
    "\n",
    "alpha = 1 - 2 * k_o\n",
    "alpha_prime = k_o \n",
    "lamb_val = np.arccosh((1)/(1-alpha))"
   ]
  },
  {
   "cell_type": "code",
   "execution_count": null,
   "id": "ad9ac174",
   "metadata": {},
   "outputs": [
    {
     "name": "stdout",
     "output_type": "stream",
     "text": [
      "5 3\n",
      "-11.953125011351563\n",
      "-11.953125011351563\n",
      "-11.953125011351563\n"
     ]
    }
   ],
   "source": [
    "print(p,q)\n",
    "i=6\n",
    "\n",
    "result = - (cosh((n+(p-1-i))*lamb) - cosh((n-(i+p-1))*lamb))\n",
    "print(result)\n",
    "\n",
    "result1 = - (2 * sinh((n-i)*lamb) * sinh((p-1)*lamb)) \n",
    "print(result1)\n",
    "\n",
    "result2 = 2 * sinh((n-i)*lamb) * sinh((1-p)*lamb)\n",
    "print(result2)"
   ]
  },
  {
   "cell_type": "code",
   "execution_count": null,
   "id": "15037c62",
   "metadata": {},
   "outputs": [
    {
     "name": "stdout",
     "output_type": "stream",
     "text": [
      "6\n",
      "0.693147180726612\n",
      "-5.9062500046875\n",
      "-5.906250004687499\n"
     ]
    },
    {
     "ename": "",
     "evalue": "",
     "output_type": "error",
     "traceback": [
      "\u001b[1;31mThe Kernel crashed while executing code in the current cell or a previous cell. \n",
      "\u001b[1;31mPlease review the code in the cell(s) to identify a possible cause of the failure. \n",
      "\u001b[1;31mClick <a href='https://aka.ms/vscodeJupyterKernelCrash'>here</a> for more info. \n",
      "\u001b[1;31mView Jupyter <a href='command:jupyter.viewOutput'>log</a> for further details."
     ]
    }
   ],
   "source": [
    "print(i)\n",
    "print(lamb)\n",
    "print( -( cosh((n+(q-i))*lamb) - cosh((n-(i+q))*lamb) ) )\n",
    "print(-(2*sinh((n-i)*lamb)*sinh(q*lamb)))"
   ]
  },
  {
   "cell_type": "code",
   "execution_count": null,
   "id": "0e994411",
   "metadata": {},
   "outputs": [],
   "source": []
  }
 ],
 "metadata": {
  "kernelspec": {
   "display_name": "base",
   "language": "python",
   "name": "python3"
  },
  "language_info": {
   "codemirror_mode": {
    "name": "ipython",
    "version": 3
   },
   "file_extension": ".py",
   "mimetype": "text/x-python",
   "name": "python",
   "nbconvert_exporter": "python",
   "pygments_lexer": "ipython3",
   "version": "3.11.7"
  }
 },
 "nbformat": 4,
 "nbformat_minor": 5
}
