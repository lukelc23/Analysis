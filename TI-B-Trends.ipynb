{
 "cells": [
  {
   "cell_type": "code",
   "execution_count": 53,
   "metadata": {},
   "outputs": [],
   "source": [
    "import numpy as np\n",
    "#list important:\n",
    "# k_create,\n",
    "# one_hot_sim, k_exp_horiz\n",
    "\n",
    "#Set Parameters\n",
    "n = 7\n",
    "k_o = 0.4\n",
    "k_s = 1\n",
    "alpha = 1 - (2 * (k_o/k_s))\n",
    "alpha_prime = k_o/k_s\n",
    "p = 5\n",
    "q = 2\n",
    "c_var = 0\n",
    "lamb_val = np.arccosh((1+c_var)/(1-alpha))\n",
    "\n",
    "K = {}\n",
    "K_exp = {}\n",
    "A = {}\n",
    "\n",
    "arr_len = n-1\n",
    "dual_len = (n-1) * 2\n",
    "dual_len_exp = (n-1)*2 + 2\n",
    "a = np.zeros(dual_len)\n",
    "a_exp = np.zeros(dual_len_exp)\n",
    "b = np.zeros(arr_len)\n",
    "b_bar = np.zeros(arr_len)\n",
    "c = np.zeros(1)\n",
    "c_bar = np.zeros(1) \n",
    "\n",
    "def check_variables():\n",
    "    print('n: ', n)\n",
    "    print('alpha: ', alpha)\n",
    "    print('k_s: ', k_s)\n",
    "    print('k_o: ', k_o)\n",
    "    print('alpha_prime: ', alpha_prime)\n",
    "    print('c_var', c_var)\n",
    "    print('lamb_val', lamb_val)\n",
    "    print('a', a)\n",
    "    print('a_exp', a_exp)\n",
    "    print('b', b)\n",
    "    print('c', c)\n"
   ]
  },
  {
   "cell_type": "code",
   "execution_count": 54,
   "metadata": {},
   "outputs": [],
   "source": [
    "#K matrix without exceptions\n",
    "    # return_k = false -> returns offset diagonal  \n",
    "def tridiag(n):\n",
    "    arr_len = n-1\n",
    "    diag_len = arr_len-1\n",
    "    B = np.diag(np.ones((diag_len)), k=1) + np.diag(np.ones((diag_len)), k=-1)\n",
    "    return B        \n",
    "\n",
    "def k_create(n, alpha_prime):\n",
    "    arr_len = n-1\n",
    "    A = np.identity(arr_len)\n",
    "    D = A\n",
    "    B = alpha_prime*tridiag(n)\n",
    "    C = B\n",
    "    E = np.block([[A,B],[B,A]])\n",
    "    return E\n",
    "\n",
    "def y_create(n):\n",
    "    A = np.ones(n-1)\n",
    "    B = A * -1\n",
    "    D = np.concatenate([A, B])\n",
    "    return D\n",
    "\n",
    "def a_create(n, alpha_prime):\n",
    "    K = k_create(n, alpha_prime)\n",
    "    y = y_create(n)\n",
    "    a = np.linalg.solve(K, y)\n",
    "    return a"
   ]
  },
  {
   "cell_type": "code",
   "execution_count": 55,
   "metadata": {},
   "outputs": [
    {
     "name": "stdout",
     "output_type": "stream",
     "text": [
      "K \n",
      " [[1.  0.  0.  0.  0.  0.  0.  0.4 0.  0.  0.  0. ]\n",
      " [0.  1.  0.  0.  0.  0.  0.4 0.  0.4 0.  0.  0. ]\n",
      " [0.  0.  1.  0.  0.  0.  0.  0.4 0.  0.4 0.  0. ]\n",
      " [0.  0.  0.  1.  0.  0.  0.  0.  0.4 0.  0.4 0. ]\n",
      " [0.  0.  0.  0.  1.  0.  0.  0.  0.  0.4 0.  0.4]\n",
      " [0.  0.  0.  0.  0.  1.  0.  0.  0.  0.  0.4 0. ]\n",
      " [0.  0.4 0.  0.  0.  0.  1.  0.  0.  0.  0.  0. ]\n",
      " [0.4 0.  0.4 0.  0.  0.  0.  1.  0.  0.  0.  0. ]\n",
      " [0.  0.4 0.  0.4 0.  0.  0.  0.  1.  0.  0.  0. ]\n",
      " [0.  0.  0.4 0.  0.4 0.  0.  0.  0.  1.  0.  0. ]\n",
      " [0.  0.  0.  0.4 0.  0.4 0.  0.  0.  0.  1.  0. ]\n",
      " [0.  0.  0.  0.  0.4 0.  0.  0.  0.  0.  0.  1. ]]\n",
      "det: 0.12215304601599994\n"
     ]
    }
   ],
   "source": [
    "K = k_create(n,alpha_prime)\n",
    "print('K', '\\n', K)\n",
    "print('det:', np.linalg.det(K))\n",
    "\n",
    "y = y_create(n)\n",
    "a = a_create(n, alpha_prime)"
   ]
  },
  {
   "cell_type": "code",
   "execution_count": 56,
   "metadata": {},
   "outputs": [
    {
     "name": "stdout",
     "output_type": "stream",
     "text": [
      "test: K@a = y \n",
      "\n"
     ]
    }
   ],
   "source": [
    "def test_Ka_y():\n",
    "    assert np.allclose(K@a, y), \"if not equal\"\n",
    "    print('test: K@a = y', '\\n')\n",
    "\n",
    "test_Ka_y()"
   ]
  },
  {
   "cell_type": "code",
   "execution_count": 57,
   "metadata": {},
   "outputs": [],
   "source": [
    "#creates a vector for exceptions (only works for exception cases!)\n",
    "def e_i(n, i):\n",
    "    len_arr = n-1\n",
    "    array_pos = i-1     #(-1 to normalize), p and q refer to normal indices (from 1 to len_arr)\n",
    "    arr = np.zeros(len_arr)\n",
    "    if i > 0 and i < n: #if outside, k_o excluded from similarity matrix e.g. AE exception for n=5\n",
    "        arr[array_pos] = 1 \n",
    "    return arr\n",
    "\n",
    "#sides matrix in k_exp representing exceptions\n",
    "def k_exp_horiz(n, p, q, alpha_prime):\n",
    "    A = e_i(n, p) + e_i(n, q-1)\n",
    "    B = e_i(n, q) + e_i(n, p-1)\n",
    "    C = e_i(n, p-1) + e_i(n, q)\n",
    "    D = e_i(n, q-1) + e_i(n, p)\n",
    "    E = alpha_prime * np.block([[A,C],[B,D]])\n",
    "    return E\n",
    "\n",
    "def k_create_excep(n, p, q, alpha_prime):\n",
    "    K = k_create(n, alpha_prime)\n",
    "    E_1 = k_exp_horiz(n, p, q, alpha_prime)\n",
    "    E_2 = E_1.transpose()\n",
    "    E_3 = np.identity(2) #2 since there's only 2 columns for exceptions\n",
    "    \n",
    "    W = np.concatenate([K, E_1])\n",
    "    X = np.concatenate([E_2, E_3])\n",
    "    Z = np.concatenate([W, X], 1)\n",
    "    return Z\n",
    "\n",
    "def y_create_exp(n):\n",
    "    A = np.ones(n-1)\n",
    "    B = A * -1\n",
    "    C = np.array([1, -1])\n",
    "    D = np.concatenate([A, B, C])\n",
    "    return D\n",
    "\n",
    "def a_exp_create(n, p, q, alpha_prime):\n",
    "    K_exp = k_create_excep(n, p, q, alpha_prime)\n",
    "    y_exp = y_create_exp(n)\n",
    "    a_exp = np.linalg.solve(K_exp, y_exp)\n",
    "    return a_exp\n"
   ]
  },
  {
   "cell_type": "code",
   "execution_count": 58,
   "metadata": {},
   "outputs": [
    {
     "name": "stdout",
     "output_type": "stream",
     "text": [
      "K_exp \n",
      " [[1.  0.  0.  0.  0.  0.  0.  0.4 0.  0.  0.  0.  0.4 0. ]\n",
      " [0.  1.  0.  0.  0.  0.  0.4 0.  0.4 0.  0.  0.  0.  0.4]\n",
      " [0.  0.  1.  0.  0.  0.  0.  0.4 0.  0.4 0.  0.  0.  0. ]\n",
      " [0.  0.  0.  1.  0.  0.  0.  0.  0.4 0.  0.4 0.  0.  0.4]\n",
      " [0.  0.  0.  0.  1.  0.  0.  0.  0.  0.4 0.  0.4 0.4 0. ]\n",
      " [0.  0.  0.  0.  0.  1.  0.  0.  0.  0.  0.4 0.  0.  0. ]\n",
      " [0.  0.4 0.  0.  0.  0.  1.  0.  0.  0.  0.  0.  0.  0.4]\n",
      " [0.4 0.  0.4 0.  0.  0.  0.  1.  0.  0.  0.  0.  0.4 0. ]\n",
      " [0.  0.4 0.  0.4 0.  0.  0.  0.  1.  0.  0.  0.  0.  0. ]\n",
      " [0.  0.  0.4 0.  0.4 0.  0.  0.  0.  1.  0.  0.  0.4 0. ]\n",
      " [0.  0.  0.  0.4 0.  0.4 0.  0.  0.  0.  1.  0.  0.  0.4]\n",
      " [0.  0.  0.  0.  0.4 0.  0.  0.  0.  0.  0.  1.  0.  0. ]\n",
      " [0.4 0.  0.  0.  0.4 0.  0.  0.4 0.  0.4 0.  0.  1.  0. ]\n",
      " [0.  0.4 0.  0.4 0.  0.  0.4 0.  0.  0.  0.4 0.  0.  1. ]]\n",
      "y [ 1.  1.  1.  1.  1.  1. -1. -1. -1. -1. -1. -1.]\n",
      "K@a [ 1.  1.  1.  1.  1.  1. -1. -1. -1. -1. -1. -1.] \n",
      "\n",
      "y_exp [ 1.  1.  1.  1.  1.  1. -1. -1. -1. -1. -1. -1.  1. -1.]\n",
      "K_exp@a_exp [ 1.  1.  1.  1.  1.  1. -1. -1. -1. -1. -1. -1.  1. -1.] \n",
      "\n",
      "test: K_exp@a_exp = y_exp \n",
      "\n"
     ]
    }
   ],
   "source": [
    "K_exp = k_create_excep(n, p, q, alpha_prime)\n",
    "print('K_exp', '\\n',K_exp)\n",
    "np.linalg.det(K_exp)\n",
    "y_exp = y_create_exp(n)\n",
    "a_exp = a_exp_create(n, p, q, alpha_prime)\n",
    "\n",
    "print('y', y)\n",
    "print('K@a', K@a, '\\n')\n",
    "\n",
    "print('y_exp', y_exp)\n",
    "print('K_exp@a_exp', K_exp@a_exp, '\\n')\n",
    "\n",
    "def test_Ka_y_exp():\n",
    "    assert np.allclose(K_exp@a_exp, y_exp), \"if not equal\"\n",
    "    print('test: K_exp@a_exp = y_exp', '\\n')\n",
    "\n",
    "test_Ka_y_exp()\n"
   ]
  },
  {
   "cell_type": "code",
   "execution_count": 59,
   "metadata": {},
   "outputs": [],
   "source": [
    "# Create a dictionary with keys generated using the index and values from the array\n",
    "def create_bc(n,p,q,alpha_prime):\n",
    "    a_exp = a_exp_create(n,p,q,alpha_prime)\n",
    "    num_coeff = n-1\n",
    "    b = {i: a_exp[i-1] for i in range(1, num_coeff + 1)}\n",
    "    b_bar = {i: a_exp[i-1+n-1] for i in range(1, num_coeff + 1)}\n",
    "    c = {1: a_exp[2 * num_coeff]}\n",
    "    c_bar = {1: a_exp[2 * num_coeff + 1]}\n",
    "    return b, b_bar, c, c_bar\n",
    "\n",
    "def create_bc_arrays(n,p,q,alpha_prime):\n",
    "    b, b_bar, c, c_bar = create_bc(n,p,q,alpha_prime)\n",
    "    b_array = dict_to_array(b)\n",
    "    b_bar_array = dict_to_array(b_bar)\n",
    "    c_array = dict_to_array(c)\n",
    "    c_bar_array = dict_to_array(c_bar)\n",
    "    return b_array, b_bar_array, c_array, c_bar_array\n",
    "\n",
    "def get_b(i):\n",
    "    b, b_bar, c, c_bar = create_bc(n,p,q,alpha_prime)\n",
    "    if i < 1 or i >= n:\n",
    "        return 0\n",
    "    else:\n",
    "        return b[i]\n",
    "\n",
    "#turns dictionary to array for testing\n",
    "def dict_to_array(dict_arr):\n",
    "    arr = np.zeros(len(dict_arr))\n",
    "    for i in range(1, len(dict_arr) + 1):\n",
    "       arr[i-1] = dict_arr[i]  \n",
    "    return arr        "
   ]
  },
  {
   "cell_type": "code",
   "execution_count": 60,
   "metadata": {},
   "outputs": [
    {
     "name": "stdout",
     "output_type": "stream",
     "text": [
      "create_bc is correct\n"
     ]
    }
   ],
   "source": [
    "b, b_bar, c, c_bar = create_bc(n,p,q,alpha_prime)\n",
    "b_array, b_bar_array, c_array, c_bar_array = create_bc_arrays(n,p,q,alpha_prime)\n",
    "\n",
    "verif = True\n",
    "for i in range(0, n-1):\n",
    "    if a_exp[i] != b[i+1]:\n",
    "        verif = False\n",
    "    if a_exp[i+n-1] != b_bar[i+1]:\n",
    "        verif = False    \n",
    "    if a_exp[(2*n-2)] != c[1]:\n",
    "        verif = False\n",
    "    if a_exp[(2*n-1)] != c_bar[1]:\n",
    "        verif = False\n",
    "print('create_bc is correct')"
   ]
  },
  {
   "cell_type": "code",
   "execution_count": 61,
   "metadata": {},
   "outputs": [],
   "source": [
    "A = tridiag(n)\n",
    "B = np.linalg.inv(np.identity(n-1) - (A*alpha_prime))\n"
   ]
  },
  {
   "cell_type": "code",
   "execution_count": 62,
   "metadata": {},
   "outputs": [],
   "source": [
    "#test B\n",
    "def B_ij_analytical(i, j):\n",
    "    num = np.cosh((n-(np.abs(j-i))) * lamb_val) - np.cosh((n-i-j)*lamb_val)\n",
    "    denom = (1-alpha) * np.sinh(lamb_val) * np.sinh(n * lamb_val)\n",
    "    return num/denom\n",
    "\n",
    "def B_ij_analytical_2(i,j):\n",
    "    num = np.sinh( (n - (max(i,j))) * lamb_val) * np.sinh( (n - (min(i,j))) * lamb_val)\n",
    "    denom = np.sinh(lamb_val) * np.sinh(n * lamb_val)\n",
    "    return num/denom\n",
    "\n",
    "def test_B_ij():\n",
    "    for i in range (1, n):\n",
    "        i_ind = i-1\n",
    "        for j in range (1, n):\n",
    "            j_ind = j-1\n",
    "            assert np.isclose( B_ij_analytical(i,j), B[i_ind][j_ind], B_ij_analytical_2(i,j))\n",
    "    print('B_ij analytic expression verified')\n",
    "    print(B)\n",
    "\n",
    "def B_ij(i,j):\n",
    "    i_ind = i-1\n",
    "    j_ind = j-1\n",
    "    if i < 1 or j < 1 or i > n or j > n:\n",
    "        return 0\n",
    "    else: \n",
    "        return B[i_ind][j_ind]\n",
    "\n"
   ]
  },
  {
   "cell_type": "code",
   "execution_count": 63,
   "metadata": {},
   "outputs": [
    {
     "name": "stdout",
     "output_type": "stream",
     "text": [
      "B_ij analytic expression verified\n",
      "[[1.2497711  0.62442776 0.3112983  0.15381798 0.07324666 0.02929866]\n",
      " [0.62442776 1.5610694  0.77824574 0.38454496 0.18311665 0.07324666]\n",
      " [0.3112983  0.77824574 1.63431606 0.80754441 0.38454496 0.15381798]\n",
      " [0.15381798 0.38454496 0.80754441 1.63431606 0.77824574 0.3112983 ]\n",
      " [0.07324666 0.18311665 0.38454496 0.77824574 1.5610694  0.62442776]\n",
      " [0.02929866 0.07324666 0.15381798 0.3112983  0.62442776 1.2497711 ]]\n"
     ]
    }
   ],
   "source": [
    "test_B_ij()"
   ]
  },
  {
   "cell_type": "code",
   "execution_count": 64,
   "metadata": {},
   "outputs": [],
   "source": [
    "# For testing, we assume all variables of n, etc. are set at the beginning  \n",
    "# These are:\n",
    "# - n, alpha_prime, p, q, c"
   ]
  },
  {
   "cell_type": "code",
   "execution_count": 65,
   "metadata": {},
   "outputs": [
    {
     "name": "stdout",
     "output_type": "stream",
     "text": [
      "[[1.2497711  0.62442776 0.3112983  0.15381798 0.07324666 0.02929866]\n",
      " [0.62442776 1.5610694  0.77824574 0.38454496 0.18311665 0.07324666]\n",
      " [0.3112983  0.77824574 1.63431606 0.80754441 0.38454496 0.15381798]\n",
      " [0.15381798 0.38454496 0.80754441 1.63431606 0.77824574 0.3112983 ]\n",
      " [0.07324666 0.18311665 0.38454496 0.77824574 1.5610694  0.62442776]\n",
      " [0.02929866 0.07324666 0.15381798 0.3112983  0.62442776 1.2497711 ]]\n",
      "b_mult, c_mult formulas verified\n",
      "b_i_array verified\n"
     ]
    }
   ],
   "source": [
    "#test analytical solutions for b and c\n",
    "\n",
    "def b_mult():\n",
    "    A = tridiag(n)\n",
    "    B = np.linalg.inv(np.identity(n-1) - (A*alpha_prime))\n",
    "\n",
    "    K_mult = np.ones(n-1) - (c[1]*alpha_prime*(e_i(n, p) + e_i(n, q-1) - e_i(n, p-1) - e_i(n, q)))\n",
    "    b_exp_analytical = B @ K_mult\n",
    "    return b_exp_analytical\n",
    "\n",
    "def test_b_mult():\n",
    "    b_exp_analytical = b_mult()\n",
    "    b_array = dict_to_array(b)\n",
    "    assert np.allclose(b_array, b_exp_analytical)\n",
    "    print('b_mult, c_mult formulas verified')\n",
    "\n",
    "def b_til_dict():\n",
    "    b_til = B @ np.ones(len(B))\n",
    "    b_til_dict = {i: b_til[i-1] for i in range(1, arr_len + 1)}\n",
    "    return b_til_dict\n",
    "\n",
    "def b_i(i):\n",
    "    if i < 1 or i > arr_len:\n",
    "        return 0\n",
    "    else:\n",
    "        return b[i]\n",
    "    \n",
    "def test_b_i():\n",
    "    b_til = b_til_dict()\n",
    "    b_i_array = []\n",
    "    for i in range (1, arr_len+1):\n",
    "        b_i_analytical = b_til[i] - ( c[1] * alpha_prime * \n",
    "                                    ( B_ij(i,p) + B_ij(i,q-1) - B_ij(i,p-1) - B_ij(i,q) ) )\n",
    "        b_i_array.append(b_i_analytical)\n",
    "    b_i_array = np.array(b_i_array)\n",
    "    assert np.allclose(b_i_array, b_array)\n",
    "    print('b_i_array verified')\n",
    "\n",
    "print(B)\n",
    "\n",
    "test_b_mult()\n",
    "test_b_i()"
   ]
  },
  {
   "cell_type": "code",
   "execution_count": 66,
   "metadata": {},
   "outputs": [
    {
     "name": "stdout",
     "output_type": "stream",
     "text": [
      "c_exp_analytical is correct\n"
     ]
    }
   ],
   "source": [
    "def test_c_analytical():\n",
    "    c_exp_analytical = 1 - alpha_prime * (b_i(p) + b_i(q-1) - b_i(p-1) - b_i(q))\n",
    "    assert np.isclose(c_exp_analytical, c[1])\n",
    "    print('c_exp_analytical is correct')\n",
    "\n",
    "test_c_analytical()"
   ]
  },
  {
   "cell_type": "code",
   "execution_count": 67,
   "metadata": {},
   "outputs": [
    {
     "name": "stdout",
     "output_type": "stream",
     "text": [
      "f(j,k) is correct\n"
     ]
    }
   ],
   "source": [
    "def K_row(j, k):\n",
    "    arr_1 = np.zeros(n-1)\n",
    "    for i in range (0, n-1):\n",
    "        if j == (i+1) and k == (i+2):\n",
    "            arr_1[i] = 1\n",
    "            break\n",
    "        if j == (i+1):\n",
    "            arr_1[i] = alpha_prime\n",
    "        if k == (i+2):\n",
    "            arr_1[i] = alpha_prime\n",
    "    arr_2 = np.zeros(n-1)\n",
    "    for i in range (0, n-1):\n",
    "        if j == (i+2) and k == (i+1):\n",
    "            arr_2[i] = 1\n",
    "            break\n",
    "        if j == (i+2):\n",
    "            arr_2[i] = alpha_prime\n",
    "        if k == (i+1):\n",
    "            arr_2[i] = alpha_prime\n",
    "    \n",
    "    return np.concatenate([arr_1, arr_2])\n",
    "\n",
    "def K_row_exp(j, k):\n",
    "    arr_1 = np.zeros(n-1)\n",
    "    for i in range (0, n-1):\n",
    "        if j == (i+1) and k == (i+2):\n",
    "            arr_1[i] = 1\n",
    "            break\n",
    "        if j == (i+1):\n",
    "            arr_1[i] = alpha_prime\n",
    "        if k == (i+2):\n",
    "            arr_1[i] = alpha_prime\n",
    "    arr_2 = np.zeros(n-1)\n",
    "    for i in range (0, n-1):\n",
    "        if j == (i+2) and k == (i+1):\n",
    "            arr_2[i] = 1\n",
    "            break\n",
    "        if j == (i+2):\n",
    "            arr_2[i] = alpha_prime\n",
    "        if k == (i+1):\n",
    "            arr_2[i] = alpha_prime\n",
    "    arr_3 = np.zeros(2)\n",
    "    if j == p and k == q:\n",
    "        arr_3[0] = 1\n",
    "    elif j == q and k == p:\n",
    "        arr_3[1] = 1 \n",
    "    elif j == p or k == q:\n",
    "        arr_3[0] = alpha_prime\n",
    "    elif j == q or k == p:\n",
    "        arr_3[1] = alpha_prime\n",
    "    \n",
    "    return np.concatenate([arr_1, arr_2, arr_3])\n",
    "\n",
    "def delta(i,j):\n",
    "    if i == j:\n",
    "        return 1\n",
    "    else:\n",
    "        return 0\n",
    "\n",
    "def test_f_j_k():\n",
    "    for r in range (1, n+1):\n",
    "        for s in range (1, n+1):\n",
    "            if r != s and (r != s+1 and r!= s-1) and (r != p and r!= q and s != p and s != q): \n",
    "                #not equal nor adjacent nor exception\n",
    "                K_row_exp_cur = K_row_exp(r,s)\n",
    "                rank_analytical = alpha_prime * (b_i(r) - b_i(r-1) + b_i(s-1) - b_i(s)) + ( \n",
    "                    alpha_prime * c[1] * (delta(r,q) + delta(s,q) - delta(s,p) - delta(r,q)))\n",
    "                assert np.isclose(K_row_exp_cur@a_exp, rank_analytical)\n",
    "    print('f(j,k) is correct')\n",
    "\n",
    "def f_j_k(j,k):\n",
    "    K_row_exp_cur = K_row_exp(j,k)\n",
    "    return K_row_exp_cur@a_exp\n",
    "    \n",
    "test_f_j_k()\n",
    "            "
   ]
  },
  {
   "cell_type": "code",
   "execution_count": 68,
   "metadata": {},
   "outputs": [
    {
     "name": "stdout",
     "output_type": "stream",
     "text": [
      "1: -0.6563391765185487\n",
      "2: 0.015491235222176237\n",
      "3: -0.04011414594374188\n",
      "4: -0.11577660008153323\n",
      "5: -0.24932735426008945\n",
      "6: 0.22763962494904214\n",
      "rank_exp(k) - rank_exp(j) is correct\n"
     ]
    }
   ],
   "source": [
    "def rank_mult_exp(j):\n",
    "    rank = alpha_prime * (b_i(j-1) - b_i(j) + c[1] * (delta(j,q) - delta(j,p)))\n",
    "    return rank\n",
    "\n",
    "def show_ranks_exp():\n",
    "    for i in range (1, n):\n",
    "        print(f'{i}:', rank_mult_exp(i)) \n",
    "    \n",
    "def test_rank_mult_exp():\n",
    "    for r in range (1, n+1):\n",
    "        for s in range (1, n+1):\n",
    "            if r != s and (r != s+1 and r!= s-1) and (r != p and r!= q and s != p and s != q):\n",
    "                rank_mult_cur = f_j_k(r,s)\n",
    "                rank_subtraction = rank_mult_exp(s) - rank_mult_exp(r)\n",
    "                assert np.isclose(rank_mult_cur, rank_subtraction)\n",
    "    print('rank_exp(k) - rank_exp(j) is correct')\n",
    "\n",
    "show_ranks_exp()\n",
    "test_rank_mult_exp()"
   ]
  },
  {
   "cell_type": "code",
   "execution_count": 69,
   "metadata": {},
   "outputs": [
    {
     "name": "stdout",
     "output_type": "stream",
     "text": [
      "test success\n",
      "create_B_ij_exp matches B[][]\n"
     ]
    }
   ],
   "source": [
    "#returns B_ij\n",
    "def create_B_ij_exp(i,j):\n",
    "    num = np.sinh((n-np.max([i,j]))*lamb_val) * np.sinh(np.min([i,j]) * lamb_val)\n",
    "    denom = np.sinh(lamb_val) * np.sinh(n*lamb_val)\n",
    "    return num/denom/alpha_prime\n",
    "\n",
    "def B_ij(i,j):\n",
    "    if i > 0 and i <= n and j > 0 and j <= n:\n",
    "        return create_B_ij_exp(i,j)\n",
    "    else:\n",
    "        return 0\n",
    "\n",
    "def test_B_ij_exp():\n",
    "    for i in range (1, n):\n",
    "            i_ind = i-1\n",
    "            for j in range (1, n):\n",
    "                j_ind = j-1\n",
    "                assert np.isclose(create_B_ij_exp(i,j), B_ij(i,j), B[i_ind][j_ind])\n",
    "    print('test success')\n",
    "    print('create_B_ij_exp matches B[][]')\n",
    "\n",
    "test_B_ij_exp()"
   ]
  },
  {
   "cell_type": "code",
   "execution_count": 70,
   "metadata": {},
   "outputs": [],
   "source": [
    "def create_D_ij_exp(i, j):\n",
    "    return alpha_prime * ( create_B_ij_exp(i-1, j) \n",
    "                          + create_B_ij_exp(i, j-1) \n",
    "                          - create_B_ij_exp(i, j) \n",
    "                          - create_B_ij_exp(i-1, j-1))\n",
    "\n",
    "def D_ij(i,j):\n",
    "    if i > 0 and i <= n and j > 0 and j <= n:\n",
    "        return create_D_ij_exp(i,j)\n",
    "    else:\n",
    "        return 0\n",
    "\n",
    "def create_D_ij_matrix():\n",
    "    arr = np.zeros((n,n))\n",
    "    for i_ind in range (0, n):\n",
    "        i = i_ind + 1\n",
    "        for j_ind in range (0, n):\n",
    "            j = j_ind + 1\n",
    "            arr[i_ind][j_ind] = create_D_ij_exp(i, j)\n",
    "    return arr\n"
   ]
  },
  {
   "cell_type": "code",
   "execution_count": 71,
   "metadata": {},
   "outputs": [
    {
     "name": "stdout",
     "output_type": "stream",
     "text": [
      "D_ij analytical is the same as create_D_ij_exp\n"
     ]
    }
   ],
   "source": [
    "#i <= j-1\n",
    "#tested\n",
    "def D_ij_analytical_case_1a(i, j):\n",
    "    l = lamb_val\n",
    "    one = np.sinh((n-j)*l)\n",
    "    two = np.sinh(i*l)\n",
    "    three = np.sinh((i-1)*l)\n",
    "    four = np.sinh((n-(j-1))*l)\n",
    "    num = (one * three) + (four * two) - (one * two) - (four * three)\n",
    "    denom = np.sinh(lamb_val) * np.sinh(lamb_val * n)\n",
    "    return num/denom\n",
    "\n",
    "def D_ij_analytical_case_1b(i, j):\n",
    "    num = 2 * np.cosh( (i-1/2) * lamb_val ) * np.cosh( (n-(j-1/2)) * lamb_val) * np.tanh(lamb_val/2) \n",
    "    denom = np.sinh(lamb_val * n)\n",
    "    return num/denom\n",
    "\n",
    "#tested\n",
    "def D_ij_analytical_case_2a(i, j):\n",
    "    l = lamb_val\n",
    "    one = np.sinh((n-i)*l)\n",
    "    two = np.sinh(j*l)\n",
    "    three = np.sinh((j-1)*l)\n",
    "    four = np.sinh((n-(i-1))*l)\n",
    "    num = (one * three) + (four * two) - (one * two) - (four * three)\n",
    "    denom = np.sinh(lamb_val) * np.sinh(lamb_val * n)\n",
    "    return num/denom\n",
    "\n",
    "def D_ij_analytical_case_2b(i, j):\n",
    "    num = 2 * np.cosh( (j-1/2) * lamb_val ) * np.cosh( (n-(i-1/2)) * lamb_val) * np.tanh(lamb_val/2) \n",
    "    denom = np.sinh(lamb_val * n)\n",
    "    return num/denom\n",
    "\n",
    "def create_D_ij_analytical_1_case_3a(i, j):\n",
    "    l = lamb_val\n",
    "    one = np.sinh((n - max(i-1,j))*l) * np.sinh(min(i-1,j)*l)\n",
    "    two = np.sinh((n - max(i,j-1))*l) * np.sinh(min(i,j-1)*l)\n",
    "    three = np.sinh(((n-max(i,j)))*l) * np.sinh((min(i,j))*l)\n",
    "    four = np.sinh((n-max(i-1,j-1))*l) * np.sinh(min(i-1,j-1)*l)\n",
    "    num = one + two - three - four\n",
    "    denom = np.sinh(lamb_val) * np.sinh(lamb_val * n)\n",
    "    return num/denom\n",
    "\n",
    "def D_ij_analytical_case_3b(i, j):\n",
    "    l = lamb_val\n",
    "    one = np.sinh((n-j)*l) * np.sinh((i-1)*l)\n",
    "    two = np.sinh((n-i)*l) * np.sinh((j-1)*l)\n",
    "    three = np.sinh((n-i)*l) * np.sinh((i)*l)\n",
    "    four = np.sinh((n-(i-1))*l) * np.sinh((j-1)*l)\n",
    "    num = one + two - three - four\n",
    "    denom = np.sinh(lamb_val) * np.sinh(lamb_val * n)\n",
    "    return num/denom\n",
    "\n",
    "def D_ij_analytical_case_3c(i, j):\n",
    "    lamb = lamb_val\n",
    "    return -1 + ( ( 2 * np.tanh(lamb/2) * np.cosh((i-1/2)*lamb) * np.cosh((n-i+1/2)*lamb) ) / np.sinh(lamb*n) )\n",
    "\n",
    "\n",
    "def D_ij_analytical_sol(i, j):\n",
    "        if i < j:\n",
    "            return D_ij_analytical_case_1b(i, j)\n",
    "        elif i > j: \n",
    "            return D_ij_analytical_case_2b(i, j)\n",
    "        elif i == j:\n",
    "            return D_ij_analytical_case_3c(i, j)\n",
    "\n",
    "def test_D_ij_analytical():\n",
    "    for i in range (1, n):\n",
    "        for j in range (1, n):\n",
    "            assert np.isclose(create_D_ij_exp(i, j), \n",
    "                                D_ij_analytical_sol(i, j))\n",
    "    print('D_ij analytical is the same as create_D_ij_exp')\n",
    "\n",
    "def test_Dij_exp():\n",
    "    test1 = create_D_ij_exp(p,q)\n",
    "    test2 = create_D_ij_exp(p,q)\n",
    "    assert np.isclose(test1,test2)\n",
    "\n",
    "test_D_ij_analytical()\n",
    "test_Dij_exp()"
   ]
  },
  {
   "cell_type": "code",
   "execution_count": 72,
   "metadata": {},
   "outputs": [
    {
     "name": "stdout",
     "output_type": "stream",
     "text": [
      "alpha_b is correct\n"
     ]
    }
   ],
   "source": [
    "#testing alpha_prime * (b_j_1)\n",
    "\n",
    "def rank(i):\n",
    "    num = np.sinh(( ((n+1)/2) - i) * lamb_val)\n",
    "    denom = np.sinh(((n+1)/2) * lamb_val) - np.sinh(((n-1)/2) * lamb_val)\n",
    "    return num / denom\n",
    "\n",
    "def rank_til(i):\n",
    "    return -rank(i)\n",
    "\n",
    "def test_alpha_b():\n",
    "    for j in range (1,n+1):\n",
    "        term1 = alpha_prime * (b_i(j-1) - b_i(j))\n",
    "        term2 = rank_til(j) + c[1] * alpha_prime * (D_ij(j,q) - D_ij(j,p))\n",
    "        assert np.isclose(term1, term2)\n",
    "    print('alpha_b is correct')\n",
    "\n",
    "test_alpha_b()"
   ]
  },
  {
   "cell_type": "code",
   "execution_count": 73,
   "metadata": {},
   "outputs": [
    {
     "name": "stdout",
     "output_type": "stream",
     "text": [
      "rank expression is correct\n"
     ]
    }
   ],
   "source": [
    "def rank_mult_exp_2(j):\n",
    "    rank_mult_exp_2 = rank_til(j) + ( c[1] * \n",
    "                                     alpha_prime * (D_ij(j,q) - D_ij(j,p) + delta(j,q) - delta(j,p)) )\n",
    "    return rank_mult_exp_2\n",
    "\n",
    "def test_rank_and_rank_til():\n",
    "    for j in range(1, n+1):\n",
    "        rank_mult_exp_cur = rank_mult_exp(j)\n",
    "        rank_mult_exp_2_cur = rank_mult_exp_2(j)\n",
    "        assert np.isclose(rank_mult_exp_cur, rank_mult_exp_2_cur)\n",
    "    for r in range (1, n+1):\n",
    "        for s in range (1, n+1):\n",
    "            if r != s and (r != s+1 and r!= s-1) and (r != p and r!= q and s != p and s != q):\n",
    "                rank_mult_cur = f_j_k(r,s)\n",
    "                rank_subtraction = rank_mult_exp_2(s) - rank_mult_exp_2(r)\n",
    "                assert np.isclose(rank_mult_cur, rank_subtraction)\n",
    "    print('rank expression is correct')\n",
    "\n",
    "test_rank_and_rank_til()"
   ]
  },
  {
   "cell_type": "code",
   "execution_count": 74,
   "metadata": {},
   "outputs": [
    {
     "name": "stdout",
     "output_type": "stream",
     "text": [
      "rank double til is correct\n"
     ]
    }
   ],
   "source": [
    "def rank_d_til(j):\n",
    "    rank_double_til_cur = rank_til(j) + c[1] * alpha_prime * (D_ij(j,q) - D_ij(j,p))\n",
    "    return rank_double_til_cur\n",
    "\n",
    "def test_rank_d_til():\n",
    "    assert np.isclose(c[1], 1 + (rank_d_til(p) - rank_d_til(q)))\n",
    "    print('rank double til is correct')\n",
    "\n",
    "test_rank_d_til()"
   ]
  },
  {
   "cell_type": "code",
   "execution_count": 75,
   "metadata": {},
   "outputs": [
    {
     "name": "stdout",
     "output_type": "stream",
     "text": [
      "c_exp is correct\n",
      "c_double_til is correct\n"
     ]
    }
   ],
   "source": [
    "def test_c_exp():\n",
    "    assert np.isclose(c[1], 1 + rank_til(p) - rank_til(q) + c[1] * (alpha_prime * (D_ij(p,q) - D_ij(p,p) - D_ij(q,q) + D_ij(q,p)) ) )\n",
    "    print('c_exp is correct')\n",
    "\n",
    "def c_double_til():\n",
    "    num = 1 + rank_til(p) - rank_til(q)\n",
    "    denom = 1 - (alpha_prime * (D_ij(p,q) - D_ij(p,p) - D_ij(q,q) + D_ij(q,p)) ) \n",
    "    c_analytical = num/denom\n",
    "    return c_analytical\n",
    "\n",
    "def test_c_exp2():\n",
    "    assert np.isclose(c[1], c_double_til())\n",
    "    print('c_double_til is correct')\n",
    "\n",
    "test_c_exp()\n",
    "test_c_exp2()\n"
   ]
  },
  {
   "cell_type": "code",
   "execution_count": 76,
   "metadata": {},
   "outputs": [
    {
     "name": "stdout",
     "output_type": "stream",
     "text": [
      "alpha(lambda) is correct\n"
     ]
    }
   ],
   "source": [
    "def test_alpha_lambda():\n",
    "    assert np.isclose(np.cosh(lamb_val), 1/(1-alpha))\n",
    "    assert np.isclose(alpha, 1 - (1/np.cosh(lamb_val)))\n",
    "    print('alpha(lambda) is correct')\n",
    "\n",
    "test_alpha_lambda()"
   ]
  },
  {
   "cell_type": "code",
   "execution_count": 77,
   "metadata": {},
   "outputs": [
    {
     "name": "stdout",
     "output_type": "stream",
     "text": [
      "num is correct\n",
      "denom is correct\n",
      "num/denom = c[1]\n"
     ]
    }
   ],
   "source": [
    "def test_c_exp3():\n",
    "    assert np.isclose( 1 + rank_til(p) - rank_til(q) , 1 + ( ( np.sinh(( ((n+1)/2) - q) * lamb_val) - np.sinh(( ((n+1)/2) - p) * lamb_val) ) \n",
    "                                        / (np.sinh(((n+1)/2) * lamb_val) - np.sinh(((n-1)/2) * lamb_val) ) ) )\n",
    "    print('num is correct')\n",
    "\n",
    "    num = 1 + ( ( np.sinh(( ((n+1)/2) - q) * lamb_val) - np.sinh(( ((n+1)/2) - p) * lamb_val) ) \n",
    "                                            / (np.sinh(((n+1)/2) * lamb_val) - np.sinh(((n-1)/2) * lamb_val) ) )\n",
    "\n",
    "    denom = 1 - 2 * alpha_prime - ( 4 * alpha_prime * ( np.tanh(lamb_val/2) * np.sinh( ((q-p)/2) * lamb_val) ) / np.sinh(lamb_val * n) \n",
    "                    * ( ( np.cosh((q - 1/2) * lamb_val) ) * ( np.sinh( (n-( (p+q)/2 - 1/2 ))*lamb_val ) ) +\n",
    "                    (np.cosh( (n-p+1/2) * lamb_val)) * (np.sinh( ( (p+q)/2 - 1/2 ) * lamb_val ) ) )\n",
    "                    ) \n",
    "\n",
    "    assert np.isclose(denom, 1 - (alpha_prime * (D_ij(p,q) - D_ij(p,p) - D_ij(q,q) + D_ij(q,p)) ) )\n",
    "\n",
    "    print('denom is correct')\n",
    "\n",
    "    assert np.isclose(num/denom, c[1])\n",
    "    print('num/denom = c[1]')\n",
    "\n",
    "test_c_exp3()"
   ]
  },
  {
   "cell_type": "code",
   "execution_count": 78,
   "metadata": {},
   "outputs": [],
   "source": [
    "#converting lamb_val -> lamb, np.tanh -> tanh for comparisons with sympy\n",
    "\n",
    "def sinh(x):\n",
    "    return np.sinh(x)\n",
    "\n",
    "def cosh(x):\n",
    "    return np.cosh(x)\n",
    "\n",
    "def tanh(x):\n",
    "    return np.tanh(x)\n",
    "\n",
    "lamb = lamb_val\n"
   ]
  },
  {
   "cell_type": "code",
   "execution_count": 79,
   "metadata": {},
   "outputs": [
    {
     "name": "stdout",
     "output_type": "stream",
     "text": [
      "num is correct\n",
      "denom is correct\n",
      "num/denom = c[1]\n",
      "3.6759070525886677\n"
     ]
    }
   ],
   "source": [
    "def test_c_exp4():\n",
    "    assert np.isclose( 1 + rank_til(p) - rank_til(q) , \n",
    "                        1 + ( ( np.sinh(( ((n+1)/2) - q) * lamb_val) - np.sinh(( ((n+1)/2) - p) * lamb_val) ) \n",
    "                                        / (np.sinh(((n+1)/2) * lamb_val) - np.sinh(((n-1)/2) * lamb_val) ) ) )\n",
    "    print('num is correct')\n",
    "\n",
    "    num = 1 + (\n",
    "    (sinh(((n + 1) / 2 - q) * lamb) - sinh(((n + 1) / 2 - p) * lamb)) \n",
    "    / (sinh(((n + 1) / 2) * lamb) - sinh(((n - 1) / 2) * lamb))\n",
    "    )\n",
    "\n",
    "    denom = ( 1 - 2*alpha_prime \n",
    "    - (4 * alpha_prime * ( (tanh(lamb / 2)) / sinh(lamb * n) ) * sinh( ((q-p)/2) * lamb) ) \n",
    "    * (\n",
    "            (cosh((q - 1 / 2) * lamb) * sinh((n - ((p + q) / 2 - 1 / 2)) * lamb)) +\n",
    "            (cosh((n - p + 1 / 2) * lamb) * sinh(((p + q) / 2 - 1 / 2) * lamb))\n",
    "        )\n",
    "    )\n",
    "\n",
    "    assert np.isclose(denom, 1 - (alpha_prime * (D_ij(p,q) - D_ij(p,p) - D_ij(q,q) + D_ij(q,p)) ) )\n",
    "\n",
    "    print('denom is correct')\n",
    "\n",
    "    assert np.isclose(num/denom, c[1])\n",
    "    print('num/denom = c[1]')\n",
    "\n",
    "test_c_exp4()\n",
    "\n",
    "print(c[1])"
   ]
  },
  {
   "cell_type": "code",
   "execution_count": 80,
   "metadata": {},
   "outputs": [
    {
     "name": "stdout",
     "output_type": "stream",
     "text": [
      "num is correct\n",
      "denom is correct\n",
      "num/denom = c[1]\n",
      "3.6759070525886677\n"
     ]
    }
   ],
   "source": [
    "#checking final expressions and D_sim\n",
    "\n",
    "def test_c_exp5():\n",
    "    \n",
    "    num_part = sinh((n+1)/2 * lamb) - sinh((n-1)/2 * lamb)\n",
    "\n",
    "    num_final = ( sinh((n+1)/2 * lamb) - sinh((n-1)/2 * lamb)\n",
    "                    - sinh( (((n+1)/2 - p) * lamb) ) + sinh( (((n+1)/2 - q) * lamb) )\n",
    "    )\n",
    "\n",
    "    assert np.isclose( 1 + rank_til(p) - rank_til(q) , \n",
    "                        num_final / num_part )\n",
    "    print('num is correct')\n",
    "\n",
    "    D_sim = sinh(lamb*(n - p/2 + q/2)) - sinh(lamb*(n - 3*p/2 - q/2 + 1))/2 + sinh(lamb*(n - p/2 - 3*q/2 + 1))/2\n",
    "    D_sim_check = 1 - 2 * alpha_prime - 4 * alpha_prime * (tanh(lamb/2) * sinh((q-p)/2 * lamb ) / sinh(lamb * n)) * D_sim\n",
    "    denom_norm = 1 - alpha_prime * (D_ij(p,q) - D_ij(p,p) - D_ij(q,q) + D_ij(q,p))\n",
    "    assert np.isclose(D_sim_check, denom_norm)\n",
    "\n",
    "    D_sim_exp_check = 2 + 4 * (tanh(lamb/2) * sinh((q-p)/2 * lamb ) / sinh(lamb * n)) * D_sim\n",
    "    D_exp = (D_ij(p,q) - D_ij(p,p) - D_ij(q,q) + D_ij(q,p))\n",
    "    assert np.isclose(D_sim_exp_check, D_exp)\n",
    "\n",
    "    denom_2_final=  (\n",
    "        (sinh((n+1)/2 * lamb) - sinh((n-1)/2 * lamb)) * \n",
    "    ( \n",
    "        alpha\n",
    "        -  (2 * tanh(lamb/2) * sinh( ((q-p)/2) * lamb) * D_sim) / ( cosh(lamb) * sinh(lamb * n) )\n",
    "    )\n",
    "    )\n",
    "\n",
    "    assert np.isclose(denom_2_final / num_part, 1 - (alpha_prime * (D_ij(p,q) - D_ij(p,p) - D_ij(q,q) + D_ij(q,p)) ) )\n",
    "\n",
    "    print('denom is correct')\n",
    "\n",
    "    assert np.isclose(num_final/denom_2_final, c[1])\n",
    "    print('num/denom = c[1]')\n",
    "\n",
    "test_c_exp5()\n",
    "\n",
    "print(c[1])"
   ]
  },
  {
   "cell_type": "code",
   "execution_count": 81,
   "metadata": {},
   "outputs": [
    {
     "name": "stdout",
     "output_type": "stream",
     "text": [
      "r_diff is correct\n"
     ]
    }
   ],
   "source": [
    "def D_ij_til():\n",
    "    return 2 * np.tanh(lamb/2) / sinh(lamb * n)\n",
    "\n",
    "def D_ij_double_til_minus_delta(i,j):\n",
    "    if i < j:\n",
    "        return D_ij_analytical_case_1b(i, j) / ( np.cosh( (i-1/2) * lamb_val ) * np.cosh( (n-(j-1/2)) * lamb_val) )\n",
    "    elif i > j: \n",
    "        return D_ij_analytical_case_2b(i, j) / ( np.cosh( (j-1/2) * lamb_val ) * np.cosh( (n-(i-1/2)) * lamb_val) )\n",
    "    elif i == j:\n",
    "        return D_ij_analytical_case_3c(i, j) / ( np.cosh( (j-1/2) * lamb_val ) * np.cosh( (n-(i-1/2)) * lamb_val) )\n",
    "\n",
    "def D_ij_til_part2(i,j):\n",
    "    if i < j:\n",
    "        return np.cosh( (i-1/2) * lamb_val ) * np.cosh( (n-(j-1/2)) * lamb_val)\n",
    "    elif i > j: \n",
    "        return np.cosh( (j-1/2) * lamb_val ) * np.cosh( (n-(i-1/2)) * lamb_val)\n",
    "    elif i == j:\n",
    "        return D_ij_analytical_case_3c(i, j) / D_ij_til()\n",
    "\n",
    "def test_r_diff():\n",
    "    \n",
    "    D_sim = sinh(lamb*(n - p/2 + q/2)) - sinh(lamb*(n - 3*p/2 - q/2 + 1))/2 + sinh(lamb*(n - p/2 - 3*q/2 + 1))/2\n",
    "    \n",
    "    num_final = ( sinh((n+1)/2 * lamb) - sinh((n-1)/2 * lamb)\n",
    "                    - sinh( (((n+1)/2 - p) * lamb) ) + sinh( (((n+1)/2 - q) * lamb) )\n",
    "    )\n",
    "\n",
    "    denom_2_final=  (\n",
    "        (sinh((n+1)/2 * lamb) - sinh((n-1)/2 * lamb)) * \n",
    "    ( \n",
    "        alpha\n",
    "        -  (2 * tanh(lamb/2) * sinh( ((q-p)/2) * lamb) * D_sim) / ( cosh(lamb) * sinh(lamb * n) )\n",
    "    )\n",
    "    )\n",
    "\n",
    "    for i in range (1, n):\n",
    "        for j in range (1, n):\n",
    "            r_diff = c[1] * alpha_prime * ( D_ij_analytical_sol(j,q) - D_ij_analytical_sol(j,p) )\n",
    "            r_diff_exp = num_final/denom_2_final * alpha_prime * D_ij_til() * (D_ij_til_part2(j,q) - D_ij_til_part2(j,p))\n",
    "            assert np.isclose(r_diff, r_diff_exp)\n",
    "    print('r_diff is correct')\n",
    "\n",
    "test_r_diff()"
   ]
  },
  {
   "cell_type": "code",
   "execution_count": 82,
   "metadata": {},
   "outputs": [
    {
     "name": "stdout",
     "output_type": "stream",
     "text": [
      "r_diff is correct\n"
     ]
    }
   ],
   "source": [
    "def r_diff_denom():\n",
    "\n",
    "    D_sim = sinh(lamb*(n - p/2 + q/2)) - sinh(lamb*(n - 3*p/2 - q/2 + 1))/2 + sinh(lamb*(n - p/2 - 3*q/2 + 1))/2\n",
    "    num_part = sinh((n+1)/2 * lamb) - sinh((n-1)/2 * lamb)\n",
    "    return num_part * ( sinh(lamb) * sinh(lamb*n) - 2 * sinh((q-p)/2 * lamb) * D_sim )\n",
    "\n",
    "def test_r_diff_2():\n",
    "\n",
    "    D_sim = sinh(lamb*(n - p/2 + q/2)) - sinh(lamb*(n - 3*p/2 - q/2 + 1))/2 + sinh(lamb*(n - p/2 - 3*q/2 + 1))/2\n",
    "    \n",
    "    num_final = ( sinh((n+1)/2 * lamb) - sinh((n-1)/2 * lamb)\n",
    "                    - sinh( (((n+1)/2 - p) * lamb) ) + sinh( (((n+1)/2 - q) * lamb) )\n",
    "    )\n",
    "\n",
    "    denom_2_final=  (\n",
    "        (sinh((n+1)/2 * lamb) - sinh((n-1)/2 * lamb)) * \n",
    "    ( \n",
    "        alpha\n",
    "        -  (2 * tanh(lamb/2) * sinh( ((q-p)/2) * lamb) * D_sim) / ( cosh(lamb) * sinh(lamb * n) )\n",
    "    )\n",
    "    )\n",
    "\n",
    "    for i in range (1, n):\n",
    "        for j in range (1, n):\n",
    "            r_diff = c[1] * alpha_prime * ( D_ij_analytical_sol(j,q) - D_ij_analytical_sol(j,p) )\n",
    "            r_diff_exp = num_final/r_diff_denom() * (D_ij_til_part2(j,q) - D_ij_til_part2(j,p))\n",
    "            assert np.isclose(r_diff, r_diff_exp)\n",
    "    print('r_diff is correct')\n",
    "\n",
    "test_r_diff_2()"
   ]
  },
  {
   "cell_type": "code",
   "execution_count": 83,
   "metadata": {},
   "outputs": [],
   "source": [
    "def D_ij_analytical_case_3c_minus_delta(i, j):\n",
    "    lamb = lamb_val\n",
    "    return ( ( 2 * tanh(lamb/2) * cosh((i-1/2)*lamb) * cosh((n-i+1/2)*lamb) ) / sinh(lamb*n) )\n",
    "\n",
    "def D_ij_analytical_sol_trend2(i, j):\n",
    "        if i < j:\n",
    "            return D_ij_analytical_case_1b(i, j)\n",
    "        elif i > j: \n",
    "            return D_ij_analytical_case_2b(i, j)\n",
    "        elif i == j:\n",
    "            return D_ij_analytical_case_3c_minus_delta(i, j)\n",
    "\n",
    "def D_ij_trend_array():        \n",
    "    array = []\n",
    "    for j in range (1, n+1):\n",
    "        array.append(D_ij_analytical_sol_trend2(j,q) - D_ij_analytical_sol_trend2(j,p))\n",
    "    print(array)\n",
    "    return array"
   ]
  },
  {
   "cell_type": "code",
   "execution_count": 84,
   "metadata": {},
   "outputs": [
    {
     "name": "stdout",
     "output_type": "stream",
     "text": [
      "[0.2179088079106391, 0.3268632118659587, 0.09924922175425749, -0.07874015748031496, -0.29609961545504493, -0.16150888115729725, -0.10767258743819816]\n",
      "[0.2179088079106391, 0.3268632118659587, 0.09924922175425749, -0.07874015748031496, -0.29609961545504493, -0.16150888115729725, -0.10767258743819816]\n",
      "[0.2179088079106391, 0.3268632118659587, 0.09924922175425749, -0.07874015748031496, -0.29609961545504493, -0.16150888115729725, -0.10767258743819816]\n"
     ]
    },
    {
     "data": {
      "image/png": "[encoded data removed]",
      "text/plain": [
       "<Figure size 640x480 with 1 Axes>"
      ]
     },
     "metadata": {},
     "output_type": "display_data"
    },
    {
     "name": "stdout",
     "output_type": "stream",
     "text": [
      "0.12406152719282186\n"
     ]
    }
   ],
   "source": [
    "import matplotlib.pyplot as plt\n",
    "\n",
    "print(D_ij_trend_array())\n",
    "\n",
    "array = D_ij_trend_array()\n",
    "\n",
    "index = list(range(1,n+1))\n",
    "plt.plot(index, array, marker='o', linestyle='-', color='b')\n",
    "plt.title('D_jq - D_jp trend')\n",
    "plt.xlabel('Index (i)')\n",
    "plt.ylabel('Rank Value')\n",
    "plt.grid(True)\n",
    "plt.xticks(index)  # Set the ticks to match the index values\n",
    "plt.show()\n",
    "\n",
    "print( (array[1] + array[3])/2 )\n"
   ]
  },
  {
   "cell_type": "code",
   "execution_count": 85,
   "metadata": {},
   "outputs": [
    {
     "name": "stdout",
     "output_type": "stream",
     "text": [
      "0.01041730248835175\n"
     ]
    }
   ],
   "source": [
    "trend2_coeff = 2 * tanh(lamb/2) / sinh(lamb*n)  \n",
    "\n",
    "print(trend2_coeff)"
   ]
  },
  {
   "cell_type": "code",
   "execution_count": 86,
   "metadata": {},
   "outputs": [],
   "source": [
    "def D_ij_analytical_case_3c_minus_delta(i, j):\n",
    "    lamb = lamb_val\n",
    "    return ( ( 2 * tanh(lamb/2) * cosh((i-1/2)*lamb) * cosh((n-i+1/2)*lamb) ) / sinh(lamb*n) )\n",
    "\n",
    "def D_ij_analytical_sol_trend2(i, j):\n",
    "        if i < j:\n",
    "            return D_ij_analytical_case_1b(i, j) / trend2_coeff\n",
    "        elif i > j: \n",
    "            return D_ij_analytical_case_2b(i, j) / trend2_coeff\n",
    "        elif i == j:\n",
    "            return D_ij_analytical_case_3c_minus_delta(i, j) / trend2_coeff\n",
    "\n",
    "def D_ij_trend2_array():        \n",
    "    array = []\n",
    "    for j in range (1, n+1):\n",
    "        array.append(D_ij_analytical_sol_trend2(j,q) - D_ij_analytical_sol_trend2(j,p))\n",
    "    return array"
   ]
  },
  {
   "cell_type": "code",
   "execution_count": 87,
   "metadata": {},
   "outputs": [
    {
     "name": "stdout",
     "output_type": "stream",
     "text": [
      "[20.917968749999996, 31.376953125, 9.52734375, -7.558593749999998, -28.423828125, -15.50390625, -10.3359375]\n"
     ]
    },
    {
     "data": {
      "image/png": "[encoded data removed]",
      "text/plain": [
       "<Figure size 640x480 with 1 Axes>"
      ]
     },
     "metadata": {},
     "output_type": "display_data"
    }
   ],
   "source": [
    "import matplotlib.pyplot as plt\n",
    "\n",
    "print(D_ij_trend2_array())\n",
    "\n",
    "array = D_ij_trend2_array()\n",
    "\n",
    "index = list(range(1,n+1))\n",
    "plt.plot(index, D_ij_trend2_array(), marker='o', linestyle='-', color='b')\n",
    "plt.title('D_jq - D_jp trend')\n",
    "plt.xlabel('Index (i)')\n",
    "plt.ylabel('Rank Value')\n",
    "plt.grid(True)\n",
    "plt.xticks(index)  # Set the ticks to match the index values\n",
    "plt.show()\n"
   ]
  },
  {
   "cell_type": "code",
   "execution_count": 88,
   "metadata": {},
   "outputs": [],
   "source": [
    "\n",
    "def D_ij_analytical_sol_trend3(i, j):\n",
    "        if i < j:\n",
    "            return D_ij_analytical_case_1b(i, j)\n",
    "        elif i > j: \n",
    "            return D_ij_analytical_case_2b(i, j)\n",
    "        elif i == j:\n",
    "            return D_ij_analytical_case_3c_minus_delta(i, j)\n",
    "\n",
    "def D_ij_trend3_array():        \n",
    "    arrayq = []\n",
    "    arrayp = []\n",
    "    for j in range (1, n+1):\n",
    "        arrayq.append(D_ij_analytical_sol_trend3(j,q))\n",
    "        arrayp.append(D_ij_analytical_sol_trend3(j,p))\n",
    "    return arrayq, arrayp\n",
    "\n"
   ]
  },
  {
   "cell_type": "code",
   "execution_count": 89,
   "metadata": {},
   "outputs": [
    {
     "data": {
      "image/png": "[encoded data removed]",
      "text/plain": [
       "<Figure size 640x480 with 1 Axes>"
      ]
     },
     "metadata": {},
     "output_type": "display_data"
    }
   ],
   "source": [
    "arrayq, arrayp = D_ij_trend3_array()\n",
    "\n",
    "index = list(range(1,n+1))\n",
    "plt.plot(index, arrayq, marker='o', linestyle='-', color='b')\n",
    "plt.title('D_jq trend')\n",
    "plt.xlabel('Index (i)')\n",
    "plt.ylabel('Rank Value')\n",
    "plt.grid(True)\n",
    "plt.xticks(index)  # Set the ticks to match the index values\n",
    "plt.show()"
   ]
  },
  {
   "cell_type": "code",
   "execution_count": 90,
   "metadata": {},
   "outputs": [
    {
     "data": {
      "image/png": "[encoded data removed]",
      "text/plain": [
       "<Figure size 640x480 with 1 Axes>"
      ]
     },
     "metadata": {},
     "output_type": "display_data"
    }
   ],
   "source": [
    "arrayp = -1 * np.array(arrayp)\n",
    "\n",
    "index = list(range(1,n+1))\n",
    "plt.plot(index, arrayp, marker='o', linestyle='-', color='b')\n",
    "plt.title('- D_jp trend')\n",
    "plt.xlabel('Index (i)')\n",
    "plt.ylabel('Rank Value')\n",
    "plt.grid(True)\n",
    "plt.xticks(index)  # Set the ticks to match the index values\n",
    "plt.show()"
   ]
  },
  {
   "cell_type": "code",
   "execution_count": 91,
   "metadata": {},
   "outputs": [],
   "source": [
    "def D_ij_analytical_sol_trend4(i, j):\n",
    "        if i < j:\n",
    "            return D_ij_analytical_case_1b(i, j) / ( np.cosh( (i-1/2) * lamb_val ) * np.cosh( (n-(j-1/2)) * lamb_val) )\n",
    "        elif i > j: \n",
    "            return D_ij_analytical_case_2b(i, j) / ( np.cosh( (j-1/2) * lamb_val ) * np.cosh( (n-(i-1/2)) * lamb_val) )\n",
    "        elif i == j:\n",
    "            return D_ij_analytical_case_3c_minus_delta(i, j) / ( cosh((i-1/2)*lamb) * cosh((n-i+1/2)*lamb) )\n",
    "\n",
    "def D_ij_trend4_array():        \n",
    "    array = []\n",
    "    for j in range (1, n+1):\n",
    "        array.append(D_ij_analytical_sol_trend4(j,q) - D_ij_analytical_sol_trend4(j,p))\n",
    "    return array\n"
   ]
  },
  {
   "cell_type": "code",
   "execution_count": 92,
   "metadata": {},
   "outputs": [
    {
     "name": "stdout",
     "output_type": "stream",
     "text": [
      "[20.917968749999996, 31.376953125, 9.52734375, -7.558593749999998, -28.423828125, -15.50390625, -10.3359375]\n",
      "[20.917968749999996, 31.376953125, 9.52734375, -7.558593749999998, -28.423828125, -15.50390625, -10.3359375]\n"
     ]
    },
    {
     "data": {
      "image/png": "[encoded data removed]",
      "text/plain": [
       "<Figure size 640x480 with 1 Axes>"
      ]
     },
     "metadata": {},
     "output_type": "display_data"
    }
   ],
   "source": [
    "print(D_ij_trend_array())\n",
    "\n",
    "array = D_ij_trend4_array()\n",
    "\n",
    "index = list(range(1,n+1))\n",
    "plt.plot(index, D_ij_trend4_array(), marker='o', linestyle='-', color='b')\n",
    "plt.title('D_jq_double_til - D_jp_double_til trend')\n",
    "plt.xlabel('Index (i)')\n",
    "plt.ylabel('Rank Value')\n",
    "plt.grid(True)\n",
    "plt.xticks(index)  # Set the ticks to match the index values\n",
    "plt.show()\n"
   ]
  },
  {
   "cell_type": "code",
   "execution_count": 93,
   "metadata": {},
   "outputs": [],
   "source": [
    "\n",
    "def D_ij_analytical_sol_trend5(i, j):\n",
    "        if i < j:\n",
    "            return D_ij_analytical_case_1b(i, j) / ( np.cosh( (i-1/2) * lamb_val ) * np.cosh( (n-(j-1/2)) * lamb_val) )\n",
    "        elif i > j: \n",
    "            return D_ij_analytical_case_2b(i, j) / ( np.cosh( (j-1/2) * lamb_val ) * np.cosh( (n-(i-1/2)) * lamb_val) )\n",
    "        elif i == j:\n",
    "            return D_ij_analytical_case_3c_minus_delta(i, j) / ( cosh((i-1/2)*lamb) * cosh((n-i+1/2)*lamb) )\n",
    "\n",
    "def D_ij_trend5_array():        \n",
    "    arrayq = []\n",
    "    arrayp = []\n",
    "    for j in range (1, n+1):\n",
    "        arrayq.append(D_ij_analytical_sol_trend5(j,q))\n",
    "        arrayp.append(D_ij_analytical_sol_trend5(j,p))\n",
    "    return arrayq, arrayp\n",
    "\n"
   ]
  },
  {
   "cell_type": "code",
   "execution_count": 94,
   "metadata": {},
   "outputs": [
    {
     "data": {
      "image/png": "[encoded data removed]",
      "text/plain": [
       "<Figure size 640x480 with 1 Axes>"
      ]
     },
     "metadata": {},
     "output_type": "display_data"
    }
   ],
   "source": [
    "arrayq, arrayp = D_ij_trend5_array()\n",
    "\n",
    "index = list(range(1,n+1))\n",
    "plt.plot(index, arrayq, marker='o', linestyle='-', color='b')\n",
    "plt.title('D_jq trend')\n",
    "plt.xlabel('Index (i)')\n",
    "plt.ylabel('Rank Value')\n",
    "plt.grid(True)\n",
    "plt.xticks(index)  # Set the ticks to match the index values\n",
    "plt.show()"
   ]
  },
  {
   "cell_type": "code",
   "execution_count": 95,
   "metadata": {},
   "outputs": [
    {
     "data": {
      "image/png": "[encoded data removed]",
      "text/plain": [
       "<Figure size 640x480 with 1 Axes>"
      ]
     },
     "metadata": {},
     "output_type": "display_data"
    }
   ],
   "source": [
    "index = list(range(1,n+1))\n",
    "plt.plot(index, arrayp, marker='o', linestyle='-', color='b')\n",
    "plt.title('D_jp trend')\n",
    "plt.xlabel('Index (i)')\n",
    "plt.ylabel('Rank Value')\n",
    "plt.grid(True)\n",
    "plt.xticks(index)  # Set the ticks to match the index values\n",
    "plt.show()"
   ]
  },
  {
   "cell_type": "code",
   "execution_count": 96,
   "metadata": {},
   "outputs": [
    {
     "name": "stdout",
     "output_type": "stream",
     "text": [
      "0.01041730248835175\n",
      "0.010417302488351748\n",
      "0.01041730248835175\n",
      "0.01041730248835175\n",
      "0.01041730248835175\n",
      "0.010417302488351751\n",
      "0.01041730248835175\n",
      "0.01041730248835175\n",
      "0.01041730248835175\n",
      "0.01041730248835175\n",
      "0.01041730248835175\n",
      "0.01041730248835175\n",
      "0.01041730248835175\n",
      "0.010417302488351751\n",
      "0.0\n",
      "-1.734723475976807e-18\n",
      "0.0\n",
      "0.0\n",
      "0.0\n",
      "1.734723475976807e-18\n",
      "-1.734723475976807e-18\n"
     ]
    }
   ],
   "source": [
    "for i in range(0, n):\n",
    "    print(arrayq[i])\n",
    "\n",
    "for i in range(0, n):\n",
    "    print(arrayp[i])\n",
    "\n",
    "for i in range(0, n):\n",
    "    print(arrayq[i] - arrayp[i])"
   ]
  },
  {
   "cell_type": "code",
   "execution_count": 97,
   "metadata": {},
   "outputs": [
    {
     "name": "stdout",
     "output_type": "stream",
     "text": [
      "0.01041730248835175\n"
     ]
    }
   ],
   "source": [
    "print(D_ij_analytical_sol_trend5(1,q))"
   ]
  },
  {
   "cell_type": "code",
   "execution_count": 104,
   "metadata": {},
   "outputs": [],
   "source": [
    "\n",
    "def D_ij_analytical_sol_trend7(i, j):\n",
    "        if i < j:\n",
    "            return np.cosh( (i-1/2) * lamb_val )\n",
    "        elif i > j: \n",
    "            return np.cosh( (j-1/2) * lamb_val )\n",
    "        elif i == j:\n",
    "            return np.cosh( (j-1/2) * lamb_val )\n",
    "\n",
    "def D_ij_analytical_sol_trend8(i, j):\n",
    "        if i < j:\n",
    "            return np.cosh( (n-(j-1/2)) * lamb_val)\n",
    "        elif i > j: \n",
    "            return np.cosh( (n-(i-1/2)) * lamb_val)\n",
    "        elif i == j:\n",
    "            return np.cosh( (n-(i-1/2)) * lamb_val)\n",
    "\n",
    "\n",
    "def D_ij_trend78_array():        \n",
    "    arrayterm1q = []\n",
    "    arrayterm2q = []\n",
    "    arrayterm1p = []\n",
    "    arrayterm2p = []\n",
    "    for j in range (1, n+1):\n",
    "        arrayterm1q.append(D_ij_analytical_sol_trend7(j,q))\n",
    "        arrayterm2q.append(D_ij_analytical_sol_trend8(j,q))\n",
    "        arrayterm1p.append(D_ij_analytical_sol_trend7(j,p))\n",
    "        arrayterm2p.append(D_ij_analytical_sol_trend8(j,p))\n",
    "    return arrayterm1q, arrayterm2q, arrayterm1p, arrayterm2p\n",
    "\n"
   ]
  },
  {
   "cell_type": "code",
   "execution_count": 99,
   "metadata": {},
   "outputs": [
    {
     "name": "stdout",
     "output_type": "stream",
     "text": [
      "0.6931471805599453\n"
     ]
    }
   ],
   "source": [
    "print(lamb)"
   ]
  },
  {
   "cell_type": "code",
   "execution_count": 105,
   "metadata": {},
   "outputs": [
    {
     "data": {
      "image/png": "[encoded data removed]",
      "text/plain": [
       "<Figure size 640x480 with 1 Axes>"
      ]
     },
     "metadata": {},
     "output_type": "display_data"
    }
   ],
   "source": [
    "arrayterm1q, arrayterm2q, arrayterm1p, arrayterm2p = D_ij_trend78_array()\n",
    "\n",
    "index = list(range(1,n+1))\n",
    "plt.plot(index, arrayterm1q, marker='o', linestyle='-', color='b')\n",
    "plt.title('D_jq_term1 trend')\n",
    "plt.xlabel('Index (i)')\n",
    "plt.ylabel('Rank Value')\n",
    "plt.grid(True)\n",
    "plt.xticks(index)  # Set the ticks to match the index values\n",
    "plt.show()"
   ]
  },
  {
   "cell_type": "code",
   "execution_count": 106,
   "metadata": {},
   "outputs": [
    {
     "data": {
      "image/png": "[encoded data removed]",
      "text/plain": [
       "<Figure size 640x480 with 1 Axes>"
      ]
     },
     "metadata": {},
     "output_type": "display_data"
    },
    {
     "ename": "",
     "evalue": "",
     "output_type": "error",
     "traceback": [
      "\u001b[1;31mThe Kernel crashed while executing code in the current cell or a previous cell. \n",
      "\u001b[1;31mPlease review the code in the cell(s) to identify a possible cause of the failure. \n",
      "\u001b[1;31mClick <a href='https://aka.ms/vscodeJupyterKernelCrash'>here</a> for more info. \n",
      "\u001b[1;31mView Jupyter <a href='command:jupyter.viewOutput'>log</a> for further details."
     ]
    }
   ],
   "source": [
    "index = list(range(1,n+1))\n",
    "plt.plot(index, arrayterm2q, marker='o', linestyle='-', color='b')\n",
    "plt.title('D_jq_term2 trend')\n",
    "plt.xlabel('Index (i)')\n",
    "plt.ylabel('Rank Value')\n",
    "plt.grid(True)\n",
    "plt.xticks(index)  # Set the ticks to match the index values\n",
    "plt.show()"
   ]
  },
  {
   "cell_type": "code",
   "execution_count": 102,
   "metadata": {},
   "outputs": [
    {
     "data": {
      "image/png": "[encoded data removed]",
      "text/plain": [
       "<Figure size 640x480 with 1 Axes>"
      ]
     },
     "metadata": {},
     "output_type": "display_data"
    }
   ],
   "source": [
    "arrayterm1p = -1 * np.array(arrayterm1p)\n",
    "\n",
    "index = list(range(1,n+1))\n",
    "plt.plot(index, arrayterm1p, marker='o', linestyle='-', color='b')\n",
    "plt.title('D_jp_term1 trend')\n",
    "plt.xlabel('Index (i)')\n",
    "plt.ylabel('Rank Value')\n",
    "plt.grid(True)\n",
    "plt.xticks(index)  # Set the ticks to match the index values\n",
    "plt.show()"
   ]
  },
  {
   "cell_type": "code",
   "execution_count": 103,
   "metadata": {},
   "outputs": [
    {
     "data": {
      "image/png": "[encoded data removed]",
      "text/plain": [
       "<Figure size 640x480 with 1 Axes>"
      ]
     },
     "metadata": {},
     "output_type": "display_data"
    }
   ],
   "source": [
    "arrayterm2p = -1 * np.array(arrayterm2p)\n",
    "\n",
    "index = list(range(1,n+1))\n",
    "plt.plot(index, arrayterm2p, marker='o', linestyle='-', color='b')\n",
    "plt.title('D_jp_term2 trend')\n",
    "plt.xlabel('Index (i)')\n",
    "plt.ylabel('Rank Value')\n",
    "plt.grid(True)\n",
    "plt.xticks(index)  # Set the ticks to match the index values\n",
    "plt.show()"
   ]
  },
  {
   "cell_type": "code",
   "execution_count": null,
   "metadata": {},
   "outputs": [],
   "source": []
  }
 ],
 "metadata": {
  "kernelspec": {
   "display_name": "base",
   "language": "python",
   "name": "python3"
  },
  "language_info": {
   "codemirror_mode": {
    "name": "ipython",
    "version": 3
   },
   "file_extension": ".py",
   "mimetype": "text/x-python",
   "name": "python",
   "nbconvert_exporter": "python",
   "pygments_lexer": "ipython3",
   "version": "3.11.7"
  }
 },
 "nbformat": 4,
 "nbformat_minor": 2
}
