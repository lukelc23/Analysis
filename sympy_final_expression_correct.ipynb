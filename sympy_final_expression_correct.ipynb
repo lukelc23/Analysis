{
 "cells": [
  {
   "cell_type": "code",
   "execution_count": 1,
   "metadata": {},
   "outputs": [
    {
     "name": "stdout",
     "output_type": "stream",
     "text": [
      "display:\n",
      "num:\n"
     ]
    },
    {
     "data": {
      "text/latex": [
       "$\\displaystyle 1 + \\frac{- \\sinh{\\left(\\lambda \\left(\\frac{n}{2} - p + \\frac{1}{2}\\right) \\right)} + \\sinh{\\left(\\lambda \\left(\\frac{n}{2} - q + \\frac{1}{2}\\right) \\right)}}{- \\sinh{\\left(\\lambda \\left(\\frac{n}{2} - \\frac{1}{2}\\right) \\right)} + \\sinh{\\left(\\lambda \\left(\\frac{n}{2} + \\frac{1}{2}\\right) \\right)}}$"
      ],
      "text/plain": [
       "1 + (-sinh(lambda*(n/2 - p + 1/2)) + sinh(lambda*(n/2 - q + 1/2)))/(-sinh(lambda*(n/2 - 1/2)) + sinh(lambda*(n/2 + 1/2)))"
      ]
     },
     "metadata": {},
     "output_type": "display_data"
    },
    {
     "name": "stdout",
     "output_type": "stream",
     "text": [
      "denom\n"
     ]
    },
    {
     "data": {
      "text/latex": [
       "$\\displaystyle - \\frac{4 \\alpha_{prime} \\left(\\sinh{\\left(\\lambda \\left(\\frac{p}{2} + \\frac{q}{2} - 0.5\\right) \\right)} \\cosh{\\left(\\lambda \\left(n - p + 0.5\\right) \\right)} + \\sinh{\\left(\\lambda \\left(n - \\frac{p}{2} - \\frac{q}{2} + 0.5\\right) \\right)} \\cosh{\\left(\\lambda \\left(q - 0.5\\right) \\right)}\\right) \\sinh{\\left(\\lambda \\left(- \\frac{p}{2} + \\frac{q}{2}\\right) \\right)} \\tanh{\\left(\\frac{\\lambda}{2} \\right)}}{\\sinh{\\left(\\lambda n \\right)}} - 2 \\alpha_{prime} + 1$"
      ],
      "text/plain": [
       "-4*alpha_prime*(sinh(lambda*(p/2 + q/2 - 0.5))*cosh(lambda*(n - p + 0.5)) + sinh(lambda*(n - p/2 - q/2 + 0.5))*cosh(lambda*(q - 0.5)))*sinh(lambda*(-p/2 + q/2))*tanh(lambda/2)/sinh(lambda*n) - 2*alpha_prime + 1"
      ]
     },
     "metadata": {},
     "output_type": "display_data"
    },
    {
     "name": "stdout",
     "output_type": "stream",
     "text": [
      "c_analytical_start\n"
     ]
    },
    {
     "data": {
      "text/latex": [
       "$\\displaystyle \\frac{1 + \\frac{- \\sinh{\\left(\\lambda \\left(\\frac{n}{2} - p + \\frac{1}{2}\\right) \\right)} + \\sinh{\\left(\\lambda \\left(\\frac{n}{2} - q + \\frac{1}{2}\\right) \\right)}}{- \\sinh{\\left(\\lambda \\left(\\frac{n}{2} - \\frac{1}{2}\\right) \\right)} + \\sinh{\\left(\\lambda \\left(\\frac{n}{2} + \\frac{1}{2}\\right) \\right)}}}{- \\frac{4 \\alpha_{prime} \\left(\\sinh{\\left(\\lambda \\left(\\frac{p}{2} + \\frac{q}{2} - 0.5\\right) \\right)} \\cosh{\\left(\\lambda \\left(n - p + 0.5\\right) \\right)} + \\sinh{\\left(\\lambda \\left(n - \\frac{p}{2} - \\frac{q}{2} + 0.5\\right) \\right)} \\cosh{\\left(\\lambda \\left(q - 0.5\\right) \\right)}\\right) \\sinh{\\left(\\lambda \\left(- \\frac{p}{2} + \\frac{q}{2}\\right) \\right)} \\tanh{\\left(\\frac{\\lambda}{2} \\right)}}{\\sinh{\\left(\\lambda n \\right)}} - 2 \\alpha_{prime} + 1}$"
      ],
      "text/plain": [
       "(1 + (-sinh(lambda*(n/2 - p + 1/2)) + sinh(lambda*(n/2 - q + 1/2)))/(-sinh(lambda*(n/2 - 1/2)) + sinh(lambda*(n/2 + 1/2))))/(-4*alpha_prime*(sinh(lambda*(p/2 + q/2 - 0.5))*cosh(lambda*(n - p + 0.5)) + sinh(lambda*(n - p/2 - q/2 + 0.5))*cosh(lambda*(q - 0.5)))*sinh(lambda*(-p/2 + q/2))*tanh(lambda/2)/sinh(lambda*n) - 2*alpha_prime + 1)"
      ]
     },
     "metadata": {},
     "output_type": "display_data"
    }
   ],
   "source": [
    "from sympy import symbols, sinh, cosh, tanh, Symbol, simplify\n",
    "from IPython.display import display, Math\n",
    "\n",
    "# Define your symbols\n",
    "n, p, q, alpha_prime = symbols('n p q alpha_prime')\n",
    "lamb = symbols('lamb')  # Original symbol for lambda\n",
    "\n",
    "# Define the expressions using the original symbol\n",
    "num = 1 + (\n",
    "    (sinh(((n + 1) / 2 - q) * lamb) - sinh(((n + 1) / 2 - p) * lamb)) \n",
    "    / (sinh(((n + 1) / 2) * lamb) - sinh(((n - 1) / 2) * lamb))\n",
    ")\n",
    "\n",
    "#correct denominator\n",
    "denom = ( 1 - 2*alpha_prime \n",
    "- (4 * alpha_prime * ( (tanh(lamb / 2)) / sinh(lamb * n) ) * sinh( ((q-p)/2) * lamb) ) \n",
    "* (\n",
    "        (cosh((q - 1 / 2) * lamb) * sinh((n - ((p + q) / 2 - 1 / 2)) * lamb)) +\n",
    "        (cosh((n - p + 1 / 2) * lamb) * sinh(((p + q) / 2 - 1 / 2) * lamb))\n",
    "    )\n",
    ")\n",
    "\n",
    "c_analytical = num/denom\n",
    "\n",
    "# New symbol for lambda (λ)\n",
    "lambda_symbol = Symbol('lambda', real=True)\n",
    "\n",
    "# Substitute lamb with the new lambda symbol\n",
    "num_display = num.subs(lamb, lambda_symbol)\n",
    "denom_display = denom.subs(lamb, lambda_symbol)\n",
    "c_analytical_display = c_analytical.subs(lamb, lambda_symbol)\n",
    "\n",
    "print('display:')\n",
    "print('num:')\n",
    "display(num_display)\n",
    "print('denom')\n",
    "display(denom_display)\n",
    "print('c_analytical_start')\n",
    "display(c_analytical_display)\n"
   ]
  },
  {
   "cell_type": "markdown",
   "metadata": {},
   "source": [
    "# This is just testing c!"
   ]
  },
  {
   "cell_type": "code",
   "execution_count": 2,
   "metadata": {},
   "outputs": [],
   "source": [
    "denom_part = (2 * sinh(lamb/2) * cosh(lamb/2 * n))\n",
    "denom_2 = denom * denom_part"
   ]
  },
  {
   "cell_type": "code",
   "execution_count": 3,
   "metadata": {},
   "outputs": [
    {
     "data": {
      "text/latex": [
       "$\\displaystyle 2 \\left(- \\frac{4 \\alpha_{prime} \\left(\\sinh{\\left(lamb \\left(\\frac{p}{2} + \\frac{q}{2} - 0.5\\right) \\right)} \\cosh{\\left(lamb \\left(n - p + 0.5\\right) \\right)} + \\sinh{\\left(lamb \\left(n - \\frac{p}{2} - \\frac{q}{2} + 0.5\\right) \\right)} \\cosh{\\left(lamb \\left(q - 0.5\\right) \\right)}\\right) \\sinh{\\left(lamb \\left(- \\frac{p}{2} + \\frac{q}{2}\\right) \\right)} \\tanh{\\left(\\frac{lamb}{2} \\right)}}{\\sinh{\\left(lamb n \\right)}} - 2 \\alpha_{prime} + 1\\right) \\sinh{\\left(\\frac{lamb}{2} \\right)} \\cosh{\\left(\\frac{lamb n}{2} \\right)}$"
      ],
      "text/plain": [
       "2*(-4*alpha_prime*(sinh(lamb*(p/2 + q/2 - 0.5))*cosh(lamb*(n - p + 0.5)) + sinh(lamb*(n - p/2 - q/2 + 0.5))*cosh(lamb*(q - 0.5)))*sinh(lamb*(-p/2 + q/2))*tanh(lamb/2)/sinh(lamb*n) - 2*alpha_prime + 1)*sinh(lamb/2)*cosh(lamb*n/2)"
      ]
     },
     "metadata": {},
     "output_type": "display_data"
    }
   ],
   "source": [
    "display(denom_2)"
   ]
  },
  {
   "cell_type": "code",
   "execution_count": 4,
   "metadata": {},
   "outputs": [
    {
     "name": "stdout",
     "output_type": "stream",
     "text": [
      "1.77375328568449\n",
      "1.77375328568449\n",
      "0.446906661018919\n",
      "0.446906661018919\n",
      "3.70778069546815\n",
      "3.70778069546815\n",
      "term1 is correct\n",
      "check with c and normal denom\n"
     ]
    }
   ],
   "source": [
    "import numpy as np\n",
    "\n",
    "alpha_prime_sub = ( 1 / (2 * cosh(lamb)) )\n",
    "D_sim = (\n",
    "        (cosh((q - 1 / 2) * lamb) * sinh((n - ((p + q) / 2 - 1 / 2)) * lamb)) +\n",
    "        (cosh((n - p + 1 / 2) * lamb) * sinh(((p + q) / 2 - 1 / 2) * lamb))\n",
    "    )\n",
    "\n",
    "D_sim = sinh(lamb*(n - p/2 + q/2)) - sinh(lamb*(n - 3*p/2 - q/2 + 1))/2 + sinh(lamb*(n - p/2 - 3*q/2 + 1))/2\n",
    "\n",
    "c = num/denom\n",
    "\n",
    "#checking term 1\n",
    "\n",
    "term1 = denom_part * (\n",
    "    1 - 2 * alpha_prime - \n",
    "    (4 * alpha_prime * (tanh(lamb/2) / sinh(lamb * n) * sinh( ((q-p)/2) * lamb) * D_sim))\n",
    ")\n",
    "denom_2 = denom * denom_part\n",
    "print(term1.evalf(subs = {n: 7, p: 5, q: 2, lamb: 0.69, alpha_prime: 1/(2 *cosh(lamb)) }))\n",
    "print(denom_2.evalf(subs = {n: 7, p: 5, q: 2, lamb: 0.69, alpha_prime: 1/(2 *cosh(lamb)) }))\n",
    "\n",
    "\n",
    "denom_2_check = denom_2 / denom_part\n",
    "print(denom_2_check.evalf(subs = {n: 7, p: 5, q: 2, lamb: 0.69, alpha_prime: 1/(2 *cosh(lamb)) }))\n",
    "print(denom.evalf(subs = {n: 7, p: 5, q: 2, lamb: 0.69, alpha_prime: 1/(2 *cosh(lamb)) }))\n",
    "\n",
    "c_denom_2 = (num * denom_part) / denom_2\n",
    "print(c_denom_2.evalf(subs = {n: 7, p: 5, q: 2, lamb: 0.69, alpha_prime: 1/(2 *cosh(lamb)) }))\n",
    "print(c.evalf(subs = {n: 7, p: 5, q: 2, lamb: 0.69, alpha_prime: 1/(2 *cosh(lamb)) }))\n",
    "\n",
    "print('term1 is correct')\n",
    "print('check with c and normal denom')"
   ]
  },
  {
   "cell_type": "code",
   "execution_count": 5,
   "metadata": {},
   "outputs": [
    {
     "name": "stdout",
     "output_type": "stream",
     "text": [
      "1.77375328568449\n",
      "1.77375328568449\n"
     ]
    },
    {
     "data": {
      "text/latex": [
       "$\\displaystyle 2 \\left(- \\frac{2 \\left(\\sinh{\\left(lamb \\left(n - \\frac{p}{2} + \\frac{q}{2}\\right) \\right)} - \\frac{\\sinh{\\left(lamb \\left(n - \\frac{3 p}{2} - \\frac{q}{2} + 1\\right) \\right)}}{2} + \\frac{\\sinh{\\left(lamb \\left(n - \\frac{p}{2} - \\frac{3 q}{2} + 1\\right) \\right)}}{2}\\right) \\sinh{\\left(lamb \\left(- \\frac{p}{2} + \\frac{q}{2}\\right) \\right)} \\tanh{\\left(\\frac{lamb}{2} \\right)}}{\\sinh{\\left(lamb n \\right)} \\cosh{\\left(lamb \\right)}} + 1 - \\frac{1}{\\cosh{\\left(lamb \\right)}}\\right) \\sinh{\\left(\\frac{lamb}{2} \\right)} \\cosh{\\left(\\frac{lamb n}{2} \\right)}$"
      ],
      "text/plain": [
       "2*(-2*(sinh(lamb*(n - p/2 + q/2)) - sinh(lamb*(n - 3*p/2 - q/2 + 1))/2 + sinh(lamb*(n - p/2 - 3*q/2 + 1))/2)*sinh(lamb*(-p/2 + q/2))*tanh(lamb/2)/(sinh(lamb*n)*cosh(lamb)) + 1 - 1/cosh(lamb))*sinh(lamb/2)*cosh(lamb*n/2)"
      ]
     },
     "metadata": {},
     "output_type": "display_data"
    },
    {
     "name": "stdout",
     "output_type": "stream",
     "text": [
      "term3 is correct\n"
     ]
    }
   ],
   "source": [
    "# alpha_prime_sub = ( 1 / (2 * cosh(lamb)) )\n",
    "\n",
    "#checking term 3\n",
    "term3 = 2 * cosh(n/2 * lamb) * sinh(lamb/2) * (\n",
    "    (cosh(lamb)/cosh(lamb) - 2 * ( 1 / (2 * cosh(lamb)) )\n",
    " - 4 * ( 1 / (2 * cosh(lamb)) ) * (tanh(lamb/2) / sinh(lamb * n) * sinh( ((q-p)/2) * lamb) * D_sim))\n",
    ")\n",
    "print(denom_2.evalf(subs = {n: 7, p: 5, q: 2, lamb: 0.69, alpha_prime: 1/(2 *cosh(lamb)) }))\n",
    "print(term3.evalf(subs = {n: 7, p: 5, q: 2, lamb: 0.69, alpha_prime: 1/(2 *cosh(lamb)) }))\n",
    "\n",
    "display(term3)\n",
    "\n",
    "print('term3 is correct')"
   ]
  },
  {
   "cell_type": "code",
   "execution_count": 6,
   "metadata": {},
   "outputs": [
    {
     "name": "stdout",
     "output_type": "stream",
     "text": [
      "1.77375328568449\n",
      "1.77375328568449\n"
     ]
    },
    {
     "data": {
      "text/latex": [
       "$\\displaystyle - \\frac{4 \\left(\\sinh{\\left(lamb \\left(n - \\frac{p}{2} + \\frac{q}{2}\\right) \\right)} - \\frac{\\sinh{\\left(lamb \\left(n - \\frac{3 p}{2} - \\frac{q}{2} + 1\\right) \\right)}}{2} + \\frac{\\sinh{\\left(lamb \\left(n - \\frac{p}{2} - \\frac{3 q}{2} + 1\\right) \\right)}}{2}\\right) \\sinh{\\left(\\frac{lamb}{2} \\right)} \\sinh{\\left(lamb \\left(- \\frac{p}{2} + \\frac{q}{2}\\right) \\right)} \\cosh{\\left(\\frac{lamb n}{2} \\right)} \\tanh{\\left(\\frac{lamb}{2} \\right)}}{\\sinh{\\left(lamb n \\right)} \\cosh{\\left(lamb \\right)}} + 2 \\sinh{\\left(\\frac{lamb}{2} \\right)} \\cosh{\\left(\\frac{lamb n}{2} \\right)} - \\frac{2 \\sinh{\\left(\\frac{lamb}{2} \\right)} \\cosh{\\left(\\frac{lamb n}{2} \\right)}}{\\cosh{\\left(lamb \\right)}}$"
      ],
      "text/plain": [
       "-4*(sinh(lamb*(n - p/2 + q/2)) - sinh(lamb*(n - 3*p/2 - q/2 + 1))/2 + sinh(lamb*(n - p/2 - 3*q/2 + 1))/2)*sinh(lamb/2)*sinh(lamb*(-p/2 + q/2))*cosh(lamb*n/2)*tanh(lamb/2)/(sinh(lamb*n)*cosh(lamb)) + 2*sinh(lamb/2)*cosh(lamb*n/2) - 2*sinh(lamb/2)*cosh(lamb*n/2)/cosh(lamb)"
      ]
     },
     "metadata": {},
     "output_type": "display_data"
    },
    {
     "name": "stdout",
     "output_type": "stream",
     "text": [
      "term3.1 is correct\n"
     ]
    }
   ],
   "source": [
    "# alpha_prime_sub = ( 1 / (2 * cosh(lamb)) )\n",
    "\n",
    "#checking term 3.1\n",
    "term31 =  (\n",
    "    (2 * cosh(n/2 * lamb) * sinh(lamb/2) * cosh(lamb)/cosh(lamb) - 2 * 2 * cosh(n/2 * lamb) * sinh(lamb/2) * ( 1 / (2 * cosh(lamb)) )\n",
    " - 4 * 2 * cosh(n/2 * lamb) * sinh(lamb/2) * ( 1 / (2 * cosh(lamb)) ) * (tanh(lamb/2) / sinh(lamb * n) * sinh( ((q-p)/2) * lamb) * D_sim))\n",
    ")\n",
    "print(denom_2.evalf(subs = {n: 7, p: 5, q: 2, lamb: 0.69, alpha_prime: 1/(2 *cosh(lamb)) }))\n",
    "print(term31.evalf(subs = {n: 7, p: 5, q: 2, lamb: 0.69, alpha_prime: 1/(2 *cosh(lamb)) }))\n",
    "\n",
    "display(term31)\n",
    "\n",
    "print('term3.1 is correct')"
   ]
  },
  {
   "cell_type": "code",
   "execution_count": 7,
   "metadata": {},
   "outputs": [
    {
     "name": "stdout",
     "output_type": "stream",
     "text": [
      "1.77375328568449\n",
      "1.77375328568449\n"
     ]
    },
    {
     "data": {
      "text/latex": [
       "$\\displaystyle - \\frac{4 \\left(\\sinh{\\left(lamb \\left(n - \\frac{p}{2} + \\frac{q}{2}\\right) \\right)} - \\frac{\\sinh{\\left(lamb \\left(n - \\frac{3 p}{2} - \\frac{q}{2} + 1\\right) \\right)}}{2} + \\frac{\\sinh{\\left(lamb \\left(n - \\frac{p}{2} - \\frac{3 q}{2} + 1\\right) \\right)}}{2}\\right) \\sinh{\\left(\\frac{lamb}{2} \\right)} \\sinh{\\left(lamb \\left(- \\frac{p}{2} + \\frac{q}{2}\\right) \\right)} \\cosh{\\left(\\frac{lamb n}{2} \\right)} \\tanh{\\left(\\frac{lamb}{2} \\right)}}{\\sinh{\\left(lamb n \\right)} \\cosh{\\left(lamb \\right)}} + 2 \\sinh{\\left(\\frac{lamb}{2} \\right)} \\cosh{\\left(\\frac{lamb n}{2} \\right)} - \\frac{2 \\sinh{\\left(\\frac{lamb}{2} \\right)} \\cosh{\\left(\\frac{lamb n}{2} \\right)}}{\\cosh{\\left(lamb \\right)}}$"
      ],
      "text/plain": [
       "-4*(sinh(lamb*(n - p/2 + q/2)) - sinh(lamb*(n - 3*p/2 - q/2 + 1))/2 + sinh(lamb*(n - p/2 - 3*q/2 + 1))/2)*sinh(lamb/2)*sinh(lamb*(-p/2 + q/2))*cosh(lamb*n/2)*tanh(lamb/2)/(sinh(lamb*n)*cosh(lamb)) + 2*sinh(lamb/2)*cosh(lamb*n/2) - 2*sinh(lamb/2)*cosh(lamb*n/2)/cosh(lamb)"
      ]
     },
     "metadata": {},
     "output_type": "display_data"
    },
    {
     "name": "stdout",
     "output_type": "stream",
     "text": [
      "term3.2 is correct\n"
     ]
    }
   ],
   "source": [
    "# alpha_prime_sub = ( 1 / (2 * cosh(lamb)) )\n",
    "\n",
    "#checking term 3.2\n",
    "term32 =  (\n",
    "    2 * cosh(n/2 * lamb) * sinh(lamb/2) * cosh(lamb) / cosh(lamb) \n",
    "    - 2 * cosh(n/2 * lamb) * sinh(lamb/2) / cosh(lamb)  \n",
    " - ( 2 * 2 * cosh(n/2 * lamb) * sinh(lamb/2) / cosh(lamb) ) * (tanh(lamb/2) / sinh(lamb * n) * sinh( ((q-p)/2) * lamb)  * D_sim)\n",
    " )\n",
    "\n",
    "print(denom_2.evalf(subs = {n: 7, p: 5, q: 2, lamb: 0.69, alpha_prime: 1/(2 *cosh(lamb)) }))\n",
    "print(term32.evalf(subs = {n: 7, p: 5, q: 2, lamb: 0.69, alpha_prime: 1/(2 *cosh(lamb)) }))\n",
    "\n",
    "display(term32)\n",
    "\n",
    "print('term3.2 is correct')"
   ]
  },
  {
   "cell_type": "code",
   "execution_count": 8,
   "metadata": {},
   "outputs": [
    {
     "name": "stdout",
     "output_type": "stream",
     "text": [
      "1.77375328568449\n",
      "1.77375328568449\n"
     ]
    },
    {
     "data": {
      "text/latex": [
       "$\\displaystyle \\frac{2 \\left(\\cosh{\\left(lamb \\right)} - 1\\right) \\sinh{\\left(\\frac{lamb}{2} \\right)} \\cosh{\\left(\\frac{lamb n}{2} \\right)}}{\\cosh{\\left(lamb \\right)}} - \\frac{4 \\left(\\sinh{\\left(lamb \\left(n - \\frac{p}{2} + \\frac{q}{2}\\right) \\right)} - \\frac{\\sinh{\\left(lamb \\left(n - \\frac{3 p}{2} - \\frac{q}{2} + 1\\right) \\right)}}{2} + \\frac{\\sinh{\\left(lamb \\left(n - \\frac{p}{2} - \\frac{3 q}{2} + 1\\right) \\right)}}{2}\\right) \\sinh{\\left(\\frac{lamb}{2} \\right)} \\sinh{\\left(lamb \\left(- \\frac{p}{2} + \\frac{q}{2}\\right) \\right)} \\cosh{\\left(\\frac{lamb n}{2} \\right)} \\tanh{\\left(\\frac{lamb}{2} \\right)}}{\\sinh{\\left(lamb n \\right)} \\cosh{\\left(lamb \\right)}}$"
      ],
      "text/plain": [
       "2*(cosh(lamb) - 1)*sinh(lamb/2)*cosh(lamb*n/2)/cosh(lamb) - 4*(sinh(lamb*(n - p/2 + q/2)) - sinh(lamb*(n - 3*p/2 - q/2 + 1))/2 + sinh(lamb*(n - p/2 - 3*q/2 + 1))/2)*sinh(lamb/2)*sinh(lamb*(-p/2 + q/2))*cosh(lamb*n/2)*tanh(lamb/2)/(sinh(lamb*n)*cosh(lamb))"
      ]
     },
     "metadata": {},
     "output_type": "display_data"
    },
    {
     "name": "stdout",
     "output_type": "stream",
     "text": [
      "term3.3 is correct\n"
     ]
    }
   ],
   "source": [
    "# alpha_prime_sub = ( 1 / (2 * cosh(lamb)) )\n",
    "\n",
    "#checking term 3.3\n",
    "term33 =  (\n",
    "    2 * cosh(n/2 * lamb) * sinh(lamb/2) * ( cosh(lamb) - 1 ) / cosh(lamb)   \n",
    " - ( 2 * 2 * cosh(n/2 * lamb) * sinh(lamb/2) / cosh(lamb) ) * (tanh(lamb/2) / sinh(lamb * n) * sinh( ((q-p)/2) * lamb) * D_sim)\n",
    " )\n",
    "\n",
    "print(denom_2.evalf(subs = {n: 7, p: 5, q: 2, lamb: 0.69, alpha_prime: 1/(2 *cosh(lamb)) }))\n",
    "print(term33.evalf(subs = {n: 7, p: 5, q: 2, lamb: 0.69, alpha_prime: 1/(2 *cosh(lamb)) }))\n",
    "\n",
    "display(term33)\n",
    "\n",
    "print('term3.3 is correct')"
   ]
  },
  {
   "cell_type": "code",
   "execution_count": 9,
   "metadata": {},
   "outputs": [
    {
     "name": "stdout",
     "output_type": "stream",
     "text": [
      "1.77375328568449\n",
      "1.77375328568449\n"
     ]
    },
    {
     "data": {
      "text/latex": [
       "$\\displaystyle 2 \\left(- \\frac{2 \\left(\\sinh{\\left(lamb \\left(n - \\frac{p}{2} + \\frac{q}{2}\\right) \\right)} - \\frac{\\sinh{\\left(lamb \\left(n - \\frac{3 p}{2} - \\frac{q}{2} + 1\\right) \\right)}}{2} + \\frac{\\sinh{\\left(lamb \\left(n - \\frac{p}{2} - \\frac{3 q}{2} + 1\\right) \\right)}}{2}\\right) \\sinh{\\left(\\frac{lamb}{2} \\right)} \\sinh{\\left(lamb \\left(- \\frac{p}{2} + \\frac{q}{2}\\right) \\right)} \\cosh{\\left(\\frac{lamb n}{2} \\right)}}{\\sinh{\\left(lamb n \\right)} \\cosh{\\left(lamb \\right)}} + \\frac{\\sinh{\\left(\\frac{lamb}{2} \\right)} \\sinh{\\left(lamb \\right)} \\cosh{\\left(\\frac{lamb n}{2} \\right)}}{\\cosh{\\left(lamb \\right)}}\\right) \\tanh{\\left(\\frac{lamb}{2} \\right)}$"
      ],
      "text/plain": [
       "2*(-2*(sinh(lamb*(n - p/2 + q/2)) - sinh(lamb*(n - 3*p/2 - q/2 + 1))/2 + sinh(lamb*(n - p/2 - 3*q/2 + 1))/2)*sinh(lamb/2)*sinh(lamb*(-p/2 + q/2))*cosh(lamb*n/2)/(sinh(lamb*n)*cosh(lamb)) + sinh(lamb/2)*sinh(lamb)*cosh(lamb*n/2)/cosh(lamb))*tanh(lamb/2)"
      ]
     },
     "metadata": {},
     "output_type": "display_data"
    },
    {
     "name": "stdout",
     "output_type": "stream",
     "text": [
      "term3.4 is correct\n"
     ]
    }
   ],
   "source": [
    "# alpha_prime_sub = ( 1 / (2 * cosh(lamb)) )\n",
    "\n",
    "#checking term 3.4\n",
    "term34 =  (\n",
    "    (2 * tanh(lamb/2)) * \n",
    "( \n",
    "        \n",
    "     cosh(n/2 * lamb) * sinh(lamb/2) * sinh(lamb) / cosh(lamb)   \n",
    " - ( 2 * cosh(n/2 * lamb) * sinh(lamb/2) / cosh(lamb) ) * (1 / sinh(lamb * n) * sinh( ((q-p)/2) * lamb) * D_sim)\n",
    ")\n",
    " )\n",
    "\n",
    "print(denom_2.evalf(subs = {n: 7, p: 5, q: 2, lamb: 0.69, alpha_prime: 1/(2 *cosh(lamb)) }))\n",
    "print(term34.evalf(subs = {n: 7, p: 5, q: 2, lamb: 0.69, alpha_prime: 1/(2 *cosh(lamb)) }))\n",
    "\n",
    "display(term34)\n",
    "\n",
    "print('term3.4 is correct')"
   ]
  },
  {
   "cell_type": "code",
   "execution_count": 10,
   "metadata": {},
   "outputs": [
    {
     "name": "stdout",
     "output_type": "stream",
     "text": [
      "1.77375328568449\n",
      "1.77375328568449\n"
     ]
    },
    {
     "data": {
      "text/latex": [
       "$\\displaystyle \\frac{2 \\left(- 2 \\left(\\sinh{\\left(lamb \\left(n - \\frac{p}{2} + \\frac{q}{2}\\right) \\right)} - \\frac{\\sinh{\\left(lamb \\left(n - \\frac{3 p}{2} - \\frac{q}{2} + 1\\right) \\right)}}{2} + \\frac{\\sinh{\\left(lamb \\left(n - \\frac{p}{2} - \\frac{3 q}{2} + 1\\right) \\right)}}{2}\\right) \\sinh{\\left(\\frac{lamb}{2} \\right)} \\sinh{\\left(lamb \\left(- \\frac{p}{2} + \\frac{q}{2}\\right) \\right)} \\cosh{\\left(\\frac{lamb n}{2} \\right)} + \\sinh{\\left(\\frac{lamb}{2} \\right)} \\sinh{\\left(lamb \\right)} \\sinh{\\left(lamb n \\right)} \\cosh{\\left(\\frac{lamb n}{2} \\right)}\\right) \\tanh{\\left(\\frac{lamb}{2} \\right)}}{\\sinh{\\left(lamb n \\right)} \\cosh{\\left(lamb \\right)}}$"
      ],
      "text/plain": [
       "2*(-2*(sinh(lamb*(n - p/2 + q/2)) - sinh(lamb*(n - 3*p/2 - q/2 + 1))/2 + sinh(lamb*(n - p/2 - 3*q/2 + 1))/2)*sinh(lamb/2)*sinh(lamb*(-p/2 + q/2))*cosh(lamb*n/2) + sinh(lamb/2)*sinh(lamb)*sinh(lamb*n)*cosh(lamb*n/2))*tanh(lamb/2)/(sinh(lamb*n)*cosh(lamb))"
      ]
     },
     "metadata": {},
     "output_type": "display_data"
    },
    {
     "name": "stdout",
     "output_type": "stream",
     "text": [
      "term3.5 is correct\n"
     ]
    }
   ],
   "source": [
    "# alpha_prime_sub = ( 1 / (2 * cosh(lamb)) )\n",
    "\n",
    "#checking term 3.5\n",
    "term35 =  (\n",
    "    (2 * tanh(lamb/2)) * \n",
    "( \n",
    "     ( sinh(lamb) * cosh(n/2 * lamb) * sinh(lamb/2)  * sinh(lamb * n) -  2 * cosh(n/2 * lamb) * sinh(lamb/2) * sinh( ((q-p)/2) * lamb) * D_sim)\n",
    "     / ( cosh(lamb) * sinh(lamb * n) )\n",
    ")\n",
    " )\n",
    "\n",
    "print(denom_2.evalf(subs = {n: 7, p: 5, q: 2, lamb: 0.69, alpha_prime: 1/(2 *cosh(lamb)) }))\n",
    "print(term35.evalf(subs = {n: 7, p: 5, q: 2, lamb: 0.69, alpha_prime: 1/(2 *cosh(lamb)) }))\n",
    "\n",
    "display(term35)\n",
    "\n",
    "print('term3.5 is correct')"
   ]
  },
  {
   "cell_type": "code",
   "execution_count": 11,
   "metadata": {},
   "outputs": [
    {
     "name": "stdout",
     "output_type": "stream",
     "text": [
      "1.77375328568449\n",
      "1.77375328568449\n"
     ]
    },
    {
     "data": {
      "text/latex": [
       "$\\displaystyle \\frac{2 \\left(- 2 \\left(\\sinh{\\left(lamb \\left(n - \\frac{p}{2} + \\frac{q}{2}\\right) \\right)} - \\frac{\\sinh{\\left(lamb \\left(n - \\frac{3 p}{2} - \\frac{q}{2} + 1\\right) \\right)}}{2} + \\frac{\\sinh{\\left(lamb \\left(n - \\frac{p}{2} - \\frac{3 q}{2} + 1\\right) \\right)}}{2}\\right) \\sinh{\\left(lamb \\left(- \\frac{p}{2} + \\frac{q}{2}\\right) \\right)} + \\sinh{\\left(lamb \\right)} \\sinh{\\left(lamb n \\right)}\\right) \\sinh{\\left(\\frac{lamb}{2} \\right)} \\cosh{\\left(\\frac{lamb n}{2} \\right)} \\tanh{\\left(\\frac{lamb}{2} \\right)}}{\\sinh{\\left(lamb n \\right)} \\cosh{\\left(lamb \\right)}}$"
      ],
      "text/plain": [
       "2*(-2*(sinh(lamb*(n - p/2 + q/2)) - sinh(lamb*(n - 3*p/2 - q/2 + 1))/2 + sinh(lamb*(n - p/2 - 3*q/2 + 1))/2)*sinh(lamb*(-p/2 + q/2)) + sinh(lamb)*sinh(lamb*n))*sinh(lamb/2)*cosh(lamb*n/2)*tanh(lamb/2)/(sinh(lamb*n)*cosh(lamb))"
      ]
     },
     "metadata": {},
     "output_type": "display_data"
    },
    {
     "name": "stdout",
     "output_type": "stream",
     "text": [
      "term3.6 is correct\n"
     ]
    }
   ],
   "source": [
    "# alpha_prime_sub = ( 1 / (2 * cosh(lamb)) )\n",
    "\n",
    "#checking term 3.6\n",
    "term36 =  (\n",
    "    (2 * tanh(lamb/2)) * ( cosh(n/2 * lamb) * sinh(lamb/2) ) * \n",
    "( \n",
    "     ( sinh(lamb) * sinh(lamb * n) -  2  * sinh( ((q-p)/2) * lamb) * D_sim)\n",
    "     / ( cosh(lamb) * sinh(lamb * n) )\n",
    ")\n",
    " )\n",
    "\n",
    "print(denom_2.evalf(subs = {n: 7, p: 5, q: 2, lamb: 0.69, alpha_prime: 1/(2 *cosh(lamb)) }))\n",
    "print(term36.evalf(subs = {n: 7, p: 5, q: 2, lamb: 0.69, alpha_prime: 1/(2 *cosh(lamb)) }))\n",
    "\n",
    "display(term36)\n",
    "\n",
    "print('term3.6 is correct')"
   ]
  },
  {
   "cell_type": "code",
   "execution_count": null,
   "metadata": {},
   "outputs": [],
   "source": []
  },
  {
   "cell_type": "code",
   "execution_count": 12,
   "metadata": {},
   "outputs": [
    {
     "name": "stdout",
     "output_type": "stream",
     "text": [
      "0.597982000498941\n",
      "0.597982000498941\n"
     ]
    }
   ],
   "source": [
    "print((tanh(lamb)).evalf(subs = {n: 7, p: 5, q: 2, lamb: 0.69, alpha_prime: 1/(2 *cosh(lamb)) }))\n",
    "print((sinh(lamb)/cosh(lamb)).evalf(subs = {n: 7, p: 5, q: 2, lamb: 0.69, alpha_prime: 1/(2 *cosh(lamb)) }))"
   ]
  },
  {
   "cell_type": "code",
   "execution_count": 13,
   "metadata": {},
   "outputs": [
    {
     "name": "stdout",
     "output_type": "stream",
     "text": [
      "1.77375328568449\n",
      "1.77375328568449\n",
      "term3.7 is correct\n"
     ]
    }
   ],
   "source": [
    "# alpha_prime_sub = ( 1 / (2 * cosh(lamb)) )\n",
    "\n",
    "#checking term 3.7\n",
    "\n",
    "term36 =  (\n",
    "    (2 * tanh(lamb/2)) * ( cosh(n/2 * lamb) * sinh(lamb/2) ) * \n",
    "( \n",
    "     ( sinh(lamb) * sinh(lamb * n) -  2  * sinh( ((q-p)/2) * lamb) * D_sim)\n",
    "     / ( cosh(lamb) * sinh(lamb * n) )\n",
    ")\n",
    " )\n",
    "\n",
    "\n",
    "term37 =  (\n",
    "    (2 * tanh(lamb/2)) * ( cosh(n/2 * lamb) * sinh(lamb/2) ) * \n",
    "( \n",
    "     tanh(lamb)\n",
    "     -  (2  * sinh( ((q-p)/2) * lamb) * D_sim) / ( cosh(lamb) * sinh(lamb * n) )\n",
    ")\n",
    " )\n",
    "\n",
    "print(denom_2.evalf(subs = {n: 7, p: 5, q: 2, lamb: 0.69, alpha_prime: 1/(2 *cosh(lamb)) }))\n",
    "print(term37.evalf(subs = {n: 7, p: 5, q: 2, lamb: 0.69, alpha_prime: 1/(2 *cosh(lamb)) }))\n",
    "\n",
    "print('term3.7 is correct')"
   ]
  },
  {
   "cell_type": "code",
   "execution_count": 14,
   "metadata": {},
   "outputs": [
    {
     "name": "stdout",
     "output_type": "stream",
     "text": [
      "1.77375328568449\n",
      "1.77375328568449\n",
      "0.198490469751429\n"
     ]
    }
   ],
   "source": [
    "alpha_sub = 1 - 2 * alpha_prime_sub\n",
    "\n",
    "term3 = 2 * cosh(n/2 * lamb) * sinh(lamb/2) * (\n",
    "    alpha_sub\n",
    " - ( 2 / (cosh(lamb)) * tanh(lamb/2) / sinh(lamb * n) * sinh( ((q-p)/2) * lamb) * D_sim)\n",
    ")\n",
    "\n",
    "denom_2_check = ( 2 * ( cosh(n/2 * lamb) * sinh(lamb/2) )\n",
    "                    * ( alpha_sub - 2 * tanh(lamb/2) * sinh((q-p)/2 * lamb) * D_sim \n",
    "                                    / (cosh(lamb) * sinh(lamb * n))\n",
    "                    )\n",
    ")\n",
    "\n",
    "print(term3.evalf(subs = {n: 7, p: 5, q: 2, lamb: 0.69, alpha_prime: 1/(2 *cosh(lamb)) }))\n",
    "print(denom_2_check.evalf(subs = {n: 7, p: 5, q: 2, lamb: 0.69, alpha_prime: 1/(2 *cosh(lamb)) }))\n",
    "\n",
    "print((alpha_sub).evalf(subs = {n: 7, p: 5, q: 2, lamb: 0.69, alpha_prime: 1/(2 *cosh(lamb)) }))"
   ]
  },
  {
   "cell_type": "code",
   "execution_count": 15,
   "metadata": {},
   "outputs": [
    {
     "name": "stdout",
     "output_type": "stream",
     "text": [
      "0.198490469751429\n",
      "0.198490469751429\n"
     ]
    }
   ],
   "source": [
    "# checking identity\n",
    "print( (tanh(lamb/2) * tanh(lamb)).evalf(subs = {n: 7, p: 5, q: 2, lamb: 0.69, alpha_prime: 1/(2 *cosh(lamb)) }) )\n",
    "print(alpha_sub.evalf(subs = {n: 7, p: 5, q: 2, lamb: 0.69, alpha_prime: 1/(2 *cosh(lamb)) }))\n"
   ]
  },
  {
   "cell_type": "code",
   "execution_count": 16,
   "metadata": {},
   "outputs": [
    {
     "name": "stdout",
     "output_type": "stream",
     "text": [
      "1.77375328568449\n",
      "1.77375328568449\n",
      "term3.8 is correct\n"
     ]
    }
   ],
   "source": [
    "# alpha_prime_sub = ( 1 / (2 * cosh(lamb)) )\n",
    "\n",
    "#checking term 3.7\n",
    "\n",
    "term38 =  (\n",
    "    (2 * cosh(n/2 * lamb) * sinh(lamb/2) ) * \n",
    "( \n",
    "     alpha_sub\n",
    "     -  (2 * tanh(lamb/2) * sinh( ((q-p)/2) * lamb) * D_sim) / ( cosh(lamb) * sinh(lamb * n) )\n",
    ")\n",
    " )\n",
    "\n",
    "print(denom_2.evalf(subs = {n: 7, p: 5, q: 2, lamb: 0.69, alpha_prime: 1/(2 *cosh(lamb)) }))\n",
    "print(term38.evalf(subs = {n: 7, p: 5, q: 2, lamb: 0.69, alpha_prime: 1/(2 *cosh(lamb)) }))\n",
    "\n",
    "print('term3.8 is correct')"
   ]
  },
  {
   "cell_type": "code",
   "execution_count": 17,
   "metadata": {},
   "outputs": [
    {
     "name": "stdout",
     "output_type": "stream",
     "text": [
      "1.77375328568449\n",
      "1.77375328568449\n",
      "term3.9 is correct\n"
     ]
    }
   ],
   "source": [
    "# alpha_prime_sub = ( 1 / (2 * cosh(lamb)) )\n",
    "\n",
    "#checking term 3.9\n",
    "\n",
    "term39 =  (\n",
    "    (2 * cosh(n/2 * lamb) * sinh(lamb/2) ) * \n",
    "( \n",
    "     alpha_sub\n",
    "     -  (2 * tanh(lamb/2) * sinh( ((q-p)/2) * lamb) * D_sim) / ( cosh(lamb) * sinh(lamb * n) )\n",
    ")\n",
    " )\n",
    "\n",
    " #checking term 3.10\n",
    "denom_2_final=  (\n",
    "    (sinh( (n+1) / 2 * lamb) - sinh( (n-1) / 2 * lamb)) * tanh(lamb/2)\n",
    "    * (alpha_sub \n",
    "        - (2 * tanh(lamb/2) / (cosh(lamb) * sinh(lamb * n)) ) * sinh( ((q-p)/2) * lamb) * D_sim )\n",
    ")\n",
    "\n",
    "print(denom_2.evalf(subs = {n: 7, p: 5, q: 2, lamb: 0.69, alpha_prime: 1/(2 *cosh(lamb)) }))\n",
    "print(term39.evalf(subs = {n: 7, p: 5, q: 2, lamb: 0.69, alpha_prime: 1/(2 *cosh(lamb)) }))\n",
    "\n",
    "print('term3.9 is correct')"
   ]
  },
  {
   "cell_type": "code",
   "execution_count": 18,
   "metadata": {},
   "outputs": [
    {
     "name": "stdout",
     "output_type": "stream",
     "text": [
      "3.70778069546815\n",
      "3.70778069546815\n",
      "formula is correct!\n"
     ]
    }
   ],
   "source": [
    "c_denom_2 = (num * denom_part) / denom_2\n",
    "print(c_denom_2.evalf(subs = {n: 7, p: 5, q: 2, lamb: 0.69, alpha_prime: 1/(2 *cosh(lamb)) }))\n",
    "print(c.evalf(subs = {n: 7, p: 5, q: 2, lamb: 0.69, alpha_prime: 1/(2 *cosh(lamb)) }))\n",
    "print('formula is correct!')"
   ]
  },
  {
   "cell_type": "code",
   "execution_count": 19,
   "metadata": {},
   "outputs": [
    {
     "name": "stdout",
     "output_type": "stream",
     "text": [
      "1.31743116546896\n",
      "1.31743116546896\n"
     ]
    }
   ],
   "source": [
    "#verifying transformation\n",
    "print((2 * ( cosh(n/2 * lamb) * sinh(lamb/2) * tanh(lamb/2)) ).evalf(subs = {n: 7, p: 5, q: 2, lamb: 0.69, alpha_prime: 1/(2 *cosh(lamb)) }) )\n",
    "print(((sinh( (n+1) / 2 * lamb) - sinh( (n-1) / 2 * lamb)) * tanh(lamb/2)).evalf(subs = {n: 7, p: 5, q: 2, lamb: 0.69, alpha_prime: 1/(2 *cosh(lamb)) }))"
   ]
  },
  {
   "cell_type": "code",
   "execution_count": 20,
   "metadata": {},
   "outputs": [],
   "source": [
    "# #verifying transformation (breaks code below so just verify and then comment out if you need to see this)\n",
    "# print(lamb)\n",
    "# lamb = 0.69\n",
    "# print(lamb)\n",
    "# print(alpha_prime)\n",
    "# alpha_prime = (1/(2 *cosh(lamb))).evalf(subs = {n: 7, p: 5, q: 2, lamb: 0.69, alpha_prime: 1/(2 *cosh(lamb)) })\n",
    "# print(alpha_prime)\n",
    "# print((1-2*alpha_prime).evalf(subs = {n: 7, p: 5, q: 2, lamb: 0.69, alpha_prime: 1/(2 *cosh(lamb)) }))\n",
    "# print((tanh(lamb/2) * tanh(lamb)).evalf(subs = {n: 7, p: 5, q: 2, lamb: 0.69, alpha_prime: 1/(2 *cosh(lamb)) }) )\n",
    "\n",
    "# lamb = symbols('lamb')\n",
    "# alpha_prime = symbols('alpha_prime')"
   ]
  },
  {
   "cell_type": "code",
   "execution_count": 21,
   "metadata": {},
   "outputs": [
    {
     "data": {
      "text/latex": [
       "$\\displaystyle 2 \\left(- \\frac{4 \\alpha_{prime} \\left(\\sinh{\\left(lamb \\left(\\frac{p}{2} + \\frac{q}{2} - 0.5\\right) \\right)} \\cosh{\\left(lamb \\left(n - p + 0.5\\right) \\right)} + \\sinh{\\left(lamb \\left(n - \\frac{p}{2} - \\frac{q}{2} + 0.5\\right) \\right)} \\cosh{\\left(lamb \\left(q - 0.5\\right) \\right)}\\right) \\sinh{\\left(lamb \\left(- \\frac{p}{2} + \\frac{q}{2}\\right) \\right)} \\tanh{\\left(\\frac{lamb}{2} \\right)}}{\\sinh{\\left(lamb n \\right)}} - 2 \\alpha_{prime} + 1\\right) \\sinh{\\left(\\frac{lamb}{2} \\right)} \\cosh{\\left(\\frac{lamb n}{2} \\right)}$"
      ],
      "text/plain": [
       "2*(-4*alpha_prime*(sinh(lamb*(p/2 + q/2 - 0.5))*cosh(lamb*(n - p + 0.5)) + sinh(lamb*(n - p/2 - q/2 + 0.5))*cosh(lamb*(q - 0.5)))*sinh(lamb*(-p/2 + q/2))*tanh(lamb/2)/sinh(lamb*n) - 2*alpha_prime + 1)*sinh(lamb/2)*cosh(lamb*n/2)"
      ]
     },
     "metadata": {},
     "output_type": "display_data"
    }
   ],
   "source": [
    "display(denom_2)"
   ]
  },
  {
   "cell_type": "code",
   "execution_count": 22,
   "metadata": {},
   "outputs": [
    {
     "name": "stdout",
     "output_type": "stream",
     "text": [
      "1.77375328568449\n",
      "1.77375328568449\n"
     ]
    },
    {
     "data": {
      "text/latex": [
       "$\\displaystyle \\frac{2 \\left(- 2 \\left(\\sinh{\\left(lamb \\left(n - \\frac{p}{2} + \\frac{q}{2}\\right) \\right)} - \\frac{\\sinh{\\left(lamb \\left(n - \\frac{3 p}{2} - \\frac{q}{2} + 1\\right) \\right)}}{2} + \\frac{\\sinh{\\left(lamb \\left(n - \\frac{p}{2} - \\frac{3 q}{2} + 1\\right) \\right)}}{2}\\right) \\sinh{\\left(lamb \\left(- \\frac{p}{2} + \\frac{q}{2}\\right) \\right)} + \\sinh{\\left(lamb \\right)} \\sinh{\\left(lamb n \\right)}\\right) \\sinh{\\left(\\frac{lamb}{2} \\right)} \\cosh{\\left(\\frac{lamb n}{2} \\right)} \\tanh{\\left(\\frac{lamb}{2} \\right)}}{\\sinh{\\left(lamb n \\right)} \\cosh{\\left(lamb \\right)}}$"
      ],
      "text/plain": [
       "2*(-2*(sinh(lamb*(n - p/2 + q/2)) - sinh(lamb*(n - 3*p/2 - q/2 + 1))/2 + sinh(lamb*(n - p/2 - 3*q/2 + 1))/2)*sinh(lamb*(-p/2 + q/2)) + sinh(lamb)*sinh(lamb*n))*sinh(lamb/2)*cosh(lamb*n/2)*tanh(lamb/2)/(sinh(lamb*n)*cosh(lamb))"
      ]
     },
     "metadata": {},
     "output_type": "display_data"
    },
    {
     "name": "stdout",
     "output_type": "stream",
     "text": [
      "final denominator is correct\n"
     ]
    }
   ],
   "source": [
    "alpha_prime_sub = ( 1 / (2 * cosh(lamb)) )\n",
    "alpha_sub = 1 - 2 *alpha_prime_sub\n",
    "\n",
    "#checking term 3.10\n",
    "denom_2_final=  (\n",
    "    (sinh((n+1)/2 * lamb) - sinh((n-1)/2 * lamb)) * \n",
    "( \n",
    "     alpha_sub\n",
    "     -  (2 * tanh(lamb/2) * sinh( ((q-p)/2) * lamb) * D_sim) / ( cosh(lamb) * sinh(lamb * n) )\n",
    ")\n",
    " )\n",
    "\n",
    "print(denom_2.evalf(subs = {n: 7, p: 5, q: 2, lamb: 0.69, alpha_prime: 1/(2 *cosh(lamb)) }))\n",
    "print(denom_2_final.evalf(subs = {n: 7, p: 5, q: 2, lamb: 0.69, alpha_prime: 1/(2 *cosh(lamb)) }))\n",
    "\n",
    "\n",
    "display(term36)\n",
    "\n",
    "print('final denominator is correct')"
   ]
  },
  {
   "cell_type": "code",
   "execution_count": 23,
   "metadata": {},
   "outputs": [
    {
     "data": {
      "text/latex": [
       "$\\displaystyle 1 + \\frac{- \\sinh{\\left(lamb \\left(\\frac{n}{2} - p + \\frac{1}{2}\\right) \\right)} + \\sinh{\\left(lamb \\left(\\frac{n}{2} - q + \\frac{1}{2}\\right) \\right)}}{- \\sinh{\\left(lamb \\left(\\frac{n}{2} - \\frac{1}{2}\\right) \\right)} + \\sinh{\\left(lamb \\left(\\frac{n}{2} + \\frac{1}{2}\\right) \\right)}}$"
      ],
      "text/plain": [
       "1 + (-sinh(lamb*(n/2 - p + 1/2)) + sinh(lamb*(n/2 - q + 1/2)))/(-sinh(lamb*(n/2 - 1/2)) + sinh(lamb*(n/2 + 1/2)))"
      ]
     },
     "metadata": {},
     "output_type": "display_data"
    }
   ],
   "source": [
    "display(num)"
   ]
  },
  {
   "cell_type": "code",
   "execution_count": 24,
   "metadata": {},
   "outputs": [
    {
     "name": "stdout",
     "output_type": "stream",
     "text": [
      "6.57668819118416\n",
      "6.57668819118416\n"
     ]
    }
   ],
   "source": [
    "num_final = ( sinh((n+1)/2 * lamb) - sinh((n-1)/2 * lamb)\n",
    "                - sinh( (((n+1)/2 - p) * lamb) ) + sinh( (((n+1)/2 - q) * lamb) )\n",
    ")\n",
    "\n",
    "num_part = sinh((n+1)/2 * lamb) - sinh((n-1)/2 * lamb)\n",
    "num_final_check = num * num_part\n",
    "\n",
    "print(num_final.evalf(subs = {n: 7, p: 5, q: 2, lamb: 0.69, alpha_prime: 1/(2 *cosh(lamb)) }))\n",
    "print(num_final_check.evalf(subs = {n: 7, p: 5, q: 2, lamb: 0.69, alpha_prime: 1/(2 *cosh(lamb)) }))"
   ]
  },
  {
   "cell_type": "code",
   "execution_count": 25,
   "metadata": {},
   "outputs": [
    {
     "name": "stdout",
     "output_type": "stream",
     "text": [
      "3.70778069546815\n",
      "3.70778069546815\n"
     ]
    },
    {
     "data": {
      "image/png": "[encoded data removed]",
      "text/latex": [
       "$\\displaystyle \\frac{- \\sinh{\\left(λ \\left(\\frac{n}{2} - \\frac{1}{2}\\right) \\right)} + \\sinh{\\left(λ \\left(\\frac{n}{2} + \\frac{1}{2}\\right) \\right)} - \\sinh{\\left(λ \\left(\\frac{n}{2} - p + \\frac{1}{2}\\right) \\right)} + \\sinh{\\left(λ \\left(\\frac{n}{2} - q + \\frac{1}{2}\\right) \\right)}}{\\left(- \\sinh{\\left(λ \\left(\\frac{n}{2} - \\frac{1}{2}\\right) \\right)} + \\sinh{\\left(λ \\left(\\frac{n}{2} + \\frac{1}{2}\\right) \\right)}\\right) \\left(- \\frac{2 \\left(\\sinh{\\left(λ \\left(n - \\frac{p}{2} + \\frac{q}{2}\\right) \\right)} - \\frac{\\sinh{\\left(λ \\left(n - \\frac{3 p}{2} - \\frac{q}{2} + 1\\right) \\right)}}{2} + \\frac{\\sinh{\\left(λ \\left(n - \\frac{p}{2} - \\frac{3 q}{2} + 1\\right) \\right)}}{2}\\right) \\sinh{\\left(λ \\left(- \\frac{p}{2} + \\frac{q}{2}\\right) \\right)} \\tanh{\\left(\\frac{λ}{2} \\right)}}{\\sinh{\\left(n λ \\right)} \\cosh{\\left(λ \\right)}} + 1 - \\frac{1}{\\cosh{\\left(λ \\right)}}\\right)}$"
      ],
      "text/plain": [
       "                                               ⎛  ⎛n   1⎞⎞       ⎛  ⎛n   1⎞⎞  \n",
       "                                         - sinh⎜λ⋅⎜─ - ─⎟⎟ + sinh⎜λ⋅⎜─ + ─⎟⎟ -\n",
       "                                               ⎝  ⎝2   2⎠⎠       ⎝  ⎝2   2⎠⎠  \n",
       "──────────────────────────────────────────────────────────────────────────────\n",
       "                                      ⎛    ⎛                          ⎛  ⎛    \n",
       "                                      ⎜    ⎜                      sinh⎜λ⋅⎜n - \n",
       "                                      ⎜    ⎜    ⎛  ⎛    p   q⎞⎞       ⎝  ⎝    \n",
       "                                      ⎜  2⋅⎜sinh⎜λ⋅⎜n - ─ + ─⎟⎟ - ────────────\n",
       "⎛      ⎛  ⎛n   1⎞⎞       ⎛  ⎛n   1⎞⎞⎞ ⎜    ⎝    ⎝  ⎝    2   2⎠⎠               \n",
       "⎜- sinh⎜λ⋅⎜─ - ─⎟⎟ + sinh⎜λ⋅⎜─ + ─⎟⎟⎟⋅⎜- ─────────────────────────────────────\n",
       "⎝      ⎝  ⎝2   2⎠⎠       ⎝  ⎝2   2⎠⎠⎠ ⎝                                       \n",
       "\n",
       "     ⎛  ⎛n       1⎞⎞       ⎛  ⎛n       1⎞⎞                                    \n",
       " sinh⎜λ⋅⎜─ - p + ─⎟⎟ + sinh⎜λ⋅⎜─ - q + ─⎟⎟                                    \n",
       "     ⎝  ⎝2       2⎠⎠       ⎝  ⎝2       2⎠⎠                                    \n",
       "──────────────────────────────────────────────────────────────────────────────\n",
       "3⋅p   q    ⎞⎞       ⎛  ⎛    p   3⋅q    ⎞⎞⎞                                    \n",
       "─── - ─ + 1⎟⎟   sinh⎜λ⋅⎜n - ─ - ─── + 1⎟⎟⎟                                    \n",
       " 2    2    ⎠⎠       ⎝  ⎝    2    2     ⎠⎠⎟     ⎛  ⎛  p   q⎞⎞     ⎛λ⎞          \n",
       "───────────── + ─────────────────────────⎟⋅sinh⎜λ⋅⎜- ─ + ─⎟⎟⋅tanh⎜─⎟          \n",
       "2                           2            ⎠     ⎝  ⎝  2   2⎠⎠     ⎝2⎠          \n",
       "──────────────────────────────────────────────────────────────────── + 1 - ───\n",
       "       sinh(n⋅λ)⋅cosh(λ)                                                   cos\n",
       "\n",
       "     \n",
       "     \n",
       "     \n",
       "─────\n",
       "    ⎞\n",
       "    ⎟\n",
       "    ⎟\n",
       "    ⎟\n",
       "1   ⎟\n",
       "────⎟\n",
       "h(λ)⎠"
      ]
     },
     "metadata": {},
     "output_type": "display_data"
    },
    {
     "ename": "",
     "evalue": "",
     "output_type": "error",
     "traceback": [
      "\u001b[1;31mThe Kernel crashed while executing code in the current cell or a previous cell. \n",
      "\u001b[1;31mPlease review the code in the cell(s) to identify a possible cause of the failure. \n",
      "\u001b[1;31mClick <a href='https://aka.ms/vscodeJupyterKernelCrash'>here</a> for more info. \n",
      "\u001b[1;31mView Jupyter <a href='command:jupyter.viewOutput'>log</a> for further details."
     ]
    }
   ],
   "source": [
    "c_denom_2 = num_final / denom_2_final\n",
    "print(c_denom_2.evalf(subs = {n: 7, p: 5, q: 2, lamb: 0.69, alpha_prime: 1/(2 *cosh(lamb)) }))\n",
    "print(c.evalf(subs = {n: 7, p: 5, q: 2, lamb: 0.69, alpha_prime: 1/(2 *cosh(lamb)) }))\n",
    "\n",
    "from sympy import init_printing\n",
    "\n",
    "init_printing(use_unicode=True)\n",
    "lamb = symbols('lambda')\n",
    "display(c_denom_2.subs({'lamb': 'λ', 'alpha_sub': 'alpha'}))"
   ]
  },
  {
   "cell_type": "code",
   "execution_count": null,
   "metadata": {},
   "outputs": [],
   "source": []
  }
 ],
 "metadata": {
  "kernelspec": {
   "display_name": "base",
   "language": "python",
   "name": "python3"
  },
  "language_info": {
   "codemirror_mode": {
    "name": "ipython",
    "version": 3
   },
   "file_extension": ".py",
   "mimetype": "text/x-python",
   "name": "python",
   "nbconvert_exporter": "python",
   "pygments_lexer": "ipython3",
   "version": "3.11.7"
  }
 },
 "nbformat": 4,
 "nbformat_minor": 2
}
