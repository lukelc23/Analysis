{
 "cells": [
  {
   "cell_type": "code",
   "execution_count": 8,
   "metadata": {},
   "outputs": [
    {
     "name": "stdout",
     "output_type": "stream",
     "text": [
      "display:\n",
      "num:\n"
     ]
    },
    {
     "data": {
      "text/latex": [
       "$\\displaystyle 1 + \\frac{- \\sinh{\\left(\\lambda \\left(\\frac{n}{2} - p + \\frac{1}{2}\\right) \\right)} + \\sinh{\\left(\\lambda \\left(\\frac{n}{2} - q + \\frac{1}{2}\\right) \\right)}}{- \\sinh{\\left(\\lambda \\left(\\frac{n}{2} - \\frac{1}{2}\\right) \\right)} + \\sinh{\\left(\\lambda \\left(\\frac{n}{2} + \\frac{1}{2}\\right) \\right)}}$"
      ],
      "text/plain": [
       "1 + (-sinh(lambda*(n/2 - p + 1/2)) + sinh(lambda*(n/2 - q + 1/2)))/(-sinh(lambda*(n/2 - 1/2)) + sinh(lambda*(n/2 + 1/2)))"
      ]
     },
     "metadata": {},
     "output_type": "display_data"
    },
    {
     "name": "stdout",
     "output_type": "stream",
     "text": [
      "denom\n"
     ]
    },
    {
     "data": {
      "text/latex": [
       "$\\displaystyle - \\frac{4 \\alpha_{prime} \\left(\\sinh{\\left(\\lambda \\left(\\frac{p}{2} + \\frac{q}{2} - 0.5\\right) \\right)} \\cosh{\\left(\\lambda \\left(n - p + 0.5\\right) \\right)} + \\sinh{\\left(\\lambda \\left(n - \\frac{p}{2} - \\frac{q}{2} + 0.5\\right) \\right)} \\cosh{\\left(\\lambda \\left(q - 0.5\\right) \\right)}\\right) \\sinh{\\left(\\lambda \\left(- \\frac{p}{2} + \\frac{q}{2}\\right) \\right)} \\tanh{\\left(\\frac{\\lambda}{2} \\right)}}{\\sinh{\\left(\\lambda n \\right)}} - 2 \\alpha_{prime} + 1$"
      ],
      "text/plain": [
       "-4*alpha_prime*(sinh(lambda*(p/2 + q/2 - 0.5))*cosh(lambda*(n - p + 0.5)) + sinh(lambda*(n - p/2 - q/2 + 0.5))*cosh(lambda*(q - 0.5)))*sinh(lambda*(-p/2 + q/2))*tanh(lambda/2)/sinh(lambda*n) - 2*alpha_prime + 1"
      ]
     },
     "metadata": {},
     "output_type": "display_data"
    },
    {
     "name": "stdout",
     "output_type": "stream",
     "text": [
      "c_analytical_start\n"
     ]
    },
    {
     "data": {
      "text/latex": [
       "$\\displaystyle \\frac{1 + \\frac{- \\sinh{\\left(\\lambda \\left(\\frac{n}{2} - p + \\frac{1}{2}\\right) \\right)} + \\sinh{\\left(\\lambda \\left(\\frac{n}{2} - q + \\frac{1}{2}\\right) \\right)}}{- \\sinh{\\left(\\lambda \\left(\\frac{n}{2} - \\frac{1}{2}\\right) \\right)} + \\sinh{\\left(\\lambda \\left(\\frac{n}{2} + \\frac{1}{2}\\right) \\right)}}}{- \\frac{4 \\alpha_{prime} \\left(\\sinh{\\left(\\lambda \\left(\\frac{p}{2} + \\frac{q}{2} - 0.5\\right) \\right)} \\cosh{\\left(\\lambda \\left(n - p + 0.5\\right) \\right)} + \\sinh{\\left(\\lambda \\left(n - \\frac{p}{2} - \\frac{q}{2} + 0.5\\right) \\right)} \\cosh{\\left(\\lambda \\left(q - 0.5\\right) \\right)}\\right) \\sinh{\\left(\\lambda \\left(- \\frac{p}{2} + \\frac{q}{2}\\right) \\right)} \\tanh{\\left(\\frac{\\lambda}{2} \\right)}}{\\sinh{\\left(\\lambda n \\right)}} - 2 \\alpha_{prime} + 1}$"
      ],
      "text/plain": [
       "(1 + (-sinh(lambda*(n/2 - p + 1/2)) + sinh(lambda*(n/2 - q + 1/2)))/(-sinh(lambda*(n/2 - 1/2)) + sinh(lambda*(n/2 + 1/2))))/(-4*alpha_prime*(sinh(lambda*(p/2 + q/2 - 0.5))*cosh(lambda*(n - p + 0.5)) + sinh(lambda*(n - p/2 - q/2 + 0.5))*cosh(lambda*(q - 0.5)))*sinh(lambda*(-p/2 + q/2))*tanh(lambda/2)/sinh(lambda*n) - 2*alpha_prime + 1)"
      ]
     },
     "metadata": {},
     "output_type": "display_data"
    }
   ],
   "source": [
    "from sympy import symbols, sinh, cosh, tanh, Symbol, simplify\n",
    "import numpy as np\n",
    "import sympy as sp\n",
    "from IPython.display import display, Math\n",
    "\n",
    "# Define your symbols\n",
    "n, p, q, alpha_prime = symbols('n p q alpha_prime')\n",
    "lamb = symbols('lamb')  # Original symbol for lambda\n",
    "\n",
    "# Define the expressions using the original symbol\n",
    "num = 1 + (\n",
    "    (sinh(((n + 1) / 2 - q) * lamb) - sinh(((n + 1) / 2 - p) * lamb)) \n",
    "    / (sinh(((n + 1) / 2) * lamb) - sinh(((n - 1) / 2) * lamb))\n",
    ")\n",
    "\n",
    "#correct denominator\n",
    "denom = ( 1 - 2*alpha_prime \n",
    "- (4 * alpha_prime * ( (tanh(lamb / 2)) / sinh(lamb * n) ) * sinh( ((q-p)/2) * lamb) ) \n",
    "* (\n",
    "        (cosh((q - 1 / 2) * lamb) * sinh((n - ((p + q) / 2 - 1 / 2)) * lamb)) +\n",
    "        (cosh((n - p + 1 / 2) * lamb) * sinh(((p + q) / 2 - 1 / 2) * lamb))\n",
    "    )\n",
    ")\n",
    "\n",
    "c_analytical = num/denom\n",
    "\n",
    "# New symbol for lambda (λ)\n",
    "lambda_symbol = Symbol('lambda', real=True)\n",
    "\n",
    "# Substitute lamb with the new lambda symbol\n",
    "num_display = num.subs(lamb, lambda_symbol)\n",
    "denom_display = denom.subs(lamb, lambda_symbol)\n",
    "c_analytical_display = c_analytical.subs(lamb, lambda_symbol)\n",
    "\n",
    "print('display:')\n",
    "print('num:')\n",
    "display(num_display)\n",
    "print('denom')\n",
    "display(denom_display)\n",
    "print('c_analytical_start')\n",
    "display(c_analytical_display)\n"
   ]
  },
  {
   "cell_type": "markdown",
   "metadata": {},
   "source": [
    "# Compare"
   ]
  },
  {
   "cell_type": "code",
   "execution_count": 13,
   "metadata": {},
   "outputs": [
    {
     "name": "stdout",
     "output_type": "stream",
     "text": [
      "3.70778069546815\n"
     ]
    }
   ],
   "source": [
    "num_eval = num.evalf(subs = {n: 7, p: 5, q: 2, lamb: 0.69, alpha_prime: 1/(2 *cosh(lamb)) })\n",
    "denom_eval = denom.evalf(subs = {n: 7, p: 5, q: 2, lamb: 0.69, alpha_prime: 1/(2 *cosh(lamb)) })\n",
    "c = num_eval/denom_eval\n",
    "print(c)"
   ]
  },
  {
   "cell_type": "markdown",
   "metadata": {},
   "source": [
    "Back Solve"
   ]
  },
  {
   "cell_type": "code",
   "execution_count": 24,
   "metadata": {},
   "outputs": [
    {
     "name": "stdout",
     "output_type": "stream",
     "text": [
      "0.400754765124285\n"
     ]
    }
   ],
   "source": [
    "lamb_eval = 0.69\n",
    "alpha_prime_eval = 1/(2 *cosh(lamb_eval))\n",
    "print(alpha_prime_eval)\n"
   ]
  },
  {
   "cell_type": "code",
   "execution_count": 26,
   "metadata": {},
   "outputs": [
    {
     "name": "stdout",
     "output_type": "stream",
     "text": [
      "[1.64473322 5.31657807 5.41860711 5.70913514 2.62427757 2.05169174\n",
      " 3.70778069]\n"
     ]
    }
   ],
   "source": [
    "from Ranking_exp import Ranking_exp\n",
    "sim = Ranking_exp(n=7, k_o = 0.400754765124285, k_s = 1, k_d = 0, p = 5, q = 2, c_reg = 1e10)\n",
    "sim.calc_rank()\n",
    "print(sim.a_exp_bar)"
   ]
  },
  {
   "cell_type": "code",
   "execution_count": 6,
   "metadata": {},
   "outputs": [
    {
     "name": "stdout",
     "output_type": "stream",
     "text": [
      "simplify D_sim\n"
     ]
    },
    {
     "data": {
      "text/latex": [
       "$\\displaystyle \\sinh{\\left(\\lambda \\left(n - \\frac{p}{2} + \\frac{q}{2}\\right) \\right)} - \\frac{\\sinh{\\left(\\lambda \\left(n - \\frac{3 p}{2} - \\frac{q}{2} + 1\\right) \\right)}}{2} + \\frac{\\sinh{\\left(\\lambda \\left(n - \\frac{p}{2} - \\frac{3 q}{2} + 1\\right) \\right)}}{2}$"
      ],
      "text/plain": [
       "sinh(lambda*(n - p/2 + q/2)) - sinh(lambda*(n - 3*p/2 - q/2 + 1))/2 + sinh(lambda*(n - p/2 - 3*q/2 + 1))/2"
      ]
     },
     "metadata": {},
     "output_type": "display_data"
    }
   ],
   "source": [
    "D_sim = (\n",
    "        (cosh((q - 1 / 2) * lamb) * sinh((n - ((p + q) / 2 - 1 / 2)) * lamb)) +\n",
    "        (cosh((n - p + 1 / 2) * lamb) * sinh(((p + q) / 2 - 1 / 2) * lamb))\n",
    "    )\n",
    "\n",
    "print('simplify D_sim')\n",
    "D_sim_simplified = simplify(D_sim)\n",
    "D_sim_simplified_display = D_sim_simplified.subs(lamb, lambda_symbol)\n",
    "display(D_sim_simplified_display)"
   ]
  },
  {
   "cell_type": "code",
   "execution_count": 7,
   "metadata": {},
   "outputs": [],
   "source": [
    "denom_part = (2 * sinh(lamb/2) * cosh(lamb/2 * n))\n",
    "denom_2 = denom * denom_part"
   ]
  },
  {
   "cell_type": "code",
   "execution_count": 8,
   "metadata": {},
   "outputs": [
    {
     "data": {
      "text/latex": [
       "$\\displaystyle 2 \\left(- \\frac{4 \\alpha_{prime} \\left(\\sinh{\\left(lamb \\left(\\frac{p}{2} + \\frac{q}{2} - 0.5\\right) \\right)} \\cosh{\\left(lamb \\left(n - p + 0.5\\right) \\right)} + \\sinh{\\left(lamb \\left(n - \\frac{p}{2} - \\frac{q}{2} + 0.5\\right) \\right)} \\cosh{\\left(lamb \\left(q - 0.5\\right) \\right)}\\right) \\sinh{\\left(lamb \\left(- \\frac{p}{2} + \\frac{q}{2}\\right) \\right)} \\tanh{\\left(\\frac{lamb}{2} \\right)}}{\\sinh{\\left(lamb n \\right)}} - 2 \\alpha_{prime} + 1\\right) \\sinh{\\left(\\frac{lamb}{2} \\right)} \\cosh{\\left(\\frac{lamb n}{2} \\right)}$"
      ],
      "text/plain": [
       "2*(-4*alpha_prime*(sinh(lamb*(p/2 + q/2 - 0.5))*cosh(lamb*(n - p + 0.5)) + sinh(lamb*(n - p/2 - q/2 + 0.5))*cosh(lamb*(q - 0.5)))*sinh(lamb*(-p/2 + q/2))*tanh(lamb/2)/sinh(lamb*n) - 2*alpha_prime + 1)*sinh(lamb/2)*cosh(lamb*n/2)"
      ]
     },
     "metadata": {},
     "output_type": "display_data"
    }
   ],
   "source": [
    "display(denom_2)"
   ]
  },
  {
   "cell_type": "code",
   "execution_count": 9,
   "metadata": {},
   "outputs": [
    {
     "name": "stdout",
     "output_type": "stream",
     "text": [
      "1.77375328568449\n",
      "1.77375328568449\n",
      "0.446906661018919\n",
      "0.446906661018919\n",
      "3.70778069546815\n",
      "3.70778069546815\n",
      "term1 is correct\n",
      "check with c and normal denom\n"
     ]
    }
   ],
   "source": [
    "import numpy as np\n",
    "\n",
    "#checking term 1\n",
    "alpha_prime_sub = ( 1 / (2 * cosh(lamb)) )\n",
    "\n",
    "term1 = denom_part * (\n",
    "    1 - 2 * alpha_prime_sub - \n",
    "    (4 * alpha_prime_sub * (tanh(lamb/2) / sinh(lamb * n) * sinh( ((q-p)/2) * lamb) * D_sim))\n",
    ")\n",
    "denom_2 = denom * denom_part\n",
    "print(denom_2.evalf(subs = {n: 7, p: 5, q: 2, lamb: 0.69, alpha_prime: 1/(2 *cosh(lamb)) }))\n",
    "print(term1.evalf(subs = {n: 7, p: 5, q: 2, lamb: 0.69, alpha_prime: 1/(2 *cosh(lamb)) }))\n",
    "\n",
    "denom_2_check = denom_2 / denom_part\n",
    "print(denom_2_check.evalf(subs = {n: 7, p: 5, q: 2, lamb: 0.69, alpha_prime: 1/(2 *cosh(lamb)) }))\n",
    "print(denom.evalf(subs = {n: 7, p: 5, q: 2, lamb: 0.69, alpha_prime: 1/(2 *cosh(lamb)) }))\n",
    "\n",
    "c_denom_2 = (num * denom_part) / denom_2\n",
    "print(c_denom_2.evalf(subs = {n: 7, p: 5, q: 2, lamb: 0.69, alpha_prime: 1/(2 *cosh(lamb)) }))\n",
    "print(c_analytical.evalf(subs = {n: 7, p: 5, q: 2, lamb: 0.69, alpha_prime: 1/(2 *cosh(lamb)) }))\n",
    "\n",
    "print('term1 is correct')\n",
    "print('check with c and normal denom')"
   ]
  },
  {
   "cell_type": "code",
   "execution_count": null,
   "metadata": {},
   "outputs": [],
   "source": []
  },
  {
   "cell_type": "code",
   "execution_count": 18,
   "metadata": {},
   "outputs": [],
   "source": [
    "# Define the symbols\n",
    "k_o, k_d, k_s, alpha_prime, alpha, p, q, n, lamb = sp.symbols('k_o k_d k_s alpha_prime alpha p q n lamb')\n",
    "\n",
    "# Define the expressions\n",
    "alpha_prime_expr = k_o / k_s\n",
    "alpha_expr = 1 - 2 * ((k_o - k_d) / (k_s - k_d))\n",
    "lamb_expr = sp.acosh(1 / (1 - alpha))\n",
    "\n",
    "# Define the values for substitution\n",
    "subs = {\n",
    "    k_o: 0.4,\n",
    "    k_d: 0,\n",
    "    k_s: 1,\n",
    "    alpha_prime: 0.4 / 1,\n",
    "    alpha: 1 - 2 * ((0.4 - 0) / (1 - 0)),\n",
    "    p: 5,\n",
    "    q: 2,\n",
    "    n: 7,\n",
    "    lamb: np.arccosh(1 / (1 - (1 - 2 * ((0.4 - 0) / (1 - 0)))))\n",
    "}\n",
    "\n"
   ]
  },
  {
   "cell_type": "code",
   "execution_count": 21,
   "metadata": {},
   "outputs": [
    {
     "name": "stdout",
     "output_type": "stream",
     "text": [
      "3.67590705258867\n",
      "1.65116279069767\n",
      "0.449185130928401\n",
      "-2.07381431972166\n",
      "0.449185130928401\n"
     ]
    }
   ],
   "source": [
    "print(c_analytical.evalf(subs=subs))\n",
    "print(num.subs(subs))\n",
    "print(denom.subs(subs))\n",
    "\n",
    "\n",
    "c_denom_constant = 2 * alpha_prime * (tanh(lamb / 2) / sinh(lamb * n))\n",
    "c_denom_2part = sinh(lamb)*sinh(lamb * n) - 2 * sinh((n-p/2)*lamb) * D_sim\n",
    "c_denom2 = c_denom_constant * c_denom_2part\n",
    "print(c_denom2.evalf(subs=subs))\n",
    "print(denom.evalf(subs=subs))\n"
   ]
  },
  {
   "cell_type": "code",
   "execution_count": 181,
   "metadata": {},
   "outputs": [
    {
     "name": "stdout",
     "output_type": "stream",
     "text": [
      "1.77375328568449\n",
      "1.77375328568449\n"
     ]
    },
    {
     "data": {
      "text/latex": [
       "$\\displaystyle 2 \\left(- \\frac{2 \\left(\\sinh{\\left(lamb \\left(\\frac{p}{2} + \\frac{q}{2} - 0.5\\right) \\right)} \\cosh{\\left(lamb \\left(n - p + 0.5\\right) \\right)} + \\sinh{\\left(lamb \\left(n - \\frac{p}{2} - \\frac{q}{2} + 0.5\\right) \\right)} \\cosh{\\left(lamb \\left(q - 0.5\\right) \\right)}\\right) \\sinh{\\left(lamb \\left(- \\frac{p}{2} + \\frac{q}{2}\\right) \\right)} \\tanh{\\left(\\frac{lamb}{2} \\right)}}{\\sinh{\\left(lamb n \\right)} \\cosh{\\left(lamb \\right)}} + 1 - \\frac{1}{\\cosh{\\left(lamb \\right)}}\\right) \\sinh{\\left(\\frac{lamb}{2} \\right)} \\cosh{\\left(\\frac{lamb n}{2} \\right)}$"
      ],
      "text/plain": [
       "2*(-2*(sinh(lamb*(p/2 + q/2 - 0.5))*cosh(lamb*(n - p + 0.5)) + sinh(lamb*(n - p/2 - q/2 + 0.5))*cosh(lamb*(q - 0.5)))*sinh(lamb*(-p/2 + q/2))*tanh(lamb/2)/(sinh(lamb*n)*cosh(lamb)) + 1 - 1/cosh(lamb))*sinh(lamb/2)*cosh(lamb*n/2)"
      ]
     },
     "metadata": {},
     "output_type": "display_data"
    },
    {
     "name": "stdout",
     "output_type": "stream",
     "text": [
      "term3 is correct\n"
     ]
    }
   ],
   "source": [
    "\n",
    "\n",
    "#checking term 3\n",
    "term3 = 2 * cosh(n/2 * lamb) * sinh(lamb/2) * (\n",
    "    (cosh(lamb)/cosh(lamb) - 2 * ( 1 / (2 * cosh(lamb)) )\n",
    " - 4 * ( 1 / (2 * cosh(lamb)) ) * (tanh(lamb/2) / sinh(lamb * n) * sinh( ((q-p)/2) * lamb) * D_sim))\n",
    ")\n",
    "print(denom_2.evalf(subs = {n: 7, p: 5, q: 2, lamb: 0.69, alpha_prime: 1/(2 *cosh(lamb)) }))\n",
    "print(term3.evalf(subs = {n: 7, p: 5, q: 2, lamb: 0.69, alpha_prime: 1/(2 *cosh(lamb)) }))\n",
    "\n",
    "display(term3)\n",
    "\n",
    "print('term3 is correct')"
   ]
  },
  {
   "cell_type": "code",
   "execution_count": 182,
   "metadata": {},
   "outputs": [
    {
     "name": "stdout",
     "output_type": "stream",
     "text": [
      "1.77375328568449\n",
      "1.77375328568449\n"
     ]
    },
    {
     "data": {
      "text/latex": [
       "$\\displaystyle - \\frac{4 \\left(\\sinh{\\left(lamb \\left(\\frac{p}{2} + \\frac{q}{2} - 0.5\\right) \\right)} \\cosh{\\left(lamb \\left(n - p + 0.5\\right) \\right)} + \\sinh{\\left(lamb \\left(n - \\frac{p}{2} - \\frac{q}{2} + 0.5\\right) \\right)} \\cosh{\\left(lamb \\left(q - 0.5\\right) \\right)}\\right) \\sinh{\\left(\\frac{lamb}{2} \\right)} \\sinh{\\left(lamb \\left(- \\frac{p}{2} + \\frac{q}{2}\\right) \\right)} \\cosh{\\left(\\frac{lamb n}{2} \\right)} \\tanh{\\left(\\frac{lamb}{2} \\right)}}{\\sinh{\\left(lamb n \\right)} \\cosh{\\left(lamb \\right)}} + 2 \\sinh{\\left(\\frac{lamb}{2} \\right)} \\cosh{\\left(\\frac{lamb n}{2} \\right)} - \\frac{2 \\sinh{\\left(\\frac{lamb}{2} \\right)} \\cosh{\\left(\\frac{lamb n}{2} \\right)}}{\\cosh{\\left(lamb \\right)}}$"
      ],
      "text/plain": [
       "-4*(sinh(lamb*(p/2 + q/2 - 0.5))*cosh(lamb*(n - p + 0.5)) + sinh(lamb*(n - p/2 - q/2 + 0.5))*cosh(lamb*(q - 0.5)))*sinh(lamb/2)*sinh(lamb*(-p/2 + q/2))*cosh(lamb*n/2)*tanh(lamb/2)/(sinh(lamb*n)*cosh(lamb)) + 2*sinh(lamb/2)*cosh(lamb*n/2) - 2*sinh(lamb/2)*cosh(lamb*n/2)/cosh(lamb)"
      ]
     },
     "metadata": {},
     "output_type": "display_data"
    },
    {
     "name": "stdout",
     "output_type": "stream",
     "text": [
      "term3.1 is correct\n"
     ]
    }
   ],
   "source": [
    "# alpha_prime_sub = ( 1 / (2 * cosh(lamb)) )\n",
    "\n",
    "#checking term 3.1\n",
    "term31 =  (\n",
    "    (2 * cosh(n/2 * lamb) * sinh(lamb/2) * cosh(lamb)/cosh(lamb) - 2 * 2 * cosh(n/2 * lamb) * sinh(lamb/2) * ( 1 / (2 * cosh(lamb)) )\n",
    " - 4 * 2 * cosh(n/2 * lamb) * sinh(lamb/2) * ( 1 / (2 * cosh(lamb)) ) * (tanh(lamb/2) / sinh(lamb * n) * sinh( ((q-p)/2) * lamb) * D_sim))\n",
    ")\n",
    "print(denom_2.evalf(subs = {n: 7, p: 5, q: 2, lamb: 0.69, alpha_prime: 1/(2 *cosh(lamb)) }))\n",
    "print(term31.evalf(subs = {n: 7, p: 5, q: 2, lamb: 0.69, alpha_prime: 1/(2 *cosh(lamb)) }))\n",
    "\n",
    "display(term31)\n",
    "\n",
    "print('term3.1 is correct')"
   ]
  },
  {
   "cell_type": "code",
   "execution_count": 183,
   "metadata": {},
   "outputs": [
    {
     "name": "stdout",
     "output_type": "stream",
     "text": [
      "1.77375328568449\n",
      "1.77375328568449\n"
     ]
    },
    {
     "data": {
      "text/latex": [
       "$\\displaystyle - \\frac{4 \\left(\\sinh{\\left(lamb \\left(\\frac{p}{2} + \\frac{q}{2} - 0.5\\right) \\right)} \\cosh{\\left(lamb \\left(n - p + 0.5\\right) \\right)} + \\sinh{\\left(lamb \\left(n - \\frac{p}{2} - \\frac{q}{2} + 0.5\\right) \\right)} \\cosh{\\left(lamb \\left(q - 0.5\\right) \\right)}\\right) \\sinh{\\left(\\frac{lamb}{2} \\right)} \\sinh{\\left(lamb \\left(- \\frac{p}{2} + \\frac{q}{2}\\right) \\right)} \\cosh{\\left(\\frac{lamb n}{2} \\right)} \\tanh{\\left(\\frac{lamb}{2} \\right)}}{\\sinh{\\left(lamb n \\right)} \\cosh{\\left(lamb \\right)}} + 2 \\sinh{\\left(\\frac{lamb}{2} \\right)} \\cosh{\\left(\\frac{lamb n}{2} \\right)} - \\frac{2 \\sinh{\\left(\\frac{lamb}{2} \\right)} \\cosh{\\left(\\frac{lamb n}{2} \\right)}}{\\cosh{\\left(lamb \\right)}}$"
      ],
      "text/plain": [
       "-4*(sinh(lamb*(p/2 + q/2 - 0.5))*cosh(lamb*(n - p + 0.5)) + sinh(lamb*(n - p/2 - q/2 + 0.5))*cosh(lamb*(q - 0.5)))*sinh(lamb/2)*sinh(lamb*(-p/2 + q/2))*cosh(lamb*n/2)*tanh(lamb/2)/(sinh(lamb*n)*cosh(lamb)) + 2*sinh(lamb/2)*cosh(lamb*n/2) - 2*sinh(lamb/2)*cosh(lamb*n/2)/cosh(lamb)"
      ]
     },
     "metadata": {},
     "output_type": "display_data"
    },
    {
     "name": "stdout",
     "output_type": "stream",
     "text": [
      "term3.2 is correct\n"
     ]
    }
   ],
   "source": [
    "# alpha_prime_sub = ( 1 / (2 * cosh(lamb)) )\n",
    "\n",
    "#checking term 3.2\n",
    "term32 =  (\n",
    "    2 * cosh(n/2 * lamb) * sinh(lamb/2) * cosh(lamb) / cosh(lamb) \n",
    "    - 2 * cosh(n/2 * lamb) * sinh(lamb/2) / cosh(lamb)  \n",
    " - ( 2 * 2 * cosh(n/2 * lamb) * sinh(lamb/2) / cosh(lamb) ) * (tanh(lamb/2) / sinh(lamb * n) * sinh( ((q-p)/2) * lamb)  * D_sim)\n",
    " )\n",
    "\n",
    "print(denom_2.evalf(subs = {n: 7, p: 5, q: 2, lamb: 0.69, alpha_prime: 1/(2 *cosh(lamb)) }))\n",
    "print(term32.evalf(subs = {n: 7, p: 5, q: 2, lamb: 0.69, alpha_prime: 1/(2 *cosh(lamb)) }))\n",
    "\n",
    "display(term32)\n",
    "\n",
    "print('term3.2 is correct')"
   ]
  },
  {
   "cell_type": "code",
   "execution_count": 184,
   "metadata": {},
   "outputs": [
    {
     "name": "stdout",
     "output_type": "stream",
     "text": [
      "1.77375328568449\n",
      "1.77375328568449\n"
     ]
    },
    {
     "data": {
      "text/latex": [
       "$\\displaystyle - \\frac{4 \\left(\\sinh{\\left(lamb \\left(\\frac{p}{2} + \\frac{q}{2} - 0.5\\right) \\right)} \\cosh{\\left(lamb \\left(n - p + 0.5\\right) \\right)} + \\sinh{\\left(lamb \\left(n - \\frac{p}{2} - \\frac{q}{2} + 0.5\\right) \\right)} \\cosh{\\left(lamb \\left(q - 0.5\\right) \\right)}\\right) \\sinh{\\left(\\frac{lamb}{2} \\right)} \\sinh{\\left(lamb \\left(- \\frac{p}{2} + \\frac{q}{2}\\right) \\right)} \\cosh{\\left(\\frac{lamb n}{2} \\right)} \\tanh{\\left(\\frac{lamb}{2} \\right)}}{\\sinh{\\left(lamb n \\right)} \\cosh{\\left(lamb \\right)}} + \\frac{2 \\left(\\cosh{\\left(lamb \\right)} - 1\\right) \\sinh{\\left(\\frac{lamb}{2} \\right)} \\cosh{\\left(\\frac{lamb n}{2} \\right)}}{\\cosh{\\left(lamb \\right)}}$"
      ],
      "text/plain": [
       "-4*(sinh(lamb*(p/2 + q/2 - 0.5))*cosh(lamb*(n - p + 0.5)) + sinh(lamb*(n - p/2 - q/2 + 0.5))*cosh(lamb*(q - 0.5)))*sinh(lamb/2)*sinh(lamb*(-p/2 + q/2))*cosh(lamb*n/2)*tanh(lamb/2)/(sinh(lamb*n)*cosh(lamb)) + 2*(cosh(lamb) - 1)*sinh(lamb/2)*cosh(lamb*n/2)/cosh(lamb)"
      ]
     },
     "metadata": {},
     "output_type": "display_data"
    },
    {
     "name": "stdout",
     "output_type": "stream",
     "text": [
      "term3.3 is correct\n"
     ]
    }
   ],
   "source": [
    "# alpha_prime_sub = ( 1 / (2 * cosh(lamb)) )\n",
    "\n",
    "#checking term 3.3\n",
    "term33 =  (\n",
    "    2 * cosh(n/2 * lamb) * sinh(lamb/2) * ( cosh(lamb) - 1 ) / cosh(lamb)   \n",
    " - ( 2 * 2 * cosh(n/2 * lamb) * sinh(lamb/2) / cosh(lamb) ) * (tanh(lamb/2) / sinh(lamb * n) * sinh( ((q-p)/2) * lamb) * D_sim)\n",
    " )\n",
    "\n",
    "print(denom_2.evalf(subs = {n: 7, p: 5, q: 2, lamb: 0.69, alpha_prime: 1/(2 *cosh(lamb)) }))\n",
    "print(term33.evalf(subs = {n: 7, p: 5, q: 2, lamb: 0.69, alpha_prime: 1/(2 *cosh(lamb)) }))\n",
    "\n",
    "display(term33)\n",
    "\n",
    "print('term3.3 is correct')"
   ]
  },
  {
   "cell_type": "code",
   "execution_count": 185,
   "metadata": {},
   "outputs": [
    {
     "name": "stdout",
     "output_type": "stream",
     "text": [
      "1.77375328568449\n",
      "1.77375328568449\n"
     ]
    },
    {
     "data": {
      "text/latex": [
       "$\\displaystyle 2 \\left(- \\frac{2 \\left(\\sinh{\\left(lamb \\left(\\frac{p}{2} + \\frac{q}{2} - 0.5\\right) \\right)} \\cosh{\\left(lamb \\left(n - p + 0.5\\right) \\right)} + \\sinh{\\left(lamb \\left(n - \\frac{p}{2} - \\frac{q}{2} + 0.5\\right) \\right)} \\cosh{\\left(lamb \\left(q - 0.5\\right) \\right)}\\right) \\sinh{\\left(\\frac{lamb}{2} \\right)} \\sinh{\\left(lamb \\left(- \\frac{p}{2} + \\frac{q}{2}\\right) \\right)} \\cosh{\\left(\\frac{lamb n}{2} \\right)}}{\\sinh{\\left(lamb n \\right)} \\cosh{\\left(lamb \\right)}} + \\frac{\\sinh{\\left(\\frac{lamb}{2} \\right)} \\sinh{\\left(lamb \\right)} \\cosh{\\left(\\frac{lamb n}{2} \\right)}}{\\cosh{\\left(lamb \\right)}}\\right) \\tanh{\\left(\\frac{lamb}{2} \\right)}$"
      ],
      "text/plain": [
       "2*(-2*(sinh(lamb*(p/2 + q/2 - 0.5))*cosh(lamb*(n - p + 0.5)) + sinh(lamb*(n - p/2 - q/2 + 0.5))*cosh(lamb*(q - 0.5)))*sinh(lamb/2)*sinh(lamb*(-p/2 + q/2))*cosh(lamb*n/2)/(sinh(lamb*n)*cosh(lamb)) + sinh(lamb/2)*sinh(lamb)*cosh(lamb*n/2)/cosh(lamb))*tanh(lamb/2)"
      ]
     },
     "metadata": {},
     "output_type": "display_data"
    },
    {
     "name": "stdout",
     "output_type": "stream",
     "text": [
      "term3.4 is correct\n"
     ]
    }
   ],
   "source": [
    "# alpha_prime_sub = ( 1 / (2 * cosh(lamb)) )\n",
    "\n",
    "#checking term 3.4\n",
    "term34 =  (\n",
    "    (2 * tanh(lamb/2)) * \n",
    "( \n",
    "        \n",
    "     cosh(n/2 * lamb) * sinh(lamb/2) * sinh(lamb) / cosh(lamb)   \n",
    " - ( 2 * cosh(n/2 * lamb) * sinh(lamb/2) / cosh(lamb) ) * (1 / sinh(lamb * n) * sinh( ((q-p)/2) * lamb) * D_sim)\n",
    ")\n",
    " )\n",
    "\n",
    "print(denom_2.evalf(subs = {n: 7, p: 5, q: 2, lamb: 0.69, alpha_prime: 1/(2 *cosh(lamb)) }))\n",
    "print(term34.evalf(subs = {n: 7, p: 5, q: 2, lamb: 0.69, alpha_prime: 1/(2 *cosh(lamb)) }))\n",
    "\n",
    "display(term34)\n",
    "\n",
    "print('term3.4 is correct')"
   ]
  },
  {
   "cell_type": "code",
   "execution_count": 186,
   "metadata": {},
   "outputs": [
    {
     "name": "stdout",
     "output_type": "stream",
     "text": [
      "1.77375328568449\n",
      "1.77375328568449\n"
     ]
    },
    {
     "data": {
      "text/latex": [
       "$\\displaystyle \\frac{2 \\left(- 2 \\left(\\sinh{\\left(lamb \\left(\\frac{p}{2} + \\frac{q}{2} - 0.5\\right) \\right)} \\cosh{\\left(lamb \\left(n - p + 0.5\\right) \\right)} + \\sinh{\\left(lamb \\left(n - \\frac{p}{2} - \\frac{q}{2} + 0.5\\right) \\right)} \\cosh{\\left(lamb \\left(q - 0.5\\right) \\right)}\\right) \\sinh{\\left(\\frac{lamb}{2} \\right)} \\sinh{\\left(lamb \\left(- \\frac{p}{2} + \\frac{q}{2}\\right) \\right)} \\cosh{\\left(\\frac{lamb n}{2} \\right)} + \\sinh{\\left(\\frac{lamb}{2} \\right)} \\sinh{\\left(lamb \\right)} \\sinh{\\left(lamb n \\right)} \\cosh{\\left(\\frac{lamb n}{2} \\right)}\\right) \\tanh{\\left(\\frac{lamb}{2} \\right)}}{\\sinh{\\left(lamb n \\right)} \\cosh{\\left(lamb \\right)}}$"
      ],
      "text/plain": [
       "2*(-2*(sinh(lamb*(p/2 + q/2 - 0.5))*cosh(lamb*(n - p + 0.5)) + sinh(lamb*(n - p/2 - q/2 + 0.5))*cosh(lamb*(q - 0.5)))*sinh(lamb/2)*sinh(lamb*(-p/2 + q/2))*cosh(lamb*n/2) + sinh(lamb/2)*sinh(lamb)*sinh(lamb*n)*cosh(lamb*n/2))*tanh(lamb/2)/(sinh(lamb*n)*cosh(lamb))"
      ]
     },
     "metadata": {},
     "output_type": "display_data"
    },
    {
     "name": "stdout",
     "output_type": "stream",
     "text": [
      "term3.5 is correct\n"
     ]
    }
   ],
   "source": [
    "# alpha_prime_sub = ( 1 / (2 * cosh(lamb)) )\n",
    "\n",
    "#checking term 3.5\n",
    "term35 =  (\n",
    "    (2 * tanh(lamb/2)) * \n",
    "( \n",
    "     ( sinh(lamb) * cosh(n/2 * lamb) * sinh(lamb/2)  * sinh(lamb * n) -  2 * cosh(n/2 * lamb) * sinh(lamb/2) * sinh( ((q-p)/2) * lamb) * D_sim)\n",
    "     / ( cosh(lamb) * sinh(lamb * n) )\n",
    ")\n",
    " )\n",
    "\n",
    "print(denom_2.evalf(subs = {n: 7, p: 5, q: 2, lamb: 0.69, alpha_prime: 1/(2 *cosh(lamb)) }))\n",
    "print(term35.evalf(subs = {n: 7, p: 5, q: 2, lamb: 0.69, alpha_prime: 1/(2 *cosh(lamb)) }))\n",
    "\n",
    "display(term35)\n",
    "\n",
    "print('term3.5 is correct')"
   ]
  },
  {
   "cell_type": "code",
   "execution_count": 187,
   "metadata": {},
   "outputs": [
    {
     "name": "stdout",
     "output_type": "stream",
     "text": [
      "1.77375328568449\n",
      "1.77375328568449\n"
     ]
    },
    {
     "data": {
      "text/latex": [
       "$\\displaystyle \\frac{2 \\left(- 2 \\left(\\sinh{\\left(lamb \\left(\\frac{p}{2} + \\frac{q}{2} - 0.5\\right) \\right)} \\cosh{\\left(lamb \\left(n - p + 0.5\\right) \\right)} + \\sinh{\\left(lamb \\left(n - \\frac{p}{2} - \\frac{q}{2} + 0.5\\right) \\right)} \\cosh{\\left(lamb \\left(q - 0.5\\right) \\right)}\\right) \\sinh{\\left(lamb \\left(- \\frac{p}{2} + \\frac{q}{2}\\right) \\right)} + \\sinh{\\left(lamb \\right)} \\sinh{\\left(lamb n \\right)}\\right) \\sinh{\\left(\\frac{lamb}{2} \\right)} \\cosh{\\left(\\frac{lamb n}{2} \\right)} \\tanh{\\left(\\frac{lamb}{2} \\right)}}{\\sinh{\\left(lamb n \\right)} \\cosh{\\left(lamb \\right)}}$"
      ],
      "text/plain": [
       "2*(-2*(sinh(lamb*(p/2 + q/2 - 0.5))*cosh(lamb*(n - p + 0.5)) + sinh(lamb*(n - p/2 - q/2 + 0.5))*cosh(lamb*(q - 0.5)))*sinh(lamb*(-p/2 + q/2)) + sinh(lamb)*sinh(lamb*n))*sinh(lamb/2)*cosh(lamb*n/2)*tanh(lamb/2)/(sinh(lamb*n)*cosh(lamb))"
      ]
     },
     "metadata": {},
     "output_type": "display_data"
    },
    {
     "name": "stdout",
     "output_type": "stream",
     "text": [
      "term3.6 is correct\n"
     ]
    }
   ],
   "source": [
    "# alpha_prime_sub = ( 1 / (2 * cosh(lamb)) )\n",
    "\n",
    "#checking term 3.6\n",
    "term36 =  (\n",
    "    (2 * tanh(lamb/2)) * ( cosh(n/2 * lamb) * sinh(lamb/2) ) * \n",
    "( \n",
    "     ( sinh(lamb) * sinh(lamb * n) -  2  * sinh( ((q-p)/2) * lamb) * D_sim)\n",
    "     / ( cosh(lamb) * sinh(lamb * n) )\n",
    ")\n",
    " )\n",
    "\n",
    "print(denom_2.evalf(subs = {n: 7, p: 5, q: 2, lamb: 0.69, alpha_prime: 1/(2 *cosh(lamb)) }))\n",
    "print(term36.evalf(subs = {n: 7, p: 5, q: 2, lamb: 0.69, alpha_prime: 1/(2 *cosh(lamb)) }))\n",
    "\n",
    "display(term36)\n",
    "\n",
    "print('term3.6 is correct')"
   ]
  },
  {
   "cell_type": "code",
   "execution_count": null,
   "metadata": {},
   "outputs": [],
   "source": []
  },
  {
   "cell_type": "code",
   "execution_count": 188,
   "metadata": {},
   "outputs": [
    {
     "name": "stdout",
     "output_type": "stream",
     "text": [
      "0.597982000498941\n",
      "0.597982000498941\n"
     ]
    }
   ],
   "source": [
    "print((tanh(lamb)).evalf(subs = {n: 7, p: 5, q: 2, lamb: 0.69, alpha_prime: 1/(2 *cosh(lamb)) }))\n",
    "print((sinh(lamb)/cosh(lamb)).evalf(subs = {n: 7, p: 5, q: 2, lamb: 0.69, alpha_prime: 1/(2 *cosh(lamb)) }))"
   ]
  },
  {
   "cell_type": "code",
   "execution_count": 189,
   "metadata": {},
   "outputs": [
    {
     "name": "stdout",
     "output_type": "stream",
     "text": [
      "1.77375328568449\n",
      "1.77375328568449\n",
      "term3.7 is correct\n"
     ]
    }
   ],
   "source": [
    "# alpha_prime_sub = ( 1 / (2 * cosh(lamb)) )\n",
    "\n",
    "#checking term 3.7\n",
    "\n",
    "term36 =  (\n",
    "    (2 * tanh(lamb/2)) * ( cosh(n/2 * lamb) * sinh(lamb/2) ) * \n",
    "( \n",
    "     ( sinh(lamb) * sinh(lamb * n) -  2  * sinh( ((q-p)/2) * lamb) * D_sim)\n",
    "     / ( cosh(lamb) * sinh(lamb * n) )\n",
    ")\n",
    " )\n",
    "\n",
    "\n",
    "term37 =  (\n",
    "    (2 * tanh(lamb/2)) * ( cosh(n/2 * lamb) * sinh(lamb/2) ) * \n",
    "( \n",
    "     tanh(lamb)\n",
    "     -  (2  * sinh( ((q-p)/2) * lamb) * D_sim) / ( cosh(lamb) * sinh(lamb * n) )\n",
    ")\n",
    " )\n",
    "\n",
    "print(denom_2.evalf(subs = {n: 7, p: 5, q: 2, lamb: 0.69, alpha_prime: 1/(2 *cosh(lamb)) }))\n",
    "print(term37.evalf(subs = {n: 7, p: 5, q: 2, lamb: 0.69, alpha_prime: 1/(2 *cosh(lamb)) }))\n",
    "\n",
    "print('term3.7 is correct')"
   ]
  },
  {
   "cell_type": "code",
   "execution_count": 190,
   "metadata": {},
   "outputs": [
    {
     "name": "stdout",
     "output_type": "stream",
     "text": [
      "1.77375328568449\n",
      "1.77375328568449\n",
      "0.198490469751429\n"
     ]
    }
   ],
   "source": [
    "alpha_sub = 1 - 2 * alpha_prime_sub\n",
    "\n",
    "term3 = 2 * cosh(n/2 * lamb) * sinh(lamb/2) * (\n",
    "    alpha_sub\n",
    " - ( 2 / (cosh(lamb)) * tanh(lamb/2) / sinh(lamb * n) * sinh( ((q-p)/2) * lamb) * D_sim)\n",
    ")\n",
    "\n",
    "denom_2_check = ( 2 * ( cosh(n/2 * lamb) * sinh(lamb/2) )\n",
    "                    * ( alpha_sub - 2 * tanh(lamb/2) * sinh((q-p)/2 * lamb) * D_sim \n",
    "                                    / (cosh(lamb) * sinh(lamb * n))\n",
    "                    )\n",
    ")\n",
    "\n",
    "print(term3.evalf(subs = {n: 7, p: 5, q: 2, lamb: 0.69, alpha_prime: 1/(2 *cosh(lamb)) }))\n",
    "print(denom_2_check.evalf(subs = {n: 7, p: 5, q: 2, lamb: 0.69, alpha_prime: 1/(2 *cosh(lamb)) }))\n",
    "\n",
    "print((alpha_sub).evalf(subs = {n: 7, p: 5, q: 2, lamb: 0.69, alpha_prime: 1/(2 *cosh(lamb)) }))"
   ]
  },
  {
   "cell_type": "code",
   "execution_count": 191,
   "metadata": {},
   "outputs": [
    {
     "name": "stdout",
     "output_type": "stream",
     "text": [
      "0.198490469751429\n",
      "0.198490469751429\n"
     ]
    }
   ],
   "source": [
    "# checking identity\n",
    "print( (tanh(lamb/2) * tanh(lamb)).evalf(subs = {n: 7, p: 5, q: 2, lamb: 0.69, alpha_prime: 1/(2 *cosh(lamb)) }) )\n",
    "print(alpha_sub.evalf(subs = {n: 7, p: 5, q: 2, lamb: 0.69, alpha_prime: 1/(2 *cosh(lamb)) }))\n"
   ]
  },
  {
   "cell_type": "code",
   "execution_count": 192,
   "metadata": {},
   "outputs": [
    {
     "name": "stdout",
     "output_type": "stream",
     "text": [
      "1.77375328568449\n",
      "1.77375328568449\n",
      "term3.8 is correct\n"
     ]
    }
   ],
   "source": [
    "# alpha_prime_sub = ( 1 / (2 * cosh(lamb)) )\n",
    "\n",
    "#checking term 3.7\n",
    "\n",
    "term38 =  (\n",
    "    (2 * cosh(n/2 * lamb) * sinh(lamb/2) ) * \n",
    "( \n",
    "     alpha_sub\n",
    "     -  (2 * tanh(lamb/2) * sinh( ((q-p)/2) * lamb) * D_sim) / ( cosh(lamb) * sinh(lamb * n) )\n",
    ")\n",
    " )\n",
    "\n",
    "print(denom_2.evalf(subs = {n: 7, p: 5, q: 2, lamb: 0.69, alpha_prime: 1/(2 *cosh(lamb)) }))\n",
    "print(term38.evalf(subs = {n: 7, p: 5, q: 2, lamb: 0.69, alpha_prime: 1/(2 *cosh(lamb)) }))\n",
    "\n",
    "print('term3.8 is correct')"
   ]
  },
  {
   "cell_type": "code",
   "execution_count": 193,
   "metadata": {},
   "outputs": [
    {
     "name": "stdout",
     "output_type": "stream",
     "text": [
      "1.77375328568449\n",
      "1.77375328568449\n",
      "term3.9 is correct\n"
     ]
    }
   ],
   "source": [
    "# alpha_prime_sub = ( 1 / (2 * cosh(lamb)) )\n",
    "\n",
    "#checking term 3.9\n",
    "\n",
    "term39 =  (\n",
    "    (2 * cosh(n/2 * lamb) * sinh(lamb/2) ) * \n",
    "( \n",
    "     alpha_sub\n",
    "     -  (2 * tanh(lamb/2) * sinh( ((q-p)/2) * lamb) * D_sim) / ( cosh(lamb) * sinh(lamb * n) )\n",
    ")\n",
    " )\n",
    "\n",
    " #checking term 3.10\n",
    "denom_2_final=  (\n",
    "    (sinh( (n+1) / 2 * lamb) - sinh( (n-1) / 2 * lamb)) * tanh(lamb/2)\n",
    "    * (alpha_sub \n",
    "        - (2 * tanh(lamb/2) / (cosh(lamb) * sinh(lamb * n)) ) * sinh( ((q-p)/2) * lamb) * D_sim )\n",
    ")\n",
    "\n",
    "print(denom_2.evalf(subs = {n: 7, p: 5, q: 2, lamb: 0.69, alpha_prime: 1/(2 *cosh(lamb)) }))\n",
    "print(term39.evalf(subs = {n: 7, p: 5, q: 2, lamb: 0.69, alpha_prime: 1/(2 *cosh(lamb)) }))\n",
    "\n",
    "print('term3.9 is correct')"
   ]
  },
  {
   "cell_type": "code",
   "execution_count": 194,
   "metadata": {},
   "outputs": [
    {
     "name": "stdout",
     "output_type": "stream",
     "text": [
      "3.70778069546815\n",
      "3.70778069546815\n",
      "formula is correct!\n"
     ]
    }
   ],
   "source": [
    "c_denom_2 = (num * denom_part) / denom_2\n",
    "print(c_denom_2.evalf(subs = {n: 7, p: 5, q: 2, lamb: 0.69, alpha_prime: 1/(2 *cosh(lamb)) }))\n",
    "print(c_analytical.evalf(subs = {n: 7, p: 5, q: 2, lamb: 0.69, alpha_prime: 1/(2 *cosh(lamb)) }))\n",
    "print('formula is correct!')"
   ]
  },
  {
   "cell_type": "code",
   "execution_count": 195,
   "metadata": {},
   "outputs": [
    {
     "name": "stdout",
     "output_type": "stream",
     "text": [
      "1.31743116546896\n",
      "1.31743116546896\n"
     ]
    }
   ],
   "source": [
    "#verifying transformation\n",
    "print((2 * ( cosh(n/2 * lamb) * sinh(lamb/2) * tanh(lamb/2)) ).evalf(subs = {n: 7, p: 5, q: 2, lamb: 0.69, alpha_prime: 1/(2 *cosh(lamb)) }) )\n",
    "print(((sinh( (n+1) / 2 * lamb) - sinh( (n-1) / 2 * lamb)) * tanh(lamb/2)).evalf(subs = {n: 7, p: 5, q: 2, lamb: 0.69, alpha_prime: 1/(2 *cosh(lamb)) }))"
   ]
  },
  {
   "cell_type": "code",
   "execution_count": 196,
   "metadata": {},
   "outputs": [
    {
     "name": "stdout",
     "output_type": "stream",
     "text": [
      "1.77375328568449\n",
      "1.77375328568449\n"
     ]
    },
    {
     "data": {
      "text/latex": [
       "$\\displaystyle \\frac{2 \\left(- 2 \\left(\\sinh{\\left(lamb \\left(\\frac{p}{2} + \\frac{q}{2} - 0.5\\right) \\right)} \\cosh{\\left(lamb \\left(n - p + 0.5\\right) \\right)} + \\sinh{\\left(lamb \\left(n - \\frac{p}{2} - \\frac{q}{2} + 0.5\\right) \\right)} \\cosh{\\left(lamb \\left(q - 0.5\\right) \\right)}\\right) \\sinh{\\left(lamb \\left(- \\frac{p}{2} + \\frac{q}{2}\\right) \\right)} + \\sinh{\\left(lamb \\right)} \\sinh{\\left(lamb n \\right)}\\right) \\sinh{\\left(\\frac{lamb}{2} \\right)} \\cosh{\\left(\\frac{lamb n}{2} \\right)} \\tanh{\\left(\\frac{lamb}{2} \\right)}}{\\sinh{\\left(lamb n \\right)} \\cosh{\\left(lamb \\right)}}$"
      ],
      "text/plain": [
       "2*(-2*(sinh(lamb*(p/2 + q/2 - 0.5))*cosh(lamb*(n - p + 0.5)) + sinh(lamb*(n - p/2 - q/2 + 0.5))*cosh(lamb*(q - 0.5)))*sinh(lamb*(-p/2 + q/2)) + sinh(lamb)*sinh(lamb*n))*sinh(lamb/2)*cosh(lamb*n/2)*tanh(lamb/2)/(sinh(lamb*n)*cosh(lamb))"
      ]
     },
     "metadata": {},
     "output_type": "display_data"
    },
    {
     "name": "stdout",
     "output_type": "stream",
     "text": [
      "final denominator is correct\n"
     ]
    }
   ],
   "source": [
    "alpha_prime_sub = ( 1 / (2 * cosh(lamb)) )\n",
    "alpha_sub = 1 - 2 *alpha_prime_sub\n",
    "\n",
    "#checking term 3.10\n",
    "denom_2_final=  (\n",
    "    (sinh((n+1)/2 * lamb) - sinh((n-1)/2 * lamb)) * \n",
    "( \n",
    "     alpha_sub\n",
    "     -  (2 * tanh(lamb/2) * sinh( ((q-p)/2) * lamb) * D_sim) / ( cosh(lamb) * sinh(lamb * n) )\n",
    ")\n",
    " )\n",
    "\n",
    "print(denom_2.evalf(subs = {n: 7, p: 5, q: 2, lamb: 0.69, alpha_prime: 1/(2 *cosh(lamb)) }))\n",
    "print(denom_2_final.evalf(subs = {n: 7, p: 5, q: 2, lamb: 0.69, alpha_prime: 1/(2 *cosh(lamb)) }))\n",
    "\n",
    "\n",
    "display(term36)\n",
    "\n",
    "print('final denominator is correct')"
   ]
  },
  {
   "cell_type": "code",
   "execution_count": 197,
   "metadata": {},
   "outputs": [
    {
     "data": {
      "text/latex": [
       "$\\displaystyle 1 + \\frac{- \\sinh{\\left(lamb \\left(\\frac{n}{2} - p + \\frac{1}{2}\\right) \\right)} + \\sinh{\\left(lamb \\left(\\frac{n}{2} - q + \\frac{1}{2}\\right) \\right)}}{- \\sinh{\\left(lamb \\left(\\frac{n}{2} - \\frac{1}{2}\\right) \\right)} + \\sinh{\\left(lamb \\left(\\frac{n}{2} + \\frac{1}{2}\\right) \\right)}}$"
      ],
      "text/plain": [
       "1 + (-sinh(lamb*(n/2 - p + 1/2)) + sinh(lamb*(n/2 - q + 1/2)))/(-sinh(lamb*(n/2 - 1/2)) + sinh(lamb*(n/2 + 1/2)))"
      ]
     },
     "metadata": {},
     "output_type": "display_data"
    }
   ],
   "source": [
    "display(num)"
   ]
  },
  {
   "cell_type": "code",
   "execution_count": 198,
   "metadata": {},
   "outputs": [
    {
     "name": "stdout",
     "output_type": "stream",
     "text": [
      "6.57668819118416\n",
      "6.57668819118416\n"
     ]
    }
   ],
   "source": [
    "num_final = ( sinh((n+1)/2 * lamb) - sinh((n-1)/2 * lamb)\n",
    "                - sinh( (((n+1)/2 - p) * lamb) ) + sinh( (((n+1)/2 - q) * lamb) )\n",
    ")\n",
    "\n",
    "num_part = sinh((n+1)/2 * lamb) - sinh((n-1)/2 * lamb)\n",
    "num_final_check = num * num_part\n",
    "\n",
    "print(num_final.evalf(subs = {n: 7, p: 5, q: 2, lamb: 0.69, alpha_prime: 1/(2 *cosh(lamb)) }))\n",
    "print(num_final_check.evalf(subs = {n: 7, p: 5, q: 2, lamb: 0.69, alpha_prime: 1/(2 *cosh(lamb)) }))"
   ]
  },
  {
   "cell_type": "code",
   "execution_count": 199,
   "metadata": {},
   "outputs": [
    {
     "name": "stdout",
     "output_type": "stream",
     "text": [
      "3.70778069546815\n",
      "3.70778069546815\n"
     ]
    },
    {
     "data": {
      "text/latex": [
       "$\\displaystyle \\frac{- \\sinh{\\left(lamb \\left(\\frac{n}{2} - \\frac{1}{2}\\right) \\right)} + \\sinh{\\left(lamb \\left(\\frac{n}{2} + \\frac{1}{2}\\right) \\right)} - \\sinh{\\left(lamb \\left(\\frac{n}{2} - p + \\frac{1}{2}\\right) \\right)} + \\sinh{\\left(lamb \\left(\\frac{n}{2} - q + \\frac{1}{2}\\right) \\right)}}{\\left(- \\sinh{\\left(lamb \\left(\\frac{n}{2} - \\frac{1}{2}\\right) \\right)} + \\sinh{\\left(lamb \\left(\\frac{n}{2} + \\frac{1}{2}\\right) \\right)}\\right) \\left(- \\frac{2 \\left(\\sinh{\\left(lamb \\left(\\frac{p}{2} + \\frac{q}{2} - 0.5\\right) \\right)} \\cosh{\\left(lamb \\left(n - p + 0.5\\right) \\right)} + \\sinh{\\left(lamb \\left(n - \\frac{p}{2} - \\frac{q}{2} + 0.5\\right) \\right)} \\cosh{\\left(lamb \\left(q - 0.5\\right) \\right)}\\right) \\sinh{\\left(lamb \\left(- \\frac{p}{2} + \\frac{q}{2}\\right) \\right)} \\tanh{\\left(\\frac{lamb}{2} \\right)}}{\\sinh{\\left(lamb n \\right)} \\cosh{\\left(lamb \\right)}} + 1 - \\frac{1}{\\cosh{\\left(lamb \\right)}}\\right)}$"
      ],
      "text/plain": [
       "(-sinh(lamb*(n/2 - 1/2)) + sinh(lamb*(n/2 + 1/2)) - sinh(lamb*(n/2 - p + 1/2)) + sinh(lamb*(n/2 - q + 1/2)))/((-sinh(lamb*(n/2 - 1/2)) + sinh(lamb*(n/2 + 1/2)))*(-2*(sinh(lamb*(p/2 + q/2 - 0.5))*cosh(lamb*(n - p + 0.5)) + sinh(lamb*(n - p/2 - q/2 + 0.5))*cosh(lamb*(q - 0.5)))*sinh(lamb*(-p/2 + q/2))*tanh(lamb/2)/(sinh(lamb*n)*cosh(lamb)) + 1 - 1/cosh(lamb)))"
      ]
     },
     "metadata": {},
     "output_type": "display_data"
    }
   ],
   "source": [
    "c_denom_2 = num_final / denom_2_final\n",
    "print(c_denom_2.evalf(subs = {n: 7, p: 5, q: 2, lamb: 0.69, alpha_prime: 1/(2 *cosh(lamb)) }))\n",
    "print(c_analytical.evalf(subs = {n: 7, p: 5, q: 2, lamb: 0.69, alpha_prime: 1/(2 *cosh(lamb)) }))\n",
    "\n",
    "display(c_denom_2)"
   ]
  },
  {
   "cell_type": "code",
   "execution_count": 200,
   "metadata": {},
   "outputs": [
    {
     "name": "stdout",
     "output_type": "stream",
     "text": [
      "simplified num:\n"
     ]
    },
    {
     "data": {
      "text/latex": [
       "$\\displaystyle \\frac{2 \\sinh{\\left(\\frac{\\lambda}{2} \\right)} \\cosh{\\left(\\frac{\\lambda n}{2} \\right)} - \\sinh{\\left(\\lambda \\left(\\frac{n}{2} - p + \\frac{1}{2}\\right) \\right)} + \\sinh{\\left(\\lambda \\left(\\frac{n}{2} - q + \\frac{1}{2}\\right) \\right)}}{2 \\sinh{\\left(\\frac{\\lambda}{2} \\right)} \\cosh{\\left(\\frac{\\lambda n}{2} \\right)}}$"
      ],
      "text/plain": [
       "(2*sinh(lambda/2)*cosh(lambda*n/2) - sinh(lambda*(n/2 - p + 1/2)) + sinh(lambda*(n/2 - q + 1/2)))/(2*sinh(lambda/2)*cosh(lambda*n/2))"
      ]
     },
     "metadata": {},
     "output_type": "display_data"
    }
   ],
   "source": [
    "#simplify numerator\n",
    "num_simplified = sp.simplify(num)\n",
    "num_simplified_display = num_simplified.subs(lamb, lambda_symbol)\n",
    "print('simplified num:')\n",
    "display(num_simplified_display)\n",
    "\n",
    "num2 = num_simplified"
   ]
  },
  {
   "cell_type": "code",
   "execution_count": 201,
   "metadata": {},
   "outputs": [
    {
     "name": "stdout",
     "output_type": "stream",
     "text": [
      "simplified denom:\n"
     ]
    },
    {
     "data": {
      "text/latex": [
       "$\\displaystyle \\frac{2 \\alpha_{prime} \\left(2 \\sinh{\\left(\\lambda \\left(n - \\frac{p}{2} + \\frac{q}{2}\\right) \\right)} - \\sinh{\\left(\\lambda \\left(n - \\frac{3 p}{2} - \\frac{q}{2} + 1\\right) \\right)} + \\sinh{\\left(\\lambda \\left(n - \\frac{p}{2} - \\frac{3 q}{2} + 1\\right) \\right)}\\right) \\sinh{\\left(\\frac{\\lambda \\left(p - q\\right)}{2} \\right)} \\tanh{\\left(\\frac{\\lambda}{2} \\right)} - \\left(2 \\alpha_{prime} - 1\\right) \\sinh{\\left(\\lambda n \\right)}}{\\sinh{\\left(\\lambda n \\right)}}$"
      ],
      "text/plain": [
       "(2*alpha_prime*(2*sinh(lambda*(n - p/2 + q/2)) - sinh(lambda*(n - 3*p/2 - q/2 + 1)) + sinh(lambda*(n - p/2 - 3*q/2 + 1)))*sinh(lambda*(p - q)/2)*tanh(lambda/2) - (2*alpha_prime - 1)*sinh(lambda*n))/sinh(lambda*n)"
      ]
     },
     "metadata": {},
     "output_type": "display_data"
    }
   ],
   "source": [
    "#simplify denominator\n",
    "denom_simplified = sp.simplify(denom)\n",
    "denom_simplified_display = denom_simplified.subs(lamb, lambda_symbol)\n",
    "print('simplified denom:')\n",
    "display(denom_simplified_display)"
   ]
  },
  {
   "cell_type": "code",
   "execution_count": 202,
   "metadata": {},
   "outputs": [
    {
     "name": "stdout",
     "output_type": "stream",
     "text": [
      "evaluate denom:\n",
      "0.446906661018919\n"
     ]
    }
   ],
   "source": [
    "print('evaluate denom:')\n",
    "print(denom_simplified.evalf(subs = {n: 7, p: 5, q: 2, lamb: 0.69, alpha_prime: 1/(2 *cosh(lamb)) }))"
   ]
  },
  {
   "cell_type": "code",
   "execution_count": 203,
   "metadata": {},
   "outputs": [
    {
     "data": {
      "text/latex": [
       "$\\displaystyle - \\frac{4 \\alpha_{prime} \\left(\\sinh{\\left(lamb \\left(\\frac{p}{2} + \\frac{q}{2} - 0.5\\right) \\right)} \\cosh{\\left(lamb \\left(n - p + 0.5\\right) \\right)} + \\sinh{\\left(lamb \\left(n - \\frac{p}{2} - \\frac{q}{2} + 0.5\\right) \\right)} \\cosh{\\left(lamb \\left(q - 0.5\\right) \\right)}\\right) \\sinh{\\left(lamb \\left(- \\frac{p}{2} + \\frac{q}{2}\\right) \\right)} \\tanh{\\left(\\frac{lamb}{2} \\right)}}{\\sinh{\\left(lamb n \\right)}} - 2 \\alpha_{prime} + 1$"
      ],
      "text/plain": [
       "-4*alpha_prime*(sinh(lamb*(p/2 + q/2 - 0.5))*cosh(lamb*(n - p + 0.5)) + sinh(lamb*(n - p/2 - q/2 + 0.5))*cosh(lamb*(q - 0.5)))*sinh(lamb*(-p/2 + q/2))*tanh(lamb/2)/sinh(lamb*n) - 2*alpha_prime + 1"
      ]
     },
     "metadata": {},
     "output_type": "display_data"
    }
   ],
   "source": [
    "display(denom)"
   ]
  },
  {
   "cell_type": "code",
   "execution_count": 204,
   "metadata": {},
   "outputs": [
    {
     "name": "stdout",
     "output_type": "stream",
     "text": [
      "0.446906661018919\n",
      "-0.00348377772487703\n"
     ]
    }
   ],
   "source": [
    "D_sim_denom = 1 - 2 * alpha_prime_sub - 4 * alpha_prime_sub * (tanh(lamb/2) / sinh(lamb * n)) * D_sim\n",
    "print(denom.evalf(subs = {n: 7, p: 5, q: 2, lamb: 0.69, alpha_prime: 1/(2 *cosh(lamb)) }))\n",
    "print(D_sim_denom.evalf(subs = {n: 7, p: 5, q: 2, lamb: 0.69, alpha_prime: 1/(2 *cosh(lamb)) }))"
   ]
  },
  {
   "cell_type": "code",
   "execution_count": 205,
   "metadata": {},
   "outputs": [
    {
     "name": "stdout",
     "output_type": "stream",
     "text": [
      "1/(2*cosh(lamb))\n"
     ]
    }
   ],
   "source": [
    "\n",
    "print(1/(2 *cosh(lamb)))"
   ]
  },
  {
   "cell_type": "code",
   "execution_count": 206,
   "metadata": {},
   "outputs": [
    {
     "name": "stdout",
     "output_type": "stream",
     "text": [
      "sinh(lamb*(n - p/2 + q/2)) - sinh(lamb*(n - 3*p/2 - q/2 + 1))/2 + sinh(lamb*(n - p/2 - 3*q/2 + 1))/2\n"
     ]
    }
   ],
   "source": [
    "print(D_sim_simplified)"
   ]
  },
  {
   "cell_type": "code",
   "execution_count": 207,
   "metadata": {},
   "outputs": [
    {
     "name": "stdout",
     "output_type": "stream",
     "text": [
      "substitute alpha_prime and display\n"
     ]
    },
    {
     "data": {
      "text/latex": [
       "$\\displaystyle \\frac{\\left(2 \\sinh{\\left(lamb \\left(n - \\frac{p}{2} + \\frac{q}{2}\\right) \\right)} - \\sinh{\\left(lamb \\left(n - \\frac{3 p}{2} - \\frac{q}{2} + 1\\right) \\right)} + \\sinh{\\left(lamb \\left(n - \\frac{p}{2} - \\frac{3 q}{2} + 1\\right) \\right)}\\right) \\sinh{\\left(\\frac{lamb \\left(p - q\\right)}{2} \\right)} \\tanh{\\left(\\frac{lamb}{2} \\right)} + \\sinh{\\left(lamb n \\right)} \\cosh{\\left(lamb \\right)} - \\sinh{\\left(lamb n \\right)}}{\\sinh{\\left(lamb n \\right)} \\cosh{\\left(lamb \\right)}}$"
      ],
      "text/plain": [
       "((2*sinh(lamb*(n - p/2 + q/2)) - sinh(lamb*(n - 3*p/2 - q/2 + 1)) + sinh(lamb*(n - p/2 - 3*q/2 + 1)))*sinh(lamb*(p - q)/2)*tanh(lamb/2) + sinh(lamb*n)*cosh(lamb) - sinh(lamb*n))/(sinh(lamb*n)*cosh(lamb))"
      ]
     },
     "metadata": {},
     "output_type": "display_data"
    }
   ],
   "source": [
    "print('substitute alpha_prime and display')\n",
    "alpha_prime_sub = 1 / (2 * cosh(lamb))\n",
    "denom = denom.subs(symbols('alpha_prime'), alpha_prime_sub)\n",
    "display(sp.simplify(denom))"
   ]
  },
  {
   "cell_type": "code",
   "execution_count": 208,
   "metadata": {},
   "outputs": [
    {
     "name": "stdout",
     "output_type": "stream",
     "text": [
      "evaluating denom and denom_simplified\n",
      "0.446906661018919\n",
      "0.446906661018919\n"
     ]
    }
   ],
   "source": [
    "print('evaluating denom and denom_simplified')\n",
    "print(denom.evalf(subs = {n: 7, p: 5, q: 2, lamb: 0.69, alpha_prime: 1/(2 *cosh(lamb)) }))\n",
    "print(denom_simplified.evalf(subs = {n: 7, p: 5, q: 2, lamb: 0.69, alpha_prime: 1/(2 *cosh(lamb)) }))\n"
   ]
  },
  {
   "cell_type": "code",
   "execution_count": 209,
   "metadata": {},
   "outputs": [
    {
     "data": {
      "text/latex": [
       "$\\displaystyle - \\frac{2 \\left(\\sinh{\\left(lamb \\left(\\frac{p}{2} + \\frac{q}{2} - 0.5\\right) \\right)} \\cosh{\\left(lamb \\left(n - p + 0.5\\right) \\right)} + \\sinh{\\left(lamb \\left(n - \\frac{p}{2} - \\frac{q}{2} + 0.5\\right) \\right)} \\cosh{\\left(lamb \\left(q - 0.5\\right) \\right)}\\right) \\sinh{\\left(lamb \\left(- \\frac{p}{2} + \\frac{q}{2}\\right) \\right)} \\tanh{\\left(\\frac{lamb}{2} \\right)}}{\\sinh{\\left(lamb n \\right)} \\cosh{\\left(lamb \\right)}} + 1 - \\frac{1}{\\cosh{\\left(lamb \\right)}}$"
      ],
      "text/plain": [
       "-2*(sinh(lamb*(p/2 + q/2 - 0.5))*cosh(lamb*(n - p + 0.5)) + sinh(lamb*(n - p/2 - q/2 + 0.5))*cosh(lamb*(q - 0.5)))*sinh(lamb*(-p/2 + q/2))*tanh(lamb/2)/(sinh(lamb*n)*cosh(lamb)) + 1 - 1/cosh(lamb)"
      ]
     },
     "metadata": {},
     "output_type": "display_data"
    },
    {
     "data": {
      "text/latex": [
       "$\\displaystyle \\frac{2 \\alpha_{prime} \\left(2 \\sinh{\\left(lamb \\left(n - \\frac{p}{2} + \\frac{q}{2}\\right) \\right)} - \\sinh{\\left(lamb \\left(n - \\frac{3 p}{2} - \\frac{q}{2} + 1\\right) \\right)} + \\sinh{\\left(lamb \\left(n - \\frac{p}{2} - \\frac{3 q}{2} + 1\\right) \\right)}\\right) \\sinh{\\left(\\frac{lamb \\left(p - q\\right)}{2} \\right)} \\tanh{\\left(\\frac{lamb}{2} \\right)} - \\left(2 \\alpha_{prime} - 1\\right) \\sinh{\\left(lamb n \\right)}}{\\sinh{\\left(lamb n \\right)}}$"
      ],
      "text/plain": [
       "(2*alpha_prime*(2*sinh(lamb*(n - p/2 + q/2)) - sinh(lamb*(n - 3*p/2 - q/2 + 1)) + sinh(lamb*(n - p/2 - 3*q/2 + 1)))*sinh(lamb*(p - q)/2)*tanh(lamb/2) - (2*alpha_prime - 1)*sinh(lamb*n))/sinh(lamb*n)"
      ]
     },
     "metadata": {},
     "output_type": "display_data"
    }
   ],
   "source": [
    "display(denom)\n",
    "display(denom_simplified)"
   ]
  },
  {
   "cell_type": "code",
   "execution_count": 210,
   "metadata": {},
   "outputs": [
    {
     "data": {
      "text/latex": [
       "$\\displaystyle \\sinh{\\left(lamb \\left(\\frac{p}{2} + \\frac{q}{2} - 0.5\\right) \\right)} \\cosh{\\left(lamb \\left(n - p + 0.5\\right) \\right)} + \\sinh{\\left(lamb \\left(n - \\frac{p}{2} - \\frac{q}{2} + 0.5\\right) \\right)} \\cosh{\\left(lamb \\left(q - 0.5\\right) \\right)}$"
      ],
      "text/plain": [
       "sinh(lamb*(p/2 + q/2 - 0.5))*cosh(lamb*(n - p + 0.5)) + sinh(lamb*(n - p/2 - q/2 + 0.5))*cosh(lamb*(q - 0.5))"
      ]
     },
     "metadata": {},
     "output_type": "display_data"
    }
   ],
   "source": [
    "display(D_sim)"
   ]
  },
  {
   "cell_type": "code",
   "execution_count": 211,
   "metadata": {},
   "outputs": [
    {
     "name": "stdout",
     "output_type": "stream",
     "text": [
      "simplify denom_2\n"
     ]
    },
    {
     "data": {
      "text/latex": [
       "$\\displaystyle \\frac{2 \\left(\\left(2 \\sinh{\\left(\\lambda \\left(n - \\frac{p}{2} + \\frac{q}{2}\\right) \\right)} - \\sinh{\\left(\\lambda \\left(n - \\frac{3 p}{2} - \\frac{q}{2} + 1\\right) \\right)} + \\sinh{\\left(\\lambda \\left(n - \\frac{p}{2} - \\frac{3 q}{2} + 1\\right) \\right)}\\right) \\sinh{\\left(\\frac{\\lambda \\left(p - q\\right)}{2} \\right)} \\tanh{\\left(\\frac{\\lambda}{2} \\right)} + \\sinh{\\left(\\lambda n \\right)} \\cosh{\\left(\\lambda \\right)} - \\sinh{\\left(\\lambda n \\right)}\\right) \\sinh{\\left(\\frac{\\lambda}{2} \\right)} \\cosh{\\left(\\frac{\\lambda n}{2} \\right)}}{\\sinh{\\left(\\lambda n \\right)} \\cosh{\\left(\\lambda \\right)}}$"
      ],
      "text/plain": [
       "2*((2*sinh(lambda*(n - p/2 + q/2)) - sinh(lambda*(n - 3*p/2 - q/2 + 1)) + sinh(lambda*(n - p/2 - 3*q/2 + 1)))*sinh(lambda*(p - q)/2)*tanh(lambda/2) + sinh(lambda*n)*cosh(lambda) - sinh(lambda*n))*sinh(lambda/2)*cosh(lambda*n/2)/(sinh(lambda*n)*cosh(lambda))"
      ]
     },
     "metadata": {},
     "output_type": "display_data"
    }
   ],
   "source": [
    "print('simplify denom_2')\n",
    "denom_2 = denom * (2*sinh(lamb/2)*cosh(lamb*n/2))\n",
    "denom_2_simplified = sp.simplify(denom_2)\n",
    "denom_2_simplified_display = denom_2_simplified.subs(lamb, lambda_symbol)\n",
    "display(denom_2_simplified_display)"
   ]
  },
  {
   "cell_type": "code",
   "execution_count": 212,
   "metadata": {},
   "outputs": [
    {
     "name": "stdout",
     "output_type": "stream",
     "text": [
      "check if num_3/denom_2 = num/denom\n",
      "True\n"
     ]
    }
   ],
   "source": [
    "print('check if num_3/denom_2 = num/denom')\n",
    "num_3 = num_simplified * (2*sinh(lamb/2)*cosh(lamb*n/2))\n",
    "are_equal = sp.simplify(num/denom - num_3/denom_2) == 0\n",
    "print(are_equal)"
   ]
  },
  {
   "cell_type": "code",
   "execution_count": 213,
   "metadata": {},
   "outputs": [],
   "source": [
    "# Note: redundant right now?\n",
    "\n",
    "# print('evaluate denom_3')\n",
    "# print(denom_3.evalf(subs = {n: 7, p: 5, q: 2, lamb: 0.69, alpha_prime: 1/(2 *cosh(lamb)) }))"
   ]
  },
  {
   "cell_type": "code",
   "execution_count": 214,
   "metadata": {},
   "outputs": [
    {
     "data": {
      "text/latex": [
       "$\\displaystyle \\frac{\\tanh{\\left(\\frac{lamb}{2} \\right)}}{\\sinh{\\left(lamb n \\right)} \\cosh{\\left(lamb \\right)}}$"
      ],
      "text/plain": [
       "tanh(lamb/2)/(sinh(lamb*n)*cosh(lamb))"
      ]
     },
     "metadata": {},
     "output_type": "display_data"
    }
   ],
   "source": [
    "D_diff_doubletil = 2 * tanh(lamb/2) / sinh(lamb * n)\n",
    "alpha_D_diff_doubletil = (1/(2*cosh(lamb))) * D_diff_doubletil\n",
    "display(alpha_D_diff_doubletil)"
   ]
  },
  {
   "cell_type": "code",
   "execution_count": 215,
   "metadata": {},
   "outputs": [
    {
     "name": "stdout",
     "output_type": "stream",
     "text": [
      "check EXP\n"
     ]
    },
    {
     "data": {
      "text/latex": [
       "$\\displaystyle \\frac{1 + \\frac{- \\sinh{\\left(lamb \\left(\\frac{n}{2} - p + \\frac{1}{2}\\right) \\right)} + \\sinh{\\left(lamb \\left(\\frac{n}{2} - q + \\frac{1}{2}\\right) \\right)}}{- \\sinh{\\left(lamb \\left(\\frac{n}{2} - \\frac{1}{2}\\right) \\right)} + \\sinh{\\left(lamb \\left(\\frac{n}{2} + \\frac{1}{2}\\right) \\right)}}}{- \\frac{2 \\left(\\sinh{\\left(lamb \\left(\\frac{p}{2} + \\frac{q}{2} - 0.5\\right) \\right)} \\cosh{\\left(lamb \\left(n - p + 0.5\\right) \\right)} + \\sinh{\\left(lamb \\left(n - \\frac{p}{2} - \\frac{q}{2} + 0.5\\right) \\right)} \\cosh{\\left(lamb \\left(q - 0.5\\right) \\right)}\\right) \\sinh{\\left(lamb \\left(- \\frac{p}{2} + \\frac{q}{2}\\right) \\right)} \\tanh{\\left(\\frac{lamb}{2} \\right)}}{\\sinh{\\left(lamb n \\right)} \\cosh{\\left(lamb \\right)}} + 1 - \\frac{1}{\\cosh{\\left(lamb \\right)}}}$"
      ],
      "text/plain": [
       "(1 + (-sinh(lamb*(n/2 - p + 1/2)) + sinh(lamb*(n/2 - q + 1/2)))/(-sinh(lamb*(n/2 - 1/2)) + sinh(lamb*(n/2 + 1/2))))/(-2*(sinh(lamb*(p/2 + q/2 - 0.5))*cosh(lamb*(n - p + 0.5)) + sinh(lamb*(n - p/2 - q/2 + 0.5))*cosh(lamb*(q - 0.5)))*sinh(lamb*(-p/2 + q/2))*tanh(lamb/2)/(sinh(lamb*n)*cosh(lamb)) + 1 - 1/cosh(lamb))"
      ]
     },
     "metadata": {},
     "output_type": "display_data"
    },
    {
     "data": {
      "text/latex": [
       "$\\displaystyle \\frac{1}{2 \\cosh{\\left(lamb \\right)}}$"
      ],
      "text/plain": [
       "1/(2*cosh(lamb))"
      ]
     },
     "metadata": {},
     "output_type": "display_data"
    },
    {
     "data": {
      "text/latex": [
       "$\\displaystyle \\frac{\\left(1 + \\frac{- \\sinh{\\left(lamb \\left(\\frac{n}{2} - p + \\frac{1}{2}\\right) \\right)} + \\sinh{\\left(lamb \\left(\\frac{n}{2} - q + \\frac{1}{2}\\right) \\right)}}{- \\sinh{\\left(lamb \\left(\\frac{n}{2} - \\frac{1}{2}\\right) \\right)} + \\sinh{\\left(lamb \\left(\\frac{n}{2} + \\frac{1}{2}\\right) \\right)}}\\right) \\tanh{\\left(\\frac{lamb}{2} \\right)}}{\\left(- \\frac{2 \\left(\\sinh{\\left(lamb \\left(\\frac{p}{2} + \\frac{q}{2} - 0.5\\right) \\right)} \\cosh{\\left(lamb \\left(n - p + 0.5\\right) \\right)} + \\sinh{\\left(lamb \\left(n - \\frac{p}{2} - \\frac{q}{2} + 0.5\\right) \\right)} \\cosh{\\left(lamb \\left(q - 0.5\\right) \\right)}\\right) \\sinh{\\left(lamb \\left(- \\frac{p}{2} + \\frac{q}{2}\\right) \\right)} \\tanh{\\left(\\frac{lamb}{2} \\right)}}{\\sinh{\\left(lamb n \\right)} \\cosh{\\left(lamb \\right)}} + 1 - \\frac{1}{\\cosh{\\left(lamb \\right)}}\\right) \\sinh{\\left(lamb n \\right)} \\cosh{\\left(lamb \\right)}}$"
      ],
      "text/plain": [
       "(1 + (-sinh(lamb*(n/2 - p + 1/2)) + sinh(lamb*(n/2 - q + 1/2)))/(-sinh(lamb*(n/2 - 1/2)) + sinh(lamb*(n/2 + 1/2))))*tanh(lamb/2)/((-2*(sinh(lamb*(p/2 + q/2 - 0.5))*cosh(lamb*(n - p + 0.5)) + sinh(lamb*(n - p/2 - q/2 + 0.5))*cosh(lamb*(q - 0.5)))*sinh(lamb*(-p/2 + q/2))*tanh(lamb/2)/(sinh(lamb*n)*cosh(lamb)) + 1 - 1/cosh(lamb))*sinh(lamb*n)*cosh(lamb))"
      ]
     },
     "metadata": {},
     "output_type": "display_data"
    },
    {
     "name": "stdout",
     "output_type": "stream",
     "text": [
      "0.0157575838804346\n"
     ]
    }
   ],
   "source": [
    "print('check EXP')\n",
    "c = num / denom\n",
    "display(c)\n",
    "display(alpha_prime_sub)\n",
    "\n",
    "Exp = c * alpha_prime_sub * D_diff_doubletil\n",
    "display(Exp)\n",
    "\n",
    "print(Exp.evalf(subs = {n: 7, p: 5, q: 2, lamb: 0.69, alpha_prime: 1/(2 *cosh(lamb)) }))"
   ]
  },
  {
   "cell_type": "code",
   "execution_count": 216,
   "metadata": {},
   "outputs": [
    {
     "name": "stdout",
     "output_type": "stream",
     "text": [
      "evaluate denom_analytical, which is equal to num3 / denom2 * alpha_prime * D_diff_doubletil\n",
      "38.3532452174743\n"
     ]
    }
   ],
   "source": [
    "print('evaluate denom_analytical, which is equal to num3 / denom2 * alpha_prime * D_diff_doubletil')\n",
    "denom_analytical = cosh(n/2 * lamb) * (1/2) * sinh(lamb*n) * sinh(lamb/2) - D_sim_simplified\n",
    "print(denom_analytical.evalf(subs = {n: 7, p: 5, q: 2, lamb: 0.69, alpha_prime: 1/(2 *cosh(lamb)) }))\n"
   ]
  },
  {
   "cell_type": "code",
   "execution_count": 217,
   "metadata": {},
   "outputs": [
    {
     "data": {
      "text/latex": [
       "$\\displaystyle \\sinh{\\left(lamb \\left(n - \\frac{p}{2} + \\frac{q}{2}\\right) \\right)} - \\frac{\\sinh{\\left(lamb \\left(n - \\frac{3 p}{2} - \\frac{q}{2} + 1\\right) \\right)}}{2} + \\frac{\\sinh{\\left(lamb \\left(n - \\frac{p}{2} - \\frac{3 q}{2} + 1\\right) \\right)}}{2}$"
      ],
      "text/plain": [
       "sinh(lamb*(n - p/2 + q/2)) - sinh(lamb*(n - 3*p/2 - q/2 + 1))/2 + sinh(lamb*(n - p/2 - 3*q/2 + 1))/2"
      ]
     },
     "metadata": {},
     "output_type": "display_data"
    }
   ],
   "source": [
    "display(D_sim_simplified)"
   ]
  },
  {
   "cell_type": "code",
   "execution_count": 218,
   "metadata": {},
   "outputs": [
    {
     "name": "stdout",
     "output_type": "stream",
     "text": [
      "sinh(lamb*(n - p/2 + q/2)) - sinh(lamb*(n - 3*p/2 - q/2 + 1))/2 + sinh(lamb*(n - p/2 - 3*q/2 + 1))/2\n"
     ]
    }
   ],
   "source": [
    "print(D_sim_simplified)"
   ]
  },
  {
   "cell_type": "code",
   "execution_count": 219,
   "metadata": {},
   "outputs": [
    {
     "data": {
      "text/latex": [
       "$\\displaystyle 1 + \\frac{- \\sinh{\\left(lamb \\left(\\frac{n}{2} - p + \\frac{1}{2}\\right) \\right)} + \\sinh{\\left(lamb \\left(\\frac{n}{2} - q + \\frac{1}{2}\\right) \\right)}}{- \\sinh{\\left(lamb \\left(\\frac{n}{2} - \\frac{1}{2}\\right) \\right)} + \\sinh{\\left(lamb \\left(\\frac{n}{2} + \\frac{1}{2}\\right) \\right)}}$"
      ],
      "text/plain": [
       "1 + (-sinh(lamb*(n/2 - p + 1/2)) + sinh(lamb*(n/2 - q + 1/2)))/(-sinh(lamb*(n/2 - 1/2)) + sinh(lamb*(n/2 + 1/2)))"
      ]
     },
     "metadata": {},
     "output_type": "display_data"
    },
    {
     "data": {
      "text/latex": [
       "$\\displaystyle \\frac{2 \\sinh{\\left(\\frac{lamb}{2} \\right)} \\cosh{\\left(\\frac{lamb n}{2} \\right)} - \\sinh{\\left(lamb \\left(\\frac{n}{2} - p + \\frac{1}{2}\\right) \\right)} + \\sinh{\\left(lamb \\left(\\frac{n}{2} - q + \\frac{1}{2}\\right) \\right)}}{2 \\sinh{\\left(\\frac{lamb}{2} \\right)} \\cosh{\\left(\\frac{lamb n}{2} \\right)}}$"
      ],
      "text/plain": [
       "(2*sinh(lamb/2)*cosh(lamb*n/2) - sinh(lamb*(n/2 - p + 1/2)) + sinh(lamb*(n/2 - q + 1/2)))/(2*sinh(lamb/2)*cosh(lamb*n/2))"
      ]
     },
     "metadata": {},
     "output_type": "display_data"
    },
    {
     "data": {
      "text/latex": [
       "$\\displaystyle 2 \\sinh{\\left(\\frac{lamb}{2} \\right)} \\cosh{\\left(\\frac{lamb n}{2} \\right)} - \\sinh{\\left(lamb \\left(\\frac{n}{2} - p + \\frac{1}{2}\\right) \\right)} + \\sinh{\\left(lamb \\left(\\frac{n}{2} - q + \\frac{1}{2}\\right) \\right)}$"
      ],
      "text/plain": [
       "2*sinh(lamb/2)*cosh(lamb*n/2) - sinh(lamb*(n/2 - p + 1/2)) + sinh(lamb*(n/2 - q + 1/2))"
      ]
     },
     "metadata": {},
     "output_type": "display_data"
    },
    {
     "data": {
      "text/latex": [
       "$\\displaystyle \\frac{2 \\sinh{\\left(\\frac{lamb}{2} \\right)} \\cosh{\\left(\\frac{lamb n}{2} \\right)} - \\sinh{\\left(lamb \\left(\\frac{n}{2} - p + \\frac{1}{2}\\right) \\right)} + \\sinh{\\left(lamb \\left(\\frac{n}{2} - q + \\frac{1}{2}\\right) \\right)}}{0.5 \\sinh{\\left(\\frac{lamb}{2} \\right)} \\sinh{\\left(lamb n \\right)} \\cosh{\\left(\\frac{lamb n}{2} \\right)} - \\sinh{\\left(lamb \\left(n - \\frac{p}{2} + \\frac{q}{2}\\right) \\right)} + \\frac{\\sinh{\\left(lamb \\left(n - \\frac{3 p}{2} - \\frac{q}{2} + 1\\right) \\right)}}{2} - \\frac{\\sinh{\\left(lamb \\left(n - \\frac{p}{2} - \\frac{3 q}{2} + 1\\right) \\right)}}{2}}$"
      ],
      "text/plain": [
       "(2*sinh(lamb/2)*cosh(lamb*n/2) - sinh(lamb*(n/2 - p + 1/2)) + sinh(lamb*(n/2 - q + 1/2)))/(0.5*sinh(lamb/2)*sinh(lamb*n)*cosh(lamb*n/2) - sinh(lamb*(n - p/2 + q/2)) + sinh(lamb*(n - 3*p/2 - q/2 + 1))/2 - sinh(lamb*(n - p/2 - 3*q/2 + 1))/2)"
      ]
     },
     "metadata": {},
     "output_type": "display_data"
    },
    {
     "name": "stdout",
     "output_type": "stream",
     "text": [
      "3.70778069546815\n",
      "c_analytical is not the same as ?\n"
     ]
    }
   ],
   "source": [
    "display(num)\n",
    "display(num_simplified)\n",
    "num_2 = num_simplified\n",
    "num_3 = num_2 * (2 * sinh(lamb/2) * cosh(lamb/2 * n))\n",
    "display(num_3)\n",
    "Exp_analytical = num_3 / denom_analytical\n",
    "display(Exp_analytical)\n",
    "\n",
    "print(c_analytical.evalf(subs = {n: 7, p: 5, q: 2, lamb: 0.69, alpha_prime: 1/(2 *cosh(lamb)) }))\n",
    "\n",
    "print('c_analytical is not the same as ?')"
   ]
  },
  {
   "cell_type": "code",
   "execution_count": 220,
   "metadata": {},
   "outputs": [
    {
     "name": "stdout",
     "output_type": "stream",
     "text": [
      "1.77375328568449\n",
      "1.77375328568449\n"
     ]
    }
   ],
   "source": [
    "denom_part = (2 * sinh(lamb/2) * cosh(lamb/2 * n))\n",
    "\n",
    "denom_2_check = denom * denom_part\n",
    "print(denom_2_check.evalf(subs = {n: 7, p: 5, q: 2, lamb: 0.69, alpha_prime: 1/(2 *cosh(lamb)) }))\n",
    "print(denom_2.evalf(subs = {n: 7, p: 5, q: 2, lamb: 0.69, alpha_prime: 1/(2 *cosh(lamb)) }))\n"
   ]
  },
  {
   "cell_type": "code",
   "execution_count": 221,
   "metadata": {},
   "outputs": [
    {
     "data": {
      "text/latex": [
       "$\\displaystyle 2 \\sinh{\\left(\\frac{lamb}{2} \\right)} \\cosh{\\left(\\frac{lamb n}{2} \\right)} - \\sinh{\\left(lamb \\left(\\frac{n}{2} - p + \\frac{1}{2}\\right) \\right)} + \\sinh{\\left(lamb \\left(\\frac{n}{2} - q + \\frac{1}{2}\\right) \\right)}$"
      ],
      "text/plain": [
       "2*sinh(lamb/2)*cosh(lamb*n/2) - sinh(lamb*(n/2 - p + 1/2)) + sinh(lamb*(n/2 - q + 1/2))"
      ]
     },
     "metadata": {},
     "output_type": "display_data"
    },
    {
     "name": "stdout",
     "output_type": "stream",
     "text": [
      "3.70778069546815\n",
      "3.70778069546815\n"
     ]
    }
   ],
   "source": [
    "display(num_3)\n",
    "\n",
    "c_check = num_3 / denom_2\n",
    "print(c_check.evalf(subs = {n: 7, p: 5, q: 2, lamb: 0.69, alpha_prime: 1/(2 *cosh(lamb)) }))\n",
    "print(c_analytical.evalf(subs = {n: 7, p: 5, q: 2, lamb: 0.69, alpha_prime: 1/(2 *cosh(lamb)) }))"
   ]
  },
  {
   "cell_type": "code",
   "execution_count": 222,
   "metadata": {},
   "outputs": [
    {
     "data": {
      "text/latex": [
       "$\\displaystyle - \\frac{2 \\left(\\sinh{\\left(lamb \\left(\\frac{p}{2} + \\frac{q}{2} - 0.5\\right) \\right)} \\cosh{\\left(lamb \\left(n - p + 0.5\\right) \\right)} + \\sinh{\\left(lamb \\left(n - \\frac{p}{2} - \\frac{q}{2} + 0.5\\right) \\right)} \\cosh{\\left(lamb \\left(q - 0.5\\right) \\right)}\\right) \\sinh{\\left(lamb \\left(- \\frac{p}{2} + \\frac{q}{2}\\right) \\right)} \\tanh{\\left(\\frac{lamb}{2} \\right)}}{\\sinh{\\left(lamb n \\right)} \\cosh{\\left(lamb \\right)}} + 1 - \\frac{1}{\\cosh{\\left(lamb \\right)}}$"
      ],
      "text/plain": [
       "-2*(sinh(lamb*(p/2 + q/2 - 0.5))*cosh(lamb*(n - p + 0.5)) + sinh(lamb*(n - p/2 - q/2 + 0.5))*cosh(lamb*(q - 0.5)))*sinh(lamb*(-p/2 + q/2))*tanh(lamb/2)/(sinh(lamb*n)*cosh(lamb)) + 1 - 1/cosh(lamb)"
      ]
     },
     "metadata": {},
     "output_type": "display_data"
    }
   ],
   "source": [
    "display(denom)"
   ]
  },
  {
   "cell_type": "code",
   "execution_count": 223,
   "metadata": {},
   "outputs": [
    {
     "data": {
      "text/latex": [
       "$\\displaystyle 0$"
      ],
      "text/plain": [
       "0"
      ]
     },
     "metadata": {},
     "output_type": "display_data"
    }
   ],
   "source": [
    "display(sp.simplify(num_2 * denom_part - num_3))"
   ]
  },
  {
   "cell_type": "code",
   "execution_count": 224,
   "metadata": {},
   "outputs": [
    {
     "data": {
      "text/latex": [
       "$\\displaystyle 2 \\sinh{\\left(\\frac{lamb}{2} \\right)} \\cosh{\\left(\\frac{lamb n}{2} \\right)} - \\sinh{\\left(lamb \\left(\\frac{n}{2} - p + \\frac{1}{2}\\right) \\right)} + \\sinh{\\left(lamb \\left(\\frac{n}{2} - q + \\frac{1}{2}\\right) \\right)}$"
      ],
      "text/plain": [
       "2*sinh(lamb/2)*cosh(lamb*n/2) - sinh(lamb*(n/2 - p + 1/2)) + sinh(lamb*(n/2 - q + 1/2))"
      ]
     },
     "metadata": {},
     "output_type": "display_data"
    },
    {
     "data": {
      "text/latex": [
       "$\\displaystyle \\sinh{\\left(lamb \\left(\\frac{p}{2} + \\frac{q}{2} - 0.5\\right) \\right)} \\cosh{\\left(lamb \\left(n - p + 0.5\\right) \\right)} + \\sinh{\\left(lamb \\left(n - \\frac{p}{2} - \\frac{q}{2} + 0.5\\right) \\right)} \\cosh{\\left(lamb \\left(q - 0.5\\right) \\right)}$"
      ],
      "text/plain": [
       "sinh(lamb*(p/2 + q/2 - 0.5))*cosh(lamb*(n - p + 0.5)) + sinh(lamb*(n - p/2 - q/2 + 0.5))*cosh(lamb*(q - 0.5))"
      ]
     },
     "metadata": {},
     "output_type": "display_data"
    }
   ],
   "source": [
    "\n",
    "display(num_3)\n",
    "display(D_sim)"
   ]
  },
  {
   "cell_type": "code",
   "execution_count": 225,
   "metadata": {},
   "outputs": [
    {
     "data": {
      "text/latex": [
       "$\\displaystyle \\frac{2 \\left(\\left(2 \\sinh{\\left(lamb \\left(n - \\frac{p}{2} + \\frac{q}{2}\\right) \\right)} - \\sinh{\\left(lamb \\left(n - \\frac{3 p}{2} - \\frac{q}{2} + 1\\right) \\right)} + \\sinh{\\left(lamb \\left(n - \\frac{p}{2} - \\frac{3 q}{2} + 1\\right) \\right)}\\right) \\sinh{\\left(\\frac{lamb \\left(p - q\\right)}{2} \\right)} \\tanh{\\left(\\frac{lamb}{2} \\right)} + \\sinh{\\left(lamb n \\right)} \\cosh{\\left(lamb \\right)} - \\sinh{\\left(lamb n \\right)}\\right) \\sinh{\\left(\\frac{lamb}{2} \\right)} \\cosh{\\left(\\frac{lamb n}{2} \\right)}}{\\sinh{\\left(lamb n \\right)} \\cosh{\\left(lamb \\right)}}$"
      ],
      "text/plain": [
       "2*((2*sinh(lamb*(n - p/2 + q/2)) - sinh(lamb*(n - 3*p/2 - q/2 + 1)) + sinh(lamb*(n - p/2 - 3*q/2 + 1)))*sinh(lamb*(p - q)/2)*tanh(lamb/2) + sinh(lamb*n)*cosh(lamb) - sinh(lamb*n))*sinh(lamb/2)*cosh(lamb*n/2)/(sinh(lamb*n)*cosh(lamb))"
      ]
     },
     "metadata": {},
     "output_type": "display_data"
    }
   ],
   "source": [
    "display(sp.simplify(denom * denom_part))\n"
   ]
  },
  {
   "cell_type": "code",
   "execution_count": 226,
   "metadata": {},
   "outputs": [
    {
     "name": "stdout",
     "output_type": "stream",
     "text": [
      "1/(2*cosh(lamb))\n"
     ]
    }
   ],
   "source": [
    "print(alpha_prime_sub)"
   ]
  },
  {
   "cell_type": "code",
   "execution_count": 227,
   "metadata": {},
   "outputs": [
    {
     "data": {
      "text/latex": [
       "$\\displaystyle 2 \\left(- \\frac{2 \\left(\\sinh{\\left(lamb \\left(\\frac{p}{2} + \\frac{q}{2} - 0.5\\right) \\right)} \\cosh{\\left(lamb \\left(n - p + 0.5\\right) \\right)} + \\sinh{\\left(lamb \\left(n - \\frac{p}{2} - \\frac{q}{2} + 0.5\\right) \\right)} \\cosh{\\left(lamb \\left(q - 0.5\\right) \\right)}\\right) \\sinh{\\left(lamb \\left(- \\frac{p}{2} + \\frac{q}{2}\\right) \\right)} \\tanh{\\left(\\frac{lamb}{2} \\right)}}{\\sinh{\\left(lamb n \\right)} \\cosh{\\left(lamb \\right)}} + 1 - \\frac{1}{\\cosh{\\left(lamb \\right)}}\\right) \\sinh{\\left(\\frac{lamb}{2} \\right)} \\cosh{\\left(\\frac{lamb n}{2} \\right)}$"
      ],
      "text/plain": [
       "2*(-2*(sinh(lamb*(p/2 + q/2 - 0.5))*cosh(lamb*(n - p + 0.5)) + sinh(lamb*(n - p/2 - q/2 + 0.5))*cosh(lamb*(q - 0.5)))*sinh(lamb*(-p/2 + q/2))*tanh(lamb/2)/(sinh(lamb*n)*cosh(lamb)) + 1 - 1/cosh(lamb))*sinh(lamb/2)*cosh(lamb*n/2)"
      ]
     },
     "metadata": {},
     "output_type": "display_data"
    },
    {
     "data": {
      "text/latex": [
       "$\\displaystyle 2 \\sinh{\\left(\\frac{lamb}{2} \\right)} \\cosh{\\left(\\frac{lamb n}{2} \\right)}$"
      ],
      "text/plain": [
       "2*sinh(lamb/2)*cosh(lamb*n/2)"
      ]
     },
     "metadata": {},
     "output_type": "display_data"
    }
   ],
   "source": [
    "display(denom_2)\n",
    "display(denom_part)"
   ]
  },
  {
   "cell_type": "code",
   "execution_count": 228,
   "metadata": {},
   "outputs": [
    {
     "data": {
      "text/latex": [
       "$\\displaystyle \\sinh{\\left(lamb \\left(\\frac{p}{2} + \\frac{q}{2} - 0.5\\right) \\right)} \\cosh{\\left(lamb \\left(n - p + 0.5\\right) \\right)} + \\sinh{\\left(lamb \\left(n - \\frac{p}{2} - \\frac{q}{2} + 0.5\\right) \\right)} \\cosh{\\left(lamb \\left(q - 0.5\\right) \\right)}$"
      ],
      "text/plain": [
       "sinh(lamb*(p/2 + q/2 - 0.5))*cosh(lamb*(n - p + 0.5)) + sinh(lamb*(n - p/2 - q/2 + 0.5))*cosh(lamb*(q - 0.5))"
      ]
     },
     "metadata": {},
     "output_type": "display_data"
    }
   ],
   "source": [
    "display(D_sim)"
   ]
  },
  {
   "cell_type": "code",
   "execution_count": 229,
   "metadata": {},
   "outputs": [
    {
     "data": {
      "text/latex": [
       "$\\displaystyle \\frac{2 \\left(\\left(2 \\sinh{\\left(lamb \\left(n - \\frac{p}{2} + \\frac{q}{2}\\right) \\right)} - \\sinh{\\left(lamb \\left(n - \\frac{3 p}{2} - \\frac{q}{2} + 1\\right) \\right)} + \\sinh{\\left(lamb \\left(n - \\frac{p}{2} - \\frac{3 q}{2} + 1\\right) \\right)}\\right) \\sinh{\\left(\\frac{lamb \\left(p - q\\right)}{2} \\right)} \\tanh{\\left(\\frac{lamb}{2} \\right)} + \\sinh{\\left(lamb n \\right)} \\cosh{\\left(lamb \\right)} - \\sinh{\\left(lamb n \\right)}\\right) \\sinh{\\left(\\frac{lamb}{2} \\right)} \\cosh{\\left(\\frac{lamb n}{2} \\right)}}{\\sinh{\\left(lamb n \\right)} \\cosh{\\left(lamb \\right)}}$"
      ],
      "text/plain": [
       "2*((2*sinh(lamb*(n - p/2 + q/2)) - sinh(lamb*(n - 3*p/2 - q/2 + 1)) + sinh(lamb*(n - p/2 - 3*q/2 + 1)))*sinh(lamb*(p - q)/2)*tanh(lamb/2) + sinh(lamb*n)*cosh(lamb) - sinh(lamb*n))*sinh(lamb/2)*cosh(lamb*n/2)/(sinh(lamb*n)*cosh(lamb))"
      ]
     },
     "metadata": {},
     "output_type": "display_data"
    },
    {
     "name": "stdout",
     "output_type": "stream",
     "text": [
      "1.77375328568449\n"
     ]
    }
   ],
   "source": [
    "display(denom_2_simplified)\n",
    "print(denom_2_simplified.evalf(subs = {n: 7, p: 5, q: 2, lamb: 0.69, alpha_prime: 1/(2 *cosh(lamb)) }))"
   ]
  },
  {
   "cell_type": "code",
   "execution_count": 230,
   "metadata": {},
   "outputs": [
    {
     "data": {
      "text/latex": [
       "$\\displaystyle - \\frac{2 \\left(\\sinh{\\left(lamb \\left(\\frac{p}{2} + \\frac{q}{2} - 0.5\\right) \\right)} \\cosh{\\left(lamb \\left(n - p + 0.5\\right) \\right)} + \\sinh{\\left(lamb \\left(n - \\frac{p}{2} - \\frac{q}{2} + 0.5\\right) \\right)} \\cosh{\\left(lamb \\left(q - 0.5\\right) \\right)}\\right) \\sinh{\\left(lamb \\left(- \\frac{p}{2} + \\frac{q}{2}\\right) \\right)} \\tanh{\\left(\\frac{lamb}{2} \\right)}}{\\sinh{\\left(lamb n \\right)} \\cosh{\\left(lamb \\right)}} + 1 - \\frac{1}{\\cosh{\\left(lamb \\right)}}$"
      ],
      "text/plain": [
       "-2*(sinh(lamb*(p/2 + q/2 - 0.5))*cosh(lamb*(n - p + 0.5)) + sinh(lamb*(n - p/2 - q/2 + 0.5))*cosh(lamb*(q - 0.5)))*sinh(lamb*(-p/2 + q/2))*tanh(lamb/2)/(sinh(lamb*n)*cosh(lamb)) + 1 - 1/cosh(lamb)"
      ]
     },
     "metadata": {},
     "output_type": "display_data"
    },
    {
     "name": "stdout",
     "output_type": "stream",
     "text": [
      "0.446906661018919\n"
     ]
    },
    {
     "data": {
      "text/latex": [
       "$\\displaystyle 2 \\left(- \\frac{2 \\left(\\sinh{\\left(lamb \\left(\\frac{p}{2} + \\frac{q}{2} - 0.5\\right) \\right)} \\cosh{\\left(lamb \\left(n - p + 0.5\\right) \\right)} + \\sinh{\\left(lamb \\left(n - \\frac{p}{2} - \\frac{q}{2} + 0.5\\right) \\right)} \\cosh{\\left(lamb \\left(q - 0.5\\right) \\right)}\\right) \\sinh{\\left(lamb \\left(- \\frac{p}{2} + \\frac{q}{2}\\right) \\right)} \\tanh{\\left(\\frac{lamb}{2} \\right)}}{\\sinh{\\left(lamb n \\right)} \\cosh{\\left(lamb \\right)}} + 1 - \\frac{1}{\\cosh{\\left(lamb \\right)}}\\right) \\sinh{\\left(\\frac{lamb}{2} \\right)} \\cosh{\\left(\\frac{lamb n}{2} \\right)}$"
      ],
      "text/plain": [
       "2*(-2*(sinh(lamb*(p/2 + q/2 - 0.5))*cosh(lamb*(n - p + 0.5)) + sinh(lamb*(n - p/2 - q/2 + 0.5))*cosh(lamb*(q - 0.5)))*sinh(lamb*(-p/2 + q/2))*tanh(lamb/2)/(sinh(lamb*n)*cosh(lamb)) + 1 - 1/cosh(lamb))*sinh(lamb/2)*cosh(lamb*n/2)"
      ]
     },
     "metadata": {},
     "output_type": "display_data"
    },
    {
     "name": "stdout",
     "output_type": "stream",
     "text": [
      "1.77375328568449\n",
      "1.77375328568449\n"
     ]
    }
   ],
   "source": [
    "#Establishing terms\n",
    "display(denom)\n",
    "print(denom.evalf(subs = {n: 7, p: 5, q: 2, lamb: 0.69, alpha_prime: 1/(2 *cosh(lamb)) }))\n",
    "display(denom_2)\n",
    "print(denom_2.evalf(subs = {n: 7, p: 5, q: 2, lamb: 0.69, alpha_prime: 1/(2 *cosh(lamb)) }))\n",
    "print(denom_part.evalf(subs = {n: 7, p: 5, q: 2, lamb: 0.69, alpha_prime: 1/(2 *cosh(lamb)) }) * denom.evalf(subs = {n: 7, p: 5, q: 2, lamb: 0.69, alpha_prime: 1/(2 *cosh(lamb)) }))"
   ]
  },
  {
   "cell_type": "code",
   "execution_count": 231,
   "metadata": {},
   "outputs": [],
   "source": [
    "#checking first branch where we take denom * denom_part\n"
   ]
  },
  {
   "cell_type": "code",
   "execution_count": 232,
   "metadata": {},
   "outputs": [
    {
     "name": "stdout",
     "output_type": "stream",
     "text": [
      "0.446906661018919\n",
      "1.77375328568449\n",
      "-0.0138269637154356\n",
      "term1 is correct\n"
     ]
    }
   ],
   "source": [
    "#checking term 1\n",
    "term1 = denom_part * (\n",
    "    1 - 2 * alpha_prime_sub - \n",
    "    (4 * alpha_prime_sub * (tanh(lamb/2) / sinh(lamb * n) * D_sim))\n",
    ")\n",
    "print(denom.evalf(subs = {n: 7, p: 5, q: 2, lamb: 0.69, alpha_prime: 1/(2 *cosh(lamb)) }))\n",
    "denom_2 = denom * denom_part\n",
    "print(denom_2.evalf(subs = {n: 7, p: 5, q: 2, lamb: 0.69, alpha_prime: 1/(2 *cosh(lamb)) }))\n",
    "print(term1.evalf(subs = {n: 7, p: 5, q: 2, lamb: 0.69, alpha_prime: 1/(2 *cosh(lamb)) }))\n",
    "\n",
    "print('term1 is correct')"
   ]
  },
  {
   "cell_type": "code",
   "execution_count": 233,
   "metadata": {},
   "outputs": [
    {
     "name": "stdout",
     "output_type": "stream",
     "text": [
      "1.77375328568449\n",
      "-0.0138269637154356\n",
      "term2 is correct\n"
     ]
    }
   ],
   "source": [
    "#checking term 2\n",
    "term2 = 2 * cosh(n/2 * lamb) * sinh(lamb/2) * (\n",
    "    (cosh(lamb)/cosh(lamb) - 2 * alpha_prime_sub - 4 * alpha_prime_sub * (tanh(lamb/2) / sinh(lamb * n) * D_sim))\n",
    ")\n",
    "print(denom_2.evalf(subs = {n: 7, p: 5, q: 2, lamb: 0.69, alpha_prime: 1/(2 *cosh(lamb)) }))\n",
    "print(term2.evalf(subs = {n: 7, p: 5, q: 2, lamb: 0.69, alpha_prime: 1/(2 *cosh(lamb)) }))\n",
    "\n",
    "print('term2 is correct')"
   ]
  },
  {
   "cell_type": "code",
   "execution_count": 234,
   "metadata": {},
   "outputs": [
    {
     "name": "stdout",
     "output_type": "stream",
     "text": [
      "1.77375328568449\n",
      "-0.0138269637154356\n"
     ]
    },
    {
     "data": {
      "text/latex": [
       "$\\displaystyle 2 \\left(- \\frac{2 \\left(\\sinh{\\left(lamb \\left(\\frac{p}{2} + \\frac{q}{2} - 0.5\\right) \\right)} \\cosh{\\left(lamb \\left(n - p + 0.5\\right) \\right)} + \\sinh{\\left(lamb \\left(n - \\frac{p}{2} - \\frac{q}{2} + 0.5\\right) \\right)} \\cosh{\\left(lamb \\left(q - 0.5\\right) \\right)}\\right) \\tanh{\\left(\\frac{lamb}{2} \\right)}}{\\sinh{\\left(lamb n \\right)} \\cosh{\\left(lamb \\right)}} + 1 - \\frac{1}{\\cosh{\\left(lamb \\right)}}\\right) \\sinh{\\left(\\frac{lamb}{2} \\right)} \\cosh{\\left(\\frac{lamb n}{2} \\right)}$"
      ],
      "text/plain": [
       "2*(-2*(sinh(lamb*(p/2 + q/2 - 0.5))*cosh(lamb*(n - p + 0.5)) + sinh(lamb*(n - p/2 - q/2 + 0.5))*cosh(lamb*(q - 0.5)))*tanh(lamb/2)/(sinh(lamb*n)*cosh(lamb)) + 1 - 1/cosh(lamb))*sinh(lamb/2)*cosh(lamb*n/2)"
      ]
     },
     "metadata": {},
     "output_type": "display_data"
    },
    {
     "name": "stdout",
     "output_type": "stream",
     "text": [
      "term3 is correct\n"
     ]
    }
   ],
   "source": [
    "# alpha_prime_sub = ( 1 / (2 * cosh(lamb)) )\n",
    "\n",
    "#checking term 3\n",
    "term3 = 2 * cosh(n/2 * lamb) * sinh(lamb/2) * (\n",
    "    (cosh(lamb)/cosh(lamb) - 2 * ( 1 / (2 * cosh(lamb)) )\n",
    " - 4 * ( 1 / (2 * cosh(lamb)) ) * (tanh(lamb/2) / sinh(lamb * n) * D_sim))\n",
    ")\n",
    "print(denom_2.evalf(subs = {n: 7, p: 5, q: 2, lamb: 0.69, alpha_prime: 1/(2 *cosh(lamb)) }))\n",
    "print(term3.evalf(subs = {n: 7, p: 5, q: 2, lamb: 0.69, alpha_prime: 1/(2 *cosh(lamb)) }))\n",
    "\n",
    "display(term3)\n",
    "\n",
    "print('term3 is correct')"
   ]
  },
  {
   "cell_type": "code",
   "execution_count": 235,
   "metadata": {},
   "outputs": [
    {
     "name": "stdout",
     "output_type": "stream",
     "text": [
      "1.77375328568449\n",
      "-0.0138269637154356\n"
     ]
    },
    {
     "data": {
      "text/latex": [
       "$\\displaystyle - \\frac{4 \\left(\\sinh{\\left(lamb \\left(\\frac{p}{2} + \\frac{q}{2} - 0.5\\right) \\right)} \\cosh{\\left(lamb \\left(n - p + 0.5\\right) \\right)} + \\sinh{\\left(lamb \\left(n - \\frac{p}{2} - \\frac{q}{2} + 0.5\\right) \\right)} \\cosh{\\left(lamb \\left(q - 0.5\\right) \\right)}\\right) \\sinh{\\left(\\frac{lamb}{2} \\right)} \\cosh{\\left(\\frac{lamb n}{2} \\right)} \\tanh{\\left(\\frac{lamb}{2} \\right)}}{\\sinh{\\left(lamb n \\right)} \\cosh{\\left(lamb \\right)}} + 2 \\sinh{\\left(\\frac{lamb}{2} \\right)} \\cosh{\\left(\\frac{lamb n}{2} \\right)} - \\frac{2 \\sinh{\\left(\\frac{lamb}{2} \\right)} \\cosh{\\left(\\frac{lamb n}{2} \\right)}}{\\cosh{\\left(lamb \\right)}}$"
      ],
      "text/plain": [
       "-4*(sinh(lamb*(p/2 + q/2 - 0.5))*cosh(lamb*(n - p + 0.5)) + sinh(lamb*(n - p/2 - q/2 + 0.5))*cosh(lamb*(q - 0.5)))*sinh(lamb/2)*cosh(lamb*n/2)*tanh(lamb/2)/(sinh(lamb*n)*cosh(lamb)) + 2*sinh(lamb/2)*cosh(lamb*n/2) - 2*sinh(lamb/2)*cosh(lamb*n/2)/cosh(lamb)"
      ]
     },
     "metadata": {},
     "output_type": "display_data"
    },
    {
     "name": "stdout",
     "output_type": "stream",
     "text": [
      "term3.1 is correct\n"
     ]
    }
   ],
   "source": [
    "# alpha_prime_sub = ( 1 / (2 * cosh(lamb)) )\n",
    "\n",
    "#checking term 3.1\n",
    "term31 =  (\n",
    "    (2 * cosh(n/2 * lamb) * sinh(lamb/2) * cosh(lamb)/cosh(lamb) - 2 * 2 * cosh(n/2 * lamb) * sinh(lamb/2) * ( 1 / (2 * cosh(lamb)) )\n",
    " - 4 * 2 * cosh(n/2 * lamb) * sinh(lamb/2) * ( 1 / (2 * cosh(lamb)) ) * (tanh(lamb/2) / sinh(lamb * n) * D_sim))\n",
    ")\n",
    "print(denom_2.evalf(subs = {n: 7, p: 5, q: 2, lamb: 0.69, alpha_prime: 1/(2 *cosh(lamb)) }))\n",
    "print(term31.evalf(subs = {n: 7, p: 5, q: 2, lamb: 0.69, alpha_prime: 1/(2 *cosh(lamb)) }))\n",
    "\n",
    "display(term31)\n",
    "\n",
    "print('term3.1 is correct')"
   ]
  },
  {
   "cell_type": "code",
   "execution_count": 236,
   "metadata": {},
   "outputs": [
    {
     "name": "stdout",
     "output_type": "stream",
     "text": [
      "1.77375328568449\n",
      "-0.0138269637154356\n"
     ]
    },
    {
     "data": {
      "text/latex": [
       "$\\displaystyle - \\frac{4 \\left(\\sinh{\\left(lamb \\left(\\frac{p}{2} + \\frac{q}{2} - 0.5\\right) \\right)} \\cosh{\\left(lamb \\left(n - p + 0.5\\right) \\right)} + \\sinh{\\left(lamb \\left(n - \\frac{p}{2} - \\frac{q}{2} + 0.5\\right) \\right)} \\cosh{\\left(lamb \\left(q - 0.5\\right) \\right)}\\right) \\sinh{\\left(\\frac{lamb}{2} \\right)} \\cosh{\\left(\\frac{lamb n}{2} \\right)} \\tanh{\\left(\\frac{lamb}{2} \\right)}}{\\sinh{\\left(lamb n \\right)} \\cosh{\\left(lamb \\right)}} + 2 \\sinh{\\left(\\frac{lamb}{2} \\right)} \\cosh{\\left(\\frac{lamb n}{2} \\right)} - \\frac{2 \\sinh{\\left(\\frac{lamb}{2} \\right)} \\cosh{\\left(\\frac{lamb n}{2} \\right)}}{\\cosh{\\left(lamb \\right)}}$"
      ],
      "text/plain": [
       "-4*(sinh(lamb*(p/2 + q/2 - 0.5))*cosh(lamb*(n - p + 0.5)) + sinh(lamb*(n - p/2 - q/2 + 0.5))*cosh(lamb*(q - 0.5)))*sinh(lamb/2)*cosh(lamb*n/2)*tanh(lamb/2)/(sinh(lamb*n)*cosh(lamb)) + 2*sinh(lamb/2)*cosh(lamb*n/2) - 2*sinh(lamb/2)*cosh(lamb*n/2)/cosh(lamb)"
      ]
     },
     "metadata": {},
     "output_type": "display_data"
    },
    {
     "name": "stdout",
     "output_type": "stream",
     "text": [
      "term3.2 is correct\n"
     ]
    }
   ],
   "source": [
    "# alpha_prime_sub = ( 1 / (2 * cosh(lamb)) )\n",
    "\n",
    "#checking term 3.2\n",
    "term32 =  (\n",
    "    2 * cosh(n/2 * lamb) * sinh(lamb/2) * cosh(lamb) / cosh(lamb) \n",
    "    - 2 * cosh(n/2 * lamb) * sinh(lamb/2) / cosh(lamb)  \n",
    " - ( 2 * 2 * cosh(n/2 * lamb) * sinh(lamb/2) / cosh(lamb) ) * (tanh(lamb/2) / sinh(lamb * n) * D_sim)\n",
    " )\n",
    "\n",
    "print(denom_2.evalf(subs = {n: 7, p: 5, q: 2, lamb: 0.69, alpha_prime: 1/(2 *cosh(lamb)) }))\n",
    "print(term32.evalf(subs = {n: 7, p: 5, q: 2, lamb: 0.69, alpha_prime: 1/(2 *cosh(lamb)) }))\n",
    "\n",
    "display(term32)\n",
    "\n",
    "print('term3.2 is correct')"
   ]
  },
  {
   "cell_type": "code",
   "execution_count": 237,
   "metadata": {},
   "outputs": [
    {
     "name": "stdout",
     "output_type": "stream",
     "text": [
      "1.77375328568449\n",
      "-0.0138269637154356\n"
     ]
    },
    {
     "data": {
      "text/latex": [
       "$\\displaystyle - \\frac{4 \\left(\\sinh{\\left(lamb \\left(\\frac{p}{2} + \\frac{q}{2} - 0.5\\right) \\right)} \\cosh{\\left(lamb \\left(n - p + 0.5\\right) \\right)} + \\sinh{\\left(lamb \\left(n - \\frac{p}{2} - \\frac{q}{2} + 0.5\\right) \\right)} \\cosh{\\left(lamb \\left(q - 0.5\\right) \\right)}\\right) \\sinh{\\left(\\frac{lamb}{2} \\right)} \\cosh{\\left(\\frac{lamb n}{2} \\right)} \\tanh{\\left(\\frac{lamb}{2} \\right)}}{\\sinh{\\left(lamb n \\right)} \\cosh{\\left(lamb \\right)}} + \\frac{2 \\left(\\cosh{\\left(lamb \\right)} - 1\\right) \\sinh{\\left(\\frac{lamb}{2} \\right)} \\cosh{\\left(\\frac{lamb n}{2} \\right)}}{\\cosh{\\left(lamb \\right)}}$"
      ],
      "text/plain": [
       "-4*(sinh(lamb*(p/2 + q/2 - 0.5))*cosh(lamb*(n - p + 0.5)) + sinh(lamb*(n - p/2 - q/2 + 0.5))*cosh(lamb*(q - 0.5)))*sinh(lamb/2)*cosh(lamb*n/2)*tanh(lamb/2)/(sinh(lamb*n)*cosh(lamb)) + 2*(cosh(lamb) - 1)*sinh(lamb/2)*cosh(lamb*n/2)/cosh(lamb)"
      ]
     },
     "metadata": {},
     "output_type": "display_data"
    },
    {
     "name": "stdout",
     "output_type": "stream",
     "text": [
      "term3.3 is correct\n"
     ]
    }
   ],
   "source": [
    "# alpha_prime_sub = ( 1 / (2 * cosh(lamb)) )\n",
    "\n",
    "#checking term 3.3\n",
    "term33 =  (\n",
    "    2 * cosh(n/2 * lamb) * sinh(lamb/2) * ( cosh(lamb) - 1 ) / cosh(lamb)   \n",
    " - ( 2 * 2 * cosh(n/2 * lamb) * sinh(lamb/2) / cosh(lamb) ) * (tanh(lamb/2) / sinh(lamb * n) * D_sim)\n",
    " )\n",
    "\n",
    "print(denom_2.evalf(subs = {n: 7, p: 5, q: 2, lamb: 0.69, alpha_prime: 1/(2 *cosh(lamb)) }))\n",
    "print(term33.evalf(subs = {n: 7, p: 5, q: 2, lamb: 0.69, alpha_prime: 1/(2 *cosh(lamb)) }))\n",
    "\n",
    "display(term33)\n",
    "\n",
    "print('term3.3 is correct')"
   ]
  },
  {
   "cell_type": "code",
   "execution_count": 238,
   "metadata": {},
   "outputs": [
    {
     "name": "stdout",
     "output_type": "stream",
     "text": [
      "1.77375328568449\n",
      "-0.0138269637154356\n"
     ]
    },
    {
     "data": {
      "text/latex": [
       "$\\displaystyle 2 \\left(- \\frac{2 \\left(\\sinh{\\left(lamb \\left(\\frac{p}{2} + \\frac{q}{2} - 0.5\\right) \\right)} \\cosh{\\left(lamb \\left(n - p + 0.5\\right) \\right)} + \\sinh{\\left(lamb \\left(n - \\frac{p}{2} - \\frac{q}{2} + 0.5\\right) \\right)} \\cosh{\\left(lamb \\left(q - 0.5\\right) \\right)}\\right) \\sinh{\\left(\\frac{lamb}{2} \\right)} \\cosh{\\left(\\frac{lamb n}{2} \\right)}}{\\sinh{\\left(lamb n \\right)} \\cosh{\\left(lamb \\right)}} + \\frac{\\sinh{\\left(\\frac{lamb}{2} \\right)} \\sinh{\\left(lamb \\right)} \\cosh{\\left(\\frac{lamb n}{2} \\right)}}{\\cosh{\\left(lamb \\right)}}\\right) \\tanh{\\left(\\frac{lamb}{2} \\right)}$"
      ],
      "text/plain": [
       "2*(-2*(sinh(lamb*(p/2 + q/2 - 0.5))*cosh(lamb*(n - p + 0.5)) + sinh(lamb*(n - p/2 - q/2 + 0.5))*cosh(lamb*(q - 0.5)))*sinh(lamb/2)*cosh(lamb*n/2)/(sinh(lamb*n)*cosh(lamb)) + sinh(lamb/2)*sinh(lamb)*cosh(lamb*n/2)/cosh(lamb))*tanh(lamb/2)"
      ]
     },
     "metadata": {},
     "output_type": "display_data"
    },
    {
     "name": "stdout",
     "output_type": "stream",
     "text": [
      "term3.4 is correct\n"
     ]
    }
   ],
   "source": [
    "# alpha_prime_sub = ( 1 / (2 * cosh(lamb)) )\n",
    "\n",
    "#checking term 3.4\n",
    "term34 =  (\n",
    "    (2 * tanh(lamb/2)) * \n",
    "( \n",
    "        \n",
    "     cosh(n/2 * lamb) * sinh(lamb/2) * sinh(lamb) / cosh(lamb)   \n",
    " - ( 2 * cosh(n/2 * lamb) * sinh(lamb/2) / cosh(lamb) ) * (1 / sinh(lamb * n) * D_sim)\n",
    ")\n",
    " )\n",
    "\n",
    "print(denom_2.evalf(subs = {n: 7, p: 5, q: 2, lamb: 0.69, alpha_prime: 1/(2 *cosh(lamb)) }))\n",
    "print(term34.evalf(subs = {n: 7, p: 5, q: 2, lamb: 0.69, alpha_prime: 1/(2 *cosh(lamb)) }))\n",
    "\n",
    "display(term34)\n",
    "\n",
    "print('term3.4 is correct')"
   ]
  },
  {
   "cell_type": "code",
   "execution_count": 239,
   "metadata": {},
   "outputs": [
    {
     "name": "stdout",
     "output_type": "stream",
     "text": [
      "1.77375328568449\n",
      "-0.0138269637154356\n"
     ]
    },
    {
     "data": {
      "text/latex": [
       "$\\displaystyle \\frac{2 \\left(- 2 \\left(\\sinh{\\left(lamb \\left(\\frac{p}{2} + \\frac{q}{2} - 0.5\\right) \\right)} \\cosh{\\left(lamb \\left(n - p + 0.5\\right) \\right)} + \\sinh{\\left(lamb \\left(n - \\frac{p}{2} - \\frac{q}{2} + 0.5\\right) \\right)} \\cosh{\\left(lamb \\left(q - 0.5\\right) \\right)}\\right) \\sinh{\\left(\\frac{lamb}{2} \\right)} \\cosh{\\left(\\frac{lamb n}{2} \\right)} + \\sinh{\\left(\\frac{lamb}{2} \\right)} \\sinh{\\left(lamb \\right)} \\sinh{\\left(lamb n \\right)} \\cosh{\\left(\\frac{lamb n}{2} \\right)}\\right) \\tanh{\\left(\\frac{lamb}{2} \\right)}}{\\sinh{\\left(lamb n \\right)} \\cosh{\\left(lamb \\right)}}$"
      ],
      "text/plain": [
       "2*(-2*(sinh(lamb*(p/2 + q/2 - 0.5))*cosh(lamb*(n - p + 0.5)) + sinh(lamb*(n - p/2 - q/2 + 0.5))*cosh(lamb*(q - 0.5)))*sinh(lamb/2)*cosh(lamb*n/2) + sinh(lamb/2)*sinh(lamb)*sinh(lamb*n)*cosh(lamb*n/2))*tanh(lamb/2)/(sinh(lamb*n)*cosh(lamb))"
      ]
     },
     "metadata": {},
     "output_type": "display_data"
    },
    {
     "name": "stdout",
     "output_type": "stream",
     "text": [
      "term3.5 is correct\n"
     ]
    }
   ],
   "source": [
    "# alpha_prime_sub = ( 1 / (2 * cosh(lamb)) )\n",
    "\n",
    "#checking term 3.5\n",
    "term35 =  (\n",
    "    (2 * tanh(lamb/2)) * \n",
    "( \n",
    "     ( sinh(lamb) * cosh(n/2 * lamb) * sinh(lamb/2)  * sinh(lamb * n) -  2 * cosh(n/2 * lamb) * sinh(lamb/2) * D_sim)\n",
    "     / ( cosh(lamb) * sinh(lamb * n) )\n",
    ")\n",
    " )\n",
    "\n",
    "print(denom_2.evalf(subs = {n: 7, p: 5, q: 2, lamb: 0.69, alpha_prime: 1/(2 *cosh(lamb)) }))\n",
    "print(term35.evalf(subs = {n: 7, p: 5, q: 2, lamb: 0.69, alpha_prime: 1/(2 *cosh(lamb)) }))\n",
    "\n",
    "display(term35)\n",
    "\n",
    "print('term3.5 is correct')"
   ]
  },
  {
   "cell_type": "code",
   "execution_count": 240,
   "metadata": {},
   "outputs": [
    {
     "name": "stdout",
     "output_type": "stream",
     "text": [
      "0.746069732088513\n"
     ]
    }
   ],
   "source": [
    "print(sinh(lamb).evalf(subs = {n: 7, p: 5, q: 2, lamb: 0.69, alpha_prime: 1/(2 *cosh(lamb)) }))"
   ]
  },
  {
   "cell_type": "code",
   "execution_count": 241,
   "metadata": {},
   "outputs": [
    {
     "name": "stdout",
     "output_type": "stream",
     "text": [
      "1.77375328568449\n",
      "-0.0138269637154356\n"
     ]
    },
    {
     "data": {
      "text/latex": [
       "$\\displaystyle \\frac{2 \\left(\\sinh{\\left(lamb \\right)} \\sinh{\\left(lamb n \\right)} - 2 \\sinh{\\left(lamb \\left(\\frac{p}{2} + \\frac{q}{2} - 0.5\\right) \\right)} \\cosh{\\left(lamb \\left(n - p + 0.5\\right) \\right)} - 2 \\sinh{\\left(lamb \\left(n - \\frac{p}{2} - \\frac{q}{2} + 0.5\\right) \\right)} \\cosh{\\left(lamb \\left(q - 0.5\\right) \\right)}\\right) \\sinh{\\left(\\frac{lamb}{2} \\right)} \\cosh{\\left(\\frac{lamb n}{2} \\right)} \\tanh{\\left(\\frac{lamb}{2} \\right)}}{\\sinh{\\left(lamb n \\right)} \\cosh{\\left(lamb \\right)}}$"
      ],
      "text/plain": [
       "2*(sinh(lamb)*sinh(lamb*n) - 2*sinh(lamb*(p/2 + q/2 - 0.5))*cosh(lamb*(n - p + 0.5)) - 2*sinh(lamb*(n - p/2 - q/2 + 0.5))*cosh(lamb*(q - 0.5)))*sinh(lamb/2)*cosh(lamb*n/2)*tanh(lamb/2)/(sinh(lamb*n)*cosh(lamb))"
      ]
     },
     "metadata": {},
     "output_type": "display_data"
    },
    {
     "name": "stdout",
     "output_type": "stream",
     "text": [
      "term3.6 is correct\n"
     ]
    }
   ],
   "source": [
    "# alpha_prime_sub = ( 1 / (2 * cosh(lamb)) )\n",
    "\n",
    "#checking term 3.6\n",
    "term36 =  (\n",
    "    (2 * tanh(lamb/2)) * ( cosh(n/2 * lamb) * sinh(lamb/2) ) * \n",
    "( \n",
    "     ( sinh(lamb) * sinh(lamb * n) -  2 * D_sim)\n",
    "     / ( cosh(lamb) * sinh(lamb * n) )\n",
    ")\n",
    " )\n",
    "\n",
    "print(denom_2.evalf(subs = {n: 7, p: 5, q: 2, lamb: 0.69, alpha_prime: 1/(2 *cosh(lamb)) }))\n",
    "print(term36.evalf(subs = {n: 7, p: 5, q: 2, lamb: 0.69, alpha_prime: 1/(2 *cosh(lamb)) }))\n",
    "\n",
    "display(term36)\n",
    "\n",
    "print('term3.6 is correct')"
   ]
  },
  {
   "cell_type": "code",
   "execution_count": 242,
   "metadata": {},
   "outputs": [
    {
     "data": {
      "text/latex": [
       "$\\displaystyle 2 \\left(- \\frac{2 \\left(\\sinh{\\left(lamb \\left(\\frac{p}{2} + \\frac{q}{2} - 0.5\\right) \\right)} \\cosh{\\left(lamb \\left(n - p + 0.5\\right) \\right)} + \\sinh{\\left(lamb \\left(n - \\frac{p}{2} - \\frac{q}{2} + 0.5\\right) \\right)} \\cosh{\\left(lamb \\left(q - 0.5\\right) \\right)}\\right) \\sinh{\\left(lamb \\left(- \\frac{p}{2} + \\frac{q}{2}\\right) \\right)} \\tanh{\\left(\\frac{lamb}{2} \\right)}}{\\sinh{\\left(lamb n \\right)} \\cosh{\\left(lamb \\right)}} + 1 - \\frac{1}{\\cosh{\\left(lamb \\right)}}\\right) \\sinh{\\left(\\frac{lamb}{2} \\right)} \\cosh{\\left(\\frac{lamb n}{2} \\right)}$"
      ],
      "text/plain": [
       "2*(-2*(sinh(lamb*(p/2 + q/2 - 0.5))*cosh(lamb*(n - p + 0.5)) + sinh(lamb*(n - p/2 - q/2 + 0.5))*cosh(lamb*(q - 0.5)))*sinh(lamb*(-p/2 + q/2))*tanh(lamb/2)/(sinh(lamb*n)*cosh(lamb)) + 1 - 1/cosh(lamb))*sinh(lamb/2)*cosh(lamb*n/2)"
      ]
     },
     "metadata": {},
     "output_type": "display_data"
    },
    {
     "data": {
      "text/latex": [
       "$\\displaystyle 1 + \\frac{- \\sinh{\\left(lamb \\left(\\frac{n}{2} - p + \\frac{1}{2}\\right) \\right)} + \\sinh{\\left(lamb \\left(\\frac{n}{2} - q + \\frac{1}{2}\\right) \\right)}}{- \\sinh{\\left(lamb \\left(\\frac{n}{2} - \\frac{1}{2}\\right) \\right)} + \\sinh{\\left(lamb \\left(\\frac{n}{2} + \\frac{1}{2}\\right) \\right)}}$"
      ],
      "text/plain": [
       "1 + (-sinh(lamb*(n/2 - p + 1/2)) + sinh(lamb*(n/2 - q + 1/2)))/(-sinh(lamb*(n/2 - 1/2)) + sinh(lamb*(n/2 + 1/2)))"
      ]
     },
     "metadata": {},
     "output_type": "display_data"
    },
    {
     "ename": "NameError",
     "evalue": "name 'num3' is not defined",
     "output_type": "error",
     "traceback": [
      "\u001b[1;31m---------------------------------------------------------------------------\u001b[0m",
      "\u001b[1;31mNameError\u001b[0m                                 Traceback (most recent call last)",
      "Cell \u001b[1;32mIn[242], line 16\u001b[0m\n\u001b[0;32m     14\u001b[0m display(denom_2)\n\u001b[0;32m     15\u001b[0m display(num)\n\u001b[1;32m---> 16\u001b[0m display(sp\u001b[38;5;241m.\u001b[39msimplify(num3 \u001b[38;5;241m/\u001b[39m denom_part))\n\u001b[0;32m     17\u001b[0m \u001b[38;5;66;03m#verified that num3 = num * denom_part\u001b[39;00m\n\u001b[0;32m     18\u001b[0m \u001b[38;5;66;03m#verified that denom_2 = denom * denom_part\u001b[39;00m\n\u001b[0;32m     19\u001b[0m \u001b[38;5;66;03m#check num3 / denom_2 = num/denom (should be correct regardless)\u001b[39;00m\n\u001b[0;32m     21\u001b[0m c_1 \u001b[38;5;241m=\u001b[39m num \u001b[38;5;241m/\u001b[39m denom\n",
      "\u001b[1;31mNameError\u001b[0m: name 'num3' is not defined"
     ]
    },
    {
     "ename": "",
     "evalue": "",
     "output_type": "error",
     "traceback": [
      "\u001b[1;31mThe Kernel crashed while executing code in the current cell or a previous cell. \n",
      "\u001b[1;31mPlease review the code in the cell(s) to identify a possible cause of the failure. \n",
      "\u001b[1;31mClick <a href='https://aka.ms/vscodeJupyterKernelCrash'>here</a> for more info. \n",
      "\u001b[1;31mView Jupyter <a href='command:jupyter.viewOutput'>log</a> for further details."
     ]
    }
   ],
   "source": [
    "D_sim = (\n",
    "        (cosh((q - 1 / 2) * lamb) * sinh((n - ((p + q) / 2 - 1 / 2)) * lamb)) +\n",
    "        (cosh((n - p + 1 / 2) * lamb) * sinh(((p + q) / 2 - 1 / 2) * lamb))\n",
    "    )\n",
    "\n",
    "term36 =  (\n",
    "    (2 * tanh(lamb/2)) * ( cosh(n/2 * lamb) * sinh(lamb/2) ) * \n",
    "( \n",
    "     ( sinh(lamb) * sinh(lamb * n) -  2 * D_sim)\n",
    "     / ( cosh(lamb) * sinh(lamb * n) )\n",
    ")\n",
    " )\n",
    "\n",
    "display(denom_2)\n",
    "display(num)\n",
    "display(sp.simplify(num3 / denom_part))\n",
    "#verified that num3 = num * denom_part\n",
    "#verified that denom_2 = denom * denom_part\n",
    "#check num3 / denom_2 = num/denom (should be correct regardless)\n",
    "\n",
    "c_1 = num / denom\n",
    "c_2 = num3 / denom_2\n",
    "c_3 = num3 / term36\n",
    "print(c_1.evalf(subs = {n: 7, p: 5, q: 2, lamb: acosh(1/.8), alpha_prime: 0.4 }))\n",
    "print(c_2.evalf(subs = {n: 7, p: 5, q: 2, lamb: acosh(1/.8), alpha_prime: 0.4 }))\n",
    "print(c_3.evalf(subs = {n: 7, p: 5, q: 2, lamb: acosh(1/.8), alpha_prime: 0.4 }))"
   ]
  },
  {
   "cell_type": "code",
   "execution_count": null,
   "metadata": {},
   "outputs": [
    {
     "data": {
      "text/latex": [
       "$\\displaystyle 2 \\left(- \\frac{4 \\alpha_{prime} \\left(\\sinh{\\left(lamb \\left(\\frac{p}{2} + \\frac{q}{2} - 0.5\\right) \\right)} \\cosh{\\left(lamb \\left(n - p + 0.5\\right) \\right)} + \\sinh{\\left(lamb \\left(n - \\frac{p}{2} - \\frac{q}{2} + 0.5\\right) \\right)} \\cosh{\\left(lamb \\left(q - 0.5\\right) \\right)}\\right) \\tanh{\\left(\\frac{lamb}{2} \\right)}}{\\sinh{\\left(lamb n \\right)}} - 2 \\alpha_{prime} + 1\\right) \\sinh{\\left(\\frac{lamb}{2} \\right)} \\cosh{\\left(\\frac{lamb n}{2} \\right)}$"
      ],
      "text/plain": [
       "  ⎛           ⎛    ⎛     ⎛p   q      ⎞⎞                                ⎛     ⎛\n",
       "  ⎜  4⋅αₚᵣᵢₘₑ⋅⎜sinh⎜lamb⋅⎜─ + ─ - 0.5⎟⎟⋅cosh(lamb⋅(n - p + 0.5)) + sinh⎜lamb⋅⎜\n",
       "  ⎜           ⎝    ⎝     ⎝2   2      ⎠⎠                                ⎝     ⎝\n",
       "2⋅⎜- ─────────────────────────────────────────────────────────────────────────\n",
       "  ⎝                                                          sinh(lamb⋅n)     \n",
       "\n",
       "    p   q      ⎞⎞                     ⎞     ⎛lamb⎞               ⎞            \n",
       "n - ─ - ─ + 0.5⎟⎟⋅cosh(lamb⋅(q - 0.5))⎟⋅tanh⎜────⎟               ⎟            \n",
       "    2   2      ⎠⎠                     ⎠     ⎝ 2  ⎠               ⎟     ⎛lamb⎞ \n",
       "────────────────────────────────────────────────── - 2⋅αₚᵣᵢₘₑ + 1⎟⋅sinh⎜────⎟⋅\n",
       "                                                                 ⎠     ⎝ 2  ⎠ \n",
       "\n",
       "            \n",
       "            \n",
       "    ⎛lamb⋅n⎞\n",
       "cosh⎜──────⎟\n",
       "    ⎝  2   ⎠"
      ]
     },
     "metadata": {},
     "output_type": "display_data"
    },
    {
     "data": {
      "text/latex": [
       "$\\displaystyle 1 + \\frac{- \\sinh{\\left(lamb \\left(\\frac{n}{2} - p + \\frac{1}{2}\\right) \\right)} + \\sinh{\\left(lamb \\left(\\frac{n}{2} - q + \\frac{1}{2}\\right) \\right)}}{- \\sinh{\\left(lamb \\left(\\frac{n}{2} - \\frac{1}{2}\\right) \\right)} + \\sinh{\\left(lamb \\left(\\frac{n}{2} + \\frac{1}{2}\\right) \\right)}}$"
      ],
      "text/plain": [
       "          ⎛     ⎛n       1⎞⎞       ⎛     ⎛n       1⎞⎞\n",
       "    - sinh⎜lamb⋅⎜─ - p + ─⎟⎟ + sinh⎜lamb⋅⎜─ - q + ─⎟⎟\n",
       "          ⎝     ⎝2       2⎠⎠       ⎝     ⎝2       2⎠⎠\n",
       "1 + ─────────────────────────────────────────────────\n",
       "              ⎛     ⎛n   1⎞⎞       ⎛     ⎛n   1⎞⎞    \n",
       "        - sinh⎜lamb⋅⎜─ - ─⎟⎟ + sinh⎜lamb⋅⎜─ + ─⎟⎟    \n",
       "              ⎝     ⎝2   2⎠⎠       ⎝     ⎝2   2⎠⎠    "
      ]
     },
     "metadata": {},
     "output_type": "display_data"
    },
    {
     "data": {
      "text/latex": [
       "$\\displaystyle \\frac{2 \\sinh{\\left(\\frac{lamb}{2} \\right)} \\cosh{\\left(\\frac{lamb n}{2} \\right)} - \\sinh{\\left(lamb \\left(\\frac{n}{2} - p + \\frac{1}{2}\\right) \\right)} + \\sinh{\\left(lamb \\left(\\frac{n}{2} - q + \\frac{1}{2}\\right) \\right)}}{2 \\sinh{\\left(\\frac{lamb}{2} \\right)} \\cosh{\\left(\\frac{lamb n}{2} \\right)}}$"
      ],
      "text/plain": [
       "      ⎛lamb⎞     ⎛lamb⋅n⎞       ⎛     ⎛n       1⎞⎞       ⎛     ⎛n       1⎞⎞\n",
       "2⋅sinh⎜────⎟⋅cosh⎜──────⎟ - sinh⎜lamb⋅⎜─ - p + ─⎟⎟ + sinh⎜lamb⋅⎜─ - q + ─⎟⎟\n",
       "      ⎝ 2  ⎠     ⎝  2   ⎠       ⎝     ⎝2       2⎠⎠       ⎝     ⎝2       2⎠⎠\n",
       "───────────────────────────────────────────────────────────────────────────\n",
       "                               ⎛lamb⎞     ⎛lamb⋅n⎞                         \n",
       "                         2⋅sinh⎜────⎟⋅cosh⎜──────⎟                         \n",
       "                               ⎝ 2  ⎠     ⎝  2   ⎠                         "
      ]
     },
     "metadata": {},
     "output_type": "display_data"
    },
    {
     "name": "stdout",
     "output_type": "stream",
     "text": [
      "-475.642254260227\n",
      "-475.642254260227\n"
     ]
    }
   ],
   "source": [
    "display(denom_2)\n",
    "display(num)\n",
    "display(sp.simplify(num3 / denom_part))\n",
    "#verified that num3 = num * denom_part\n",
    "#verified that denom_2 = denom * denom_part\n",
    "#check num3 / denom_2 = num/denom (should be correct regardless)\n",
    "\n",
    "c_1 = num / denom\n",
    "c_2 = num3 / denom_2\n",
    "print(c_1.evalf(subs = {n: 7, p: 5, q: 2, lamb: 0.69, alpha_prime: 1/(2 *cosh(lamb)) }))\n",
    "print(c_2.evalf(subs = {n: 7, p: 5, q: 2, lamb: 0.69, alpha_prime: 1/(2 *cosh(lamb)) }))"
   ]
  },
  {
   "cell_type": "code",
   "execution_count": null,
   "metadata": {},
   "outputs": [
    {
     "data": {
      "text/latex": [
       "$\\displaystyle - \\left(\\frac{2 D_{sim}}{\\sinh{\\left(lamb n \\right)} \\cosh{\\left(lamb \\right)}} - \\tanh{\\left(lamb \\right)}\\right) \\tanh{\\left(\\frac{lamb}{2} \\right)}$"
      ],
      "text/plain": [
       " ⎛         2⋅Dₛᵢₘ                     ⎞     ⎛lamb⎞\n",
       "-⎜─────────────────────── - tanh(lamb)⎟⋅tanh⎜────⎟\n",
       " ⎝sinh(lamb⋅n)⋅cosh(lamb)             ⎠     ⎝ 2  ⎠"
      ]
     },
     "metadata": {},
     "output_type": "display_data"
    }
   ],
   "source": [
    "D_sim = symbols('D_sim')\n",
    "\n",
    "denom_star = tanh(lamb/2) * (sinh(lamb) * sinh(lamb * n) - 2 * D_sim) / (cosh(lamb) * sinh(lamb * n))\n",
    "display(simplify(denom_star))"
   ]
  },
  {
   "cell_type": "code",
   "execution_count": null,
   "metadata": {},
   "outputs": [
    {
     "data": {
      "text/latex": [
       "$\\displaystyle 1 - \\frac{1}{\\cosh{\\left(lamb \\right)}}$"
      ],
      "text/plain": [
       "        1     \n",
       "1 - ──────────\n",
       "    cosh(lamb)"
      ]
     },
     "metadata": {},
     "output_type": "display_data"
    },
    {
     "name": "stdout",
     "output_type": "stream",
     "text": [
      "0.198490469751429\n",
      "0.198490469751429\n"
     ]
    }
   ],
   "source": [
    "alpha_sub = 1 - 2 * alpha_prime_sub\n",
    "display(alpha_sub)\n",
    "\n",
    "identity = tanh(lamb/2) * tanh(lamb)\n",
    "\n",
    "print(alpha_sub.evalf(subs = {n: 7, p: 5, q: 2, lamb: 0.69, alpha_prime: 1/(2 *cosh(lamb)) }))\n",
    "print(identity.evalf(subs = {n: 7, p: 5, q: 2, lamb: 0.69, alpha_prime: 1/(2 *cosh(lamb)) }))"
   ]
  },
  {
   "cell_type": "code",
   "execution_count": null,
   "metadata": {},
   "outputs": [
    {
     "data": {
      "text/latex": [
       "$\\displaystyle - \\frac{\\left(\\frac{2 D_{sim} \\tanh{\\left(\\frac{lamb}{2} \\right)}}{\\sinh{\\left(lamb n \\right)} \\cosh{\\left(lamb \\right)}} - 1 + \\frac{1}{\\cosh{\\left(lamb \\right)}}\\right) \\tanh{\\left(\\frac{lamb}{2} \\right)}}{\\sinh{\\left(lamb n \\right)} \\cosh{\\left(lamb \\right)}}$"
      ],
      "text/plain": [
       " ⎛              ⎛lamb⎞                    ⎞            \n",
       " ⎜   2⋅Dₛᵢₘ⋅tanh⎜────⎟                    ⎟            \n",
       " ⎜              ⎝ 2  ⎠              1     ⎟     ⎛lamb⎞ \n",
       "-⎜─────────────────────── - 1 + ──────────⎟⋅tanh⎜────⎟ \n",
       " ⎝sinh(lamb⋅n)⋅cosh(lamb)       cosh(lamb)⎠     ⎝ 2  ⎠ \n",
       "───────────────────────────────────────────────────────\n",
       "                sinh(lamb⋅n)⋅cosh(lamb)                "
      ]
     },
     "metadata": {},
     "output_type": "display_data"
    }
   ],
   "source": [
    "#simplify just denom without the denom from rank representations\n",
    "\n",
    "D_sim = symbols('D_sim')\n",
    "\n",
    "denom_star = (alpha_prime_sub) * (2 * tanh(lamb/2) / sinh(lamb * n)) * ( 1 - 2*alpha_prime_sub \n",
    "- (4 * alpha_prime_sub * ( (tanh(lamb / 2)) / sinh(lamb * n) ) * D_sim) \n",
    ")\n",
    "\n",
    "display(simplify(denom_star))"
   ]
  },
  {
   "cell_type": "code",
   "execution_count": null,
   "metadata": {},
   "outputs": [],
   "source": [
    "display"
   ]
  },
  {
   "cell_type": "code",
   "execution_count": null,
   "metadata": {},
   "outputs": [
    {
     "name": "stdout",
     "output_type": "stream",
     "text": [
      "3.70778069546815\n",
      "35.3088154775094\n"
     ]
    }
   ],
   "source": [
    "#calculating end result to see if it matches\n",
    "D_sim = (\n",
    "        (cosh((q - 1 / 2) * lamb) * sinh((n - ((p + q) / 2 - 1 / 2)) * lamb)) +\n",
    "        (cosh((n - p + 1 / 2) * lamb) * sinh(((p + q) / 2 - 1 / 2) * lamb))\n",
    "    )\n",
    "    \n",
    "c = num/denom\n",
    "print(c.evalf(subs = {n: 7, p: 5, q: 2, lamb: 0.69, alpha_prime: 1/(2 *cosh(lamb)) }))\n",
    "\n",
    "Exp = c * alpha_prime_sub * D_sim\n",
    "print(Exp.evalf(subs = {n: 7, p: 5, q: 2, lamb: 0.69, alpha_prime: 1/(2 *cosh(lamb)) }))\n",
    "\n"
   ]
  },
  {
   "cell_type": "code",
   "execution_count": null,
   "metadata": {},
   "outputs": [
    {
     "data": {
      "text/latex": [
       "$\\displaystyle \\frac{\\left(2 \\sinh{\\left(\\frac{lamb}{2} \\right)} \\cosh{\\left(\\frac{lamb n}{2} \\right)} - \\sinh{\\left(lamb \\left(\\frac{n}{2} - p + \\frac{1}{2}\\right) \\right)} + \\sinh{\\left(lamb \\left(\\frac{n}{2} - q + \\frac{1}{2}\\right) \\right)}\\right) \\sinh{\\left(lamb n \\right)}}{2 \\cdot \\left(2 \\alpha_{prime} \\left(2 \\sinh{\\left(lamb \\left(n - \\frac{p}{2} + \\frac{q}{2}\\right) \\right)} - \\sinh{\\left(lamb \\left(n - \\frac{3 p}{2} - \\frac{q}{2} + 1\\right) \\right)} + \\sinh{\\left(lamb \\left(n - \\frac{p}{2} - \\frac{3 q}{2} + 1\\right) \\right)}\\right) \\sinh{\\left(\\frac{lamb \\left(p - q\\right)}{2} \\right)} \\tanh{\\left(\\frac{lamb}{2} \\right)} - \\left(2 \\alpha_{prime} - 1\\right) \\sinh{\\left(lamb n \\right)}\\right) \\sinh{\\left(\\frac{lamb}{2} \\right)} \\cosh{\\left(\\frac{lamb n}{2} \\right)}}$"
      ],
      "text/plain": [
       "                                                ⎛      ⎛lamb⎞     ⎛lamb⋅n⎞    \n",
       "                                                ⎜2⋅sinh⎜────⎟⋅cosh⎜──────⎟ - s\n",
       "                                                ⎝      ⎝ 2  ⎠     ⎝  2   ⎠    \n",
       "──────────────────────────────────────────────────────────────────────────────\n",
       "  ⎛         ⎛      ⎛     ⎛    p   q⎞⎞       ⎛     ⎛    3⋅p   q    ⎞⎞       ⎛  \n",
       "2⋅⎜2⋅αₚᵣᵢₘₑ⋅⎜2⋅sinh⎜lamb⋅⎜n - ─ + ─⎟⎟ - sinh⎜lamb⋅⎜n - ─── - ─ + 1⎟⎟ + sinh⎜la\n",
       "  ⎝         ⎝      ⎝     ⎝    2   2⎠⎠       ⎝     ⎝     2    2    ⎠⎠       ⎝  \n",
       "\n",
       "   ⎛     ⎛n       1⎞⎞       ⎛     ⎛n       1⎞⎞⎞                               \n",
       "inh⎜lamb⋅⎜─ - p + ─⎟⎟ + sinh⎜lamb⋅⎜─ - q + ─⎟⎟⎟⋅sinh(lamb⋅n)                  \n",
       "   ⎝     ⎝2       2⎠⎠       ⎝     ⎝2       2⎠⎠⎠                               \n",
       "──────────────────────────────────────────────────────────────────────────────\n",
       "   ⎛    p   3⋅q    ⎞⎞⎞     ⎛lamb⋅(p - q)⎞     ⎛lamb⎞                          \n",
       "mb⋅⎜n - ─ - ─── + 1⎟⎟⎟⋅sinh⎜────────────⎟⋅tanh⎜────⎟ - (2⋅αₚᵣᵢₘₑ - 1)⋅sinh(lam\n",
       "   ⎝    2    2     ⎠⎠⎠     ⎝     2      ⎠     ⎝ 2  ⎠                          \n",
       "\n",
       "                             \n",
       "                             \n",
       "                             \n",
       "─────────────────────────────\n",
       "    ⎞     ⎛lamb⎞     ⎛lamb⋅n⎞\n",
       "b⋅n)⎟⋅sinh⎜────⎟⋅cosh⎜──────⎟\n",
       "    ⎠     ⎝ 2  ⎠     ⎝  2   ⎠"
      ]
     },
     "metadata": {},
     "output_type": "display_data"
    }
   ],
   "source": [
    "display(sp.simplify(c))"
   ]
  },
  {
   "cell_type": "code",
   "execution_count": null,
   "metadata": {},
   "outputs": [
    {
     "data": {
      "text/latex": [
       "$\\displaystyle \\frac{1 + \\frac{- \\sinh{\\left(lamb \\left(\\frac{n}{2} - p + \\frac{1}{2}\\right) \\right)} + \\sinh{\\left(lamb \\left(\\frac{n}{2} - q + \\frac{1}{2}\\right) \\right)}}{- \\sinh{\\left(lamb \\left(\\frac{n}{2} - \\frac{1}{2}\\right) \\right)} + \\sinh{\\left(lamb \\left(\\frac{n}{2} + \\frac{1}{2}\\right) \\right)}}}{- \\frac{4 \\alpha_{prime} \\left(\\sinh{\\left(lamb \\left(\\frac{p}{2} + \\frac{q}{2} - 0.5\\right) \\right)} \\cosh{\\left(lamb \\left(n - p + 0.5\\right) \\right)} + \\sinh{\\left(lamb \\left(n - \\frac{p}{2} - \\frac{q}{2} + 0.5\\right) \\right)} \\cosh{\\left(lamb \\left(q - 0.5\\right) \\right)}\\right) \\sinh{\\left(lamb \\left(- \\frac{p}{2} + \\frac{q}{2}\\right) \\right)} \\tanh{\\left(\\frac{lamb}{2} \\right)}}{\\sinh{\\left(lamb n \\right)}} - 2 \\alpha_{prime} + 1}$"
      ],
      "text/plain": [
       "                                                                ⎛     ⎛n      \n",
       "                                                          - sinh⎜lamb⋅⎜─ - p +\n",
       "                                                                ⎝     ⎝2      \n",
       "                                                      1 + ────────────────────\n",
       "                                                                    ⎛     ⎛n  \n",
       "                                                              - sinh⎜lamb⋅⎜─ -\n",
       "                                                                    ⎝     ⎝2  \n",
       "──────────────────────────────────────────────────────────────────────────────\n",
       "           ⎛    ⎛     ⎛p   q      ⎞⎞                                ⎛     ⎛   \n",
       "  4⋅αₚᵣᵢₘₑ⋅⎜sinh⎜lamb⋅⎜─ + ─ - 0.5⎟⎟⋅cosh(lamb⋅(n - p + 0.5)) + sinh⎜lamb⋅⎜n -\n",
       "           ⎝    ⎝     ⎝2   2      ⎠⎠                                ⎝     ⎝   \n",
       "- ────────────────────────────────────────────────────────────────────────────\n",
       "                                                                    sinh(lamb⋅\n",
       "\n",
       " 1⎞⎞       ⎛     ⎛n       1⎞⎞                                                 \n",
       " ─⎟⎟ + sinh⎜lamb⋅⎜─ - q + ─⎟⎟                                                 \n",
       " 2⎠⎠       ⎝     ⎝2       2⎠⎠                                                 \n",
       "─────────────────────────────                                                 \n",
       " 1⎞⎞       ⎛     ⎛n   1⎞⎞                                                     \n",
       " ─⎟⎟ + sinh⎜lamb⋅⎜─ + ─⎟⎟                                                     \n",
       " 2⎠⎠       ⎝     ⎝2   2⎠⎠                                                     \n",
       "──────────────────────────────────────────────────────────────────────────────\n",
       " p   q      ⎞⎞                     ⎞     ⎛     ⎛  p   q⎞⎞     ⎛lamb⎞          \n",
       " ─ - ─ + 0.5⎟⎟⋅cosh(lamb⋅(q - 0.5))⎟⋅sinh⎜lamb⋅⎜- ─ + ─⎟⎟⋅tanh⎜────⎟          \n",
       " 2   2      ⎠⎠                     ⎠     ⎝     ⎝  2   2⎠⎠     ⎝ 2  ⎠          \n",
       "──────────────────────────────────────────────────────────────────── - 2⋅αₚᵣᵢₘ\n",
       "n)                                                                            \n",
       "\n",
       "     \n",
       "     \n",
       "     \n",
       "     \n",
       "     \n",
       "     \n",
       "     \n",
       "─────\n",
       "     \n",
       "     \n",
       "     \n",
       "ₑ + 1\n",
       "     "
      ]
     },
     "metadata": {},
     "output_type": "display_data"
    }
   ],
   "source": [
    "display(c)"
   ]
  },
  {
   "cell_type": "code",
   "execution_count": null,
   "metadata": {},
   "outputs": [
    {
     "name": "stdout",
     "output_type": "stream",
     "text": [
      "1.37437067580451\n"
     ]
    },
    {
     "data": {
      "text/latex": [
       "$\\displaystyle \\frac{2 \\left(- \\sinh{\\left(\\frac{lamb}{2} \\right)} + \\cosh{\\left(\\frac{lamb n}{2} \\right)}\\right) \\left(\\sinh{\\left(lamb n \\right)} \\cosh{\\left(lamb \\right)} - 2 \\sinh{\\left(lamb \\left(\\frac{p}{2} + \\frac{q}{2} - 0.5\\right) \\right)} \\cosh{\\left(lamb \\left(n - p + 0.5\\right) \\right)} - 2 \\sinh{\\left(lamb \\left(n - \\frac{p}{2} - \\frac{q}{2} + 0.5\\right) \\right)} \\cosh{\\left(lamb \\left(q - 0.5\\right) \\right)}\\right) \\tanh{\\left(\\frac{lamb}{2} \\right)}}{\\sinh{\\left(lamb n \\right)} \\cosh{\\left(lamb \\right)}}$"
      ],
      "text/plain": [
       "  ⎛      ⎛lamb⎞       ⎛lamb⋅n⎞⎞ ⎛                                ⎛     ⎛p   q \n",
       "2⋅⎜- sinh⎜────⎟ + cosh⎜──────⎟⎟⋅⎜sinh(lamb⋅n)⋅cosh(lamb) - 2⋅sinh⎜lamb⋅⎜─ + ─ \n",
       "  ⎝      ⎝ 2  ⎠       ⎝  2   ⎠⎠ ⎝                                ⎝     ⎝2   2 \n",
       "──────────────────────────────────────────────────────────────────────────────\n",
       "                                                                            si\n",
       "\n",
       "     ⎞⎞                                  ⎛     ⎛    p   q      ⎞⎞             \n",
       "- 0.5⎟⎟⋅cosh(lamb⋅(n - p + 0.5)) - 2⋅sinh⎜lamb⋅⎜n - ─ - ─ + 0.5⎟⎟⋅cosh(lamb⋅(q\n",
       "     ⎠⎠                                  ⎝     ⎝    2   2      ⎠⎠             \n",
       "──────────────────────────────────────────────────────────────────────────────\n",
       "nh(lamb⋅n)⋅cosh(lamb)                                                         \n",
       "\n",
       "        ⎞     ⎛lamb⎞\n",
       " - 0.5))⎟⋅tanh⎜────⎟\n",
       "        ⎠     ⎝ 2  ⎠\n",
       "────────────────────\n",
       "                    "
      ]
     },
     "metadata": {},
     "output_type": "display_data"
    }
   ],
   "source": [
    "term_branch_1 = 2 * tanh(lamb/2) * (cosh(n/2*lamb) - sinh(lamb/2)) * (cosh(lamb)*sinh(lamb * n) - 2 * D_sim) / (cosh(lamb) * sinh(lamb * n))\n",
    "print(term_branch_1.evalf(subs = {n: 7, p: 5, q: 2, lamb: 0.69, alpha_prime: 1/(2 *cosh(lamb)) }))\n",
    "\n",
    "display(term_branch_1)"
   ]
  },
  {
   "cell_type": "code",
   "execution_count": null,
   "metadata": {},
   "outputs": [
    {
     "data": {
      "text/latex": [
       "$\\displaystyle - \\frac{4 \\left(\\sinh{\\left(lamb \\left(\\frac{p}{2} + \\frac{q}{2} - 0.5\\right) \\right)} \\cosh{\\left(lamb \\left(n - p + 0.5\\right) \\right)} + \\sinh{\\left(lamb \\left(n - \\frac{p}{2} - \\frac{q}{2} + 0.5\\right) \\right)} \\cosh{\\left(lamb \\left(q - 0.5\\right) \\right)}\\right) \\tanh{\\left(\\frac{lamb}{2} \\right)}}{\\sinh{\\left(lamb n \\right)} \\cosh{\\left(lamb \\right)}} + 2 \\sinh{\\left(\\frac{lamb}{2} \\right)} \\cosh{\\left(\\frac{lamb n}{2} \\right)} - \\frac{2 \\sinh{\\left(\\frac{lamb}{2} \\right)} \\cosh{\\left(\\frac{lamb n}{2} \\right)}}{\\cosh{\\left(lamb \\right)}}$"
      ],
      "text/plain": [
       "    ⎛    ⎛     ⎛p   q      ⎞⎞                                ⎛     ⎛    p   q \n",
       "  4⋅⎜sinh⎜lamb⋅⎜─ + ─ - 0.5⎟⎟⋅cosh(lamb⋅(n - p + 0.5)) + sinh⎜lamb⋅⎜n - ─ - ─ \n",
       "    ⎝    ⎝     ⎝2   2      ⎠⎠                                ⎝     ⎝    2   2 \n",
       "- ────────────────────────────────────────────────────────────────────────────\n",
       "                                                sinh(lamb⋅n)⋅cosh(lamb)       \n",
       "\n",
       "     ⎞⎞                     ⎞     ⎛lamb⎞                                     ⎛\n",
       "+ 0.5⎟⎟⋅cosh(lamb⋅(q - 0.5))⎟⋅tanh⎜────⎟                               2⋅sinh⎜\n",
       "     ⎠⎠                     ⎠     ⎝ 2  ⎠         ⎛lamb⎞     ⎛lamb⋅n⎞         ⎝\n",
       "──────────────────────────────────────── + 2⋅sinh⎜────⎟⋅cosh⎜──────⎟ - ───────\n",
       "                                                 ⎝ 2  ⎠     ⎝  2   ⎠          \n",
       "\n",
       "lamb⎞     ⎛lamb⋅n⎞\n",
       "────⎟⋅cosh⎜──────⎟\n",
       " 2  ⎠     ⎝  2   ⎠\n",
       "──────────────────\n",
       " cosh(lamb)       "
      ]
     },
     "metadata": {},
     "output_type": "display_data"
    },
    {
     "name": "stdout",
     "output_type": "stream",
     "text": [
      "-0.0138269637154356\n",
      "0.383851628894169\n"
     ]
    }
   ],
   "source": [
    "#checking term 4 (WRONG)\n",
    "term4 = 2 * (\n",
    "    (cosh(n/2 * lamb) * sinh(lamb/2) * cosh(lamb) / cosh(lamb) )\n",
    "    - ( cosh(n/2 * lamb) * sinh(lamb/2) / cosh(lamb) )\n",
    "    - (2 * tanh(lamb/2) * D_sim / ( cosh(lamb) * sinh(lamb*n) ) ) \n",
    ")\n",
    "\n",
    "display(term4)\n",
    "print(denom_2.evalf(subs = {n: 7, p: 5, q: 2, lamb: 0.69, alpha_prime: 1/(2 *cosh(lamb)) }))\n",
    "print(term4.evalf(subs = {n: 7, p: 5, q: 2, lamb: 0.69, alpha_prime: 1/(2 *cosh(lamb)) }))"
   ]
  },
  {
   "cell_type": "code",
   "execution_count": null,
   "metadata": {},
   "outputs": [
    {
     "data": {
      "text/latex": [
       "$\\displaystyle - \\frac{4 \\left(\\sinh{\\left(lamb \\left(\\frac{p}{2} + \\frac{q}{2} - 0.5\\right) \\right)} \\cosh{\\left(lamb \\left(n - p + 0.5\\right) \\right)} + \\sinh{\\left(lamb \\left(n - \\frac{p}{2} - \\frac{q}{2} + 0.5\\right) \\right)} \\cosh{\\left(lamb \\left(q - 0.5\\right) \\right)}\\right) \\tanh{\\left(\\frac{lamb}{2} \\right)}}{\\sinh{\\left(lamb n \\right)} \\cosh{\\left(lamb \\right)}} + \\frac{2 \\left(\\cosh{\\left(lamb \\right)} - 1\\right) \\sinh{\\left(\\frac{lamb}{2} \\right)} \\cosh{\\left(\\frac{lamb n}{2} \\right)}}{\\cosh{\\left(lamb \\right)}}$"
      ],
      "text/plain": [
       "    ⎛    ⎛     ⎛p   q      ⎞⎞                                ⎛     ⎛    p   q \n",
       "  4⋅⎜sinh⎜lamb⋅⎜─ + ─ - 0.5⎟⎟⋅cosh(lamb⋅(n - p + 0.5)) + sinh⎜lamb⋅⎜n - ─ - ─ \n",
       "    ⎝    ⎝     ⎝2   2      ⎠⎠                                ⎝     ⎝    2   2 \n",
       "- ────────────────────────────────────────────────────────────────────────────\n",
       "                                                sinh(lamb⋅n)⋅cosh(lamb)       \n",
       "\n",
       "     ⎞⎞                     ⎞     ⎛lamb⎞                          ⎛lamb⎞     ⎛\n",
       "+ 0.5⎟⎟⋅cosh(lamb⋅(q - 0.5))⎟⋅tanh⎜────⎟   2⋅(cosh(lamb) - 1)⋅sinh⎜────⎟⋅cosh⎜\n",
       "     ⎠⎠                     ⎠     ⎝ 2  ⎠                          ⎝ 2  ⎠     ⎝\n",
       "──────────────────────────────────────── + ───────────────────────────────────\n",
       "                                                           cosh(lamb)         \n",
       "\n",
       "lamb⋅n⎞\n",
       "──────⎟\n",
       "  2   ⎠\n",
       "───────\n",
       "       "
      ]
     },
     "metadata": {},
     "output_type": "display_data"
    },
    {
     "name": "stdout",
     "output_type": "stream",
     "text": [
      "-0.0138269637154356\n",
      "0.383851628894169\n"
     ]
    }
   ],
   "source": [
    "#checking term 5\n",
    "term5 = 2 * (\n",
    "    (cosh(n/2 * lamb) * sinh(lamb/2) * (cosh(lamb) - 1) / cosh(lamb))\n",
    "    - (2 * tanh(lamb/2) * D_sim / ( cosh(lamb) * sinh(lamb*n) ) ) \n",
    ")\n",
    "\n",
    "display(term5)\n",
    "print(denom_2.evalf(subs = {n: 7, p: 5, q: 2, lamb: 0.69, alpha_prime: 1/(2 *cosh(lamb)) }))\n",
    "print(term5.evalf(subs = {n: 7, p: 5, q: 2, lamb: 0.69, alpha_prime: 1/(2 *cosh(lamb)) }))"
   ]
  },
  {
   "cell_type": "code",
   "execution_count": null,
   "metadata": {},
   "outputs": [
    {
     "name": "stdout",
     "output_type": "stream",
     "text": [
      "1.77375328568449\n",
      "0.325992569808621\n"
     ]
    }
   ],
   "source": [
    "#checking term 9\n",
    "term1 = denom_2\n",
    "term9 = (tanh(lamb/2) * (cosh(n/2 * lamb) * (1/2) * sinh(n * lamb) * sinh(lamb/2) - D_sim) / (cosh(lamb) * (1/2) * sinh(lamb*n)))\n",
    "\n",
    "print(term1.evalf(subs = {n: 7, p: 5, q: 2, lamb: 0.69, alpha_prime: 1/(2 *cosh(lamb)) }))\n",
    "print(term9.evalf(subs = {n: 7, p: 5, q: 2, lamb: 0.69, alpha_prime: 1/(2 *cosh(lamb)) }))"
   ]
  },
  {
   "cell_type": "code",
   "execution_count": null,
   "metadata": {},
   "outputs": [
    {
     "name": "stdout",
     "output_type": "stream",
     "text": [
      "0.00239597551569453\n",
      "0.180550187328195\n"
     ]
    }
   ],
   "source": [
    "#checking term 11\n",
    "term1 = alpha_prime_sub * D_diff_doubletil * (1/denom_2)\n",
    "term11 = ( 1 / (cosh(n/2 * lamb)) )  * ( (cosh(lamb) * (1/2) * sinh(lamb*n)) / (cosh(n/2 * lamb) * (1/2) * sinh(lamb*n) * sinh(lamb/2) - D_sim))\n",
    "\n",
    "print(term1.evalf(subs = {n: 7, p: 5, q: 2, lamb: 0.69, alpha_prime: 1/(2 *cosh(lamb)) }))\n",
    "print(term11.evalf(subs = {n: 7, p: 5, q: 2, lamb: 0.69, alpha_prime: 1/(2 *cosh(lamb)) }))"
   ]
  },
  {
   "cell_type": "code",
   "execution_count": null,
   "metadata": {},
   "outputs": [],
   "source": [
    "print(are_equal)"
   ]
  },
  {
   "cell_type": "code",
   "execution_count": null,
   "metadata": {},
   "outputs": [
    {
     "name": "stdout",
     "output_type": "stream",
     "text": [
      "check if Exp_analytical = Exp_derived\n",
      "0.0157575838804346\n",
      "0.0857383534808121\n"
     ]
    }
   ],
   "source": [
    "print('check if Exp_analytical = Exp_derived')\n",
    "Exp_derived = num_3 / ( cosh(n/2 * lamb) * sinh(lamb * n) * sinh(lamb/2) - 2 * D_sim)\n",
    "print(Exp.evalf(subs = {n: 7, p: 5, q: 2, lamb: 0.69, alpha_prime: 1/(2 *cosh(lamb)) }))\n",
    "print(Exp_derived.evalf(subs = {n: 7, p: 5, q: 2, lamb: 0.69, alpha_prime: 1/(2 *cosh(lamb)) }))"
   ]
  },
  {
   "cell_type": "code",
   "execution_count": null,
   "metadata": {},
   "outputs": [
    {
     "data": {
      "text/latex": [
       "$\\displaystyle 2 \\left(- \\frac{2 \\left(\\sinh{\\left(lamb \\left(\\frac{p}{2} + \\frac{q}{2} - 0.5\\right) \\right)} \\cosh{\\left(lamb \\left(n - p + 0.5\\right) \\right)} + \\sinh{\\left(lamb \\left(n - \\frac{p}{2} - \\frac{q}{2} + 0.5\\right) \\right)} \\cosh{\\left(lamb \\left(q - 0.5\\right) \\right)}\\right) \\sinh{\\left(lamb \\left(- \\frac{p}{2} + \\frac{q}{2}\\right) \\right)} \\tanh{\\left(\\frac{lamb}{2} \\right)}}{\\sinh{\\left(lamb n \\right)} \\cosh{\\left(lamb \\right)}} + 1 - \\frac{1}{\\cosh{\\left(lamb \\right)}}\\right) \\sinh{\\left(\\frac{lamb}{2} \\right)} \\cosh{\\left(\\frac{lamb n}{2} \\right)}$"
      ],
      "text/plain": [
       "  ⎛    ⎛    ⎛     ⎛p   q      ⎞⎞                                ⎛     ⎛    p  \n",
       "  ⎜  2⋅⎜sinh⎜lamb⋅⎜─ + ─ - 0.5⎟⎟⋅cosh(lamb⋅(n - p + 0.5)) + sinh⎜lamb⋅⎜n - ─ -\n",
       "  ⎜    ⎝    ⎝     ⎝2   2      ⎠⎠                                ⎝     ⎝    2  \n",
       "2⋅⎜- ─────────────────────────────────────────────────────────────────────────\n",
       "  ⎝                                                           sinh(lamb⋅n)⋅cos\n",
       "\n",
       " q      ⎞⎞                     ⎞     ⎛     ⎛  p   q⎞⎞     ⎛lamb⎞              \n",
       " ─ + 0.5⎟⎟⋅cosh(lamb⋅(q - 0.5))⎟⋅sinh⎜lamb⋅⎜- ─ + ─⎟⎟⋅tanh⎜────⎟              \n",
       " 2      ⎠⎠                     ⎠     ⎝     ⎝  2   2⎠⎠     ⎝ 2  ⎠           1  \n",
       "──────────────────────────────────────────────────────────────── + 1 - ───────\n",
       "h(lamb)                                                                cosh(la\n",
       "\n",
       "   ⎞                        \n",
       "   ⎟                        \n",
       "   ⎟     ⎛lamb⎞     ⎛lamb⋅n⎞\n",
       "───⎟⋅sinh⎜────⎟⋅cosh⎜──────⎟\n",
       "mb)⎠     ⎝ 2  ⎠     ⎝  2   ⎠"
      ]
     },
     "metadata": {},
     "output_type": "display_data"
    },
    {
     "name": "stdout",
     "output_type": "stream",
     "text": [
      "0.837721228615672\n",
      "0.00239597551569453\n"
     ]
    }
   ],
   "source": [
    "display(denom_2)\n",
    "\n",
    "term1 = c*alpha_prime_sub/denom_2\n",
    "term2 = Exp/num_3\n",
    "\n",
    "print(term1.evalf(subs = {n: 7, p: 5, q: 2, lamb: 0.69, alpha_prime: 1/(2 *cosh(lamb)) }))\n",
    "print(term2.evalf(subs = {n: 7, p: 5, q: 2, lamb: 0.69, alpha_prime: 1/(2 *cosh(lamb)) }))"
   ]
  },
  {
   "cell_type": "code",
   "execution_count": null,
   "metadata": {},
   "outputs": [
    {
     "ename": "KeyboardInterrupt",
     "evalue": "",
     "output_type": "error",
     "traceback": [
      "\u001b[1;31m---------------------------------------------------------------------------\u001b[0m",
      "\u001b[1;31mKeyboardInterrupt\u001b[0m                         Traceback (most recent call last)",
      "Cell \u001b[1;32mIn[106], line 1\u001b[0m\n\u001b[1;32m----> 1\u001b[0m are_equal \u001b[38;5;241m=\u001b[39m sp\u001b[38;5;241m.\u001b[39msimplify(c\u001b[38;5;241m*\u001b[39malpha_prime_sub\u001b[38;5;241m/\u001b[39mdenom_2 \u001b[38;5;241m-\u001b[39m Exp\u001b[38;5;241m/\u001b[39mnum_3)\n\u001b[0;32m      2\u001b[0m \u001b[38;5;28mprint\u001b[39m(are_equal)\n",
      "File \u001b[1;32mc:\\Users\\lukel\\anaconda3\\Lib\\site-packages\\sympy\\simplify\\simplify.py:699\u001b[0m, in \u001b[0;36msimplify\u001b[1;34m(expr, ratio, measure, rational, inverse, doit, **kwargs)\u001b[0m\n\u001b[0;32m    696\u001b[0m     expr \u001b[38;5;241m=\u001b[39m besselsimp(expr)\n\u001b[0;32m    698\u001b[0m \u001b[38;5;28;01mif\u001b[39;00m expr\u001b[38;5;241m.\u001b[39mhas(TrigonometricFunction, HyperbolicFunction):\n\u001b[1;32m--> 699\u001b[0m     expr \u001b[38;5;241m=\u001b[39m trigsimp(expr, deep\u001b[38;5;241m=\u001b[39m\u001b[38;5;28;01mTrue\u001b[39;00m)\n\u001b[0;32m    701\u001b[0m \u001b[38;5;28;01mif\u001b[39;00m expr\u001b[38;5;241m.\u001b[39mhas(log):\n\u001b[0;32m    702\u001b[0m     expr \u001b[38;5;241m=\u001b[39m shorter(expand_log(expr, deep\u001b[38;5;241m=\u001b[39m\u001b[38;5;28;01mTrue\u001b[39;00m), logcombine(expr))\n",
      "File \u001b[1;32mc:\\Users\\lukel\\anaconda3\\Lib\\site-packages\\sympy\\simplify\\trigsimp.py:564\u001b[0m, in \u001b[0;36mtrigsimp\u001b[1;34m(expr, inverse, **opts)\u001b[0m\n\u001b[0;32m    553\u001b[0m     \u001b[38;5;28;01mreturn\u001b[39;00m trigsimp_groebner(new, \u001b[38;5;241m*\u001b[39m\u001b[38;5;241m*\u001b[39mopts)\n\u001b[0;32m    555\u001b[0m trigsimpfunc \u001b[38;5;241m=\u001b[39m {\n\u001b[0;32m    556\u001b[0m     \u001b[38;5;124m'\u001b[39m\u001b[38;5;124mfu\u001b[39m\u001b[38;5;124m'\u001b[39m: (\u001b[38;5;28;01mlambda\u001b[39;00m x: fu(x, \u001b[38;5;241m*\u001b[39m\u001b[38;5;241m*\u001b[39mopts)),\n\u001b[0;32m    557\u001b[0m     \u001b[38;5;124m'\u001b[39m\u001b[38;5;124mmatching\u001b[39m\u001b[38;5;124m'\u001b[39m: (\u001b[38;5;28;01mlambda\u001b[39;00m x: futrig(x)),\n\u001b[1;32m   (...)\u001b[0m\n\u001b[0;32m    561\u001b[0m     \u001b[38;5;124m'\u001b[39m\u001b[38;5;124mold\u001b[39m\u001b[38;5;124m'\u001b[39m: \u001b[38;5;28;01mlambda\u001b[39;00m x: trigsimp_old(x, \u001b[38;5;241m*\u001b[39m\u001b[38;5;241m*\u001b[39mopts),\n\u001b[0;32m    562\u001b[0m                }[method]\n\u001b[1;32m--> 564\u001b[0m expr_simplified \u001b[38;5;241m=\u001b[39m trigsimpfunc(expr)\n\u001b[0;32m    565\u001b[0m \u001b[38;5;28;01mif\u001b[39;00m inverse:\n\u001b[0;32m    566\u001b[0m     expr_simplified \u001b[38;5;241m=\u001b[39m _trigsimp_inverse(expr_simplified)\n",
      "File \u001b[1;32mc:\\Users\\lukel\\anaconda3\\Lib\\site-packages\\sympy\\simplify\\trigsimp.py:557\u001b[0m, in \u001b[0;36mtrigsimp.<locals>.<lambda>\u001b[1;34m(x)\u001b[0m\n\u001b[0;32m    552\u001b[0m         \u001b[38;5;28;01mreturn\u001b[39;00m new\n\u001b[0;32m    553\u001b[0m     \u001b[38;5;28;01mreturn\u001b[39;00m trigsimp_groebner(new, \u001b[38;5;241m*\u001b[39m\u001b[38;5;241m*\u001b[39mopts)\n\u001b[0;32m    555\u001b[0m trigsimpfunc \u001b[38;5;241m=\u001b[39m {\n\u001b[0;32m    556\u001b[0m     \u001b[38;5;124m'\u001b[39m\u001b[38;5;124mfu\u001b[39m\u001b[38;5;124m'\u001b[39m: (\u001b[38;5;28;01mlambda\u001b[39;00m x: fu(x, \u001b[38;5;241m*\u001b[39m\u001b[38;5;241m*\u001b[39mopts)),\n\u001b[1;32m--> 557\u001b[0m     \u001b[38;5;124m'\u001b[39m\u001b[38;5;124mmatching\u001b[39m\u001b[38;5;124m'\u001b[39m: (\u001b[38;5;28;01mlambda\u001b[39;00m x: futrig(x)),\n\u001b[0;32m    558\u001b[0m     \u001b[38;5;124m'\u001b[39m\u001b[38;5;124mgroebner\u001b[39m\u001b[38;5;124m'\u001b[39m: (\u001b[38;5;28;01mlambda\u001b[39;00m x: groebnersimp(x, \u001b[38;5;241m*\u001b[39m\u001b[38;5;241m*\u001b[39mopts)),\n\u001b[0;32m    559\u001b[0m     \u001b[38;5;124m'\u001b[39m\u001b[38;5;124mcombined\u001b[39m\u001b[38;5;124m'\u001b[39m: (\u001b[38;5;28;01mlambda\u001b[39;00m x: futrig(groebnersimp(x,\n\u001b[0;32m    560\u001b[0m                            polynomial\u001b[38;5;241m=\u001b[39m\u001b[38;5;28;01mTrue\u001b[39;00m, hints\u001b[38;5;241m=\u001b[39m[\u001b[38;5;241m2\u001b[39m, tan]))),\n\u001b[0;32m    561\u001b[0m     \u001b[38;5;124m'\u001b[39m\u001b[38;5;124mold\u001b[39m\u001b[38;5;124m'\u001b[39m: \u001b[38;5;28;01mlambda\u001b[39;00m x: trigsimp_old(x, \u001b[38;5;241m*\u001b[39m\u001b[38;5;241m*\u001b[39mopts),\n\u001b[0;32m    562\u001b[0m                }[method]\n\u001b[0;32m    564\u001b[0m expr_simplified \u001b[38;5;241m=\u001b[39m trigsimpfunc(expr)\n\u001b[0;32m    565\u001b[0m \u001b[38;5;28;01mif\u001b[39;00m inverse:\n",
      "File \u001b[1;32mc:\\Users\\lukel\\anaconda3\\Lib\\site-packages\\sympy\\simplify\\trigsimp.py:1162\u001b[0m, in \u001b[0;36mfutrig\u001b[1;34m(e, hyper, **kwargs)\u001b[0m\n\u001b[0;32m   1160\u001b[0m \u001b[38;5;28;01mif\u001b[39;00m hyper \u001b[38;5;129;01mand\u001b[39;00m e\u001b[38;5;241m.\u001b[39mhas(HyperbolicFunction):\n\u001b[0;32m   1161\u001b[0m     e, f \u001b[38;5;241m=\u001b[39m hyper_as_trig(e)\n\u001b[1;32m-> 1162\u001b[0m     e \u001b[38;5;241m=\u001b[39m f(bottom_up(e, _futrig))\n\u001b[0;32m   1164\u001b[0m \u001b[38;5;28;01mif\u001b[39;00m e \u001b[38;5;241m!=\u001b[39m old \u001b[38;5;129;01mand\u001b[39;00m e\u001b[38;5;241m.\u001b[39mis_Mul \u001b[38;5;129;01mand\u001b[39;00m e\u001b[38;5;241m.\u001b[39margs[\u001b[38;5;241m0\u001b[39m]\u001b[38;5;241m.\u001b[39mis_Rational:\n\u001b[0;32m   1165\u001b[0m     \u001b[38;5;66;03m# redistribute leading coeff on 2-arg Add\u001b[39;00m\n\u001b[0;32m   1166\u001b[0m     e \u001b[38;5;241m=\u001b[39m Mul(\u001b[38;5;241m*\u001b[39me\u001b[38;5;241m.\u001b[39mas_coeff_Mul())\n",
      "File \u001b[1;32mc:\\Users\\lukel\\anaconda3\\Lib\\site-packages\\sympy\\core\\traversal.py:236\u001b[0m, in \u001b[0;36mbottom_up\u001b[1;34m(rv, F, atoms, nonbasic)\u001b[0m\n\u001b[0;32m    234\u001b[0m \u001b[38;5;28;01mif\u001b[39;00m args \u001b[38;5;129;01mis\u001b[39;00m \u001b[38;5;129;01mnot\u001b[39;00m \u001b[38;5;28;01mNone\u001b[39;00m:\n\u001b[0;32m    235\u001b[0m     \u001b[38;5;28;01mif\u001b[39;00m args:\n\u001b[1;32m--> 236\u001b[0m         args \u001b[38;5;241m=\u001b[39m \u001b[38;5;28mtuple\u001b[39m([bottom_up(a, F, atoms, nonbasic) \u001b[38;5;28;01mfor\u001b[39;00m a \u001b[38;5;129;01min\u001b[39;00m args])\n\u001b[0;32m    237\u001b[0m         \u001b[38;5;28;01mif\u001b[39;00m args \u001b[38;5;241m!=\u001b[39m rv\u001b[38;5;241m.\u001b[39margs:\n\u001b[0;32m    238\u001b[0m             rv \u001b[38;5;241m=\u001b[39m rv\u001b[38;5;241m.\u001b[39mfunc(\u001b[38;5;241m*\u001b[39margs)\n",
      "File \u001b[1;32mc:\\Users\\lukel\\anaconda3\\Lib\\site-packages\\sympy\\core\\traversal.py:236\u001b[0m, in \u001b[0;36m<listcomp>\u001b[1;34m(.0)\u001b[0m\n\u001b[0;32m    234\u001b[0m \u001b[38;5;28;01mif\u001b[39;00m args \u001b[38;5;129;01mis\u001b[39;00m \u001b[38;5;129;01mnot\u001b[39;00m \u001b[38;5;28;01mNone\u001b[39;00m:\n\u001b[0;32m    235\u001b[0m     \u001b[38;5;28;01mif\u001b[39;00m args:\n\u001b[1;32m--> 236\u001b[0m         args \u001b[38;5;241m=\u001b[39m \u001b[38;5;28mtuple\u001b[39m([bottom_up(a, F, atoms, nonbasic) \u001b[38;5;28;01mfor\u001b[39;00m a \u001b[38;5;129;01min\u001b[39;00m args])\n\u001b[0;32m    237\u001b[0m         \u001b[38;5;28;01mif\u001b[39;00m args \u001b[38;5;241m!=\u001b[39m rv\u001b[38;5;241m.\u001b[39margs:\n\u001b[0;32m    238\u001b[0m             rv \u001b[38;5;241m=\u001b[39m rv\u001b[38;5;241m.\u001b[39mfunc(\u001b[38;5;241m*\u001b[39margs)\n",
      "File \u001b[1;32mc:\\Users\\lukel\\anaconda3\\Lib\\site-packages\\sympy\\core\\traversal.py:236\u001b[0m, in \u001b[0;36mbottom_up\u001b[1;34m(rv, F, atoms, nonbasic)\u001b[0m\n\u001b[0;32m    234\u001b[0m \u001b[38;5;28;01mif\u001b[39;00m args \u001b[38;5;129;01mis\u001b[39;00m \u001b[38;5;129;01mnot\u001b[39;00m \u001b[38;5;28;01mNone\u001b[39;00m:\n\u001b[0;32m    235\u001b[0m     \u001b[38;5;28;01mif\u001b[39;00m args:\n\u001b[1;32m--> 236\u001b[0m         args \u001b[38;5;241m=\u001b[39m \u001b[38;5;28mtuple\u001b[39m([bottom_up(a, F, atoms, nonbasic) \u001b[38;5;28;01mfor\u001b[39;00m a \u001b[38;5;129;01min\u001b[39;00m args])\n\u001b[0;32m    237\u001b[0m         \u001b[38;5;28;01mif\u001b[39;00m args \u001b[38;5;241m!=\u001b[39m rv\u001b[38;5;241m.\u001b[39margs:\n\u001b[0;32m    238\u001b[0m             rv \u001b[38;5;241m=\u001b[39m rv\u001b[38;5;241m.\u001b[39mfunc(\u001b[38;5;241m*\u001b[39margs)\n",
      "File \u001b[1;32mc:\\Users\\lukel\\anaconda3\\Lib\\site-packages\\sympy\\core\\traversal.py:236\u001b[0m, in \u001b[0;36m<listcomp>\u001b[1;34m(.0)\u001b[0m\n\u001b[0;32m    234\u001b[0m \u001b[38;5;28;01mif\u001b[39;00m args \u001b[38;5;129;01mis\u001b[39;00m \u001b[38;5;129;01mnot\u001b[39;00m \u001b[38;5;28;01mNone\u001b[39;00m:\n\u001b[0;32m    235\u001b[0m     \u001b[38;5;28;01mif\u001b[39;00m args:\n\u001b[1;32m--> 236\u001b[0m         args \u001b[38;5;241m=\u001b[39m \u001b[38;5;28mtuple\u001b[39m([bottom_up(a, F, atoms, nonbasic) \u001b[38;5;28;01mfor\u001b[39;00m a \u001b[38;5;129;01min\u001b[39;00m args])\n\u001b[0;32m    237\u001b[0m         \u001b[38;5;28;01mif\u001b[39;00m args \u001b[38;5;241m!=\u001b[39m rv\u001b[38;5;241m.\u001b[39margs:\n\u001b[0;32m    238\u001b[0m             rv \u001b[38;5;241m=\u001b[39m rv\u001b[38;5;241m.\u001b[39mfunc(\u001b[38;5;241m*\u001b[39margs)\n",
      "File \u001b[1;32mc:\\Users\\lukel\\anaconda3\\Lib\\site-packages\\sympy\\core\\traversal.py:239\u001b[0m, in \u001b[0;36mbottom_up\u001b[1;34m(rv, F, atoms, nonbasic)\u001b[0m\n\u001b[0;32m    237\u001b[0m     \u001b[38;5;28;01mif\u001b[39;00m args \u001b[38;5;241m!=\u001b[39m rv\u001b[38;5;241m.\u001b[39margs:\n\u001b[0;32m    238\u001b[0m         rv \u001b[38;5;241m=\u001b[39m rv\u001b[38;5;241m.\u001b[39mfunc(\u001b[38;5;241m*\u001b[39margs)\n\u001b[1;32m--> 239\u001b[0m     rv \u001b[38;5;241m=\u001b[39m F(rv)\n\u001b[0;32m    240\u001b[0m \u001b[38;5;28;01melif\u001b[39;00m atoms:\n\u001b[0;32m    241\u001b[0m     rv \u001b[38;5;241m=\u001b[39m F(rv)\n",
      "File \u001b[1;32mc:\\Users\\lukel\\anaconda3\\Lib\\site-packages\\sympy\\simplify\\trigsimp.py:1225\u001b[0m, in \u001b[0;36m_futrig\u001b[1;34m(e)\u001b[0m\n\u001b[0;32m   1186\u001b[0m trigs \u001b[38;5;241m=\u001b[39m \u001b[38;5;28;01mlambda\u001b[39;00m x: x\u001b[38;5;241m.\u001b[39mhas(TrigonometricFunction)\n\u001b[0;32m   1188\u001b[0m tree \u001b[38;5;241m=\u001b[39m [identity,\n\u001b[0;32m   1189\u001b[0m     (\n\u001b[0;32m   1190\u001b[0m     TR3,  \u001b[38;5;66;03m# canonical angles\u001b[39;00m\n\u001b[1;32m   (...)\u001b[0m\n\u001b[0;32m   1223\u001b[0m         factor_terms, TR12(x), trigs)],  \u001b[38;5;66;03m# expand tan of sum\u001b[39;00m\n\u001b[0;32m   1224\u001b[0m     )]\n\u001b[1;32m-> 1225\u001b[0m e \u001b[38;5;241m=\u001b[39m greedy(tree, objective\u001b[38;5;241m=\u001b[39mLops)(e)\n\u001b[0;32m   1227\u001b[0m \u001b[38;5;28;01mif\u001b[39;00m coeff \u001b[38;5;129;01mis\u001b[39;00m \u001b[38;5;129;01mnot\u001b[39;00m \u001b[38;5;28;01mNone\u001b[39;00m:\n\u001b[0;32m   1228\u001b[0m     e \u001b[38;5;241m=\u001b[39m coeff \u001b[38;5;241m*\u001b[39m e\n",
      "File \u001b[1;32mc:\\Users\\lukel\\anaconda3\\Lib\\site-packages\\sympy\\strategies\\core.py:150\u001b[0m, in \u001b[0;36mminimize.<locals>.minrule\u001b[1;34m(expr)\u001b[0m\n\u001b[0;32m    149\u001b[0m \u001b[38;5;28;01mdef\u001b[39;00m \u001b[38;5;21mminrule\u001b[39m(expr: _S) \u001b[38;5;241m-\u001b[39m\u001b[38;5;241m>\u001b[39m _T:\n\u001b[1;32m--> 150\u001b[0m     \u001b[38;5;28;01mreturn\u001b[39;00m \u001b[38;5;28mmin\u001b[39m([rule(expr) \u001b[38;5;28;01mfor\u001b[39;00m rule \u001b[38;5;129;01min\u001b[39;00m rules], key\u001b[38;5;241m=\u001b[39mobjective)\n",
      "File \u001b[1;32mc:\\Users\\lukel\\anaconda3\\Lib\\site-packages\\sympy\\strategies\\core.py:150\u001b[0m, in \u001b[0;36m<listcomp>\u001b[1;34m(.0)\u001b[0m\n\u001b[0;32m    149\u001b[0m \u001b[38;5;28;01mdef\u001b[39;00m \u001b[38;5;21mminrule\u001b[39m(expr: _S) \u001b[38;5;241m-\u001b[39m\u001b[38;5;241m>\u001b[39m _T:\n\u001b[1;32m--> 150\u001b[0m     \u001b[38;5;28;01mreturn\u001b[39;00m \u001b[38;5;28mmin\u001b[39m([rule(expr) \u001b[38;5;28;01mfor\u001b[39;00m rule \u001b[38;5;129;01min\u001b[39;00m rules], key\u001b[38;5;241m=\u001b[39mobjective)\n",
      "File \u001b[1;32mc:\\Users\\lukel\\anaconda3\\Lib\\site-packages\\sympy\\strategies\\core.py:64\u001b[0m, in \u001b[0;36mchain.<locals>.chain_rl\u001b[1;34m(expr)\u001b[0m\n\u001b[0;32m     62\u001b[0m \u001b[38;5;28;01mdef\u001b[39;00m \u001b[38;5;21mchain_rl\u001b[39m(expr: _T) \u001b[38;5;241m-\u001b[39m\u001b[38;5;241m>\u001b[39m _T:\n\u001b[0;32m     63\u001b[0m     \u001b[38;5;28;01mfor\u001b[39;00m rule \u001b[38;5;129;01min\u001b[39;00m rules:\n\u001b[1;32m---> 64\u001b[0m         expr \u001b[38;5;241m=\u001b[39m rule(expr)\n\u001b[0;32m     65\u001b[0m     \u001b[38;5;28;01mreturn\u001b[39;00m expr\n",
      "File \u001b[1;32mc:\\Users\\lukel\\anaconda3\\Lib\\site-packages\\sympy\\strategies\\core.py:150\u001b[0m, in \u001b[0;36mminimize.<locals>.minrule\u001b[1;34m(expr)\u001b[0m\n\u001b[0;32m    149\u001b[0m \u001b[38;5;28;01mdef\u001b[39;00m \u001b[38;5;21mminrule\u001b[39m(expr: _S) \u001b[38;5;241m-\u001b[39m\u001b[38;5;241m>\u001b[39m _T:\n\u001b[1;32m--> 150\u001b[0m     \u001b[38;5;28;01mreturn\u001b[39;00m \u001b[38;5;28mmin\u001b[39m([rule(expr) \u001b[38;5;28;01mfor\u001b[39;00m rule \u001b[38;5;129;01min\u001b[39;00m rules], key\u001b[38;5;241m=\u001b[39mobjective)\n",
      "File \u001b[1;32mc:\\Users\\lukel\\anaconda3\\Lib\\site-packages\\sympy\\simplify\\trigsimp.py:1185\u001b[0m, in \u001b[0;36m_futrig.<locals>.<lambda>\u001b[1;34m(x)\u001b[0m\n\u001b[0;32m   1182\u001b[0m \u001b[38;5;28;01melse\u001b[39;00m:\n\u001b[0;32m   1183\u001b[0m     coeff \u001b[38;5;241m=\u001b[39m \u001b[38;5;28;01mNone\u001b[39;00m\n\u001b[1;32m-> 1185\u001b[0m Lops \u001b[38;5;241m=\u001b[39m \u001b[38;5;28;01mlambda\u001b[39;00m x: (L(x), x\u001b[38;5;241m.\u001b[39mcount_ops(), _nodes(x), \u001b[38;5;28mlen\u001b[39m(x\u001b[38;5;241m.\u001b[39margs), x\u001b[38;5;241m.\u001b[39mis_Add)\n\u001b[0;32m   1186\u001b[0m trigs \u001b[38;5;241m=\u001b[39m \u001b[38;5;28;01mlambda\u001b[39;00m x: x\u001b[38;5;241m.\u001b[39mhas(TrigonometricFunction)\n\u001b[0;32m   1188\u001b[0m tree \u001b[38;5;241m=\u001b[39m [identity,\n\u001b[0;32m   1189\u001b[0m     (\n\u001b[0;32m   1190\u001b[0m     TR3,  \u001b[38;5;66;03m# canonical angles\u001b[39;00m\n\u001b[1;32m   (...)\u001b[0m\n\u001b[0;32m   1223\u001b[0m         factor_terms, TR12(x), trigs)],  \u001b[38;5;66;03m# expand tan of sum\u001b[39;00m\n\u001b[0;32m   1224\u001b[0m     )]\n",
      "File \u001b[1;32mc:\\Users\\lukel\\anaconda3\\Lib\\site-packages\\sympy\\core\\sorting.py:193\u001b[0m, in \u001b[0;36m_nodes\u001b[1;34m(e)\u001b[0m\n\u001b[0;32m    190\u001b[0m     \u001b[38;5;28;01mif\u001b[39;00m \u001b[38;5;28misinstance\u001b[39m(e, Derivative):\n\u001b[0;32m    191\u001b[0m         \u001b[38;5;28;01mreturn\u001b[39;00m _nodes(e\u001b[38;5;241m.\u001b[39mexpr) \u001b[38;5;241m+\u001b[39m \u001b[38;5;28msum\u001b[39m(i[\u001b[38;5;241m1\u001b[39m] \u001b[38;5;28;01mif\u001b[39;00m i[\u001b[38;5;241m1\u001b[39m]\u001b[38;5;241m.\u001b[39mis_Number \u001b[38;5;28;01melse\u001b[39;00m\n\u001b[0;32m    192\u001b[0m             _nodes(i[\u001b[38;5;241m1\u001b[39m]) \u001b[38;5;28;01mfor\u001b[39;00m i \u001b[38;5;129;01min\u001b[39;00m e\u001b[38;5;241m.\u001b[39mvariable_count)\n\u001b[1;32m--> 193\u001b[0m     \u001b[38;5;28;01mreturn\u001b[39;00m _node_count(e)\n\u001b[0;32m    194\u001b[0m \u001b[38;5;28;01melif\u001b[39;00m iterable(e):\n\u001b[0;32m    195\u001b[0m     \u001b[38;5;28;01mreturn\u001b[39;00m \u001b[38;5;241m1\u001b[39m \u001b[38;5;241m+\u001b[39m \u001b[38;5;28msum\u001b[39m(_nodes(ei) \u001b[38;5;28;01mfor\u001b[39;00m ei \u001b[38;5;129;01min\u001b[39;00m e)\n",
      "File \u001b[1;32mc:\\Users\\lukel\\anaconda3\\Lib\\site-packages\\sympy\\core\\sorting.py:176\u001b[0m, in \u001b[0;36m_node_count\u001b[1;34m(e)\u001b[0m\n\u001b[0;32m    174\u001b[0m \u001b[38;5;28;01mif\u001b[39;00m e\u001b[38;5;241m.\u001b[39mis_Float:\n\u001b[0;32m    175\u001b[0m     \u001b[38;5;28;01mreturn\u001b[39;00m \u001b[38;5;241m0.5\u001b[39m\n\u001b[1;32m--> 176\u001b[0m \u001b[38;5;28;01mreturn\u001b[39;00m \u001b[38;5;241m1\u001b[39m \u001b[38;5;241m+\u001b[39m \u001b[38;5;28msum\u001b[39m(\u001b[38;5;28mmap\u001b[39m(_node_count, e\u001b[38;5;241m.\u001b[39margs))\n",
      "File \u001b[1;32mc:\\Users\\lukel\\anaconda3\\Lib\\site-packages\\sympy\\core\\sorting.py:176\u001b[0m, in \u001b[0;36m_node_count\u001b[1;34m(e)\u001b[0m\n\u001b[0;32m    174\u001b[0m \u001b[38;5;28;01mif\u001b[39;00m e\u001b[38;5;241m.\u001b[39mis_Float:\n\u001b[0;32m    175\u001b[0m     \u001b[38;5;28;01mreturn\u001b[39;00m \u001b[38;5;241m0.5\u001b[39m\n\u001b[1;32m--> 176\u001b[0m \u001b[38;5;28;01mreturn\u001b[39;00m \u001b[38;5;241m1\u001b[39m \u001b[38;5;241m+\u001b[39m \u001b[38;5;28msum\u001b[39m(\u001b[38;5;28mmap\u001b[39m(_node_count, e\u001b[38;5;241m.\u001b[39margs))\n",
      "File \u001b[1;32mc:\\Users\\lukel\\anaconda3\\Lib\\site-packages\\sympy\\core\\sorting.py:176\u001b[0m, in \u001b[0;36m_node_count\u001b[1;34m(e)\u001b[0m\n\u001b[0;32m    174\u001b[0m \u001b[38;5;28;01mif\u001b[39;00m e\u001b[38;5;241m.\u001b[39mis_Float:\n\u001b[0;32m    175\u001b[0m     \u001b[38;5;28;01mreturn\u001b[39;00m \u001b[38;5;241m0.5\u001b[39m\n\u001b[1;32m--> 176\u001b[0m \u001b[38;5;28;01mreturn\u001b[39;00m \u001b[38;5;241m1\u001b[39m \u001b[38;5;241m+\u001b[39m \u001b[38;5;28msum\u001b[39m(\u001b[38;5;28mmap\u001b[39m(_node_count, e\u001b[38;5;241m.\u001b[39margs))\n",
      "File \u001b[1;32mc:\\Users\\lukel\\anaconda3\\Lib\\site-packages\\sympy\\core\\sorting.py:168\u001b[0m, in \u001b[0;36m_node_count\u001b[1;34m(e)\u001b[0m\n\u001b[0;32m    162\u001b[0m         cls_index, args \u001b[38;5;241m=\u001b[39m \u001b[38;5;241m0\u001b[39m, (\u001b[38;5;241m1\u001b[39m, (\u001b[38;5;28mstr\u001b[39m(item),))\n\u001b[0;32m    164\u001b[0m     \u001b[38;5;28;01mreturn\u001b[39;00m (cls_index, \u001b[38;5;241m0\u001b[39m, item\u001b[38;5;241m.\u001b[39m\u001b[38;5;18m__class__\u001b[39m\u001b[38;5;241m.\u001b[39m\u001b[38;5;18m__name__\u001b[39m\n\u001b[0;32m    165\u001b[0m             ), args, S\u001b[38;5;241m.\u001b[39mOne\u001b[38;5;241m.\u001b[39msort_key(), S\u001b[38;5;241m.\u001b[39mOne\n\u001b[1;32m--> 168\u001b[0m \u001b[38;5;28;01mdef\u001b[39;00m \u001b[38;5;21m_node_count\u001b[39m(e):\n\u001b[0;32m    169\u001b[0m     \u001b[38;5;66;03m# this not only counts nodes, it affirms that the\u001b[39;00m\n\u001b[0;32m    170\u001b[0m     \u001b[38;5;66;03m# args are Basic (i.e. have an args property). If\u001b[39;00m\n\u001b[0;32m    171\u001b[0m     \u001b[38;5;66;03m# some object has a non-Basic arg, it needs to be\u001b[39;00m\n\u001b[0;32m    172\u001b[0m     \u001b[38;5;66;03m# fixed since it is intended that all Basic args\u001b[39;00m\n\u001b[0;32m    173\u001b[0m     \u001b[38;5;66;03m# are of Basic type (though this is not easy to enforce).\u001b[39;00m\n\u001b[0;32m    174\u001b[0m     \u001b[38;5;28;01mif\u001b[39;00m e\u001b[38;5;241m.\u001b[39mis_Float:\n\u001b[0;32m    175\u001b[0m         \u001b[38;5;28;01mreturn\u001b[39;00m \u001b[38;5;241m0.5\u001b[39m\n",
      "\u001b[1;31mKeyboardInterrupt\u001b[0m: "
     ]
    }
   ],
   "source": [
    "are_equal = sp.simplify(c*alpha_prime_sub/denom_2 - Exp/num_3)\n",
    "print(are_equal)"
   ]
  },
  {
   "cell_type": "code",
   "execution_count": null,
   "metadata": {},
   "outputs": [
    {
     "name": "stdout",
     "output_type": "stream",
     "text": [
      "Original Expression: 24.1631645383591\n",
      "Simplified Expression: 24.1631645383591\n"
     ]
    },
    {
     "data": {
      "text/plain": [
       "True"
      ]
     },
     "execution_count": 28,
     "metadata": {},
     "output_type": "execute_result"
    }
   ],
   "source": [
    "# Define term1 and term2 using the given expressions\n",
    "term1 = cosh((q-0.5)*lamb) * cosh((p+q-1)/2 * lamb) - sinh((p+q-1)/2 * lamb) * sinh((p-0.5) * lamb)\n",
    "term2 = sinh((p+q-1)/2 * lamb) * cosh((p-0.5)*lamb) - sinh((p+q-1)/2 * lamb) * cosh((q-0.5) * lamb)\n",
    "\n",
    "# Define the full expression using term1 and term2\n",
    "expression = sinh(n*lamb) * term1 + cosh(n*lamb) * term2\n",
    "\n",
    "# Define the simplified expression\n",
    "simplified_exp = (sinh(lamb*(n - p/2 + q/2)) - \n",
    "                  sinh(lamb*(n - 3*p/2 - q/2 + 1))/2 + \n",
    "                  sinh(lamb*(n - p/2 - 3*q/2 + 1))/2)\n",
    "\n",
    "# Output the results to compare\n",
    "print(\"Original Expression:\", expression.evalf(subs={p: 5, q: 2, n: 7, alpha_prime: 0.2, lamb: acosh(1.25) }))\n",
    "print(\"Simplified Expression:\", simplified_exp.evalf(subs={p: 5, q: 2, n: 7, alpha_prime: 0.2, lamb: acosh(1.25)}))\n",
    "\n",
    "print(sp.simplify(simplified_exp - expression) == 0)\n"
   ]
  },
  {
   "cell_type": "code",
   "execution_count": null,
   "metadata": {},
   "outputs": [
    {
     "name": "stdout",
     "output_type": "stream",
     "text": [
      "0.693147180559945\n"
     ]
    }
   ],
   "source": [
    "print(acosh(1/.8))\n",
    "lamb = acosh(1/.8)\n",
    "alpha_prime = 0.4\n",
    "\n"
   ]
  },
  {
   "cell_type": "code",
   "execution_count": null,
   "metadata": {},
   "outputs": [],
   "source": []
  }
 ],
 "metadata": {
  "kernelspec": {
   "display_name": "base",
   "language": "python",
   "name": "python3"
  },
  "language_info": {
   "codemirror_mode": {
    "name": "ipython",
    "version": 3
   },
   "file_extension": ".py",
   "mimetype": "text/x-python",
   "name": "python",
   "nbconvert_exporter": "python",
   "pygments_lexer": "ipython3",
   "version": "3.11.7"
  }
 },
 "nbformat": 4,
 "nbformat_minor": 2
}
