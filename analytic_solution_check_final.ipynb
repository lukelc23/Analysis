{
 "cells": [
  {
   "cell_type": "markdown",
   "id": "718eea01",
   "metadata": {},
   "source": [
    "# Checking analytic solutions\n",
    "\n",
    "Sympy:\n",
    "sympy.symbols()\n",
    ".subs()\n",
    "\n",
    "from sympy import symbols, Eq, simplify\n",
    "\n",
    "x = symbols('x')\n",
    "equation = Eq(x**2 - 4, 0) # x^2 - 4 = 0\n",
    "proposed_solution = 2\n",
    "\n",
    "# Substitute the solution into the equation\n",
    "check_result = equation.lhs.subs(x, proposed_solution) - equation.rhs.subs(x, proposed_solution)\n",
    "\n",
    "# Simplify and verify\n",
    "print(simplify(check_result)) # Output: 0"
   ]
  },
  {
   "cell_type": "code",
   "execution_count": null,
   "id": "bbd4334d",
   "metadata": {},
   "outputs": [],
   "source": []
  }
 ],
 "metadata": {
  "language_info": {
   "name": "python"
  }
 },
 "nbformat": 4,
 "nbformat_minor": 5
}
