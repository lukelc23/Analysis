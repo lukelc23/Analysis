{
 "cells": [
  {
   "cell_type": "code",
   "execution_count": null,
   "metadata": {},
   "outputs": [
    {
     "name": "stdout",
     "output_type": "stream",
     "text": [
      "K \n",
      " [[1.   0.   0.   0.   0.49 0.  ]\n",
      " [0.   1.   0.   0.49 0.   0.49]\n",
      " [0.   0.   1.   0.   0.49 0.  ]\n",
      " [0.   0.49 0.   1.   0.   0.  ]\n",
      " [0.49 0.   0.49 0.   1.   0.  ]\n",
      " [0.   0.49 0.   0.   0.   1.  ]]\n",
      "K_exp \n",
      " [[1.   0.   0.   0.   0.49 0.   0.49 0.  ]\n",
      " [0.   1.   0.   0.49 0.   0.49 0.   0.49]\n",
      " [0.   0.   1.   0.   0.49 0.   0.   0.49]\n",
      " [0.   0.49 0.   1.   0.   0.   0.   0.49]\n",
      " [0.49 0.   0.49 0.   1.   0.   0.49 0.  ]\n",
      " [0.   0.49 0.   0.   0.   1.   0.49 0.  ]\n",
      " [0.49 0.   0.   0.   0.49 0.49 1.   0.  ]\n",
      " [0.   0.49 0.49 0.49 0.   0.   0.   1.  ]]\n"
     ]
    }
   ],
   "source": [
    "import numpy as np\n",
    "import math\n",
    "\n",
    "#list important:\n",
    "# k_create,\n",
    "# one_hot_sim, k_exp_horiz\n",
    "\n",
    "#Set Parameters\n",
    "n = 4\n",
    "k_o = 0.49\n",
    "k_s = 1\n",
    "alpha = 1 - (2 * (k_o/k_s))\n",
    "alpha_prime = k_o/k_s\n",
    "p = 4\n",
    "q = 2\n",
    "\n",
    "#K matrix without exceptions\n",
    "    # return_k = false -> returns offset diagonal  \n",
    "def tridiag(n):\n",
    "    arr_len = n-1\n",
    "    diag_len = arr_len-1\n",
    "    B = np.diag(np.ones((diag_len)), k=1) + np.diag(np.ones((diag_len)), k=-1)\n",
    "    return B        \n",
    "\n",
    "def k_create(n, alpha_prime):\n",
    "    arr_len = n-1\n",
    "\n",
    "    A = np.identity(arr_len)\n",
    "    D = A\n",
    "    B = alpha_prime*tridiag(n)\n",
    "    C = B\n",
    "    E = np.block([[A,B],[B,A]])\n",
    "    return E\n",
    "\n",
    "#creates a vector for exceptions (only works for exception cases!)\n",
    "def e_i(n, i):\n",
    "    len_arr = n-1\n",
    "    array_pos = i-1     #(-1 to normalize), p and q refer to normal indices (from 1 to len_arr)\n",
    "    arr = np.zeros(len_arr)\n",
    "    if i > 0 and i < n: #if outside, k_o excluded from similarity matrix e.g. AE exception for n=5\n",
    "        arr[array_pos] = 1 \n",
    "    return arr\n",
    "\n",
    "#sides matrix in k_exp representing exceptions\n",
    "def k_exp_horiz(n, p, q, alpha_prime):\n",
    "    A = e_i(n, p) + e_i(n, q-1)\n",
    "    B = e_i(n, q) + e_i(n, p-1)\n",
    "    C = e_i(n, p-1) + e_i(n, q)\n",
    "    D = e_i(n, q-1) + e_i(n, p)\n",
    "    E = alpha_prime * np.block([[A,C],[B,D]])\n",
    "    return E\n",
    "\n",
    "def k_create_excep(n, p, q, alpha_prime):\n",
    "    K = k_create(n, alpha_prime)\n",
    "    E_1 = k_exp_horiz(n, p, q, alpha_prime)\n",
    "    E_2 = E_1.transpose()\n",
    "    E_3 = np.identity(2) #2 since there's only 2 columns for exceptions\n",
    "    \n",
    "    W = np.concatenate([K, E_1])\n",
    "    X = np.concatenate([E_2, E_3])\n",
    "    Z = np.concatenate([W, X], 1)\n",
    "    return Z\n",
    "\n",
    "K = k_create(n,alpha_prime)\n",
    "print('K', '\\n', K)\n",
    "K_exp = k_create_excep(n, p, q, alpha_prime)\n",
    "print('K_exp', '\\n',K_exp)\n"
   ]
  },
  {
   "cell_type": "code",
   "execution_count": 2,
   "metadata": {},
   "outputs": [
    {
     "data": {
      "text/plain": [
       "0.017304553433831738"
      ]
     },
     "execution_count": 2,
     "metadata": {},
     "output_type": "execute_result"
    }
   ],
   "source": [
    "np.linalg.det(K)"
   ]
  },
  {
   "cell_type": "code",
   "execution_count": 3,
   "metadata": {},
   "outputs": [
    {
     "data": {
      "text/plain": [
       "0.00031643838460330704"
      ]
     },
     "execution_count": 3,
     "metadata": {},
     "output_type": "execute_result"
    }
   ],
   "source": [
    "np.linalg.det(K_exp)"
   ]
  },
  {
   "cell_type": "code",
   "execution_count": 4,
   "metadata": {},
   "outputs": [
    {
     "name": "stdout",
     "output_type": "stream",
     "text": [
      "verify:\n",
      "y [ 1.  1.  1.  1.  1.  1. -1. -1. -1. -1. -1. -1.]\n",
      "K@a [ 1.  1.  1.  1.  1.  1. -1. -1. -1. -1. -1. -1.] \n",
      "\n",
      "verify:\n",
      "y_exp [ 1.  1.  1.  1.  1.  1. -1. -1. -1. -1. -1. -1.  1. -1.]\n",
      "K_exp@a_exp [ 1.  1.  1.  1.  1.  1. -1. -1. -1. -1. -1. -1.  1. -1.] \n",
      "\n"
     ]
    }
   ],
   "source": [
    "def y_create(n):\n",
    "    A = np.ones(n-1)\n",
    "    B = A * -1\n",
    "    D = np.concatenate([A, B])\n",
    "    return D\n",
    "\n",
    "def y_create_exp(n):\n",
    "    A = np.ones(n-1)\n",
    "    B = A * -1\n",
    "    C = np.array([1, -1])\n",
    "    D = np.concatenate([A, B, C])\n",
    "    return D\n",
    "\n",
    "def a_create(n, alpha_prime):\n",
    "    K = k_create(n, alpha_prime)\n",
    "    y = y_create(n)\n",
    "    a = np.linalg.solve(K, y)\n",
    "    return a\n",
    "\n",
    "def a_exp_create(n, p, q, alpha_prime):\n",
    "    K_exp = k_create_excep(n, p, q, alpha_prime)\n",
    "    y_exp = y_create_exp(n)\n",
    "    a_exp = np.linalg.solve(K_exp, y_exp)\n",
    "    return a_exp\n",
    "\n",
    "y = y_create(n)\n",
    "a = a_create(n, alpha_prime)\n",
    "y_exp = y_create_exp(n)\n",
    "a_exp = a_exp_create(n, p, q, alpha_prime)\n",
    "\n",
    "print('verify:')\n",
    "print('y', y)\n",
    "print('K@a', K@a, '\\n')\n",
    "\n",
    "print('verify:')\n",
    "print('y_exp', y_exp)\n",
    "print('K_exp@a_exp', K_exp@a_exp, '\\n')"
   ]
  },
  {
   "cell_type": "code",
   "execution_count": null,
   "metadata": {},
   "outputs": [],
   "source": []
  },
  {
   "cell_type": "code",
   "execution_count": 5,
   "metadata": {},
   "outputs": [
    {
     "name": "stdout",
     "output_type": "stream",
     "text": [
      "[ 1.  1.  1.  1.  1.  1. -1. -1. -1. -1. -1. -1.  1. -1.]\n",
      "1.0 1.0\n",
      "1.0 1.0\n",
      "1.0 0.9999999999999929\n",
      "1.0 1.0000000000000027\n",
      "1.0 1.0\n",
      "1.0 0.9999999999999996\n",
      "-1.0 -0.9999999999999982\n",
      "-1.0 -1.0\n",
      "-1.0 -0.9999999999999978\n",
      "-1.0 -1.0\n",
      "-1.0 -0.9999999999999991\n",
      "-1.0 -1.0\n",
      "1.0 1.0000000000000036\n",
      "-1.0 -1.0000000000000036\n",
      "K is  True\n"
     ]
    }
   ],
   "source": [
    "n = 7\n",
    "k_o = 0.49\n",
    "k_s = 1\n",
    "alpha = 1 - (2 * (k_o/k_s))\n",
    "alpha_prime = k_o/k_s\n",
    "p = 4\n",
    "q = 2\n",
    "\n",
    "def task_exp(n, p, q, alpha_prime):\n",
    "    K_exp = k_create_excep(n, p, q, alpha_prime)\n",
    "    a_exp = a_exp_create(n,p,q,alpha_prime)\n",
    "    return K_exp, a_exp\n",
    "\n",
    "K_exp, a_exp = task_exp(n,p,q,alpha_prime)\n",
    "print(K_exp @ a_exp)\n",
    "verif = True\n",
    "\n",
    "for i in range(0, len(y_exp)):\n",
    "    print(y_exp[i], (K_exp @ a_exp)[i])\n",
    "    if math.isclose(y_exp[i], (K_exp @ a_exp)[i], abs_tol = 1e-04):\n",
    "        continue\n",
    "    else: \n",
    "        verif = False\n",
    "print('K is ', verif)\n"
   ]
  },
  {
   "cell_type": "code",
   "execution_count": 6,
   "metadata": {},
   "outputs": [
    {
     "data": {
      "text/plain": [
       "array([ 1.,  1.,  1.,  1.,  1.,  1., -1., -1., -1., -1., -1., -1.,  1.,\n",
       "       -1.])"
      ]
     },
     "execution_count": 6,
     "metadata": {},
     "output_type": "execute_result"
    }
   ],
   "source": [
    "y_exp"
   ]
  },
  {
   "cell_type": "code",
   "execution_count": 7,
   "metadata": {},
   "outputs": [
    {
     "name": "stdout",
     "output_type": "stream",
     "text": [
      "[  3.09175364  51.0167512   52.23538258   6.79738785   6.34388741\n",
      "   4.10850483  -3.09175364 -51.0167512  -52.23538258  -6.79738785\n",
      "  -6.34388741  -4.10850483  46.74786622 -46.74786622]\n",
      "[ 1.  1.  1.  1.  1.  1. -1. -1. -1. -1. -1. -1.  1. -1.]\n"
     ]
    }
   ],
   "source": [
    "print(a_exp)\n",
    "print(K_exp@a_exp)"
   ]
  },
  {
   "cell_type": "code",
   "execution_count": 8,
   "metadata": {},
   "outputs": [
    {
     "name": "stdout",
     "output_type": "stream",
     "text": [
      "Verif: True\n"
     ]
    }
   ],
   "source": [
    "# Create a dictionary with keys generated using the index and values from the array\n",
    "def create_bc(n,p,q,alpha_prime):\n",
    "    a_exp = a_exp_create(n,p,q,alpha_prime)\n",
    "    num_coeff = n-1\n",
    "    b = {i: a_exp[i-1] for i in range(1, num_coeff + 1)}\n",
    "    b_bar = {i: a_exp[i-1+n-1] for i in range(1, num_coeff + 1)}\n",
    "    c = {1: a_exp[2 * num_coeff]}\n",
    "    c_bar = {1: a_exp[2 * num_coeff + 1]}\n",
    "    return b, b_bar, c, c_bar\n",
    "\n",
    "b, b_bar, c, c_bar = create_bc(n,p,q,alpha_prime)\n",
    "\n",
    "verif = True\n",
    "for i in range(0, n-1):\n",
    "    if a_exp[i] != b[i+1]:\n",
    "        verif = False\n",
    "    if a_exp[i+n-1] != b_bar[i+1]:\n",
    "        verif = False    \n",
    "    if a_exp[(2*n-2)] != c[1]:\n",
    "        verif = False\n",
    "    if a_exp[(2*n-1)] != c_bar[1]:\n",
    "        verif = False\n",
    "print('Verif:', verif)\n",
    "        "
   ]
  },
  {
   "cell_type": "code",
   "execution_count": 9,
   "metadata": {},
   "outputs": [
    {
     "name": "stdout",
     "output_type": "stream",
     "text": [
      "[  3.09175364  51.0167512   52.23538258   6.79738785   6.34388741\n",
      "   4.10850483  -3.09175364 -51.0167512  -52.23538258  -6.79738785\n",
      "  -6.34388741  -4.10850483  46.74786622 -46.74786622]\n",
      "b 0 3.0917536365917813 3.0917536365917844\n",
      "b 1 51.01675119592607 51.01675119592609\n",
      "b 2 52.23538258078389 52.2353825807839\n",
      "b 3 6.797387847690048 6.797387847690054\n",
      "b 4 6.343887413301917 6.343887413301921\n",
      "b 5 4.108504832517936 4.108504832517941\n",
      "Verif b: True\n",
      "46.74786622328978 {1: 46.74786622328979}\n",
      "Verif c: True\n"
     ]
    }
   ],
   "source": [
    "#test analytical solutions for b and c\n",
    "verif = True\n",
    "\n",
    "def b_exist(b, n, i):\n",
    "    if i>0 and i<n: \n",
    "        return b[i]\n",
    "    else: \n",
    "        return 0\n",
    "\n",
    "b, b_bar, c, c_bar = create_bc(n,p,q,alpha_prime)\n",
    "A = tridiag(n)\n",
    "K_mult = np.ones(n-1) - (c[1]*alpha_prime*(e_i(n, p) + e_i(n, q-1) - e_i(n, p-1) - e_i(n, q)))\n",
    "B = np.linalg.inv(np.identity(n-1) - (A*k_o))\n",
    "b_exp_analytical = B @ K_mult\n",
    "\n",
    "c_exp_analytical = 1 - ( alpha_prime * (b_exist(b, n, p) + b_exist(b,n,q-1) - b_exist(b,n,p-1) - b_exist(b,n,q)) )\n",
    "\n",
    "\n",
    "#print verifications\n",
    "print(a_exp)\n",
    "\n",
    "for i in range(0, n-1):\n",
    "    print('b', i, b[i+1], b_exp_analytical[i])\n",
    "\n",
    "for i in range(0, n-1):\n",
    "    if math.isclose(b[i+1], b_exp_analytical[i], abs_tol = 1e-30) == False:\n",
    "        verif = False\n",
    "print('Verif b:', verif)\n",
    "\n",
    "print(c_exp_analytical, c)\n",
    "\n",
    "if math.isclose(c[1], c_exp_analytical, abs_tol = 1e-30):\n",
    "    print('Verif c:', True)\n"
   ]
  },
  {
   "cell_type": "code",
   "execution_count": 10,
   "metadata": {},
   "outputs": [
    {
     "data": {
      "text/plain": [
       "0.020000000000000018"
      ]
     },
     "execution_count": 10,
     "metadata": {},
     "output_type": "execute_result"
    }
   ],
   "source": [
    "alpha"
   ]
  },
  {
   "cell_type": "code",
   "execution_count": 46,
   "metadata": {},
   "outputs": [
    {
     "name": "stdout",
     "output_type": "stream",
     "text": [
      "0.3775245925034208\n",
      "0.10296400554920966\n",
      "0.02625582141504847\n",
      "0.0\n",
      "-0.02625582141504847\n",
      "-0.10296400554920966\n",
      "-0.3775245925034208\n",
      "[0.3775245925034208, 0.10296400554920966, 0.02625582141504847, 0.0, -0.02625582141504847, -0.10296400554920966, -0.3775245925034208]\n"
     ]
    },
    {
     "data": {
      "image/png": "[encoded data removed]",
      "text/plain": [
       "<Figure size 640x480 with 1 Axes>"
      ]
     },
     "metadata": {},
     "output_type": "display_data"
    }
   ],
   "source": [
    "#Non Exception Ranking\n",
    "\n",
    "import numpy as np\n",
    "import matplotlib.pyplot as plt\n",
    "\n",
    "def lamb(alpha):\n",
    "    return np.arccosh(1 / (1-alpha))\n",
    "\n",
    "#non adjacent test cases\n",
    "# i is not offset\n",
    "def rank(alpha, n, i):\n",
    "    num = np.sinh(( ((n+1)/2) - i) * lamb(alpha))\n",
    "    denom = np.sinh(((n+1)/2) * lamb(alpha)) - np.sinh(((n-1)/2) * lamb(alpha))\n",
    "    return num / denom\n",
    "\n",
    "index = list(range(1,n+1))\n",
    "\n",
    "results = {}\n",
    "results_array = []\n",
    "\n",
    "# Set variables dynamically\n",
    "for i in range(1, n+1):\n",
    "   results[f'r_{i}'] = rank(0.49, 7, i)\n",
    "   print(results[f'r_{i}'])\n",
    "   results_array.append(results[f'r_{i}'])\n",
    "\n",
    "print(results_array)\n",
    "\n",
    "plt.plot(index, results_array, marker='o', linestyle='-', color='b')\n",
    "plt.title('Rank Function Results')\n",
    "plt.xlabel('Index (i)')\n",
    "plt.ylabel('Rank Value')\n",
    "plt.grid(True)\n",
    "plt.xticks(index)  # Set the ticks to match the index values\n",
    "plt.show()\n",
    "\n",
    "\n"
   ]
  },
  {
   "cell_type": "code",
   "execution_count": 51,
   "metadata": {},
   "outputs": [
    {
     "name": "stdout",
     "output_type": "stream",
     "text": [
      "i,j 1 1\n",
      "i,j 1 2\n",
      "i,j 1 3\n",
      "-0.35126877108837234 1.7273904875584098\n",
      " error at i: 1 j:3\n"
     ]
    },
    {
     "data": {
      "text/plain": [
       "False"
      ]
     },
     "execution_count": 51,
     "metadata": {},
     "output_type": "execute_result"
    }
   ],
   "source": [
    "def K_row_prev(j,k,n,alpha_prime):\n",
    "    arr_1 = np.zeros(n-1)\n",
    "    for i in range (0, n-1):\n",
    "        if j == (i+1) and k == (i+2):\n",
    "            arr_1[i] = 1\n",
    "            break\n",
    "        if j == (i+1):\n",
    "            arr_1[i] = alpha_prime\n",
    "        if k == (i+2):\n",
    "            arr_1[i] = alpha_prime\n",
    "    arr_2 = np.zeros(n-1)\n",
    "    for i in range (0, n-1):\n",
    "        if j == (i+2) and k == (i+1):\n",
    "            arr_2[i] = 1\n",
    "            break\n",
    "        if j == (i+2):\n",
    "            arr_2[i] = alpha_prime\n",
    "        if k == (i+1):\n",
    "            arr_2[i] = alpha_prime\n",
    "    \n",
    "    return np.concatenate([arr_1, arr_2])\n",
    "\n",
    "def rank_results_array(j, k, arr):\n",
    "    return arr[k-1] - arr[j-1]\n",
    "\n",
    "#verifying the graph above makes sense\n",
    "def check_rank(results_array):\n",
    "    for i in range (1, n):\n",
    "        for j in range (1, n):\n",
    "            print('i,j', i, j)\n",
    "            if i != j and j != i+1 and j != i-1 and not(i == p  and j == q) and not (i == q  and j == p):\n",
    "                rank_results = rank_results_array(i,j, results_array)\n",
    "                func_results = K_row_prev(i,j,n,alpha_prime)@a\n",
    "                print(rank_results, func_results)\n",
    "                if math.isclose(rank_results,func_results)  == True:\n",
    "                    continue\n",
    "                else:\n",
    "                    print(' error at i: ' f'{i}', 'j:' f'{j}' )\n",
    "                    return False\n",
    "            else: \n",
    "                continue\n",
    "    return True\n",
    "\n",
    "check_rank(results_array)"
   ]
  },
  {
   "cell_type": "code",
   "execution_count": 12,
   "metadata": {},
   "outputs": [
    {
     "data": {
      "text/plain": [
       "-0.3775245925034208"
      ]
     },
     "execution_count": 12,
     "metadata": {},
     "output_type": "execute_result"
    }
   ],
   "source": [
    "rank(alpha_prime, n, 7)"
   ]
  },
  {
   "cell_type": "code",
   "execution_count": 13,
   "metadata": {},
   "outputs": [
    {
     "name": "stdout",
     "output_type": "stream",
     "text": [
      "3.0917536365917813\n",
      "0\n",
      "-1.5149592819299729\n",
      "-1.5149592819299729\n",
      "{1: 3.0917536365917813, 2: 51.01675119592607, 3: 52.23538258078389, 4: 6.797387847690048, 5: 6.343887413301917, 6: 4.108504832517936}\n"
     ]
    }
   ],
   "source": [
    "#Rank\n",
    "\n",
    "def delta_ij(i,j):\n",
    "    if i == j:\n",
    "        return 1\n",
    "    else:\n",
    "        return 0\n",
    "\n",
    "def rank_method2(j, b, c, alpha_prime):\n",
    "    rank = alpha_prime * ( b_exist(b,n,j-1) - b_exist(b,n,j) + ( c[1] * ( delta_ij(j, q) - delta_ij(j, p) ) ) )\n",
    "    return rank\n",
    "\n",
    "print(b_exist(b,7,1))\n",
    "print(delta_ij(1,4))\n",
    "print(rank_method2(1,b,c,alpha_prime))\n",
    "print(alpha_prime * (0 - b[1]))\n",
    "\n",
    "print(b)"
   ]
  },
  {
   "cell_type": "code",
   "execution_count": 14,
   "metadata": {},
   "outputs": [
    {
     "name": "stdout",
     "output_type": "stream",
     "text": [
      "-1.5149592819299729\n",
      "-0.5767943546618032\n",
      "-0.5971293785803329\n",
      "-0.6418370301960132\n",
      "0.22221521285018409\n",
      "1.0953374645841505\n",
      "2.013167367933789\n",
      "[-1.5149592819299729, -0.5767943546618032, -0.5971293785803329, -0.6418370301960132, 0.22221521285018409, 1.0953374645841505, 2.013167367933789]\n"
     ]
    },
    {
     "data": {
      "image/png": "[encoded data removed]",
      "text/plain": [
       "<Figure size 640x480 with 1 Axes>"
      ]
     },
     "metadata": {},
     "output_type": "display_data"
    }
   ],
   "source": [
    "#Exception Ranking by formula\n",
    "\n",
    "import numpy as np\n",
    "import matplotlib.pyplot as plt\n",
    "\n",
    "def lamb(alpha):\n",
    "    return np.arccosh(1 / (1-alpha))\n",
    "\n",
    "#non adjacent test cases\n",
    "def rank(alpha, n, i):\n",
    "    num = np.sinh(( ((n+1)/2) - i) * lamb(alpha))\n",
    "    denom = np.sinh(((n+1)/2) * lamb(alpha)) - np.sinh(((n-1)/2) * lamb(alpha))\n",
    "    return num / denom\n",
    "\n",
    "index = list(range(1,n+1))\n",
    "\n",
    "results = {}\n",
    "results_array = []\n",
    "\n",
    "# Set variables dynamically\n",
    "for i in range(1, n+1):\n",
    "   results[f'r_{i}'] = rank_method2(i, b, c, alpha_prime)\n",
    "   print(results[f'r_{i}'])\n",
    "   results_array.append(results[f'r_{i}'])\n",
    "\n",
    "print(results_array)\n",
    "\n",
    "plt.plot(index, results_array, marker='o', linestyle='-', color='b')\n",
    "plt.title('Rank Function Results')\n",
    "plt.xlabel('Index (i)')\n",
    "plt.ylabel('Rank Value')\n",
    "plt.grid(True)\n",
    "plt.xticks(index)  # Set the ticks to match the index values\n",
    "plt.show()\n"
   ]
  },
  {
   "cell_type": "code",
   "execution_count": 15,
   "metadata": {},
   "outputs": [
    {
     "data": {
      "text/plain": [
       "True"
      ]
     },
     "execution_count": 15,
     "metadata": {},
     "output_type": "execute_result"
    }
   ],
   "source": [
    "np.arccosh(1/(1-alpha)) == lamb(alpha)"
   ]
  },
  {
   "cell_type": "code",
   "execution_count": 16,
   "metadata": {},
   "outputs": [],
   "source": [
    "\n",
    "#exception case\n",
    "#def rank\n",
    "\n",
    "def D_exp_matrix(i, j, n, alpha_prime):\n",
    "    if i <= (j-1):\n",
    "        num = -2 * np.cosh((i-0.5)*lamb(alpha_prime)) * np.cosh((n-(j-0.5))*lamb(alpha_prime)) * np.tanh(lamb(alpha_prime)/2)\n",
    "        denom = np.sinh(lamb(alpha_prime) * n)\n",
    "        return num/denom\n",
    "    elif j <= (i-1):\n",
    "        num = -2 * np.cosh((j-0.5)*lamb(alpha_prime)) * np.cosh((n-(i-0.5))*lamb(alpha_prime)) * np.tanh(lamb(alpha_prime)/2)\n",
    "        denom = np.sinh(lamb(alpha_prime) * n)\n",
    "        return num/denom\n",
    "    elif i == j:\n",
    "        return -2 * ( 1 - ( (np.cosh((i-0.5)*lamb(alpha_prime)) * \n",
    "                             np.cosh((n-(i-0.5))*lamb(alpha_prime)) * np.tanh(lamb(alpha_prime)/2) ) / np.sinh(lamb(alpha_prime) * n) ) )\n",
    "        \n",
    "def c_formula(p, q, n, alpha_prime):\n",
    "    num = 1 + rank(alpha_prime,n,p) + rank(alpha_prime,n,q)\n",
    "    denom = 1 - D_exp_matrix(q,q,n,alpha_prime) - D_exp_matrix(p,p,n,alpha_prime) + D_exp_matrix(q,p,n,alpha_prime) + D_exp_matrix(p,q,n,alpha_prime)\n",
    "    return num/denom\n",
    "\n",
    "def delta_ij(i,j):\n",
    "    if i == j:\n",
    "        return 1\n",
    "    else:\n",
    "        return 0\n",
    "\n",
    "def rank_exp_j(j, p, q, n, alpha_prime, k_o, k_s):\n",
    "    rank_norm = rank(alpha_prime,n,j)\n",
    "    rank_add = c_formula(p,q,n,alpha_prime) * ( D_exp_matrix(j,q,n,alpha_prime) - D_exp_matrix(j,p,n,alpha_prime) + delta_ij(j,p) - delta_ij(j,q) )\n",
    "    rank_exp = rank_norm + rank_add\n",
    "    return rank_exp\n",
    "    \n",
    "def prediction_2(j,k,p,q,n,alpha_prime,k_o,k_s):\n",
    "    return rank_exp_j(k,p,q,n,alpha_prime,k_o,k_s) - rank_exp_j(j,p,q,n,alpha_prime,k_o,k_s)\n"
   ]
  },
  {
   "cell_type": "code",
   "execution_count": 17,
   "metadata": {},
   "outputs": [
    {
     "name": "stdout",
     "output_type": "stream",
     "text": [
      "-1.5149592819299729 -0.5971293785803329\n"
     ]
    }
   ],
   "source": [
    "print(rank_method2(1, b, c, alpha_prime), rank_method2(3, b, c, alpha_prime))"
   ]
  },
  {
   "cell_type": "code",
   "execution_count": 18,
   "metadata": {},
   "outputs": [
    {
     "name": "stdout",
     "output_type": "stream",
     "text": [
      "-1.5149592819299729\n",
      "-0.5767943546618032\n",
      "-0.5971293785803329\n",
      "-0.6418370301960132\n",
      "0.22221521285018409\n",
      "1.0953374645841505\n",
      "2.013167367933789\n",
      "[-1.5149592819299729, -0.5767943546618032, -0.5971293785803329, -0.6418370301960132, 0.22221521285018409, 1.0953374645841505, 2.013167367933789]\n"
     ]
    },
    {
     "data": {
      "image/png": "[encoded data removed]",
      "text/plain": [
       "<Figure size 640x480 with 1 Axes>"
      ]
     },
     "metadata": {},
     "output_type": "display_data"
    }
   ],
   "source": [
    "#Exception Ranking\n",
    "\n",
    "import numpy as np\n",
    "import matplotlib.pyplot as plt\n",
    "\n",
    "def lamb(alpha):\n",
    "    return np.arccosh(1 / (1-alpha))\n",
    "\n",
    "#non adjacent test cases\n",
    "def rank(alpha, n, i):\n",
    "    num = np.sinh(( ((n+1)/2) - i) * lamb(alpha))\n",
    "    denom = np.sinh(((n+1)/2) * lamb(alpha)) - np.sinh(((n-1)/2) * lamb(alpha))\n",
    "    return num / denom\n",
    "\n",
    "index = list(range(1,n+1))\n",
    "\n",
    "results = {}\n",
    "results_array = []\n",
    "\n",
    "# Set variables dynamically\n",
    "for i in range(1, n+1):\n",
    "   results[f'r_{i}'] = rank_method2(i, b, c, alpha_prime)\n",
    "   print(results[f'r_{i}'])\n",
    "   results_array.append(results[f'r_{i}'])\n",
    "\n",
    "print(results_array)\n",
    "\n",
    "plt.plot(index, results_array, marker='o', linestyle='-', color='b')\n",
    "plt.title('Rank Function Results')\n",
    "plt.xlabel('Index (i)')\n",
    "plt.ylabel('Rank Value')\n",
    "plt.grid(True)\n",
    "plt.xticks(index)  # Set the ticks to match the index values\n",
    "plt.show()\n"
   ]
  },
  {
   "cell_type": "code",
   "execution_count": 19,
   "metadata": {},
   "outputs": [
    {
     "data": {
      "text/plain": [
       "-1.5149592819299729"
      ]
     },
     "execution_count": 19,
     "metadata": {},
     "output_type": "execute_result"
    }
   ],
   "source": [
    "rank_method2(1, b, c, alpha_prime)\n",
    "\n"
   ]
  },
  {
   "cell_type": "code",
   "execution_count": 20,
   "metadata": {},
   "outputs": [
    {
     "data": {
      "text/plain": [
       "0.32355830481071807"
      ]
     },
     "execution_count": 20,
     "metadata": {},
     "output_type": "execute_result"
    }
   ],
   "source": [
    "rank_exp_j(1, p, q, n, alpha_prime, k_o, k_s)"
   ]
  },
  {
   "cell_type": "code",
   "execution_count": 21,
   "metadata": {},
   "outputs": [
    {
     "data": {
      "text/plain": [
       "1.7371744947801568"
      ]
     },
     "execution_count": 21,
     "metadata": {},
     "output_type": "execute_result"
    }
   ],
   "source": [
    "rank_method2(5, b, c, alpha_prime) - rank_method2(1, b, c, alpha_prime) "
   ]
  },
  {
   "cell_type": "code",
   "execution_count": 22,
   "metadata": {},
   "outputs": [
    {
     "name": "stdout",
     "output_type": "stream",
     "text": [
      "0.32355830481071807\n",
      "-0.593431960800371\n",
      "0.025387883977168926\n",
      "0.6997996425765592\n",
      "0.01609859124369364\n",
      "-0.09113080646858973\n",
      "-0.37347430288522204\n",
      "[0.32355830481071807, -0.593431960800371, 0.025387883977168926, 0.6997996425765592, 0.01609859124369364, -0.09113080646858973, -0.37347430288522204]\n"
     ]
    },
    {
     "data": {
      "image/png": "[encoded data removed]",
      "text/plain": [
       "<Figure size 640x480 with 1 Axes>"
      ]
     },
     "metadata": {},
     "output_type": "display_data"
    }
   ],
   "source": [
    "#Exception Ranking\n",
    "\n",
    "import numpy as np\n",
    "import matplotlib.pyplot as plt\n",
    "\n",
    "def lamb(alpha):\n",
    "    return np.arccosh(1 / (1-alpha))\n",
    "\n",
    "#non adjacent test cases\n",
    "def rank(alpha, n, i):\n",
    "    num = np.sinh(( ((n+1)/2) - i) * lamb(alpha))\n",
    "    denom = np.sinh(((n+1)/2) * lamb(alpha)) - np.sinh(((n-1)/2) * lamb(alpha))\n",
    "    return num / denom\n",
    "\n",
    "index = list(range(1,n+1))\n",
    "\n",
    "results = {}\n",
    "results_array = []\n",
    "\n",
    "# Set variables dynamically\n",
    "for i in range(1, n+1):\n",
    "   results[f'r_{i}'] = rank_exp_j(i, p, q, n, alpha_prime, k_o, k_s)\n",
    "   print(results[f'r_{i}'])\n",
    "   results_array.append(results[f'r_{i}'])\n",
    "\n",
    "print(results_array)\n",
    "\n",
    "plt.plot(index, results_array, marker='o', linestyle='-', color='b')\n",
    "plt.title('Rank Function Results')\n",
    "plt.xlabel('Index (i)')\n",
    "plt.ylabel('Rank Value')\n",
    "plt.grid(True)\n",
    "plt.xticks(index)  # Set the ticks to match the index values\n",
    "plt.show()\n"
   ]
  },
  {
   "cell_type": "code",
   "execution_count": 23,
   "metadata": {},
   "outputs": [
    {
     "name": "stdout",
     "output_type": "stream",
     "text": [
      "0.3775245925034208\n",
      "0.10296400554920966\n",
      "0.02625582141504847\n",
      "0.0\n",
      "-0.02625582141504847\n",
      "-0.10296400554920966\n",
      "-0.3775245925034208\n",
      "[0.3775245925034208, 0.10296400554920966, 0.02625582141504847, 0.0, -0.02625582141504847, -0.10296400554920966, -0.3775245925034208]\n"
     ]
    },
    {
     "data": {
      "image/png": "[encoded data removed]",
      "text/plain": [
       "<Figure size 640x480 with 1 Axes>"
      ]
     },
     "metadata": {},
     "output_type": "display_data"
    }
   ],
   "source": [
    "#Exception Ranking\n",
    "\n",
    "import numpy as np\n",
    "import matplotlib.pyplot as plt\n",
    "\n",
    "def lamb(alpha):\n",
    "    return np.arccosh(1 / (1-alpha))\n",
    "\n",
    "#non adjacent test cases\n",
    "def rank(alpha, n, i):\n",
    "    num = np.sinh(( ((n+1)/2) - i) * lamb(alpha))\n",
    "    denom = np.sinh(((n+1)/2) * lamb(alpha)) - np.sinh(((n-1)/2) * lamb(alpha))\n",
    "    return num / denom\n",
    "\n",
    "index = list(range(1,n+1))\n",
    "\n",
    "results = {}\n",
    "results_array = []\n",
    "\n",
    "# Set variables dynamically\n",
    "for i in range(1, n+1):\n",
    "   results[f'r_{i}'] = rank(alpha_prime, n, i)\n",
    "   print(results[f'r_{i}'])\n",
    "   results_array.append(results[f'r_{i}'])\n",
    "\n",
    "print(results_array)\n",
    "\n",
    "plt.plot(index, results_array, marker='o', linestyle='-', color='b')\n",
    "plt.title('Rank Function Results')\n",
    "plt.xlabel('Index (i)')\n",
    "plt.ylabel('Rank Value')\n",
    "plt.grid(True)\n",
    "plt.xticks(index)  # Set the ticks to match the index values\n",
    "plt.show()\n"
   ]
  },
  {
   "cell_type": "code",
   "execution_count": 24,
   "metadata": {},
   "outputs": [
    {
     "name": "stdout",
     "output_type": "stream",
     "text": [
      "[1.   0.   0.   0.   0.   0.   0.   0.49 0.   0.   0.   0.   0.49 0.  ]\n"
     ]
    }
   ],
   "source": [
    "def K_row(j,k,p,q,n,alpha_prime):\n",
    "    arr_1 = np.zeros(n-1)\n",
    "    for i in range (0, n-1):\n",
    "        if j == (i+1) and k == (i+2):\n",
    "            arr_1[i] = 1\n",
    "            break\n",
    "        if j == (i+1):\n",
    "            arr_1[i] = alpha_prime\n",
    "        if k == (i+2):\n",
    "            arr_1[i] = alpha_prime\n",
    "    arr_2 = np.zeros(n-1)\n",
    "    for i in range (0, n-1):\n",
    "        if j == (i+2) and k == (i+1):\n",
    "            arr_2[i] = 1\n",
    "            break\n",
    "        if j == (i+2):\n",
    "            arr_2[i] = alpha_prime\n",
    "        if k == (i+1):\n",
    "            arr_2[i] = alpha_prime\n",
    "    arr_3 = np.zeros(2)\n",
    "    if j == p and k == q:\n",
    "        arr_3[0] = 1\n",
    "    elif j == q and k == p:\n",
    "        arr_3[1] = 1 \n",
    "    elif j == p or k == q:\n",
    "        arr_3[0] = alpha_prime\n",
    "    elif j == q or k == p:\n",
    "        arr_3[1] = alpha_prime\n",
    "    \n",
    "    return np.concatenate([arr_1, arr_2, arr_3])\n",
    "\n",
    "print(K_row(1,2,4,2,7,alpha_prime))"
   ]
  },
  {
   "cell_type": "code",
   "execution_count": 25,
   "metadata": {},
   "outputs": [
    {
     "name": "stdout",
     "output_type": "stream",
     "text": [
      "[1.   0.   0.   0.   0.   0.   0.   0.49 0.   0.   0.   0.   0.49 0.  ]\n",
      "[0.   1.   0.   0.   0.   0.   0.49 0.   0.49 0.   0.   0.   0.   0.49]\n",
      "[0.   0.   1.   0.   0.   0.   0.   0.49 0.   0.49 0.   0.   0.   0.49]\n",
      "[0.   0.   0.   1.   0.   0.   0.   0.   0.49 0.   0.49 0.   0.49 0.  ]\n",
      "[0.   0.   0.   0.   1.   0.   0.   0.   0.   0.49 0.   0.49 0.   0.  ]\n",
      "[0.   0.   0.   0.   0.   1.   0.   0.   0.   0.   0.49 0.   0.   0.  ]\n",
      "[0.   0.49 0.   0.   0.   0.   1.   0.   0.   0.   0.   0.   0.   0.49]\n",
      "[0.49 0.   0.49 0.   0.   0.   0.   1.   0.   0.   0.   0.   0.49 0.  ]\n",
      "[0.   0.49 0.   0.49 0.   0.   0.   0.   1.   0.   0.   0.   0.49 0.  ]\n",
      "[0.   0.   0.49 0.   0.49 0.   0.   0.   0.   1.   0.   0.   0.   0.49]\n",
      "[0.   0.   0.   0.49 0.   0.49 0.   0.   0.   0.   1.   0.   0.   0.  ]\n",
      "[0.   0.   0.   0.   0.49 0.   0.   0.   0.   0.   0.   1.   0.   0.  ]\n",
      "[0.49 0.   0.   0.49 0.   0.   0.   0.49 0.49 0.   0.   0.   1.   0.  ]\n",
      "[0.   0.49 0.49 0.   0.   0.   0.49 0.   0.   0.49 0.   0.   0.   1.  ]\n",
      "[[1.   0.   0.   0.   0.   0.   0.   0.49 0.   0.   0.   0.   0.49 0.  ]\n",
      " [0.   1.   0.   0.   0.   0.   0.49 0.   0.49 0.   0.   0.   0.   0.49]\n",
      " [0.   0.   1.   0.   0.   0.   0.   0.49 0.   0.49 0.   0.   0.   0.49]\n",
      " [0.   0.   0.   1.   0.   0.   0.   0.   0.49 0.   0.49 0.   0.49 0.  ]\n",
      " [0.   0.   0.   0.   1.   0.   0.   0.   0.   0.49 0.   0.49 0.   0.  ]\n",
      " [0.   0.   0.   0.   0.   1.   0.   0.   0.   0.   0.49 0.   0.   0.  ]\n",
      " [0.   0.49 0.   0.   0.   0.   1.   0.   0.   0.   0.   0.   0.   0.49]\n",
      " [0.49 0.   0.49 0.   0.   0.   0.   1.   0.   0.   0.   0.   0.49 0.  ]\n",
      " [0.   0.49 0.   0.49 0.   0.   0.   0.   1.   0.   0.   0.   0.49 0.  ]\n",
      " [0.   0.   0.49 0.   0.49 0.   0.   0.   0.   1.   0.   0.   0.   0.49]\n",
      " [0.   0.   0.   0.49 0.   0.49 0.   0.   0.   0.   1.   0.   0.   0.  ]\n",
      " [0.   0.   0.   0.   0.49 0.   0.   0.   0.   0.   0.   1.   0.   0.  ]\n",
      " [0.49 0.   0.   0.49 0.   0.   0.   0.49 0.49 0.   0.   0.   1.   0.  ]\n",
      " [0.   0.49 0.49 0.   0.   0.   0.49 0.   0.   0.49 0.   0.   0.   1.  ]]\n"
     ]
    }
   ],
   "source": [
    "for i in range (1, n):\n",
    "    print(K_row(i, i+1, 4, 2, 7, alpha_prime))\n",
    "for i in range (1, n):\n",
    "    print(K_row(i+1, i, 4, 2, 7, alpha_prime))\n",
    "print(K_row(p, q, 4, 2, 7, alpha_prime))\n",
    "print(K_row(q, p, 4, 2, 7, alpha_prime))\n",
    "\n",
    "print(K_exp)"
   ]
  },
  {
   "cell_type": "code",
   "execution_count": 26,
   "metadata": {},
   "outputs": [
    {
     "name": "stdout",
     "output_type": "stream",
     "text": [
      "1\n",
      "0.7990095675119873\n",
      "0.7990095675119955\n",
      "[0.   0.49 0.   0.49 0.   0.   0.49 0.   0.   0.   0.49 0.   0.   0.49]\n"
     ]
    }
   ],
   "source": [
    "j = 2\n",
    "k = 5\n",
    "print(delta_ij(j, q))\n",
    "print(rank_method2(k, b, c, alpha_prime) - rank_method2(j, b, c, alpha_prime))\n",
    "print(K_row(j,k,p,q,n,alpha_prime) @ a_exp)\n",
    "print(K_row(j,k,p,q,n,alpha_prime))"
   ]
  },
  {
   "cell_type": "code",
   "execution_count": 27,
   "metadata": {},
   "outputs": [
    {
     "name": "stdout",
     "output_type": "stream",
     "text": [
      "[0.   0.49 0.   0.49 0.   0.   0.49 0.   0.   0.   0.49 0.   0.   0.49]\n",
      "0.8731222517339567\n",
      "0.8731222517339596\n",
      "[  3.09175364  51.0167512   52.23538258   6.79738785   6.34388741\n",
      "   4.10850483  -3.09175364 -51.0167512  -52.23538258  -6.79738785\n",
      "  -6.34388741  -4.10850483  46.74786622 -46.74786622]\n",
      "{1: 3.0917536365917813, 2: 51.01675119592607, 3: 52.23538258078389, 4: 6.797387847690048, 5: 6.343887413301917, 6: 4.108504832517936}\n",
      "{1: 46.74786622328979}\n"
     ]
    }
   ],
   "source": [
    "print(K_row(2,5,4,2,7,alpha_prime))\n",
    "print(K_row(1,4,4,2,7,alpha_prime)@a_exp)\n",
    "print(rank_method2(4, b, c, alpha_prime) - rank_method2(1, b, c, alpha_prime))\n",
    "print(a_exp)\n",
    "print(b)\n",
    "print(c)"
   ]
  },
  {
   "cell_type": "code",
   "execution_count": 28,
   "metadata": {},
   "outputs": [
    {
     "name": "stdout",
     "output_type": "stream",
     "text": [
      "[0.   0.49 0.   0.49 0.   0.   0.49 0.   0.   0.   0.49 0.   0.   0.49]\n",
      "0.9178299033496415\n",
      "\n",
      " 1 3 :\n",
      "0.9178299033496415\n",
      "0.91782990334964\n",
      "\n",
      " 1 4 :\n",
      "0.8731222517339567\n",
      "0.8731222517339596\n",
      "\n",
      " 1 5 :\n",
      "1.7371744947801595\n",
      "1.7371744947801568\n",
      "\n",
      " 1 6 :\n",
      "2.6102967465141216\n",
      "2.6102967465141234\n",
      "\n",
      " 1 7 :\n",
      "3.528126649863762\n",
      "3.528126649863762\n",
      "\n",
      " 2 4 :\n",
      "-1.0\n",
      "-0.06504267553421006\n",
      "\n",
      " 2 5 :\n",
      "0.7990095675119955\n",
      "0.7990095675119873\n",
      "\n",
      " 2 6 :\n",
      "1.6721318192459576\n",
      "1.6721318192459536\n",
      "\n",
      " 2 7 :\n",
      "2.589961722595598\n",
      "2.589961722595592\n",
      "\n",
      " 3 1 :\n",
      "-0.9178299033496451\n",
      "-0.91782990334964\n",
      "\n",
      " 3 5 :\n",
      "0.8193445914305144\n",
      "0.819344591430517\n",
      "\n",
      " 3 6 :\n",
      "1.6924668431644765\n",
      "1.6924668431644834\n",
      "\n",
      " 3 7 :\n",
      "2.610296746514116\n",
      "2.6102967465141216\n",
      "\n",
      " 4 1 :\n",
      "-0.8731222517339567\n",
      "-0.8731222517339596\n",
      "\n",
      " 4 2 :\n",
      "1.0000000000000036\n",
      "0.06504267553421006\n",
      "\n",
      " 4 6 :\n",
      "1.7371744947801642\n",
      "1.7371744947801637\n",
      "\n",
      " 4 7 :\n",
      "2.655004398129804\n",
      "2.655004398129802\n",
      "\n",
      " 5 1 :\n",
      "-1.7371744947801595\n",
      "-1.7371744947801568\n",
      "\n",
      " 5 2 :\n",
      "-0.7990095675119946\n",
      "-0.7990095675119873\n",
      "\n",
      " 5 3 :\n",
      "-0.819344591430518\n",
      "-0.819344591430517\n",
      "\n",
      " 5 7 :\n",
      "1.7909521550836014\n",
      "1.790952155083605\n",
      "\n",
      " 6 1 :\n",
      "-2.6102967465141202\n",
      "-2.6102967465141234\n",
      "\n",
      " 6 2 :\n",
      "-1.6721318192459549\n",
      "-1.6721318192459536\n",
      "\n",
      " 6 3 :\n",
      "-1.6924668431644778\n",
      "-1.6924668431644834\n",
      "\n",
      " 6 4 :\n",
      "-1.737174494780163\n",
      "-1.7371744947801637\n",
      "\n",
      " 7 1 :\n",
      "-3.5281266498637622\n",
      "-3.528126649863762\n",
      "\n",
      " 7 2 :\n",
      "-2.5899617225955964\n",
      "-2.589961722595592\n",
      "\n",
      " 7 3 :\n",
      "-2.6102967465141207\n",
      "-2.6102967465141216\n",
      "\n",
      " 7 4 :\n",
      "-2.6550043981298046\n",
      "-2.655004398129802\n",
      "\n",
      " 7 5 :\n",
      "-1.7909521550836034\n",
      "-1.790952155083605\n",
      "1 7 \n",
      "\n",
      "1.0\n",
      "2 7 \n",
      "\n",
      "0.9999999999999929\n",
      "3 7 \n",
      "\n",
      "1.0000000000000027\n",
      "4 7 \n",
      "\n",
      "1.0\n",
      "5 7 \n",
      "\n",
      "0.9999999999999996\n",
      "6 7 \n",
      "\n",
      "-0.9999999999999982\n",
      "7 7 \n",
      "\n",
      "-1.0\n",
      "8 7 \n",
      "\n",
      "-0.9999999999999978\n",
      "9 7 \n",
      "\n",
      "-1.0\n",
      "10 7 \n",
      "\n",
      "-0.9999999999999991\n",
      "11 7 \n",
      "\n",
      "-1.0\n",
      "12 7 \n",
      "\n",
      "1.0000000000000036\n",
      "13 7 \n",
      "\n",
      "-1.0\n",
      "[ 1.  1.  1.  1.  1.  1. -1. -1. -1. -1. -1. -1.  1. -1.]\n"
     ]
    }
   ],
   "source": [
    "print(K_row(2,5,4,2,7,alpha_prime))\n",
    "y_13 = K_row(1,3,n,2,7,alpha_prime) @ a_exp\n",
    "print(y_13)\n",
    "rank_method2(3, b, c, alpha_prime) - rank_method2(1, b, c, alpha_prime)\n",
    "\n",
    "for i in range(1,n+1):\n",
    "    for j in range(1,n+1):\n",
    "        if i == j or i == j+1 or j == i+1:\n",
    "            continue\n",
    "        print ('\\n',i,j,':')\n",
    "        print(K_row(i,j,4,2,7,alpha_prime) @ a_exp)\n",
    "        print(rank_method2(j, b, c, alpha_prime) - rank_method2(i, b, c, alpha_prime))\n",
    "\n",
    "# for i in range(1,n+1):\n",
    "#     for j in range(1,n+1):\n",
    "#         if i == j+1 or j == i+1:\n",
    "            \n",
    "#             print(K_row(i,j,n,2,7,alpha_prime) @ a_exp)\n",
    "#         else:\n",
    "#             continue\n",
    "        \n",
    "for i in range(1, len(K_exp)):\n",
    "    print (i,j,'\\n')\n",
    "    print(K_exp[:,i] @ a_exp)\n",
    "\n",
    "print(K_exp@a_exp)\n",
    "    "
   ]
  },
  {
   "cell_type": "code",
   "execution_count": 29,
   "metadata": {},
   "outputs": [
    {
     "name": "stdout",
     "output_type": "stream",
     "text": [
      "[1.   0.   0.   0.   0.   0.   0.   0.49 0.   0.   0.   0.   0.49 0.  ] [1.   0.   0.   0.   0.   0.   0.   0.49 0.   0.   0.   0.   0.49 0.  ]\n",
      "[0.   1.   0.   0.   0.   0.   0.49 0.   0.49 0.   0.   0.   0.   0.49] [0.   1.   0.   0.   0.   0.   0.49 0.   0.49 0.   0.   0.   0.   0.49]\n",
      "[0.   0.   1.   0.   0.   0.   0.   0.49 0.   0.49 0.   0.   0.   0.49] [0.   0.   1.   0.   0.   0.   0.   0.49 0.   0.49 0.   0.   0.   0.49]\n",
      "[0.   0.   0.   1.   0.   0.   0.   0.   0.49 0.   0.49 0.   0.49 0.  ] [0.   0.   0.   1.   0.   0.   0.   0.   0.49 0.   0.49 0.   0.49 0.  ]\n",
      "[0.   0.   0.   0.   1.   0.   0.   0.   0.   0.49 0.   0.49 0.   0.  ] [0.   0.   0.   0.   1.   0.   0.   0.   0.   0.49 0.   0.49 0.   0.  ]\n",
      "[0.   0.   0.   0.   0.   1.   0.   0.   0.   0.   0.49 0.   0.   0.  ] [0.   0.   0.   0.   0.   1.   0.   0.   0.   0.   0.49 0.   0.   0.  ]\n",
      "[0.   0.49 0.   0.   0.   0.   1.   0.   0.   0.   0.   0.   0.   0.49] [0.   0.   0.   0.   0.   0.   0.   0.   0.   0.   0.   0.49 0.   0.  ]\n"
     ]
    }
   ],
   "source": [
    "for i in range (0, n):\n",
    "    print(K_exp[:,i], K_row(i+1,i+2,4,2,7,alpha_prime) )"
   ]
  },
  {
   "cell_type": "code",
   "execution_count": 30,
   "metadata": {},
   "outputs": [
    {
     "name": "stdout",
     "output_type": "stream",
     "text": [
      "[[1.   0.   0.   0.   0.   0.   0.   0.49 0.   0.   0.   0.  ]\n",
      " [0.   1.   0.   0.   0.   0.   0.49 0.   0.49 0.   0.   0.  ]\n",
      " [0.   0.   1.   0.   0.   0.   0.   0.49 0.   0.49 0.   0.  ]\n",
      " [0.   0.   0.   1.   0.   0.   0.   0.   0.49 0.   0.49 0.  ]\n",
      " [0.   0.   0.   0.   1.   0.   0.   0.   0.   0.49 0.   0.49]\n",
      " [0.   0.   0.   0.   0.   1.   0.   0.   0.   0.   0.49 0.  ]\n",
      " [0.   0.49 0.   0.   0.   0.   1.   0.   0.   0.   0.   0.  ]\n",
      " [0.49 0.   0.49 0.   0.   0.   0.   1.   0.   0.   0.   0.  ]\n",
      " [0.   0.49 0.   0.49 0.   0.   0.   0.   1.   0.   0.   0.  ]\n",
      " [0.   0.   0.49 0.   0.49 0.   0.   0.   0.   1.   0.   0.  ]\n",
      " [0.   0.   0.   0.49 0.   0.49 0.   0.   0.   0.   1.   0.  ]\n",
      " [0.   0.   0.   0.   0.49 0.   0.   0.   0.   0.   0.   1.  ]]\n"
     ]
    }
   ],
   "source": [
    "print(K)"
   ]
  },
  {
   "cell_type": "code",
   "execution_count": 31,
   "metadata": {},
   "outputs": [
    {
     "name": "stdout",
     "output_type": "stream",
     "text": [
      "K \n",
      " [[1.   0.   0.   0.   0.   0.   0.   0.49 0.   0.   0.   0.  ]\n",
      " [0.   1.   0.   0.   0.   0.   0.49 0.   0.49 0.   0.   0.  ]\n",
      " [0.   0.   1.   0.   0.   0.   0.   0.49 0.   0.49 0.   0.  ]\n",
      " [0.   0.   0.   1.   0.   0.   0.   0.   0.49 0.   0.49 0.  ]\n",
      " [0.   0.   0.   0.   1.   0.   0.   0.   0.   0.49 0.   0.49]\n",
      " [0.   0.   0.   0.   0.   1.   0.   0.   0.   0.   0.49 0.  ]\n",
      " [0.   0.49 0.   0.   0.   0.   1.   0.   0.   0.   0.   0.  ]\n",
      " [0.49 0.   0.49 0.   0.   0.   0.   1.   0.   0.   0.   0.  ]\n",
      " [0.   0.49 0.   0.49 0.   0.   0.   0.   1.   0.   0.   0.  ]\n",
      " [0.   0.   0.49 0.   0.49 0.   0.   0.   0.   1.   0.   0.  ]\n",
      " [0.   0.   0.   0.49 0.   0.49 0.   0.   0.   0.   1.   0.  ]\n",
      " [0.   0.   0.   0.   0.49 0.   0.   0.   0.   0.   0.   1.  ]]\n",
      "K_exp \n",
      " [[1.   0.   0.   0.   0.   0.   0.   0.49 0.   0.   0.   0.   0.49 0.  ]\n",
      " [0.   1.   0.   0.   0.   0.   0.49 0.   0.49 0.   0.   0.   0.   0.49]\n",
      " [0.   0.   1.   0.   0.   0.   0.   0.49 0.   0.49 0.   0.   0.   0.49]\n",
      " [0.   0.   0.   1.   0.   0.   0.   0.   0.49 0.   0.49 0.   0.49 0.  ]\n",
      " [0.   0.   0.   0.   1.   0.   0.   0.   0.   0.49 0.   0.49 0.   0.  ]\n",
      " [0.   0.   0.   0.   0.   1.   0.   0.   0.   0.   0.49 0.   0.   0.  ]\n",
      " [0.   0.49 0.   0.   0.   0.   1.   0.   0.   0.   0.   0.   0.   0.49]\n",
      " [0.49 0.   0.49 0.   0.   0.   0.   1.   0.   0.   0.   0.   0.49 0.  ]\n",
      " [0.   0.49 0.   0.49 0.   0.   0.   0.   1.   0.   0.   0.   0.49 0.  ]\n",
      " [0.   0.   0.49 0.   0.49 0.   0.   0.   0.   1.   0.   0.   0.   0.49]\n",
      " [0.   0.   0.   0.49 0.   0.49 0.   0.   0.   0.   1.   0.   0.   0.  ]\n",
      " [0.   0.   0.   0.   0.49 0.   0.   0.   0.   0.   0.   1.   0.   0.  ]\n",
      " [0.49 0.   0.   0.49 0.   0.   0.   0.49 0.49 0.   0.   0.   1.   0.  ]\n",
      " [0.   0.49 0.49 0.   0.   0.   0.49 0.   0.   0.49 0.   0.   0.   1.  ]]\n"
     ]
    }
   ],
   "source": [
    "#Set Parameters\n",
    "n = 7\n",
    "k_o = 0.49\n",
    "k_s = 1\n",
    "alpha = 1 - (2 * (k_o/k_s))\n",
    "alpha_prime = k_o/k_s\n",
    "p = 4\n",
    "q = 2\n",
    "\n",
    "K = k_create(n,alpha_prime)\n",
    "print('K', '\\n', K)\n",
    "K_exp = k_create_excep(n, p, q, alpha_prime)\n",
    "print('K_exp', '\\n',K_exp)"
   ]
  },
  {
   "cell_type": "code",
   "execution_count": 32,
   "metadata": {},
   "outputs": [
    {
     "name": "stdout",
     "output_type": "stream",
     "text": [
      "[0.49 0.   0.   0.   0.49 0.49 0.   1.  ]\n"
     ]
    }
   ],
   "source": [
    "print(K_row(4,2,2,4,4,k_o)) "
   ]
  },
  {
   "cell_type": "code",
   "execution_count": 33,
   "metadata": {},
   "outputs": [
    {
     "name": "stdout",
     "output_type": "stream",
     "text": [
      "[1.   0.   0.   0.   0.49 0.   0.49 0.  ]\n",
      "[0.   1.   0.   0.49 0.   0.49 0.   0.49]\n",
      "[0.   0.   1.   0.   0.49 0.   0.   0.49]\n",
      "[0.   0.49 0.   1.   0.   0.   0.   0.49]\n",
      "[0.49 0.   0.49 0.   1.   0.   0.49 0.  ]\n",
      "[0.   0.49 0.   0.   0.   1.   0.49 0.  ]\n",
      "[0.49 0.   0.   0.   0.49 0.49 1.   0.  ]\n",
      "[0.   0.49 0.49 0.49 0.   0.   0.   1.  ]\n",
      "[[1.   0.   0.   0.   0.49 0.   0.49 0.  ]\n",
      " [0.   1.   0.   0.49 0.   0.49 0.   0.49]\n",
      " [0.   0.   1.   0.   0.49 0.   0.   0.49]\n",
      " [0.   0.49 0.   1.   0.   0.   0.   0.49]\n",
      " [0.49 0.   0.49 0.   1.   0.   0.49 0.  ]\n",
      " [0.   0.49 0.   0.   0.   1.   0.49 0.  ]\n",
      " [0.49 0.   0.   0.   0.49 0.49 1.   0.  ]\n",
      " [0.   0.49 0.49 0.49 0.   0.   0.   1.  ]]\n",
      "[[1.   0.   0.   0.   0.   0.   0.   0.49 0.   0.   0.   0.   0.49 0.  ]\n",
      " [0.   1.   0.   0.   0.   0.   0.49 0.   0.49 0.   0.   0.   0.   0.49]\n",
      " [0.   0.   1.   0.   0.   0.   0.   0.49 0.   0.49 0.   0.   0.   0.49]\n",
      " [0.   0.   0.   1.   0.   0.   0.   0.   0.49 0.   0.49 0.   0.49 0.  ]\n",
      " [0.   0.   0.   0.   1.   0.   0.   0.   0.   0.49 0.   0.49 0.   0.  ]\n",
      " [0.   0.   0.   0.   0.   1.   0.   0.   0.   0.   0.49 0.   0.   0.  ]\n",
      " [0.   0.49 0.   0.   0.   0.   1.   0.   0.   0.   0.   0.   0.   0.49]\n",
      " [0.49 0.   0.49 0.   0.   0.   0.   1.   0.   0.   0.   0.   0.49 0.  ]\n",
      " [0.   0.49 0.   0.49 0.   0.   0.   0.   1.   0.   0.   0.   0.49 0.  ]\n",
      " [0.   0.   0.49 0.   0.49 0.   0.   0.   0.   1.   0.   0.   0.   0.49]\n",
      " [0.   0.   0.   0.49 0.   0.49 0.   0.   0.   0.   1.   0.   0.   0.  ]\n",
      " [0.   0.   0.   0.   0.49 0.   0.   0.   0.   0.   0.   1.   0.   0.  ]\n",
      " [0.49 0.   0.   0.49 0.   0.   0.   0.49 0.49 0.   0.   0.   1.   0.  ]\n",
      " [0.   0.49 0.49 0.   0.   0.   0.49 0.   0.   0.49 0.   0.   0.   1.  ]]\n",
      "False\n"
     ]
    },
    {
     "name": "stderr",
     "output_type": "stream",
     "text": [
      "C:\\Users\\lukel\\AppData\\Local\\Temp\\ipykernel_67868\\2365488457.py:24: DeprecationWarning: elementwise comparison failed; this will raise an error in the future.\n",
      "  print(Arr == K_exp)\n"
     ]
    }
   ],
   "source": [
    "\n",
    "\n",
    "print(K_row(1,2,4,2,4,k_o)) \n",
    "print(K_row(2,3,4,2,4,k_o))\n",
    "print(K_row(3,4,4,2,4,k_o)) \n",
    "print(K_row(2,1,4,2,4,k_o))\n",
    "print(K_row(3,2,4,2,4,k_o)) \n",
    "print(K_row(4,3,4,2,4,k_o))\n",
    "print(K_row(4,2,4,2,4,k_o)) \n",
    "print(K_row(2,4,4,2,4,k_o))\n",
    "\n",
    "Arr = np.concatenate([\n",
    "    K_row(1,2,4,2,4,k_o).reshape(1, -1),\n",
    "    K_row(2,3,4,2,4,k_o).reshape(1, -1),\n",
    "    K_row(3,4,4,2,4,k_o).reshape(1, -1),\n",
    "    K_row(2,1,4,2,4,k_o).reshape(1, -1),\n",
    "    K_row(3,2,4,2,4,k_o).reshape(1, -1),\n",
    "    K_row(4,3,4,2,4,k_o).reshape(1, -1),\n",
    "    K_row(4,2,4,2,4,k_o).reshape(1, -1),\n",
    "    K_row(2,4,4,2,4,k_o).reshape(1, -1)\n",
    "], axis=0)\n",
    "print(Arr)\n",
    "\n",
    "print(K_exp)\n",
    "\n",
    "print(Arr == K_exp)"
   ]
  },
  {
   "cell_type": "code",
   "execution_count": 34,
   "metadata": {},
   "outputs": [
    {
     "name": "stdout",
     "output_type": "stream",
     "text": [
      "0.32355830481071807\n"
     ]
    },
    {
     "data": {
      "text/plain": [
       "-1.5149592819299729"
      ]
     },
     "execution_count": 34,
     "metadata": {},
     "output_type": "execute_result"
    }
   ],
   "source": [
    "print(rank_exp_j(1,p,q,n,alpha_prime,k_o,k_s))\n",
    "rank_method2(1, b, c, alpha_prime)"
   ]
  },
  {
   "cell_type": "code",
   "execution_count": 35,
   "metadata": {},
   "outputs": [
    {
     "data": {
      "text/plain": [
       "6"
      ]
     },
     "execution_count": 35,
     "metadata": {},
     "output_type": "execute_result"
    }
   ],
   "source": [
    "len(A)"
   ]
  },
  {
   "cell_type": "code",
   "execution_count": 36,
   "metadata": {},
   "outputs": [],
   "source": [
    "B = (A-(np.identity(len(A)) * alpha_prime))"
   ]
  },
  {
   "cell_type": "code",
   "execution_count": 37,
   "metadata": {},
   "outputs": [
    {
     "data": {
      "text/plain": [
       "array([[-6.18317614, -2.02975631,  5.18859555,  4.57216813, -2.94823317,\n",
       "        -6.01680238],\n",
       "       [-2.02975631, -0.99458059,  2.54241182,  2.24036238, -1.44463425,\n",
       "        -2.94823317],\n",
       "       [ 5.18859555,  2.54241182, -3.94281376, -3.47439056,  2.24036238,\n",
       "         4.57216813],\n",
       "       [ 4.57216813,  2.24036238, -3.47439056, -3.94281376,  2.54241182,\n",
       "         5.18859555],\n",
       "       [-2.94823317, -1.44463425,  2.24036238,  2.54241182, -0.99458059,\n",
       "        -2.02975631],\n",
       "       [-6.01680238, -2.94823317,  4.57216813,  5.18859555, -2.02975631,\n",
       "        -6.18317614]])"
      ]
     },
     "execution_count": 37,
     "metadata": {},
     "output_type": "execute_result"
    }
   ],
   "source": [
    "np.linalg.inv(B)"
   ]
  },
  {
   "cell_type": "code",
   "execution_count": 38,
   "metadata": {},
   "outputs": [
    {
     "data": {
      "text/plain": [
       "array([[-0.49,  1.  ,  0.  ,  0.  ,  0.  ,  0.  ],\n",
       "       [ 1.  , -0.49,  1.  ,  0.  ,  0.  ,  0.  ],\n",
       "       [ 0.  ,  1.  , -0.49,  1.  ,  0.  ,  0.  ],\n",
       "       [ 0.  ,  0.  ,  1.  , -0.49,  1.  ,  0.  ],\n",
       "       [ 0.  ,  0.  ,  0.  ,  1.  , -0.49,  1.  ],\n",
       "       [ 0.  ,  0.  ,  0.  ,  0.  ,  1.  , -0.49]])"
      ]
     },
     "execution_count": 38,
     "metadata": {},
     "output_type": "execute_result"
    }
   ],
   "source": [
    "B"
   ]
  },
  {
   "cell_type": "code",
   "execution_count": 39,
   "metadata": {},
   "outputs": [
    {
     "data": {
      "text/plain": [
       "7"
      ]
     },
     "execution_count": 39,
     "metadata": {},
     "output_type": "execute_result"
    }
   ],
   "source": [
    "n"
   ]
  },
  {
   "cell_type": "code",
   "execution_count": 40,
   "metadata": {},
   "outputs": [],
   "source": [
    "#def rank(alpha, n, i):\n",
    "b_til = B @ np.ones(n-1)\n",
    "\n",
    "def create_b_til_d(n):\n",
    "    A = tridiag(n)\n",
    "    B = (A-(np.identity(len(A)) * alpha_prime))\n",
    "    b_til = B @ np.ones(n-1)\n",
    "    num_coeff = n-1\n",
    "    b_til_dictionary = {i: b_til[i-1] for i in range(1, num_coeff + 1)}\n",
    "    return b_til_dictionary\n",
    "\n",
    "def verif_array(arr1, arr2):\n",
    "    for i in range(0, len(arr1)):\n",
    "        print(arr1[i], arr2[i])\n",
    "        if math.isclose(arr1[i], arr2[i], abs_tol = 1e-04):\n",
    "            continue\n",
    "        else: \n",
    "            return \n",
    "    return True\n",
    "\n",
    "def dict_to_array(dict_arr):\n",
    "    arr = np.zeros(len(dict_arr))\n",
    "    for i in range(1, len(dict_arr) + 1):\n",
    "       arr[i-1] = dict_arr[i]  \n",
    "    return arr\n",
    "\n",
    "def rank_til(j, n, alpha_prime, b_til_d):\n",
    "    b_til_d = create_b_til_d(n)\n",
    "    if j < 2 or j > n:\n",
    "        if j == 1:\n",
    "            return alpha_prime * (b_til_d[j])\n",
    "        else:\n",
    "            return 0 \n",
    "    return alpha_prime * (b_til_d[j-1] - b_til_d[j])"
   ]
  },
  {
   "cell_type": "code",
   "execution_count": 41,
   "metadata": {},
   "outputs": [
    {
     "name": "stdout",
     "output_type": "stream",
     "text": [
      "[[0. 1. 0. 0. 0. 0.]\n",
      " [1. 0. 1. 0. 0. 0.]\n",
      " [0. 1. 0. 1. 0. 0.]\n",
      " [0. 0. 1. 0. 1. 0.]\n",
      " [0. 0. 0. 1. 0. 1.]\n",
      " [0. 0. 0. 0. 1. 0.]]\n",
      "[[-0.49  1.    0.    0.    0.    0.  ]\n",
      " [ 1.   -0.49  1.    0.    0.    0.  ]\n",
      " [ 0.    1.   -0.49  1.    0.    0.  ]\n",
      " [ 0.    0.    1.   -0.49  1.    0.  ]\n",
      " [ 0.    0.    0.    1.   -0.49  1.  ]\n",
      " [ 0.    0.    0.    0.    1.   -0.49]]\n"
     ]
    },
    {
     "data": {
      "text/plain": [
       "{1: 0.51, 2: 1.51, 3: 1.51, 4: 1.51, 5: 1.51, 6: 0.51}"
      ]
     },
     "execution_count": 41,
     "metadata": {},
     "output_type": "execute_result"
    }
   ],
   "source": [
    "A = tridiag(n)\n",
    "print(A)\n",
    "B = (A-(np.identity(len(A)) * alpha_prime))\n",
    "print(B)\n",
    "\n",
    "create_b_til_d(n)"
   ]
  },
  {
   "cell_type": "code",
   "execution_count": 42,
   "metadata": {},
   "outputs": [
    {
     "name": "stdout",
     "output_type": "stream",
     "text": [
      "{1: 0.51, 2: 1.51, 3: 1.51, 4: 1.51, 5: 1.51, 6: 0.51}\n",
      "0.51 0.51\n",
      "1.51 1.51\n",
      "1.51 1.51\n",
      "1.51 1.51\n",
      "1.51 1.51\n",
      "0.51 0.51\n"
     ]
    },
    {
     "data": {
      "text/plain": [
       "True"
      ]
     },
     "execution_count": 42,
     "metadata": {},
     "output_type": "execute_result"
    }
   ],
   "source": [
    "b_til = B @ np.ones(n-1)\n",
    "b_til_d = create_b_til_d(n)\n",
    "print(b_til_d)\n",
    "verif_array(b_til, dict_to_array(create_b_til_d(n)))"
   ]
  },
  {
   "cell_type": "code",
   "execution_count": 43,
   "metadata": {},
   "outputs": [
    {
     "data": {
      "text/plain": [
       "{1: 0.51, 2: 1.51, 3: 1.51, 4: 1.51, 5: 1.51, 6: 0.51}"
      ]
     },
     "execution_count": 43,
     "metadata": {},
     "output_type": "execute_result"
    }
   ],
   "source": [
    "(create_b_til_d(n))"
   ]
  },
  {
   "cell_type": "code",
   "execution_count": 44,
   "metadata": {},
   "outputs": [
    {
     "name": "stdout",
     "output_type": "stream",
     "text": [
      "rank1: 0.3775245925034208\n",
      "rank_til_1: 0.2499\n",
      "rank2: 0.10296400554920966\n",
      "rank_til_2: -0.49\n",
      "rank3: 0.02625582141504847\n",
      "rank_til_3: 0.0\n",
      "rank4: 0.0\n",
      "rank_til_4: 0.0\n",
      "rank5: -0.02625582141504847\n",
      "rank_til_5: 0.0\n",
      "rank6: -0.10296400554920966\n",
      "rank_til_6: 0.49\n"
     ]
    },
    {
     "data": {
      "text/plain": [
       "-0.3775245925034208"
      ]
     },
     "execution_count": 44,
     "metadata": {},
     "output_type": "execute_result"
    }
   ],
   "source": [
    "for i in range (1, n):\n",
    "    rank_til_j = rank_til(i, n  , alpha_prime, create_b_til_d(n))\n",
    "    print(f'rank{i}:',rank(alpha_prime, n, i))\n",
    "    print(f'rank_til_{i}:', rank_til_j)\n",
    "rank(alpha_prime, n, j)"
   ]
  },
  {
   "cell_type": "code",
   "execution_count": 45,
   "metadata": {},
   "outputs": [
    {
     "data": {
      "text/plain": [
       "-0.3775245925034208"
      ]
     },
     "execution_count": 45,
     "metadata": {},
     "output_type": "execute_result"
    }
   ],
   "source": [
    "rank(alpha_prime, n, 7)"
   ]
  },
  {
   "cell_type": "code",
   "execution_count": null,
   "metadata": {},
   "outputs": [],
   "source": []
  }
 ],
 "metadata": {
  "kernelspec": {
   "display_name": "base",
   "language": "python",
   "name": "python3"
  },
  "language_info": {
   "codemirror_mode": {
    "name": "ipython",
    "version": 3
   },
   "file_extension": ".py",
   "mimetype": "text/x-python",
   "name": "python",
   "nbconvert_exporter": "python",
   "pygments_lexer": "ipython3",
   "version": "3.11.7"
  }
 },
 "nbformat": 4,
 "nbformat_minor": 2
}
