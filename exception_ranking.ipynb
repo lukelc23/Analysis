{
 "cells": [
  {
   "cell_type": "code",
   "execution_count": 6,
   "metadata": {},
   "outputs": [],
   "source": []
  },
  {
   "cell_type": "code",
   "execution_count": 28,
   "metadata": {},
   "outputs": [],
   "source": [
    "import numpy as np\n",
    "\n",
    "#K matrix without exceptions\n",
    "def K_block(n, k_o):\n",
    "    A = np.identity(n-1)\n",
    "    D = A\n",
    "    k_oArr = k_o * np.ones(n-2)\n",
    "    B = np.diag(k_oArr, k=1) + np.diag(k_oArr, k=-1)\n",
    "    C = B\n",
    "    return np.block([[A,B],[B,A]]) \n",
    "\n"
   ]
  },
  {
   "cell_type": "code",
   "execution_count": 29,
   "metadata": {},
   "outputs": [
    {
     "name": "stdout",
     "output_type": "stream",
     "text": [
      "[[1.  0.  0.  0.  0.5 0. ]\n",
      " [0.  1.  0.  0.5 0.  0.5]\n",
      " [0.  0.  1.  0.  0.5 0. ]\n",
      " [0.  0.5 0.  1.  0.  0. ]\n",
      " [0.5 0.  0.5 0.  1.  0. ]\n",
      " [0.  0.5 0.  0.  0.  1. ]]\n"
     ]
    }
   ],
   "source": [
    "print(K_block(4, 0.5))"
   ]
  },
  {
   "cell_type": "code",
   "execution_count": 3,
   "metadata": {},
   "outputs": [
    {
     "name": "stdout",
     "output_type": "stream",
     "text": [
      "[[1. 0. 0.]\n",
      " [0. 1. 0.]\n",
      " [0. 0. 1.]]\n",
      "[[0. 3. 0.]\n",
      " [3. 0. 3.]\n",
      " [0. 3. 0.]]\n",
      "[[1. 0. 0.]\n",
      " [0. 1. 0.]\n",
      " [0. 0. 1.]\n",
      " [0. 3. 0.]\n",
      " [3. 0. 3.]\n",
      " [0. 3. 0.]]\n",
      "[[1. 0. 0. 0. 3. 0.]\n",
      " [0. 1. 0. 3. 0. 3.]\n",
      " [0. 0. 1. 0. 3. 0.]\n",
      " [0. 3. 0. 1. 0. 0.]\n",
      " [3. 0. 3. 0. 1. 0.]\n",
      " [0. 3. 0. 0. 0. 1.]]\n",
      "K [[1. 0. 0. 0. 3. 0.]\n",
      " [0. 1. 0. 3. 0. 3.]\n",
      " [0. 0. 1. 0. 3. 0.]\n",
      " [0. 3. 0. 1. 0. 0.]\n",
      " [3. 0. 3. 0. 1. 0.]\n",
      " [0. 3. 0. 0. 0. 1.]]\n",
      "E_1 [[3. 0. 0. 0. 3. 3.]\n",
      " [0. 3. 3. 3. 0. 0.]]\n",
      "E_2 [[3. 0.]\n",
      " [0. 3.]\n",
      " [0. 3.]\n",
      " [0. 3.]\n",
      " [3. 0.]\n",
      " [3. 0.]]\n",
      "E_3 [[3. 0.]\n",
      " [0. 3.]]\n",
      "K: \n",
      " [[1. 0. 0. 0. 3. 0. 3. 0.]\n",
      " [0. 1. 0. 3. 0. 3. 0. 3.]\n",
      " [0. 0. 1. 0. 3. 0. 0. 3.]\n",
      " [0. 3. 0. 1. 0. 0. 0. 3.]\n",
      " [3. 0. 3. 0. 1. 0. 3. 0.]\n",
      " [0. 3. 0. 0. 0. 1. 3. 0.]\n",
      " [3. 0. 0. 0. 3. 3. 3. 0.]\n",
      " [0. 3. 3. 3. 0. 0. 0. 3.]]\n"
     ]
    }
   ],
   "source": [
    "import numpy as np\n",
    "\n",
    "n=4\n",
    "k_o = 3\n",
    "\n",
    "#K matrix without exceptions\n",
    "def k_block(n, k_o):\n",
    "    arr_len = n-1\n",
    "    A = np.identity(arr_len)\n",
    "    print(A)\n",
    "    D = A\n",
    "    diag_len = arr_len-1\n",
    "    B = k_o * np.diag(np.ones((diag_len)), k=1) + k_o * np.diag(np.ones((diag_len)), k=-1)\n",
    "    print(B)\n",
    "    C = B\n",
    "    print(np.concatenate([A,B]))\n",
    "    E = np.block([[A,B],[B,A]]) \n",
    "    print(E)\n",
    "    return E\n",
    "\n",
    "def one_hot_sim(n, i):\n",
    "    len_arr = n-1\n",
    "    array_pos = i-1     #(-1 to normalize), p and q refer to normal indices (from 1 to len_arr)\n",
    "    arr = np.zeros(len_arr)\n",
    "    if i > 0 and i < n: #if outside, k_o excluded from similarity matrix e.g. AE exception for n=5\n",
    "        arr[array_pos] = 1 \n",
    "    return arr\n",
    "\n",
    "p = 4\n",
    "q = 2\n",
    "\n",
    "#columns in k matrix representing exceptions\n",
    "def k_exp_horiz(n, p, q, k_o):\n",
    "    A = one_hot_sim(n, p) + one_hot_sim(n, q-1)\n",
    "    B = one_hot_sim(n, q) + one_hot_sim(n, p-1)\n",
    "    C = one_hot_sim(n, p-1) + one_hot_sim(n, q)\n",
    "    D = one_hot_sim(n, q-1) + one_hot_sim(n, p)\n",
    "    E = k_o * np.block([[A,C],[B,D]])\n",
    "    return E\n",
    "\n",
    "def k_iden(k_o):\n",
    "    arr = k_o * np.identity(2)\n",
    "    return arr\n",
    "\n",
    "K = k_block(n, k_o)\n",
    "E_1 = k_exp_horiz(n, p, q, k_o)\n",
    "E_2 = K_trans = E_1.transpose()\n",
    "E_3 = k_iden(k_o)\n",
    "\n",
    "print('K', K)\n",
    "print('E_1', E_1)\n",
    "print('E_2', E_2)\n",
    "print('E_3', E_3)\n",
    "\n",
    "def k_block_excep(K, E_1, E_2, E_3):\n",
    "    W = np.concatenate([K, E_1])\n",
    "    X = np.concatenate([E_2, E_3])\n",
    "    Z = np.concatenate([W, X], 1)\n",
    "    return Z\n",
    "\n",
    "K = k_block_excep(K, E_1, E_2, E_3)\n",
    "print('K: \\n', K)"
   ]
  },
  {
   "cell_type": "code",
   "execution_count": 5,
   "metadata": {},
   "outputs": [
    {
     "name": "stdout",
     "output_type": "stream",
     "text": [
      "K: \n",
      " [[1. 0. 0. 0. 3. 0. 3. 0.]\n",
      " [0. 1. 0. 3. 0. 3. 0. 3.]\n",
      " [0. 0. 1. 0. 3. 0. 0. 3.]\n",
      " [0. 3. 0. 1. 0. 0. 0. 3.]\n",
      " [3. 0. 3. 0. 1. 0. 3. 0.]\n",
      " [0. 3. 0. 0. 0. 1. 3. 0.]\n",
      " [3. 0. 0. 0. 3. 3. 3. 0.]\n",
      " [0. 3. 3. 3. 0. 0. 0. 3.]]\n",
      "4\n"
     ]
    }
   ],
   "source": [
    "print('K: \\n', K)\n",
    "print(n)"
   ]
  },
  {
   "cell_type": "code",
   "execution_count": null,
   "metadata": {},
   "outputs": [],
   "source": []
  }
 ],
 "metadata": {
  "kernelspec": {
   "display_name": "base",
   "language": "python",
   "name": "python3"
  },
  "language_info": {
   "codemirror_mode": {
    "name": "ipython",
    "version": 3
   },
   "file_extension": ".py",
   "mimetype": "text/x-python",
   "name": "python",
   "nbconvert_exporter": "python",
   "pygments_lexer": "ipython3",
   "version": "3.11.7"
  }
 },
 "nbformat": 4,
 "nbformat_minor": 2
}
