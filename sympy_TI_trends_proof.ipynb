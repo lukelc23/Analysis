{
 "cells": [
  {
   "cell_type": "code",
   "execution_count": 2,
   "metadata": {},
   "outputs": [],
   "source": [
    "import numpy as np\n",
    "from IPython.display import display, Math\n",
    "\n",
    "def cosh(x):\n",
    "    return np.cosh(x)\n",
    "\n",
    "def sinh(x):\n",
    "    return np.sinh(x)\n",
    "\n",
    "def tanh(x):\n",
    "    return np.tanh(x)\n",
    "\n",
    "def arcosh(x):\n",
    "    return np.arccosh(x)\n",
    "\n",
    "lamb = 0.69\n",
    "n = 10\n",
    "p = 8\n",
    "q = 2\n",
    "\n",
    "\n",
    "# print('display:')\n",
    "# print('num:')\n",
    "# display(num_display)\n",
    "# print('denom')\n",
    "# display(denom_display)\n",
    "# print('c_analytical_start')\n",
    "# display(c_analytical_display)\n"
   ]
  },
  {
   "cell_type": "code",
   "execution_count": 3,
   "metadata": {},
   "outputs": [
    {
     "name": "stdout",
     "output_type": "stream",
     "text": [
      "[0.2458927355659026, 0.3676813425605156, 0.1762878285419637, 0.0722081955895593, 0.0038926755305594696, -0.06249483502764004, -0.15983551256272455, -0.3363413772209034, -0.1841426992165476, -0.12314835376068527]\n",
      "[0.2458927355659026, 0.3676813425605156, 0.1762878285419637, 0.0722081955895593, 0.0038926755305594696, -0.06249483502764004, -0.15983551256272455, -0.3363413772209034, -0.1841426992165476, -0.12314835376068527]\n",
      "[0.2458927355659026, 0.3676813425605156, 0.1762878285419637, 0.0722081955895593, 0.0038926755305594696, -0.06249483502764004, -0.15983551256272455, -0.3363413772209034, -0.1841426992165476, -0.12314835376068527]\n"
     ]
    },
    {
     "data": {
      "image/png": "[encoded data removed]",
      "text/plain": [
       "<Figure size 640x480 with 1 Axes>"
      ]
     },
     "metadata": {},
     "output_type": "display_data"
    }
   ],
   "source": [
    "\n",
    "\n",
    "def D_ij_analytical_case_1b(i, j):\n",
    "    num = 2 * cosh( (i-1/2) * lamb ) * cosh( (n-(j-1/2)) * lamb) * tanh(lamb/2)\n",
    "    denom = sinh(lamb * n)\n",
    "    return num/denom\n",
    "\n",
    "def D_ij_analytical_case_2b(i, j):\n",
    "    num = 2 * cosh( (j-1/2) * lamb ) * cosh( (n-(i-1/2)) * lamb) * tanh(lamb/2)\n",
    "    denom = sinh(lamb * n)\n",
    "    return num/denom\n",
    "\n",
    "def D_ij_analytical_case_3c_minus_delta(i, j):\n",
    "    return ( ( 2 * cosh((i-1/2)*lamb) * cosh((n-i+1/2)*lamb) ) / sinh(lamb*n) ) * tanh(lamb/2)\n",
    "\n",
    "def D_ij_analytical_sol_trend2(i, j):\n",
    "        if i < j:\n",
    "            return D_ij_analytical_case_1b(i, j)\n",
    "        elif i > j: \n",
    "            return D_ij_analytical_case_2b(i, j)\n",
    "        elif i == j:\n",
    "            return D_ij_analytical_case_3c_minus_delta(i, j)\n",
    "        \n",
    "def D_ij_analytical_sol_trend3(i, j):\n",
    "    num = 2 * cosh( (min(i,j)-1/2) * lamb ) * cosh( (n-(max(i,j)-1/2)) * lamb) * tanh(lamb/2)\n",
    "    denom = sinh(lamb * n)\n",
    "    return num/denom\n",
    "\n",
    "def D_ij_trend_array():        \n",
    "    array = []\n",
    "    for j in range (1, n+1):\n",
    "        array.append(D_ij_analytical_sol_trend2(j,q) - D_ij_analytical_sol_trend2(j,p))\n",
    "    print(array)\n",
    "    return array\n",
    "\n",
    "trend_array = D_ij_trend_array()\n",
    "\n",
    "import matplotlib.pyplot as plt\n",
    "\n",
    "print(D_ij_trend_array())\n",
    "\n",
    "index = list(range(1,n+1))\n",
    "plt.plot(index, trend_array, marker='o', linestyle='-', color='b')\n",
    "plt.title('D_jq - D_jp trend')\n",
    "plt.xlabel('Index (i)')\n",
    "plt.ylabel('Rank Value')\n",
    "plt.grid(True)\n",
    "plt.xticks(index)  # Set the ticks to match the index values\n",
    "plt.show()\n"
   ]
  },
  {
   "cell_type": "code",
   "execution_count": 4,
   "metadata": {},
   "outputs": [
    {
     "data": {
      "text/plain": [
       "0.37382257470672975"
      ]
     },
     "execution_count": 4,
     "metadata": {},
     "output_type": "execute_result"
    }
   ],
   "source": [
    "D_ij_analytical_sol_trend2(2,2)"
   ]
  },
  {
   "cell_type": "code",
   "execution_count": 5,
   "metadata": {},
   "outputs": [
    {
     "data": {
      "text/plain": [
       "0.3738225747067297"
      ]
     },
     "execution_count": 5,
     "metadata": {},
     "output_type": "execute_result"
    }
   ],
   "source": [
    "D_ij_analytical_sol_trend3(2,2)"
   ]
  },
  {
   "cell_type": "code",
   "execution_count": 6,
   "metadata": {},
   "outputs": [
    {
     "name": "stdout",
     "output_type": "stream",
     "text": [
      "lamb: 0.6931471805599453\n",
      "alpha: 0.19999999999999996\n",
      "alpha_prime: 0.4\n",
      "1 - 2 * alpha_prime = 0.19999999999999996\n",
      "c_denom_2: 0.6287772523332891\n",
      "c_denom_2_simp: 0.6287772523332892\n"
     ]
    }
   ],
   "source": [
    "#Checking c_denom term after simplifying wiht D_ij_constant\n",
    "\n",
    "#parameters\n",
    "k_o = 0.4\n",
    "k_d = 0\n",
    "k_s = 1\n",
    "alpha_prime = k_o/k_s\n",
    "alpha = 1 - 2 * ((k_o-k_d)/(k_s-k_d))\n",
    "p = 5\n",
    "q = 2\n",
    "n = 7\n",
    "j = 5\n",
    "lamb = np.arccosh(1 / (1-alpha))\n",
    "print('lamb:', lamb)\n",
    "print('alpha:', alpha)\n",
    "print('alpha_prime:', alpha_prime)\n",
    "\n",
    "#check that alpha = 1 - 2 * alpha_prime\n",
    "assert alpha == 1 - 2 * alpha_prime\n",
    "print('1 - 2 * alpha_prime =' , 1 - 2 * alpha_prime)\n",
    "\n",
    "#check that alpha_prime = -1 / (2 * cosh(lamb))\n",
    "assert alpha_prime == (1 - alpha)/2\n",
    "assert alpha == 1 - 1/cosh(lamb)\n",
    "assert alpha_prime == (1 / (2 * cosh(lamb)))\n",
    "#for the purpose of checking values\n",
    "D_sim = (\n",
    "        (cosh((q - 1 / 2) * lamb) * sinh((n - ((p + q) / 2 - 1 / 2)) * lamb)) +\n",
    "        (cosh((n - p + 1 / 2) * lamb) * sinh(((p + q) / 2 - 1 / 2) * lamb))\n",
    "    )\n",
    "\n",
    "c_denom_2 = 1 - 2 * alpha_prime - 4 * alpha_prime * (tanh(lamb/2) * sinh((q-p)/2) / sinh(lamb * n) * D_sim)\n",
    "print('c_denom_2:', c_denom_2)\n",
    "\n",
    "c_denom_2_simp = 2 * alpha_prime * (- 1 + cosh(lamb) - 2 * (tanh(lamb/2) * sinh((q-p)/2) / sinh(lamb * n) * D_sim))\n",
    "print('c_denom_2_simp:', c_denom_2_simp)\n",
    "\n"
   ]
  },
  {
   "cell_type": "code",
   "execution_count": 7,
   "metadata": {},
   "outputs": [
    {
     "name": "stdout",
     "output_type": "stream",
     "text": [
      "denom: 0.4491851309284013\n",
      "denom_1: 0.4491851309284014\n",
      "denom_2: 0.4491851309284014\n",
      "denom_3: 0.4491851309284014\n",
      "c_denom2: 0.4491851309284014\n"
     ]
    }
   ],
   "source": [
    "#verifying c_denom term\n",
    "\n",
    "denom = ( 1 - 2*alpha_prime \n",
    "- (4 * (1 / (2 * cosh(lamb))) * ( (tanh(lamb / 2)) / sinh(lamb * n) ) * sinh( ((q-p)/2) * lamb) * D_sim ) \n",
    ")\n",
    "print('denom:', denom)\n",
    "\n",
    "denom_1 = (1/(2*cosh(lamb))) * (2* cosh(lamb) - 2 - 4 * ( (tanh(lamb / 2)) / sinh(lamb * n) ) * sinh( ((q-p)/2) * lamb) * D_sim)\n",
    "print('denom_1:', denom_1)\n",
    "\n",
    "assert alpha_prime == 1 / (2 * cosh(lamb))\n",
    "\n",
    "denom_2 = 2 * alpha_prime * (cosh(lamb) - 1 - 2 * (tanh(lamb/2) * sinh((q-p)/2 * lamb) / sinh(lamb * n) * D_sim))\n",
    "print('denom_2:', denom_2)\n",
    "\n",
    "# assert tanh(lamb/2) == (cosh(lamb) - 1) / sinh(lamb)\n",
    "\n",
    "denom_3 = (2 * alpha_prime) * (tanh(lamb/2) / sinh(lamb*n)) * (sinh(lamb) * sinh(lamb * n) - 2 * sinh((q-p)/2 * lamb) * D_sim)\n",
    "print('denom_3:', denom_3)\n",
    "\n",
    "c_denom_constant = 2 * alpha_prime * (tanh(lamb / 2) / sinh(lamb * n))\n",
    "c_denom_2part = sinh(lamb)*sinh(lamb * n) - 2 * sinh((q-p)/2 * lamb) * D_sim\n",
    "c_denom2 = c_denom_constant * c_denom_2part\n",
    "print('c_denom2:', c_denom2)"
   ]
  },
  {
   "cell_type": "code",
   "execution_count": 8,
   "metadata": {},
   "outputs": [
    {
     "name": "stdout",
     "output_type": "stream",
     "text": [
      "num: 1.6511627906976745\n",
      "c_final: 1.6511627906976745\n"
     ]
    }
   ],
   "source": [
    "num = 1 + (\n",
    "    (sinh(((n + 1) / 2 - q) * lamb) - sinh(((n + 1) / 2 - p) * lamb)) \n",
    "    / (sinh(((n + 1) / 2) * lamb) - sinh(((n - 1) / 2) * lamb))\n",
    ")\n",
    "\n",
    "#actually a apart of the denominator\n",
    "c_num_final = ( sinh((n+1)/2 * lamb) - sinh((n-1)/2 * lamb)\n",
    "                - sinh( (((n+1)/2 - p) * lamb) ) + sinh( (((n+1)/2 - q) * lamb) )\n",
    ")\n",
    "\n",
    "c_num_part = sinh((n+1)/2 * lamb) - sinh((n-1)/2 * lamb)\n",
    "c_final = c_num_final / c_num_part\n",
    "\n",
    "print('num:', num)\n",
    "print('c_final:', c_final) "
   ]
  },
  {
   "cell_type": "code",
   "execution_count": 9,
   "metadata": {},
   "outputs": [],
   "source": [
    "D_ij_constant = 2 * tanh(lamb/2) / sinh(lamb * n)\n",
    "\n",
    "def D_ij_part(i,j):\n",
    "    return D_ij_analytical_sol_trend3(i, j) / D_ij_constant\n",
    "\n",
    "# assert ( D_ij_analytical_sol_trend2(j, p) - D_ij_analytical_sol_trend2(j, q) ) == D_ij_constant * (D_ij_part(j, p) - D_ij_part(j, q)) "
   ]
  },
  {
   "cell_type": "code",
   "execution_count": 10,
   "metadata": {},
   "outputs": [
    {
     "name": "stdout",
     "output_type": "stream",
     "text": [
      "r_diff_original: -0.4353738658879969\n",
      "r_diff: -0.43537386588799676\n",
      "r_diff_final: -0.4353738658879968\n",
      "Proof Done\n"
     ]
    }
   ],
   "source": [
    "c = num/denom\n",
    "\n",
    "r_diff_original = c * alpha_prime * (D_ij_analytical_sol_trend2(j, q) - D_ij_analytical_sol_trend2(j, p))\n",
    "print('r_diff_original:', r_diff_original)\n",
    "\n",
    "r_diff = c_final * (1 / (c_denom_constant * c_denom_2part)) * alpha_prime * (D_ij_part(j, q) - D_ij_part(j, p)) * D_ij_constant\n",
    "\n",
    "r_diff_final = ( c_final / c_denom_2part ) * (D_ij_part(j, q) - D_ij_part(j, p))\n",
    "\n",
    "print('r_diff:', r_diff)\n",
    "print('r_diff_final:', r_diff_final)\n",
    "\n",
    "print('Proof Done')\n"
   ]
  },
  {
   "cell_type": "code",
   "execution_count": 13,
   "metadata": {},
   "outputs": [
    {
     "name": "stdout",
     "output_type": "stream",
     "text": [
      "3.6759070525886677\n",
      "0.4\n"
     ]
    }
   ],
   "source": [
    "print(c)\n",
    "print(alpha_prime)"
   ]
  },
  {
   "cell_type": "code",
   "execution_count": 15,
   "metadata": {},
   "outputs": [
    {
     "data": {
      "text/plain": [
       "0.04834279436000734"
      ]
     },
     "execution_count": 15,
     "metadata": {},
     "output_type": "execute_result"
    }
   ],
   "source": [
    "D_ij_analytical_sol_trend2(j, q)"
   ]
  },
  {
   "cell_type": "code",
   "execution_count": 16,
   "metadata": {},
   "outputs": [
    {
     "data": {
      "text/plain": [
       "0.3444424098150523"
      ]
     },
     "execution_count": 16,
     "metadata": {},
     "output_type": "execute_result"
    }
   ],
   "source": [
    "D_ij_analytical_sol_trend2(j, p)"
   ]
  }
 ],
 "metadata": {
  "kernelspec": {
   "display_name": "base",
   "language": "python",
   "name": "python3"
  },
  "language_info": {
   "codemirror_mode": {
    "name": "ipython",
    "version": 3
   },
   "file_extension": ".py",
   "mimetype": "text/x-python",
   "name": "python",
   "nbconvert_exporter": "python",
   "pygments_lexer": "ipython3",
   "version": "3.11.7"
  }
 },
 "nbformat": 4,
 "nbformat_minor": 2
}
